{
 "cells": [
  {
   "cell_type": "code",
   "execution_count": 16,
   "metadata": {},
   "outputs": [],
   "source": [
    "import json\n",
    "import pandas as pd\n",
    "import calendar"
   ]
  },
  {
   "cell_type": "code",
   "execution_count": 2,
   "metadata": {},
   "outputs": [
    {
     "data": {
      "text/html": [
       "<div>\n",
       "<style scoped>\n",
       "    .dataframe tbody tr th:only-of-type {\n",
       "        vertical-align: middle;\n",
       "    }\n",
       "\n",
       "    .dataframe tbody tr th {\n",
       "        vertical-align: top;\n",
       "    }\n",
       "\n",
       "    .dataframe thead th {\n",
       "        text-align: right;\n",
       "    }\n",
       "</style>\n",
       "<table border=\"1\" class=\"dataframe\">\n",
       "  <thead>\n",
       "    <tr style=\"text-align: right;\">\n",
       "      <th></th>\n",
       "      <th>annee</th>\n",
       "      <th>mois</th>\n",
       "      <th>regroupement1</th>\n",
       "      <th>regroupement2</th>\n",
       "      <th>poids_enquete_kg</th>\n",
       "      <th>poids_mg_kg</th>\n",
       "      <th>valeur_tot_mg_fr</th>\n",
       "      <th>valeur_moy</th>\n",
       "    </tr>\n",
       "  </thead>\n",
       "  <tbody>\n",
       "    <tr>\n",
       "      <th>0</th>\n",
       "      <td>2012</td>\n",
       "      <td>1</td>\n",
       "      <td>BANANE DESSERT</td>\n",
       "      <td>TOTAL FRUITS (HORS VANILLE)</td>\n",
       "      <td>108900.0</td>\n",
       "      <td>45602.00000</td>\n",
       "      <td>11327472.0</td>\n",
       "      <td>248.398579</td>\n",
       "    </tr>\n",
       "    <tr>\n",
       "      <th>1</th>\n",
       "      <td>2012</td>\n",
       "      <td>2</td>\n",
       "      <td>BANANE DESSERT</td>\n",
       "      <td>TOTAL FRUITS (HORS VANILLE)</td>\n",
       "      <td>141065.0</td>\n",
       "      <td>38345.80078</td>\n",
       "      <td>8873594.0</td>\n",
       "      <td>231.409798</td>\n",
       "    </tr>\n",
       "    <tr>\n",
       "      <th>2</th>\n",
       "      <td>2012</td>\n",
       "      <td>3</td>\n",
       "      <td>BANANE DESSERT</td>\n",
       "      <td>TOTAL FRUITS (HORS VANILLE)</td>\n",
       "      <td>134653.0</td>\n",
       "      <td>49828.83984</td>\n",
       "      <td>11063095.0</td>\n",
       "      <td>222.021926</td>\n",
       "    </tr>\n",
       "    <tr>\n",
       "      <th>3</th>\n",
       "      <td>2012</td>\n",
       "      <td>4</td>\n",
       "      <td>BANANE DESSERT</td>\n",
       "      <td>TOTAL FRUITS (HORS VANILLE)</td>\n",
       "      <td>98451.0</td>\n",
       "      <td>30571.00000</td>\n",
       "      <td>7275857.0</td>\n",
       "      <td>237.998659</td>\n",
       "    </tr>\n",
       "    <tr>\n",
       "      <th>4</th>\n",
       "      <td>2012</td>\n",
       "      <td>5</td>\n",
       "      <td>BANANE DESSERT</td>\n",
       "      <td>TOTAL FRUITS (HORS VANILLE)</td>\n",
       "      <td>76918.0</td>\n",
       "      <td>24259.00000</td>\n",
       "      <td>6223918.0</td>\n",
       "      <td>256.561194</td>\n",
       "    </tr>\n",
       "    <tr>\n",
       "      <th>...</th>\n",
       "      <td>...</td>\n",
       "      <td>...</td>\n",
       "      <td>...</td>\n",
       "      <td>...</td>\n",
       "      <td>...</td>\n",
       "      <td>...</td>\n",
       "      <td>...</td>\n",
       "      <td>...</td>\n",
       "    </tr>\n",
       "    <tr>\n",
       "      <th>134</th>\n",
       "      <td>2023</td>\n",
       "      <td>3</td>\n",
       "      <td>BANANE DESSERT</td>\n",
       "      <td>TOTAL FRUITS (HORS VANILLE)</td>\n",
       "      <td>90131.0</td>\n",
       "      <td>33072.20000</td>\n",
       "      <td>10711771.0</td>\n",
       "      <td>323.890488</td>\n",
       "    </tr>\n",
       "    <tr>\n",
       "      <th>135</th>\n",
       "      <td>2023</td>\n",
       "      <td>4</td>\n",
       "      <td>BANANE DESSERT</td>\n",
       "      <td>TOTAL FRUITS (HORS VANILLE)</td>\n",
       "      <td>75028.0</td>\n",
       "      <td>24272.80000</td>\n",
       "      <td>8039015.0</td>\n",
       "      <td>331.194382</td>\n",
       "    </tr>\n",
       "    <tr>\n",
       "      <th>136</th>\n",
       "      <td>2023</td>\n",
       "      <td>5</td>\n",
       "      <td>BANANE DESSERT</td>\n",
       "      <td>TOTAL FRUITS (HORS VANILLE)</td>\n",
       "      <td>73147.0</td>\n",
       "      <td>27459.50000</td>\n",
       "      <td>9319075.0</td>\n",
       "      <td>339.375262</td>\n",
       "    </tr>\n",
       "    <tr>\n",
       "      <th>137</th>\n",
       "      <td>2023</td>\n",
       "      <td>6</td>\n",
       "      <td>BANANE DESSERT</td>\n",
       "      <td>TOTAL FRUITS (HORS VANILLE)</td>\n",
       "      <td>70847.0</td>\n",
       "      <td>18675.80000</td>\n",
       "      <td>6184225.0</td>\n",
       "      <td>331.135748</td>\n",
       "    </tr>\n",
       "    <tr>\n",
       "      <th>138</th>\n",
       "      <td>2023</td>\n",
       "      <td>7</td>\n",
       "      <td>BANANE DESSERT</td>\n",
       "      <td>TOTAL FRUITS (HORS VANILLE)</td>\n",
       "      <td>NaN</td>\n",
       "      <td>12120.30000</td>\n",
       "      <td>4297920.0</td>\n",
       "      <td>354.605084</td>\n",
       "    </tr>\n",
       "  </tbody>\n",
       "</table>\n",
       "<p>139 rows × 8 columns</p>\n",
       "</div>"
      ],
      "text/plain": [
       "    annee mois   regroupement1                regroupement2  poids_enquete_kg  \\\n",
       "0    2012    1  BANANE DESSERT  TOTAL FRUITS (HORS VANILLE)          108900.0   \n",
       "1    2012    2  BANANE DESSERT  TOTAL FRUITS (HORS VANILLE)          141065.0   \n",
       "2    2012    3  BANANE DESSERT  TOTAL FRUITS (HORS VANILLE)          134653.0   \n",
       "3    2012    4  BANANE DESSERT  TOTAL FRUITS (HORS VANILLE)           98451.0   \n",
       "4    2012    5  BANANE DESSERT  TOTAL FRUITS (HORS VANILLE)           76918.0   \n",
       "..    ...  ...             ...                          ...               ...   \n",
       "134  2023    3  BANANE DESSERT  TOTAL FRUITS (HORS VANILLE)           90131.0   \n",
       "135  2023    4  BANANE DESSERT  TOTAL FRUITS (HORS VANILLE)           75028.0   \n",
       "136  2023    5  BANANE DESSERT  TOTAL FRUITS (HORS VANILLE)           73147.0   \n",
       "137  2023    6  BANANE DESSERT  TOTAL FRUITS (HORS VANILLE)           70847.0   \n",
       "138  2023    7  BANANE DESSERT  TOTAL FRUITS (HORS VANILLE)               NaN   \n",
       "\n",
       "     poids_mg_kg  valeur_tot_mg_fr  valeur_moy  \n",
       "0    45602.00000        11327472.0  248.398579  \n",
       "1    38345.80078         8873594.0  231.409798  \n",
       "2    49828.83984        11063095.0  222.021926  \n",
       "3    30571.00000         7275857.0  237.998659  \n",
       "4    24259.00000         6223918.0  256.561194  \n",
       "..           ...               ...         ...  \n",
       "134  33072.20000        10711771.0  323.890488  \n",
       "135  24272.80000         8039015.0  331.194382  \n",
       "136  27459.50000         9319075.0  339.375262  \n",
       "137  18675.80000         6184225.0  331.135748  \n",
       "138  12120.30000         4297920.0  354.605084  \n",
       "\n",
       "[139 rows x 8 columns]"
      ]
     },
     "execution_count": 2,
     "metadata": {},
     "output_type": "execute_result"
    }
   ],
   "source": [
    "with open(\"../data/raw/banana.json\", 'r') as j:\n",
    "     contents = json.loads(j.read())\n",
    "\n",
    "df = pd.DataFrame(contents[\"results\"])\n",
    "df"
   ]
  },
  {
   "cell_type": "code",
   "execution_count": 17,
   "metadata": {},
   "outputs": [],
   "source": [
    "# Cast columns\n",
    "list_col_to_cast = [\"annee\", \"mois\"]\n",
    "for col in list_col_to_cast:\n",
    "    df[col] = df[col].astype(int)\n",
    "df[\"mois_nom\"] = df[\"mois\"].map(lambda x: calendar.month_name[x])"
   ]
  },
  {
   "cell_type": "code",
   "execution_count": 4,
   "metadata": {},
   "outputs": [
    {
     "data": {
      "text/plain": [
       "0"
      ]
     },
     "execution_count": 4,
     "metadata": {},
     "output_type": "execute_result"
    }
   ],
   "source": [
    "# Check valeur_moy column\n",
    "df[\"calculated_value\"] = df[\"valeur_tot_mg_fr\"] / df[\"poids_mg_kg\"]\n",
    "df[\"pb_value\"] = df[\"valeur_moy\"] - df[\"calculated_value\"]\n",
    "df[df[\"pb_value\"]!=0].shape[0]"
   ]
  },
  {
   "cell_type": "code",
   "execution_count": 5,
   "metadata": {},
   "outputs": [
    {
     "data": {
      "text/html": [
       "<div>\n",
       "<style scoped>\n",
       "    .dataframe tbody tr th:only-of-type {\n",
       "        vertical-align: middle;\n",
       "    }\n",
       "\n",
       "    .dataframe tbody tr th {\n",
       "        vertical-align: top;\n",
       "    }\n",
       "\n",
       "    .dataframe thead th {\n",
       "        text-align: right;\n",
       "    }\n",
       "</style>\n",
       "<table border=\"1\" class=\"dataframe\">\n",
       "  <thead>\n",
       "    <tr style=\"text-align: right;\">\n",
       "      <th>mois</th>\n",
       "      <th>1</th>\n",
       "      <th>2</th>\n",
       "      <th>3</th>\n",
       "      <th>4</th>\n",
       "      <th>5</th>\n",
       "      <th>6</th>\n",
       "      <th>7</th>\n",
       "      <th>8</th>\n",
       "      <th>9</th>\n",
       "      <th>10</th>\n",
       "      <th>11</th>\n",
       "      <th>12</th>\n",
       "    </tr>\n",
       "    <tr>\n",
       "      <th>annee</th>\n",
       "      <th></th>\n",
       "      <th></th>\n",
       "      <th></th>\n",
       "      <th></th>\n",
       "      <th></th>\n",
       "      <th></th>\n",
       "      <th></th>\n",
       "      <th></th>\n",
       "      <th></th>\n",
       "      <th></th>\n",
       "      <th></th>\n",
       "      <th></th>\n",
       "    </tr>\n",
       "  </thead>\n",
       "  <tbody>\n",
       "    <tr>\n",
       "      <th>2012</th>\n",
       "      <td>108900.0</td>\n",
       "      <td>141065.0</td>\n",
       "      <td>134653.0</td>\n",
       "      <td>98451.0</td>\n",
       "      <td>76918.0</td>\n",
       "      <td>71272.0</td>\n",
       "      <td>59162.6</td>\n",
       "      <td>67010.0</td>\n",
       "      <td>60706.0</td>\n",
       "      <td>51054.0</td>\n",
       "      <td>64469.0</td>\n",
       "      <td>91305.5</td>\n",
       "    </tr>\n",
       "    <tr>\n",
       "      <th>2013</th>\n",
       "      <td>112403.0</td>\n",
       "      <td>97100.0</td>\n",
       "      <td>92166.0</td>\n",
       "      <td>66802.0</td>\n",
       "      <td>79905.0</td>\n",
       "      <td>78580.0</td>\n",
       "      <td>80185.0</td>\n",
       "      <td>74950.0</td>\n",
       "      <td>73830.0</td>\n",
       "      <td>78426.0</td>\n",
       "      <td>91575.0</td>\n",
       "      <td>118397.0</td>\n",
       "    </tr>\n",
       "    <tr>\n",
       "      <th>2014</th>\n",
       "      <td>125552.0</td>\n",
       "      <td>127276.0</td>\n",
       "      <td>93831.0</td>\n",
       "      <td>79034.0</td>\n",
       "      <td>71608.0</td>\n",
       "      <td>77628.0</td>\n",
       "      <td>63243.0</td>\n",
       "      <td>55611.0</td>\n",
       "      <td>60596.0</td>\n",
       "      <td>63713.0</td>\n",
       "      <td>81705.0</td>\n",
       "      <td>92432.0</td>\n",
       "    </tr>\n",
       "    <tr>\n",
       "      <th>2015</th>\n",
       "      <td>105376.0</td>\n",
       "      <td>118668.0</td>\n",
       "      <td>132359.0</td>\n",
       "      <td>102292.0</td>\n",
       "      <td>77251.0</td>\n",
       "      <td>52487.0</td>\n",
       "      <td>47387.0</td>\n",
       "      <td>54259.0</td>\n",
       "      <td>57112.0</td>\n",
       "      <td>84786.0</td>\n",
       "      <td>83381.0</td>\n",
       "      <td>100165.0</td>\n",
       "    </tr>\n",
       "    <tr>\n",
       "      <th>2016</th>\n",
       "      <td>117783.0</td>\n",
       "      <td>138598.0</td>\n",
       "      <td>134617.0</td>\n",
       "      <td>122086.3</td>\n",
       "      <td>112438.0</td>\n",
       "      <td>64650.0</td>\n",
       "      <td>70282.0</td>\n",
       "      <td>74473.0</td>\n",
       "      <td>77653.0</td>\n",
       "      <td>77750.0</td>\n",
       "      <td>81081.0</td>\n",
       "      <td>97892.0</td>\n",
       "    </tr>\n",
       "    <tr>\n",
       "      <th>2017</th>\n",
       "      <td>94995.0</td>\n",
       "      <td>116290.0</td>\n",
       "      <td>120558.0</td>\n",
       "      <td>68568.0</td>\n",
       "      <td>29635.0</td>\n",
       "      <td>21681.0</td>\n",
       "      <td>17755.0</td>\n",
       "      <td>16863.0</td>\n",
       "      <td>21482.0</td>\n",
       "      <td>23047.0</td>\n",
       "      <td>29508.0</td>\n",
       "      <td>56898.0</td>\n",
       "    </tr>\n",
       "    <tr>\n",
       "      <th>2018</th>\n",
       "      <td>52933.0</td>\n",
       "      <td>61339.0</td>\n",
       "      <td>65979.0</td>\n",
       "      <td>64437.0</td>\n",
       "      <td>63913.0</td>\n",
       "      <td>56992.2</td>\n",
       "      <td>63437.0</td>\n",
       "      <td>68567.0</td>\n",
       "      <td>77855.0</td>\n",
       "      <td>75028.0</td>\n",
       "      <td>83726.0</td>\n",
       "      <td>107113.0</td>\n",
       "    </tr>\n",
       "    <tr>\n",
       "      <th>2019</th>\n",
       "      <td>118592.0</td>\n",
       "      <td>106119.0</td>\n",
       "      <td>78995.0</td>\n",
       "      <td>100141.0</td>\n",
       "      <td>93741.0</td>\n",
       "      <td>70633.0</td>\n",
       "      <td>65875.0</td>\n",
       "      <td>57747.0</td>\n",
       "      <td>60795.0</td>\n",
       "      <td>83921.0</td>\n",
       "      <td>98310.0</td>\n",
       "      <td>99155.0</td>\n",
       "    </tr>\n",
       "    <tr>\n",
       "      <th>2020</th>\n",
       "      <td>118458.0</td>\n",
       "      <td>133922.0</td>\n",
       "      <td>126078.0</td>\n",
       "      <td>99176.0</td>\n",
       "      <td>75285.0</td>\n",
       "      <td>81885.0</td>\n",
       "      <td>65965.0</td>\n",
       "      <td>67604.0</td>\n",
       "      <td>90471.0</td>\n",
       "      <td>111485.0</td>\n",
       "      <td>133643.0</td>\n",
       "      <td>133755.0</td>\n",
       "    </tr>\n",
       "    <tr>\n",
       "      <th>2021</th>\n",
       "      <td>172685.0</td>\n",
       "      <td>140471.0</td>\n",
       "      <td>93965.0</td>\n",
       "      <td>73384.0</td>\n",
       "      <td>65164.0</td>\n",
       "      <td>44657.0</td>\n",
       "      <td>32871.0</td>\n",
       "      <td>41627.0</td>\n",
       "      <td>46882.0</td>\n",
       "      <td>58915.0</td>\n",
       "      <td>65633.0</td>\n",
       "      <td>86740.0</td>\n",
       "    </tr>\n",
       "    <tr>\n",
       "      <th>2022</th>\n",
       "      <td>89697.0</td>\n",
       "      <td>75890.0</td>\n",
       "      <td>74073.0</td>\n",
       "      <td>82573.0</td>\n",
       "      <td>81882.0</td>\n",
       "      <td>52743.0</td>\n",
       "      <td>48099.0</td>\n",
       "      <td>39061.0</td>\n",
       "      <td>47055.0</td>\n",
       "      <td>37800.0</td>\n",
       "      <td>63705.0</td>\n",
       "      <td>56931.5</td>\n",
       "    </tr>\n",
       "    <tr>\n",
       "      <th>2023</th>\n",
       "      <td>82531.0</td>\n",
       "      <td>83620.0</td>\n",
       "      <td>90131.0</td>\n",
       "      <td>75028.0</td>\n",
       "      <td>73147.0</td>\n",
       "      <td>70847.0</td>\n",
       "      <td>NaN</td>\n",
       "      <td>NaN</td>\n",
       "      <td>NaN</td>\n",
       "      <td>NaN</td>\n",
       "      <td>NaN</td>\n",
       "      <td>NaN</td>\n",
       "    </tr>\n",
       "  </tbody>\n",
       "</table>\n",
       "</div>"
      ],
      "text/plain": [
       "mois         1         2         3         4         5        6        7   \\\n",
       "annee                                                                       \n",
       "2012   108900.0  141065.0  134653.0   98451.0   76918.0  71272.0  59162.6   \n",
       "2013   112403.0   97100.0   92166.0   66802.0   79905.0  78580.0  80185.0   \n",
       "2014   125552.0  127276.0   93831.0   79034.0   71608.0  77628.0  63243.0   \n",
       "2015   105376.0  118668.0  132359.0  102292.0   77251.0  52487.0  47387.0   \n",
       "2016   117783.0  138598.0  134617.0  122086.3  112438.0  64650.0  70282.0   \n",
       "2017    94995.0  116290.0  120558.0   68568.0   29635.0  21681.0  17755.0   \n",
       "2018    52933.0   61339.0   65979.0   64437.0   63913.0  56992.2  63437.0   \n",
       "2019   118592.0  106119.0   78995.0  100141.0   93741.0  70633.0  65875.0   \n",
       "2020   118458.0  133922.0  126078.0   99176.0   75285.0  81885.0  65965.0   \n",
       "2021   172685.0  140471.0   93965.0   73384.0   65164.0  44657.0  32871.0   \n",
       "2022    89697.0   75890.0   74073.0   82573.0   81882.0  52743.0  48099.0   \n",
       "2023    82531.0   83620.0   90131.0   75028.0   73147.0  70847.0      NaN   \n",
       "\n",
       "mois        8        9         10        11        12  \n",
       "annee                                                  \n",
       "2012   67010.0  60706.0   51054.0   64469.0   91305.5  \n",
       "2013   74950.0  73830.0   78426.0   91575.0  118397.0  \n",
       "2014   55611.0  60596.0   63713.0   81705.0   92432.0  \n",
       "2015   54259.0  57112.0   84786.0   83381.0  100165.0  \n",
       "2016   74473.0  77653.0   77750.0   81081.0   97892.0  \n",
       "2017   16863.0  21482.0   23047.0   29508.0   56898.0  \n",
       "2018   68567.0  77855.0   75028.0   83726.0  107113.0  \n",
       "2019   57747.0  60795.0   83921.0   98310.0   99155.0  \n",
       "2020   67604.0  90471.0  111485.0  133643.0  133755.0  \n",
       "2021   41627.0  46882.0   58915.0   65633.0   86740.0  \n",
       "2022   39061.0  47055.0   37800.0   63705.0   56931.5  \n",
       "2023       NaN      NaN       NaN       NaN       NaN  "
      ]
     },
     "execution_count": 5,
     "metadata": {},
     "output_type": "execute_result"
    }
   ],
   "source": [
    "# Explode dataset\n",
    "df_pivoted = df.pivot_table(values=\"poids_enquete_kg\", index=\"annee\", columns=\"mois\")\n",
    "df_pivoted"
   ]
  },
  {
   "cell_type": "code",
   "execution_count": 18,
   "metadata": {},
   "outputs": [
    {
     "data": {
      "application/vnd.plotly.v1+json": {
       "config": {
        "plotlyServerURL": "https://plot.ly"
       },
       "data": [
        {
         "name": "angular categories",
         "r": [
          89697,
          75890,
          74073,
          82573,
          81882,
          52743,
          48099,
          39061,
          47055,
          37800,
          63705,
          56931.5
         ],
         "subplot": "polar",
         "theta": [
          "January",
          "February",
          "March",
          "April",
          "May",
          "June",
          "July",
          "August",
          "September",
          "October",
          "November",
          "December"
         ],
         "type": "scatterpolar"
        }
       ],
       "layout": {
        "polar": {
         "domain": {
          "x": [
           0,
           1
          ],
          "y": [
           0,
           1
          ]
         }
        },
        "template": {
         "data": {
          "bar": [
           {
            "error_x": {
             "color": "#2a3f5f"
            },
            "error_y": {
             "color": "#2a3f5f"
            },
            "marker": {
             "line": {
              "color": "#E5ECF6",
              "width": 0.5
             },
             "pattern": {
              "fillmode": "overlay",
              "size": 10,
              "solidity": 0.2
             }
            },
            "type": "bar"
           }
          ],
          "barpolar": [
           {
            "marker": {
             "line": {
              "color": "#E5ECF6",
              "width": 0.5
             },
             "pattern": {
              "fillmode": "overlay",
              "size": 10,
              "solidity": 0.2
             }
            },
            "type": "barpolar"
           }
          ],
          "carpet": [
           {
            "aaxis": {
             "endlinecolor": "#2a3f5f",
             "gridcolor": "white",
             "linecolor": "white",
             "minorgridcolor": "white",
             "startlinecolor": "#2a3f5f"
            },
            "baxis": {
             "endlinecolor": "#2a3f5f",
             "gridcolor": "white",
             "linecolor": "white",
             "minorgridcolor": "white",
             "startlinecolor": "#2a3f5f"
            },
            "type": "carpet"
           }
          ],
          "choropleth": [
           {
            "colorbar": {
             "outlinewidth": 0,
             "ticks": ""
            },
            "type": "choropleth"
           }
          ],
          "contour": [
           {
            "colorbar": {
             "outlinewidth": 0,
             "ticks": ""
            },
            "colorscale": [
             [
              0,
              "#0d0887"
             ],
             [
              0.1111111111111111,
              "#46039f"
             ],
             [
              0.2222222222222222,
              "#7201a8"
             ],
             [
              0.3333333333333333,
              "#9c179e"
             ],
             [
              0.4444444444444444,
              "#bd3786"
             ],
             [
              0.5555555555555556,
              "#d8576b"
             ],
             [
              0.6666666666666666,
              "#ed7953"
             ],
             [
              0.7777777777777778,
              "#fb9f3a"
             ],
             [
              0.8888888888888888,
              "#fdca26"
             ],
             [
              1,
              "#f0f921"
             ]
            ],
            "type": "contour"
           }
          ],
          "contourcarpet": [
           {
            "colorbar": {
             "outlinewidth": 0,
             "ticks": ""
            },
            "type": "contourcarpet"
           }
          ],
          "heatmap": [
           {
            "colorbar": {
             "outlinewidth": 0,
             "ticks": ""
            },
            "colorscale": [
             [
              0,
              "#0d0887"
             ],
             [
              0.1111111111111111,
              "#46039f"
             ],
             [
              0.2222222222222222,
              "#7201a8"
             ],
             [
              0.3333333333333333,
              "#9c179e"
             ],
             [
              0.4444444444444444,
              "#bd3786"
             ],
             [
              0.5555555555555556,
              "#d8576b"
             ],
             [
              0.6666666666666666,
              "#ed7953"
             ],
             [
              0.7777777777777778,
              "#fb9f3a"
             ],
             [
              0.8888888888888888,
              "#fdca26"
             ],
             [
              1,
              "#f0f921"
             ]
            ],
            "type": "heatmap"
           }
          ],
          "heatmapgl": [
           {
            "colorbar": {
             "outlinewidth": 0,
             "ticks": ""
            },
            "colorscale": [
             [
              0,
              "#0d0887"
             ],
             [
              0.1111111111111111,
              "#46039f"
             ],
             [
              0.2222222222222222,
              "#7201a8"
             ],
             [
              0.3333333333333333,
              "#9c179e"
             ],
             [
              0.4444444444444444,
              "#bd3786"
             ],
             [
              0.5555555555555556,
              "#d8576b"
             ],
             [
              0.6666666666666666,
              "#ed7953"
             ],
             [
              0.7777777777777778,
              "#fb9f3a"
             ],
             [
              0.8888888888888888,
              "#fdca26"
             ],
             [
              1,
              "#f0f921"
             ]
            ],
            "type": "heatmapgl"
           }
          ],
          "histogram": [
           {
            "marker": {
             "pattern": {
              "fillmode": "overlay",
              "size": 10,
              "solidity": 0.2
             }
            },
            "type": "histogram"
           }
          ],
          "histogram2d": [
           {
            "colorbar": {
             "outlinewidth": 0,
             "ticks": ""
            },
            "colorscale": [
             [
              0,
              "#0d0887"
             ],
             [
              0.1111111111111111,
              "#46039f"
             ],
             [
              0.2222222222222222,
              "#7201a8"
             ],
             [
              0.3333333333333333,
              "#9c179e"
             ],
             [
              0.4444444444444444,
              "#bd3786"
             ],
             [
              0.5555555555555556,
              "#d8576b"
             ],
             [
              0.6666666666666666,
              "#ed7953"
             ],
             [
              0.7777777777777778,
              "#fb9f3a"
             ],
             [
              0.8888888888888888,
              "#fdca26"
             ],
             [
              1,
              "#f0f921"
             ]
            ],
            "type": "histogram2d"
           }
          ],
          "histogram2dcontour": [
           {
            "colorbar": {
             "outlinewidth": 0,
             "ticks": ""
            },
            "colorscale": [
             [
              0,
              "#0d0887"
             ],
             [
              0.1111111111111111,
              "#46039f"
             ],
             [
              0.2222222222222222,
              "#7201a8"
             ],
             [
              0.3333333333333333,
              "#9c179e"
             ],
             [
              0.4444444444444444,
              "#bd3786"
             ],
             [
              0.5555555555555556,
              "#d8576b"
             ],
             [
              0.6666666666666666,
              "#ed7953"
             ],
             [
              0.7777777777777778,
              "#fb9f3a"
             ],
             [
              0.8888888888888888,
              "#fdca26"
             ],
             [
              1,
              "#f0f921"
             ]
            ],
            "type": "histogram2dcontour"
           }
          ],
          "mesh3d": [
           {
            "colorbar": {
             "outlinewidth": 0,
             "ticks": ""
            },
            "type": "mesh3d"
           }
          ],
          "parcoords": [
           {
            "line": {
             "colorbar": {
              "outlinewidth": 0,
              "ticks": ""
             }
            },
            "type": "parcoords"
           }
          ],
          "pie": [
           {
            "automargin": true,
            "type": "pie"
           }
          ],
          "scatter": [
           {
            "fillpattern": {
             "fillmode": "overlay",
             "size": 10,
             "solidity": 0.2
            },
            "type": "scatter"
           }
          ],
          "scatter3d": [
           {
            "line": {
             "colorbar": {
              "outlinewidth": 0,
              "ticks": ""
             }
            },
            "marker": {
             "colorbar": {
              "outlinewidth": 0,
              "ticks": ""
             }
            },
            "type": "scatter3d"
           }
          ],
          "scattercarpet": [
           {
            "marker": {
             "colorbar": {
              "outlinewidth": 0,
              "ticks": ""
             }
            },
            "type": "scattercarpet"
           }
          ],
          "scattergeo": [
           {
            "marker": {
             "colorbar": {
              "outlinewidth": 0,
              "ticks": ""
             }
            },
            "type": "scattergeo"
           }
          ],
          "scattergl": [
           {
            "marker": {
             "colorbar": {
              "outlinewidth": 0,
              "ticks": ""
             }
            },
            "type": "scattergl"
           }
          ],
          "scattermapbox": [
           {
            "marker": {
             "colorbar": {
              "outlinewidth": 0,
              "ticks": ""
             }
            },
            "type": "scattermapbox"
           }
          ],
          "scatterpolar": [
           {
            "marker": {
             "colorbar": {
              "outlinewidth": 0,
              "ticks": ""
             }
            },
            "type": "scatterpolar"
           }
          ],
          "scatterpolargl": [
           {
            "marker": {
             "colorbar": {
              "outlinewidth": 0,
              "ticks": ""
             }
            },
            "type": "scatterpolargl"
           }
          ],
          "scatterternary": [
           {
            "marker": {
             "colorbar": {
              "outlinewidth": 0,
              "ticks": ""
             }
            },
            "type": "scatterternary"
           }
          ],
          "surface": [
           {
            "colorbar": {
             "outlinewidth": 0,
             "ticks": ""
            },
            "colorscale": [
             [
              0,
              "#0d0887"
             ],
             [
              0.1111111111111111,
              "#46039f"
             ],
             [
              0.2222222222222222,
              "#7201a8"
             ],
             [
              0.3333333333333333,
              "#9c179e"
             ],
             [
              0.4444444444444444,
              "#bd3786"
             ],
             [
              0.5555555555555556,
              "#d8576b"
             ],
             [
              0.6666666666666666,
              "#ed7953"
             ],
             [
              0.7777777777777778,
              "#fb9f3a"
             ],
             [
              0.8888888888888888,
              "#fdca26"
             ],
             [
              1,
              "#f0f921"
             ]
            ],
            "type": "surface"
           }
          ],
          "table": [
           {
            "cells": {
             "fill": {
              "color": "#EBF0F8"
             },
             "line": {
              "color": "white"
             }
            },
            "header": {
             "fill": {
              "color": "#C8D4E3"
             },
             "line": {
              "color": "white"
             }
            },
            "type": "table"
           }
          ]
         },
         "layout": {
          "annotationdefaults": {
           "arrowcolor": "#2a3f5f",
           "arrowhead": 0,
           "arrowwidth": 1
          },
          "autotypenumbers": "strict",
          "coloraxis": {
           "colorbar": {
            "outlinewidth": 0,
            "ticks": ""
           }
          },
          "colorscale": {
           "diverging": [
            [
             0,
             "#8e0152"
            ],
            [
             0.1,
             "#c51b7d"
            ],
            [
             0.2,
             "#de77ae"
            ],
            [
             0.3,
             "#f1b6da"
            ],
            [
             0.4,
             "#fde0ef"
            ],
            [
             0.5,
             "#f7f7f7"
            ],
            [
             0.6,
             "#e6f5d0"
            ],
            [
             0.7,
             "#b8e186"
            ],
            [
             0.8,
             "#7fbc41"
            ],
            [
             0.9,
             "#4d9221"
            ],
            [
             1,
             "#276419"
            ]
           ],
           "sequential": [
            [
             0,
             "#0d0887"
            ],
            [
             0.1111111111111111,
             "#46039f"
            ],
            [
             0.2222222222222222,
             "#7201a8"
            ],
            [
             0.3333333333333333,
             "#9c179e"
            ],
            [
             0.4444444444444444,
             "#bd3786"
            ],
            [
             0.5555555555555556,
             "#d8576b"
            ],
            [
             0.6666666666666666,
             "#ed7953"
            ],
            [
             0.7777777777777778,
             "#fb9f3a"
            ],
            [
             0.8888888888888888,
             "#fdca26"
            ],
            [
             1,
             "#f0f921"
            ]
           ],
           "sequentialminus": [
            [
             0,
             "#0d0887"
            ],
            [
             0.1111111111111111,
             "#46039f"
            ],
            [
             0.2222222222222222,
             "#7201a8"
            ],
            [
             0.3333333333333333,
             "#9c179e"
            ],
            [
             0.4444444444444444,
             "#bd3786"
            ],
            [
             0.5555555555555556,
             "#d8576b"
            ],
            [
             0.6666666666666666,
             "#ed7953"
            ],
            [
             0.7777777777777778,
             "#fb9f3a"
            ],
            [
             0.8888888888888888,
             "#fdca26"
            ],
            [
             1,
             "#f0f921"
            ]
           ]
          },
          "colorway": [
           "#636efa",
           "#EF553B",
           "#00cc96",
           "#ab63fa",
           "#FFA15A",
           "#19d3f3",
           "#FF6692",
           "#B6E880",
           "#FF97FF",
           "#FECB52"
          ],
          "font": {
           "color": "#2a3f5f"
          },
          "geo": {
           "bgcolor": "white",
           "lakecolor": "white",
           "landcolor": "#E5ECF6",
           "showlakes": true,
           "showland": true,
           "subunitcolor": "white"
          },
          "hoverlabel": {
           "align": "left"
          },
          "hovermode": "closest",
          "mapbox": {
           "style": "light"
          },
          "paper_bgcolor": "white",
          "plot_bgcolor": "#E5ECF6",
          "polar": {
           "angularaxis": {
            "gridcolor": "white",
            "linecolor": "white",
            "ticks": ""
           },
           "bgcolor": "#E5ECF6",
           "radialaxis": {
            "gridcolor": "white",
            "linecolor": "white",
            "ticks": ""
           }
          },
          "scene": {
           "xaxis": {
            "backgroundcolor": "#E5ECF6",
            "gridcolor": "white",
            "gridwidth": 2,
            "linecolor": "white",
            "showbackground": true,
            "ticks": "",
            "zerolinecolor": "white"
           },
           "yaxis": {
            "backgroundcolor": "#E5ECF6",
            "gridcolor": "white",
            "gridwidth": 2,
            "linecolor": "white",
            "showbackground": true,
            "ticks": "",
            "zerolinecolor": "white"
           },
           "zaxis": {
            "backgroundcolor": "#E5ECF6",
            "gridcolor": "white",
            "gridwidth": 2,
            "linecolor": "white",
            "showbackground": true,
            "ticks": "",
            "zerolinecolor": "white"
           }
          },
          "shapedefaults": {
           "line": {
            "color": "#2a3f5f"
           }
          },
          "ternary": {
           "aaxis": {
            "gridcolor": "white",
            "linecolor": "white",
            "ticks": ""
           },
           "baxis": {
            "gridcolor": "white",
            "linecolor": "white",
            "ticks": ""
           },
           "bgcolor": "#E5ECF6",
           "caxis": {
            "gridcolor": "white",
            "linecolor": "white",
            "ticks": ""
           }
          },
          "title": {
           "x": 0.05
          },
          "xaxis": {
           "automargin": true,
           "gridcolor": "white",
           "linecolor": "white",
           "ticks": "",
           "title": {
            "standoff": 15
           },
           "zerolinecolor": "white",
           "zerolinewidth": 2
          },
          "yaxis": {
           "automargin": true,
           "gridcolor": "white",
           "linecolor": "white",
           "ticks": "",
           "title": {
            "standoff": 15
           },
           "zerolinecolor": "white",
           "zerolinewidth": 2
          }
         }
        }
       }
      }
     },
     "metadata": {},
     "output_type": "display_data"
    }
   ],
   "source": [
    "import plotly.graph_objects as go\n",
    "from plotly.subplots import make_subplots\n",
    "\n",
    "fig = make_subplots(rows=1, cols=1, specs=[[{'type': 'polar'}]*1]*1)\n",
    "df_2022 = df[df[\"annee\"]==2022]\n",
    "fig.add_trace(go.Scatterpolar(\n",
    "      name = \"angular categories\",\n",
    "      r = df_2022[\"poids_enquete_kg\"],\n",
    "      theta = df_2022[\"mois_nom\"].astype(\"str\"),\n",
    "    ), 1, 1)\n",
    "fig.show()"
   ]
  },
  {
   "cell_type": "code",
   "execution_count": 37,
   "metadata": {},
   "outputs": [
    {
     "data": {
      "application/vnd.plotly.v1+json": {
       "config": {
        "plotlyServerURL": "https://plot.ly"
       },
       "data": [
        {
         "hovertemplate": "annee=2012<br>poids_enquete_kg=%{r}<br>mois_nom=%{theta}<extra></extra>",
         "legendgroup": "2012",
         "line": {
          "color": "#0508b8",
          "dash": "solid",
          "shape": "spline"
         },
         "marker": {
          "symbol": "circle"
         },
         "mode": "lines",
         "name": "2012",
         "r": [
          108900,
          141065,
          134653,
          98451,
          76918,
          71272,
          59162.6,
          67010,
          60706,
          51054,
          64469,
          91305.5,
          108900
         ],
         "showlegend": true,
         "subplot": "polar",
         "theta": [
          "January",
          "February",
          "March",
          "April",
          "May",
          "June",
          "July",
          "August",
          "September",
          "October",
          "November",
          "December",
          "January"
         ],
         "type": "scatterpolar"
        },
        {
         "hovertemplate": "annee=2013<br>poids_enquete_kg=%{r}<br>mois_nom=%{theta}<extra></extra>",
         "legendgroup": "2013",
         "line": {
          "color": "#1910d8",
          "dash": "solid",
          "shape": "spline"
         },
         "marker": {
          "symbol": "circle"
         },
         "mode": "lines",
         "name": "2013",
         "r": [
          112403,
          97100,
          92166,
          66802,
          79905,
          78580,
          80185,
          74950,
          73830,
          78426,
          91575,
          118397,
          112403
         ],
         "showlegend": true,
         "subplot": "polar",
         "theta": [
          "January",
          "February",
          "March",
          "April",
          "May",
          "June",
          "July",
          "August",
          "September",
          "October",
          "November",
          "December",
          "January"
         ],
         "type": "scatterpolar"
        },
        {
         "hovertemplate": "annee=2014<br>poids_enquete_kg=%{r}<br>mois_nom=%{theta}<extra></extra>",
         "legendgroup": "2014",
         "line": {
          "color": "#3c19f0",
          "dash": "solid",
          "shape": "spline"
         },
         "marker": {
          "symbol": "circle"
         },
         "mode": "lines",
         "name": "2014",
         "r": [
          125552,
          127276,
          93831,
          79034,
          71608,
          77628,
          63243,
          55611,
          60596,
          63713,
          81705,
          92432,
          125552
         ],
         "showlegend": true,
         "subplot": "polar",
         "theta": [
          "January",
          "February",
          "March",
          "April",
          "May",
          "June",
          "July",
          "August",
          "September",
          "October",
          "November",
          "December",
          "January"
         ],
         "type": "scatterpolar"
        },
        {
         "hovertemplate": "annee=2015<br>poids_enquete_kg=%{r}<br>mois_nom=%{theta}<extra></extra>",
         "legendgroup": "2015",
         "line": {
          "color": "#6b1cfb",
          "dash": "solid",
          "shape": "spline"
         },
         "marker": {
          "symbol": "circle"
         },
         "mode": "lines",
         "name": "2015",
         "r": [
          105376,
          118668,
          132359,
          102292,
          77251,
          52487,
          47387,
          54259,
          57112,
          84786,
          83381,
          100165,
          105376
         ],
         "showlegend": true,
         "subplot": "polar",
         "theta": [
          "January",
          "February",
          "March",
          "April",
          "May",
          "June",
          "July",
          "August",
          "September",
          "October",
          "November",
          "December",
          "January"
         ],
         "type": "scatterpolar"
        },
        {
         "hovertemplate": "annee=2016<br>poids_enquete_kg=%{r}<br>mois_nom=%{theta}<extra></extra>",
         "legendgroup": "2016",
         "line": {
          "color": "#981cfd",
          "dash": "solid",
          "shape": "spline"
         },
         "marker": {
          "symbol": "circle"
         },
         "mode": "lines",
         "name": "2016",
         "r": [
          117783,
          138598,
          134617,
          122086.3,
          112438,
          64650,
          70282,
          74473,
          77653,
          77750,
          81081,
          97892,
          117783
         ],
         "showlegend": true,
         "subplot": "polar",
         "theta": [
          "January",
          "February",
          "March",
          "April",
          "May",
          "June",
          "July",
          "August",
          "September",
          "October",
          "November",
          "December",
          "January"
         ],
         "type": "scatterpolar"
        },
        {
         "hovertemplate": "annee=2017<br>poids_enquete_kg=%{r}<br>mois_nom=%{theta}<extra></extra>",
         "legendgroup": "2017",
         "line": {
          "color": "#bf1cfd",
          "dash": "solid",
          "shape": "spline"
         },
         "marker": {
          "symbol": "circle"
         },
         "mode": "lines",
         "name": "2017",
         "r": [
          94995,
          116290,
          120558,
          68568,
          29635,
          21681,
          17755,
          16863,
          21482,
          23047,
          29508,
          56898,
          94995
         ],
         "showlegend": true,
         "subplot": "polar",
         "theta": [
          "January",
          "February",
          "March",
          "April",
          "May",
          "June",
          "July",
          "August",
          "September",
          "October",
          "November",
          "December",
          "January"
         ],
         "type": "scatterpolar"
        },
        {
         "hovertemplate": "annee=2018<br>poids_enquete_kg=%{r}<br>mois_nom=%{theta}<extra></extra>",
         "legendgroup": "2018",
         "line": {
          "color": "#dd2bfd",
          "dash": "solid",
          "shape": "spline"
         },
         "marker": {
          "symbol": "circle"
         },
         "mode": "lines",
         "name": "2018",
         "r": [
          52933,
          61339,
          65979,
          64437,
          63913,
          56992.2,
          63437,
          68567,
          77855,
          75028,
          83726,
          107113,
          52933
         ],
         "showlegend": true,
         "subplot": "polar",
         "theta": [
          "January",
          "February",
          "March",
          "April",
          "May",
          "June",
          "July",
          "August",
          "September",
          "October",
          "November",
          "December",
          "January"
         ],
         "type": "scatterpolar"
        },
        {
         "hovertemplate": "annee=2019<br>poids_enquete_kg=%{r}<br>mois_nom=%{theta}<extra></extra>",
         "legendgroup": "2019",
         "line": {
          "color": "#f246fe",
          "dash": "solid",
          "shape": "spline"
         },
         "marker": {
          "symbol": "circle"
         },
         "mode": "lines",
         "name": "2019",
         "r": [
          118592,
          106119,
          78995,
          100141,
          93741,
          70633,
          65875,
          57747,
          60795,
          83921,
          98310,
          99155,
          118592
         ],
         "showlegend": true,
         "subplot": "polar",
         "theta": [
          "January",
          "February",
          "March",
          "April",
          "May",
          "June",
          "July",
          "August",
          "September",
          "October",
          "November",
          "December",
          "January"
         ],
         "type": "scatterpolar"
        },
        {
         "hovertemplate": "annee=2020<br>poids_enquete_kg=%{r}<br>mois_nom=%{theta}<extra></extra>",
         "legendgroup": "2020",
         "line": {
          "color": "#fc67fd",
          "dash": "solid",
          "shape": "spline"
         },
         "marker": {
          "symbol": "circle"
         },
         "mode": "lines",
         "name": "2020",
         "r": [
          118458,
          133922,
          126078,
          99176,
          75285,
          81885,
          65965,
          67604,
          90471,
          111485,
          133643,
          133755,
          118458
         ],
         "showlegend": true,
         "subplot": "polar",
         "theta": [
          "January",
          "February",
          "March",
          "April",
          "May",
          "June",
          "July",
          "August",
          "September",
          "October",
          "November",
          "December",
          "January"
         ],
         "type": "scatterpolar"
        },
        {
         "hovertemplate": "annee=2021<br>poids_enquete_kg=%{r}<br>mois_nom=%{theta}<extra></extra>",
         "legendgroup": "2021",
         "line": {
          "color": "#fe88fc",
          "dash": "solid",
          "shape": "spline"
         },
         "marker": {
          "symbol": "circle"
         },
         "mode": "lines",
         "name": "2021",
         "r": [
          172685,
          140471,
          93965,
          73384,
          65164,
          44657,
          32871,
          41627,
          46882,
          58915,
          65633,
          86740,
          172685
         ],
         "showlegend": true,
         "subplot": "polar",
         "theta": [
          "January",
          "February",
          "March",
          "April",
          "May",
          "June",
          "July",
          "August",
          "September",
          "October",
          "November",
          "December",
          "January"
         ],
         "type": "scatterpolar"
        },
        {
         "hovertemplate": "annee=2022<br>poids_enquete_kg=%{r}<br>mois_nom=%{theta}<extra></extra>",
         "legendgroup": "2022",
         "line": {
          "color": "#fea5fd",
          "dash": "solid",
          "shape": "spline"
         },
         "marker": {
          "symbol": "circle"
         },
         "mode": "lines",
         "name": "2022",
         "r": [
          89697,
          75890,
          74073,
          82573,
          81882,
          52743,
          48099,
          39061,
          47055,
          37800,
          63705,
          56931.5,
          89697
         ],
         "showlegend": true,
         "subplot": "polar",
         "theta": [
          "January",
          "February",
          "March",
          "April",
          "May",
          "June",
          "July",
          "August",
          "September",
          "October",
          "November",
          "December",
          "January"
         ],
         "type": "scatterpolar"
        },
        {
         "hovertemplate": "annee=2023<br>poids_enquete_kg=%{r}<br>mois_nom=%{theta}<extra></extra>",
         "legendgroup": "2023",
         "line": {
          "color": "#febefe",
          "dash": "solid",
          "shape": "spline"
         },
         "marker": {
          "symbol": "circle"
         },
         "mode": "lines",
         "name": "2023",
         "r": [
          82531,
          83620,
          90131,
          75028,
          73147,
          70847,
          null,
          82531
         ],
         "showlegend": true,
         "subplot": "polar",
         "theta": [
          "January",
          "February",
          "March",
          "April",
          "May",
          "June",
          "July",
          "January"
         ],
         "type": "scatterpolar"
        }
       ],
       "layout": {
        "legend": {
         "title": {
          "text": "annee"
         },
         "tracegroupgap": 0
        },
        "margin": {
         "t": 60
        },
        "polar": {
         "angularaxis": {
          "direction": "clockwise",
          "rotation": 90
         },
         "domain": {
          "x": [
           0,
           1
          ],
          "y": [
           0,
           1
          ]
         }
        },
        "template": {
         "data": {
          "bar": [
           {
            "error_x": {
             "color": "#f2f5fa"
            },
            "error_y": {
             "color": "#f2f5fa"
            },
            "marker": {
             "line": {
              "color": "rgb(17,17,17)",
              "width": 0.5
             },
             "pattern": {
              "fillmode": "overlay",
              "size": 10,
              "solidity": 0.2
             }
            },
            "type": "bar"
           }
          ],
          "barpolar": [
           {
            "marker": {
             "line": {
              "color": "rgb(17,17,17)",
              "width": 0.5
             },
             "pattern": {
              "fillmode": "overlay",
              "size": 10,
              "solidity": 0.2
             }
            },
            "type": "barpolar"
           }
          ],
          "carpet": [
           {
            "aaxis": {
             "endlinecolor": "#A2B1C6",
             "gridcolor": "#506784",
             "linecolor": "#506784",
             "minorgridcolor": "#506784",
             "startlinecolor": "#A2B1C6"
            },
            "baxis": {
             "endlinecolor": "#A2B1C6",
             "gridcolor": "#506784",
             "linecolor": "#506784",
             "minorgridcolor": "#506784",
             "startlinecolor": "#A2B1C6"
            },
            "type": "carpet"
           }
          ],
          "choropleth": [
           {
            "colorbar": {
             "outlinewidth": 0,
             "ticks": ""
            },
            "type": "choropleth"
           }
          ],
          "contour": [
           {
            "colorbar": {
             "outlinewidth": 0,
             "ticks": ""
            },
            "colorscale": [
             [
              0,
              "#0d0887"
             ],
             [
              0.1111111111111111,
              "#46039f"
             ],
             [
              0.2222222222222222,
              "#7201a8"
             ],
             [
              0.3333333333333333,
              "#9c179e"
             ],
             [
              0.4444444444444444,
              "#bd3786"
             ],
             [
              0.5555555555555556,
              "#d8576b"
             ],
             [
              0.6666666666666666,
              "#ed7953"
             ],
             [
              0.7777777777777778,
              "#fb9f3a"
             ],
             [
              0.8888888888888888,
              "#fdca26"
             ],
             [
              1,
              "#f0f921"
             ]
            ],
            "type": "contour"
           }
          ],
          "contourcarpet": [
           {
            "colorbar": {
             "outlinewidth": 0,
             "ticks": ""
            },
            "type": "contourcarpet"
           }
          ],
          "heatmap": [
           {
            "colorbar": {
             "outlinewidth": 0,
             "ticks": ""
            },
            "colorscale": [
             [
              0,
              "#0d0887"
             ],
             [
              0.1111111111111111,
              "#46039f"
             ],
             [
              0.2222222222222222,
              "#7201a8"
             ],
             [
              0.3333333333333333,
              "#9c179e"
             ],
             [
              0.4444444444444444,
              "#bd3786"
             ],
             [
              0.5555555555555556,
              "#d8576b"
             ],
             [
              0.6666666666666666,
              "#ed7953"
             ],
             [
              0.7777777777777778,
              "#fb9f3a"
             ],
             [
              0.8888888888888888,
              "#fdca26"
             ],
             [
              1,
              "#f0f921"
             ]
            ],
            "type": "heatmap"
           }
          ],
          "heatmapgl": [
           {
            "colorbar": {
             "outlinewidth": 0,
             "ticks": ""
            },
            "colorscale": [
             [
              0,
              "#0d0887"
             ],
             [
              0.1111111111111111,
              "#46039f"
             ],
             [
              0.2222222222222222,
              "#7201a8"
             ],
             [
              0.3333333333333333,
              "#9c179e"
             ],
             [
              0.4444444444444444,
              "#bd3786"
             ],
             [
              0.5555555555555556,
              "#d8576b"
             ],
             [
              0.6666666666666666,
              "#ed7953"
             ],
             [
              0.7777777777777778,
              "#fb9f3a"
             ],
             [
              0.8888888888888888,
              "#fdca26"
             ],
             [
              1,
              "#f0f921"
             ]
            ],
            "type": "heatmapgl"
           }
          ],
          "histogram": [
           {
            "marker": {
             "pattern": {
              "fillmode": "overlay",
              "size": 10,
              "solidity": 0.2
             }
            },
            "type": "histogram"
           }
          ],
          "histogram2d": [
           {
            "colorbar": {
             "outlinewidth": 0,
             "ticks": ""
            },
            "colorscale": [
             [
              0,
              "#0d0887"
             ],
             [
              0.1111111111111111,
              "#46039f"
             ],
             [
              0.2222222222222222,
              "#7201a8"
             ],
             [
              0.3333333333333333,
              "#9c179e"
             ],
             [
              0.4444444444444444,
              "#bd3786"
             ],
             [
              0.5555555555555556,
              "#d8576b"
             ],
             [
              0.6666666666666666,
              "#ed7953"
             ],
             [
              0.7777777777777778,
              "#fb9f3a"
             ],
             [
              0.8888888888888888,
              "#fdca26"
             ],
             [
              1,
              "#f0f921"
             ]
            ],
            "type": "histogram2d"
           }
          ],
          "histogram2dcontour": [
           {
            "colorbar": {
             "outlinewidth": 0,
             "ticks": ""
            },
            "colorscale": [
             [
              0,
              "#0d0887"
             ],
             [
              0.1111111111111111,
              "#46039f"
             ],
             [
              0.2222222222222222,
              "#7201a8"
             ],
             [
              0.3333333333333333,
              "#9c179e"
             ],
             [
              0.4444444444444444,
              "#bd3786"
             ],
             [
              0.5555555555555556,
              "#d8576b"
             ],
             [
              0.6666666666666666,
              "#ed7953"
             ],
             [
              0.7777777777777778,
              "#fb9f3a"
             ],
             [
              0.8888888888888888,
              "#fdca26"
             ],
             [
              1,
              "#f0f921"
             ]
            ],
            "type": "histogram2dcontour"
           }
          ],
          "mesh3d": [
           {
            "colorbar": {
             "outlinewidth": 0,
             "ticks": ""
            },
            "type": "mesh3d"
           }
          ],
          "parcoords": [
           {
            "line": {
             "colorbar": {
              "outlinewidth": 0,
              "ticks": ""
             }
            },
            "type": "parcoords"
           }
          ],
          "pie": [
           {
            "automargin": true,
            "type": "pie"
           }
          ],
          "scatter": [
           {
            "marker": {
             "line": {
              "color": "#283442"
             }
            },
            "type": "scatter"
           }
          ],
          "scatter3d": [
           {
            "line": {
             "colorbar": {
              "outlinewidth": 0,
              "ticks": ""
             }
            },
            "marker": {
             "colorbar": {
              "outlinewidth": 0,
              "ticks": ""
             }
            },
            "type": "scatter3d"
           }
          ],
          "scattercarpet": [
           {
            "marker": {
             "colorbar": {
              "outlinewidth": 0,
              "ticks": ""
             }
            },
            "type": "scattercarpet"
           }
          ],
          "scattergeo": [
           {
            "marker": {
             "colorbar": {
              "outlinewidth": 0,
              "ticks": ""
             }
            },
            "type": "scattergeo"
           }
          ],
          "scattergl": [
           {
            "marker": {
             "line": {
              "color": "#283442"
             }
            },
            "type": "scattergl"
           }
          ],
          "scattermapbox": [
           {
            "marker": {
             "colorbar": {
              "outlinewidth": 0,
              "ticks": ""
             }
            },
            "type": "scattermapbox"
           }
          ],
          "scatterpolar": [
           {
            "marker": {
             "colorbar": {
              "outlinewidth": 0,
              "ticks": ""
             }
            },
            "type": "scatterpolar"
           }
          ],
          "scatterpolargl": [
           {
            "marker": {
             "colorbar": {
              "outlinewidth": 0,
              "ticks": ""
             }
            },
            "type": "scatterpolargl"
           }
          ],
          "scatterternary": [
           {
            "marker": {
             "colorbar": {
              "outlinewidth": 0,
              "ticks": ""
             }
            },
            "type": "scatterternary"
           }
          ],
          "surface": [
           {
            "colorbar": {
             "outlinewidth": 0,
             "ticks": ""
            },
            "colorscale": [
             [
              0,
              "#0d0887"
             ],
             [
              0.1111111111111111,
              "#46039f"
             ],
             [
              0.2222222222222222,
              "#7201a8"
             ],
             [
              0.3333333333333333,
              "#9c179e"
             ],
             [
              0.4444444444444444,
              "#bd3786"
             ],
             [
              0.5555555555555556,
              "#d8576b"
             ],
             [
              0.6666666666666666,
              "#ed7953"
             ],
             [
              0.7777777777777778,
              "#fb9f3a"
             ],
             [
              0.8888888888888888,
              "#fdca26"
             ],
             [
              1,
              "#f0f921"
             ]
            ],
            "type": "surface"
           }
          ],
          "table": [
           {
            "cells": {
             "fill": {
              "color": "#506784"
             },
             "line": {
              "color": "rgb(17,17,17)"
             }
            },
            "header": {
             "fill": {
              "color": "#2a3f5f"
             },
             "line": {
              "color": "rgb(17,17,17)"
             }
            },
            "type": "table"
           }
          ]
         },
         "layout": {
          "annotationdefaults": {
           "arrowcolor": "#f2f5fa",
           "arrowhead": 0,
           "arrowwidth": 1
          },
          "autotypenumbers": "strict",
          "coloraxis": {
           "colorbar": {
            "outlinewidth": 0,
            "ticks": ""
           }
          },
          "colorscale": {
           "diverging": [
            [
             0,
             "#8e0152"
            ],
            [
             0.1,
             "#c51b7d"
            ],
            [
             0.2,
             "#de77ae"
            ],
            [
             0.3,
             "#f1b6da"
            ],
            [
             0.4,
             "#fde0ef"
            ],
            [
             0.5,
             "#f7f7f7"
            ],
            [
             0.6,
             "#e6f5d0"
            ],
            [
             0.7,
             "#b8e186"
            ],
            [
             0.8,
             "#7fbc41"
            ],
            [
             0.9,
             "#4d9221"
            ],
            [
             1,
             "#276419"
            ]
           ],
           "sequential": [
            [
             0,
             "#0d0887"
            ],
            [
             0.1111111111111111,
             "#46039f"
            ],
            [
             0.2222222222222222,
             "#7201a8"
            ],
            [
             0.3333333333333333,
             "#9c179e"
            ],
            [
             0.4444444444444444,
             "#bd3786"
            ],
            [
             0.5555555555555556,
             "#d8576b"
            ],
            [
             0.6666666666666666,
             "#ed7953"
            ],
            [
             0.7777777777777778,
             "#fb9f3a"
            ],
            [
             0.8888888888888888,
             "#fdca26"
            ],
            [
             1,
             "#f0f921"
            ]
           ],
           "sequentialminus": [
            [
             0,
             "#0d0887"
            ],
            [
             0.1111111111111111,
             "#46039f"
            ],
            [
             0.2222222222222222,
             "#7201a8"
            ],
            [
             0.3333333333333333,
             "#9c179e"
            ],
            [
             0.4444444444444444,
             "#bd3786"
            ],
            [
             0.5555555555555556,
             "#d8576b"
            ],
            [
             0.6666666666666666,
             "#ed7953"
            ],
            [
             0.7777777777777778,
             "#fb9f3a"
            ],
            [
             0.8888888888888888,
             "#fdca26"
            ],
            [
             1,
             "#f0f921"
            ]
           ]
          },
          "colorway": [
           "#636efa",
           "#EF553B",
           "#00cc96",
           "#ab63fa",
           "#FFA15A",
           "#19d3f3",
           "#FF6692",
           "#B6E880",
           "#FF97FF",
           "#FECB52"
          ],
          "font": {
           "color": "#f2f5fa"
          },
          "geo": {
           "bgcolor": "rgb(17,17,17)",
           "lakecolor": "rgb(17,17,17)",
           "landcolor": "rgb(17,17,17)",
           "showlakes": true,
           "showland": true,
           "subunitcolor": "#506784"
          },
          "hoverlabel": {
           "align": "left"
          },
          "hovermode": "closest",
          "mapbox": {
           "style": "dark"
          },
          "paper_bgcolor": "rgb(17,17,17)",
          "plot_bgcolor": "rgb(17,17,17)",
          "polar": {
           "angularaxis": {
            "gridcolor": "#506784",
            "linecolor": "#506784",
            "ticks": ""
           },
           "bgcolor": "rgb(17,17,17)",
           "radialaxis": {
            "gridcolor": "#506784",
            "linecolor": "#506784",
            "ticks": ""
           }
          },
          "scene": {
           "xaxis": {
            "backgroundcolor": "rgb(17,17,17)",
            "gridcolor": "#506784",
            "gridwidth": 2,
            "linecolor": "#506784",
            "showbackground": true,
            "ticks": "",
            "zerolinecolor": "#C8D4E3"
           },
           "yaxis": {
            "backgroundcolor": "rgb(17,17,17)",
            "gridcolor": "#506784",
            "gridwidth": 2,
            "linecolor": "#506784",
            "showbackground": true,
            "ticks": "",
            "zerolinecolor": "#C8D4E3"
           },
           "zaxis": {
            "backgroundcolor": "rgb(17,17,17)",
            "gridcolor": "#506784",
            "gridwidth": 2,
            "linecolor": "#506784",
            "showbackground": true,
            "ticks": "",
            "zerolinecolor": "#C8D4E3"
           }
          },
          "shapedefaults": {
           "line": {
            "color": "#f2f5fa"
           }
          },
          "sliderdefaults": {
           "bgcolor": "#C8D4E3",
           "bordercolor": "rgb(17,17,17)",
           "borderwidth": 1,
           "tickwidth": 0
          },
          "ternary": {
           "aaxis": {
            "gridcolor": "#506784",
            "linecolor": "#506784",
            "ticks": ""
           },
           "baxis": {
            "gridcolor": "#506784",
            "linecolor": "#506784",
            "ticks": ""
           },
           "bgcolor": "rgb(17,17,17)",
           "caxis": {
            "gridcolor": "#506784",
            "linecolor": "#506784",
            "ticks": ""
           }
          },
          "title": {
           "x": 0.05
          },
          "updatemenudefaults": {
           "bgcolor": "#506784",
           "borderwidth": 0
          },
          "xaxis": {
           "automargin": true,
           "gridcolor": "#283442",
           "linecolor": "#506784",
           "ticks": "",
           "title": {
            "standoff": 15
           },
           "zerolinecolor": "#283442",
           "zerolinewidth": 2
          },
          "yaxis": {
           "automargin": true,
           "gridcolor": "#283442",
           "linecolor": "#506784",
           "ticks": "",
           "title": {
            "standoff": 15
           },
           "zerolinecolor": "#283442",
           "zerolinewidth": 2
          }
         }
        }
       }
      }
     },
     "metadata": {},
     "output_type": "display_data"
    }
   ],
   "source": [
    "# Graph\n",
    "import plotly.express as px\n",
    "\n",
    "fig = px.line_polar(df, r=\"poids_enquete_kg\", theta=\"mois_nom\", color=\"annee\",\n",
    "                    color_discrete_sequence=px.colors.sequential.Plotly3, line_close=True,\n",
    "                    template=\"plotly_dark\",line_shape='spline')\n",
    "fig.show()"
   ]
  },
  {
   "cell_type": "code",
   "execution_count": 36,
   "metadata": {},
   "outputs": [
    {
     "data": {
      "application/vnd.plotly.v1+json": {
       "config": {
        "plotlyServerURL": "https://plot.ly"
       },
       "data": [
        {
         "hovertemplate": "annee=2012<br>valeur_moy=%{r}<br>mois_nom=%{theta}<extra></extra>",
         "legendgroup": "2012",
         "line": {
          "color": "#0508b8",
          "dash": "solid",
          "shape": "spline"
         },
         "marker": {
          "symbol": "circle"
         },
         "mode": "lines",
         "name": "2012",
         "r": [
          248.39857900969255,
          231.40979767015835,
          222.0219261681289,
          237.99865885970365,
          256.56119378375035,
          247.7093307459725,
          264.78696307075904,
          257.55532397474406,
          253.7527584241266,
          259.7388183323763,
          261.51474957436875,
          260.71401318333824,
          248.39857900969255
         ],
         "showlegend": true,
         "subplot": "polar",
         "theta": [
          "January",
          "February",
          "March",
          "April",
          "May",
          "June",
          "July",
          "August",
          "September",
          "October",
          "November",
          "December",
          "January"
         ],
         "type": "scatterpolar"
        },
        {
         "hovertemplate": "annee=2013<br>valeur_moy=%{r}<br>mois_nom=%{theta}<extra></extra>",
         "legendgroup": "2013",
         "line": {
          "color": "#1910d8",
          "dash": "solid",
          "shape": "spline"
         },
         "marker": {
          "symbol": "circle"
         },
         "mode": "lines",
         "name": "2013",
         "r": [
          251.8001217725517,
          280.0233000318727,
          279.9475588435046,
          278.47503454905967,
          280.1898840177348,
          276.8277486365098,
          266.4637305114357,
          270.5871550279353,
          274.93357848825735,
          274.6357094532259,
          273.3434175827432,
          259.57165725840423,
          251.8001217725517
         ],
         "showlegend": true,
         "subplot": "polar",
         "theta": [
          "January",
          "February",
          "March",
          "April",
          "May",
          "June",
          "July",
          "August",
          "September",
          "October",
          "November",
          "December",
          "January"
         ],
         "type": "scatterpolar"
        },
        {
         "hovertemplate": "annee=2014<br>valeur_moy=%{r}<br>mois_nom=%{theta}<extra></extra>",
         "legendgroup": "2014",
         "line": {
          "color": "#3c19f0",
          "dash": "solid",
          "shape": "spline"
         },
         "marker": {
          "symbol": "circle"
         },
         "mode": "lines",
         "name": "2014",
         "r": [
          260.37299483888967,
          226.72696637269664,
          228.0968189562804,
          267.749193479316,
          264.8145519364771,
          273.68339007346356,
          285.6941283224318,
          277.0444420297729,
          271.8781283179129,
          263.3373549350799,
          288.46270733012307,
          267.6792283307057,
          260.37299483888967
         ],
         "showlegend": true,
         "subplot": "polar",
         "theta": [
          "January",
          "February",
          "March",
          "April",
          "May",
          "June",
          "July",
          "August",
          "September",
          "October",
          "November",
          "December",
          "January"
         ],
         "type": "scatterpolar"
        },
        {
         "hovertemplate": "annee=2015<br>valeur_moy=%{r}<br>mois_nom=%{theta}<extra></extra>",
         "legendgroup": "2015",
         "line": {
          "color": "#6b1cfb",
          "dash": "solid",
          "shape": "spline"
         },
         "marker": {
          "symbol": "circle"
         },
         "mode": "lines",
         "name": "2015",
         "r": [
          285.4882339274453,
          276.172226963304,
          240.35991674100507,
          228.9015427769986,
          201.73821167662862,
          285.307680324038,
          276.797544655201,
          290.5187474435304,
          294.8024066576698,
          287.93040387389243,
          283.6221766490617,
          276.0311631309437,
          285.4882339274453
         ],
         "showlegend": true,
         "subplot": "polar",
         "theta": [
          "January",
          "February",
          "March",
          "April",
          "May",
          "June",
          "July",
          "August",
          "September",
          "October",
          "November",
          "December",
          "January"
         ],
         "type": "scatterpolar"
        },
        {
         "hovertemplate": "annee=2016<br>valeur_moy=%{r}<br>mois_nom=%{theta}<extra></extra>",
         "legendgroup": "2016",
         "line": {
          "color": "#981cfd",
          "dash": "solid",
          "shape": "spline"
         },
         "marker": {
          "symbol": "circle"
         },
         "mode": "lines",
         "name": "2016",
         "r": [
          281.35521399129397,
          266.9159585084828,
          254.75146178525299,
          252.51900047319185,
          257.409895213603,
          272.4022251954088,
          273.90216940199963,
          295.084027552382,
          305.4460717780373,
          327.085070650915,
          307.5502969917609,
          331.4380498791732,
          281.35521399129397
         ],
         "showlegend": true,
         "subplot": "polar",
         "theta": [
          "January",
          "February",
          "March",
          "April",
          "May",
          "June",
          "July",
          "August",
          "September",
          "October",
          "November",
          "December",
          "January"
         ],
         "type": "scatterpolar"
        },
        {
         "hovertemplate": "annee=2017<br>valeur_moy=%{r}<br>mois_nom=%{theta}<extra></extra>",
         "legendgroup": "2017",
         "line": {
          "color": "#bf1cfd",
          "dash": "solid",
          "shape": "spline"
         },
         "marker": {
          "symbol": "circle"
         },
         "mode": "lines",
         "name": "2017",
         "r": [
          298.07450257558054,
          296.633692727306,
          281.99096546839644,
          304.4237589214909,
          305.61471030655116,
          302.7781506964256,
          276.9503269542264,
          280.52513715262165,
          289.8517157820683,
          216.83694924973716,
          289.609239273493,
          319.2723777074714,
          298.07450257558054
         ],
         "showlegend": true,
         "subplot": "polar",
         "theta": [
          "January",
          "February",
          "March",
          "April",
          "May",
          "June",
          "July",
          "August",
          "September",
          "October",
          "November",
          "December",
          "January"
         ],
         "type": "scatterpolar"
        },
        {
         "hovertemplate": "annee=2018<br>valeur_moy=%{r}<br>mois_nom=%{theta}<extra></extra>",
         "legendgroup": "2018",
         "line": {
          "color": "#dd2bfd",
          "dash": "solid",
          "shape": "spline"
         },
         "marker": {
          "symbol": "circle"
         },
         "mode": "lines",
         "name": "2018",
         "r": [
          343.336269079026,
          323.48940943833895,
          347.0341998780555,
          349.61694456962596,
          362.50261869520665,
          370.56688627900314,
          356.78708358654217,
          381.2306689834926,
          361.7682205600974,
          358.5666835272298,
          360.36558423753377,
          355.24058846203263,
          343.336269079026
         ],
         "showlegend": true,
         "subplot": "polar",
         "theta": [
          "January",
          "February",
          "March",
          "April",
          "May",
          "June",
          "July",
          "August",
          "September",
          "October",
          "November",
          "December",
          "January"
         ],
         "type": "scatterpolar"
        },
        {
         "hovertemplate": "annee=2019<br>valeur_moy=%{r}<br>mois_nom=%{theta}<extra></extra>",
         "legendgroup": "2019",
         "line": {
          "color": "#f246fe",
          "dash": "solid",
          "shape": "spline"
         },
         "marker": {
          "symbol": "circle"
         },
         "mode": "lines",
         "name": "2019",
         "r": [
          352.12754379755796,
          326.9791770857013,
          317.3475349608912,
          340.4803646320751,
          348.7529607083564,
          346.45042308526797,
          332.2460016108618,
          354.9323850545928,
          348.39585596123317,
          334.8916127567813,
          328,
          344.7391426049135,
          352.12754379755796
         ],
         "showlegend": true,
         "subplot": "polar",
         "theta": [
          "January",
          "February",
          "March",
          "April",
          "May",
          "June",
          "July",
          "August",
          "September",
          "October",
          "November",
          "December",
          "January"
         ],
         "type": "scatterpolar"
        },
        {
         "hovertemplate": "annee=2020<br>valeur_moy=%{r}<br>mois_nom=%{theta}<extra></extra>",
         "legendgroup": "2020",
         "line": {
          "color": "#fc67fd",
          "dash": "solid",
          "shape": "spline"
         },
         "marker": {
          "symbol": "circle"
         },
         "mode": "lines",
         "name": "2020",
         "r": [
          339.20227743911875,
          310.60200324636764,
          330.2699263961474,
          347.1072179096796,
          373.48600665762547,
          374.200556265504,
          370.33011740090666,
          377.4927035774143,
          376.53655079957866,
          377.8814316932653,
          362.2284581886819,
          377.85033667894805,
          339.20227743911875
         ],
         "showlegend": true,
         "subplot": "polar",
         "theta": [
          "January",
          "February",
          "March",
          "April",
          "May",
          "June",
          "July",
          "August",
          "September",
          "October",
          "November",
          "December",
          "January"
         ],
         "type": "scatterpolar"
        },
        {
         "hovertemplate": "annee=2021<br>valeur_moy=%{r}<br>mois_nom=%{theta}<extra></extra>",
         "legendgroup": "2021",
         "line": {
          "color": "#fe88fc",
          "dash": "solid",
          "shape": "spline"
         },
         "marker": {
          "symbol": "circle"
         },
         "mode": "lines",
         "name": "2021",
         "r": [
          299.8699035082827,
          237.70685614132572,
          278.1452295691175,
          321.38280383457453,
          402.0411509912654,
          403.88438965514064,
          433.16590652451276,
          448.5779153108318,
          444.37951844136745,
          448.6485021305201,
          425.1487139947873,
          463.80277369162155,
          299.8699035082827
         ],
         "showlegend": true,
         "subplot": "polar",
         "theta": [
          "January",
          "February",
          "March",
          "April",
          "May",
          "June",
          "July",
          "August",
          "September",
          "October",
          "November",
          "December",
          "January"
         ],
         "type": "scatterpolar"
        },
        {
         "hovertemplate": "annee=2022<br>valeur_moy=%{r}<br>mois_nom=%{theta}<extra></extra>",
         "legendgroup": "2022",
         "line": {
          "color": "#fea5fd",
          "dash": "solid",
          "shape": "spline"
         },
         "marker": {
          "symbol": "circle"
         },
         "mode": "lines",
         "name": "2022",
         "r": [
          446.93294492096885,
          434.2892069212148,
          439.86366852788586,
          457.9080121724568,
          462.22852083593295,
          462.5844048933997,
          482.51896072689044,
          467.33412662590786,
          476.4498767262355,
          468.5860352482174,
          462.63327218101085,
          466.96685575892405,
          446.93294492096885
         ],
         "showlegend": true,
         "subplot": "polar",
         "theta": [
          "January",
          "February",
          "March",
          "April",
          "May",
          "June",
          "July",
          "August",
          "September",
          "October",
          "November",
          "December",
          "January"
         ],
         "type": "scatterpolar"
        },
        {
         "hovertemplate": "annee=2023<br>valeur_moy=%{r}<br>mois_nom=%{theta}<extra></extra>",
         "legendgroup": "2023",
         "line": {
          "color": "#febefe",
          "dash": "solid",
          "shape": "spline"
         },
         "marker": {
          "symbol": "circle"
         },
         "mode": "lines",
         "name": "2023",
         "r": [
          438.99149131172516,
          368.3705137519285,
          323.8904880836473,
          331.19438218911705,
          339.3752617491214,
          331.13574786622263,
          354.6050840325735,
          438.99149131172516
         ],
         "showlegend": true,
         "subplot": "polar",
         "theta": [
          "January",
          "February",
          "March",
          "April",
          "May",
          "June",
          "July",
          "January"
         ],
         "type": "scatterpolar"
        }
       ],
       "layout": {
        "legend": {
         "title": {
          "text": "annee"
         },
         "tracegroupgap": 0
        },
        "margin": {
         "t": 60
        },
        "polar": {
         "angularaxis": {
          "direction": "clockwise",
          "rotation": 90
         },
         "domain": {
          "x": [
           0,
           1
          ],
          "y": [
           0,
           1
          ]
         }
        },
        "template": {
         "data": {
          "bar": [
           {
            "error_x": {
             "color": "#f2f5fa"
            },
            "error_y": {
             "color": "#f2f5fa"
            },
            "marker": {
             "line": {
              "color": "rgb(17,17,17)",
              "width": 0.5
             },
             "pattern": {
              "fillmode": "overlay",
              "size": 10,
              "solidity": 0.2
             }
            },
            "type": "bar"
           }
          ],
          "barpolar": [
           {
            "marker": {
             "line": {
              "color": "rgb(17,17,17)",
              "width": 0.5
             },
             "pattern": {
              "fillmode": "overlay",
              "size": 10,
              "solidity": 0.2
             }
            },
            "type": "barpolar"
           }
          ],
          "carpet": [
           {
            "aaxis": {
             "endlinecolor": "#A2B1C6",
             "gridcolor": "#506784",
             "linecolor": "#506784",
             "minorgridcolor": "#506784",
             "startlinecolor": "#A2B1C6"
            },
            "baxis": {
             "endlinecolor": "#A2B1C6",
             "gridcolor": "#506784",
             "linecolor": "#506784",
             "minorgridcolor": "#506784",
             "startlinecolor": "#A2B1C6"
            },
            "type": "carpet"
           }
          ],
          "choropleth": [
           {
            "colorbar": {
             "outlinewidth": 0,
             "ticks": ""
            },
            "type": "choropleth"
           }
          ],
          "contour": [
           {
            "colorbar": {
             "outlinewidth": 0,
             "ticks": ""
            },
            "colorscale": [
             [
              0,
              "#0d0887"
             ],
             [
              0.1111111111111111,
              "#46039f"
             ],
             [
              0.2222222222222222,
              "#7201a8"
             ],
             [
              0.3333333333333333,
              "#9c179e"
             ],
             [
              0.4444444444444444,
              "#bd3786"
             ],
             [
              0.5555555555555556,
              "#d8576b"
             ],
             [
              0.6666666666666666,
              "#ed7953"
             ],
             [
              0.7777777777777778,
              "#fb9f3a"
             ],
             [
              0.8888888888888888,
              "#fdca26"
             ],
             [
              1,
              "#f0f921"
             ]
            ],
            "type": "contour"
           }
          ],
          "contourcarpet": [
           {
            "colorbar": {
             "outlinewidth": 0,
             "ticks": ""
            },
            "type": "contourcarpet"
           }
          ],
          "heatmap": [
           {
            "colorbar": {
             "outlinewidth": 0,
             "ticks": ""
            },
            "colorscale": [
             [
              0,
              "#0d0887"
             ],
             [
              0.1111111111111111,
              "#46039f"
             ],
             [
              0.2222222222222222,
              "#7201a8"
             ],
             [
              0.3333333333333333,
              "#9c179e"
             ],
             [
              0.4444444444444444,
              "#bd3786"
             ],
             [
              0.5555555555555556,
              "#d8576b"
             ],
             [
              0.6666666666666666,
              "#ed7953"
             ],
             [
              0.7777777777777778,
              "#fb9f3a"
             ],
             [
              0.8888888888888888,
              "#fdca26"
             ],
             [
              1,
              "#f0f921"
             ]
            ],
            "type": "heatmap"
           }
          ],
          "heatmapgl": [
           {
            "colorbar": {
             "outlinewidth": 0,
             "ticks": ""
            },
            "colorscale": [
             [
              0,
              "#0d0887"
             ],
             [
              0.1111111111111111,
              "#46039f"
             ],
             [
              0.2222222222222222,
              "#7201a8"
             ],
             [
              0.3333333333333333,
              "#9c179e"
             ],
             [
              0.4444444444444444,
              "#bd3786"
             ],
             [
              0.5555555555555556,
              "#d8576b"
             ],
             [
              0.6666666666666666,
              "#ed7953"
             ],
             [
              0.7777777777777778,
              "#fb9f3a"
             ],
             [
              0.8888888888888888,
              "#fdca26"
             ],
             [
              1,
              "#f0f921"
             ]
            ],
            "type": "heatmapgl"
           }
          ],
          "histogram": [
           {
            "marker": {
             "pattern": {
              "fillmode": "overlay",
              "size": 10,
              "solidity": 0.2
             }
            },
            "type": "histogram"
           }
          ],
          "histogram2d": [
           {
            "colorbar": {
             "outlinewidth": 0,
             "ticks": ""
            },
            "colorscale": [
             [
              0,
              "#0d0887"
             ],
             [
              0.1111111111111111,
              "#46039f"
             ],
             [
              0.2222222222222222,
              "#7201a8"
             ],
             [
              0.3333333333333333,
              "#9c179e"
             ],
             [
              0.4444444444444444,
              "#bd3786"
             ],
             [
              0.5555555555555556,
              "#d8576b"
             ],
             [
              0.6666666666666666,
              "#ed7953"
             ],
             [
              0.7777777777777778,
              "#fb9f3a"
             ],
             [
              0.8888888888888888,
              "#fdca26"
             ],
             [
              1,
              "#f0f921"
             ]
            ],
            "type": "histogram2d"
           }
          ],
          "histogram2dcontour": [
           {
            "colorbar": {
             "outlinewidth": 0,
             "ticks": ""
            },
            "colorscale": [
             [
              0,
              "#0d0887"
             ],
             [
              0.1111111111111111,
              "#46039f"
             ],
             [
              0.2222222222222222,
              "#7201a8"
             ],
             [
              0.3333333333333333,
              "#9c179e"
             ],
             [
              0.4444444444444444,
              "#bd3786"
             ],
             [
              0.5555555555555556,
              "#d8576b"
             ],
             [
              0.6666666666666666,
              "#ed7953"
             ],
             [
              0.7777777777777778,
              "#fb9f3a"
             ],
             [
              0.8888888888888888,
              "#fdca26"
             ],
             [
              1,
              "#f0f921"
             ]
            ],
            "type": "histogram2dcontour"
           }
          ],
          "mesh3d": [
           {
            "colorbar": {
             "outlinewidth": 0,
             "ticks": ""
            },
            "type": "mesh3d"
           }
          ],
          "parcoords": [
           {
            "line": {
             "colorbar": {
              "outlinewidth": 0,
              "ticks": ""
             }
            },
            "type": "parcoords"
           }
          ],
          "pie": [
           {
            "automargin": true,
            "type": "pie"
           }
          ],
          "scatter": [
           {
            "marker": {
             "line": {
              "color": "#283442"
             }
            },
            "type": "scatter"
           }
          ],
          "scatter3d": [
           {
            "line": {
             "colorbar": {
              "outlinewidth": 0,
              "ticks": ""
             }
            },
            "marker": {
             "colorbar": {
              "outlinewidth": 0,
              "ticks": ""
             }
            },
            "type": "scatter3d"
           }
          ],
          "scattercarpet": [
           {
            "marker": {
             "colorbar": {
              "outlinewidth": 0,
              "ticks": ""
             }
            },
            "type": "scattercarpet"
           }
          ],
          "scattergeo": [
           {
            "marker": {
             "colorbar": {
              "outlinewidth": 0,
              "ticks": ""
             }
            },
            "type": "scattergeo"
           }
          ],
          "scattergl": [
           {
            "marker": {
             "line": {
              "color": "#283442"
             }
            },
            "type": "scattergl"
           }
          ],
          "scattermapbox": [
           {
            "marker": {
             "colorbar": {
              "outlinewidth": 0,
              "ticks": ""
             }
            },
            "type": "scattermapbox"
           }
          ],
          "scatterpolar": [
           {
            "marker": {
             "colorbar": {
              "outlinewidth": 0,
              "ticks": ""
             }
            },
            "type": "scatterpolar"
           }
          ],
          "scatterpolargl": [
           {
            "marker": {
             "colorbar": {
              "outlinewidth": 0,
              "ticks": ""
             }
            },
            "type": "scatterpolargl"
           }
          ],
          "scatterternary": [
           {
            "marker": {
             "colorbar": {
              "outlinewidth": 0,
              "ticks": ""
             }
            },
            "type": "scatterternary"
           }
          ],
          "surface": [
           {
            "colorbar": {
             "outlinewidth": 0,
             "ticks": ""
            },
            "colorscale": [
             [
              0,
              "#0d0887"
             ],
             [
              0.1111111111111111,
              "#46039f"
             ],
             [
              0.2222222222222222,
              "#7201a8"
             ],
             [
              0.3333333333333333,
              "#9c179e"
             ],
             [
              0.4444444444444444,
              "#bd3786"
             ],
             [
              0.5555555555555556,
              "#d8576b"
             ],
             [
              0.6666666666666666,
              "#ed7953"
             ],
             [
              0.7777777777777778,
              "#fb9f3a"
             ],
             [
              0.8888888888888888,
              "#fdca26"
             ],
             [
              1,
              "#f0f921"
             ]
            ],
            "type": "surface"
           }
          ],
          "table": [
           {
            "cells": {
             "fill": {
              "color": "#506784"
             },
             "line": {
              "color": "rgb(17,17,17)"
             }
            },
            "header": {
             "fill": {
              "color": "#2a3f5f"
             },
             "line": {
              "color": "rgb(17,17,17)"
             }
            },
            "type": "table"
           }
          ]
         },
         "layout": {
          "annotationdefaults": {
           "arrowcolor": "#f2f5fa",
           "arrowhead": 0,
           "arrowwidth": 1
          },
          "autotypenumbers": "strict",
          "coloraxis": {
           "colorbar": {
            "outlinewidth": 0,
            "ticks": ""
           }
          },
          "colorscale": {
           "diverging": [
            [
             0,
             "#8e0152"
            ],
            [
             0.1,
             "#c51b7d"
            ],
            [
             0.2,
             "#de77ae"
            ],
            [
             0.3,
             "#f1b6da"
            ],
            [
             0.4,
             "#fde0ef"
            ],
            [
             0.5,
             "#f7f7f7"
            ],
            [
             0.6,
             "#e6f5d0"
            ],
            [
             0.7,
             "#b8e186"
            ],
            [
             0.8,
             "#7fbc41"
            ],
            [
             0.9,
             "#4d9221"
            ],
            [
             1,
             "#276419"
            ]
           ],
           "sequential": [
            [
             0,
             "#0d0887"
            ],
            [
             0.1111111111111111,
             "#46039f"
            ],
            [
             0.2222222222222222,
             "#7201a8"
            ],
            [
             0.3333333333333333,
             "#9c179e"
            ],
            [
             0.4444444444444444,
             "#bd3786"
            ],
            [
             0.5555555555555556,
             "#d8576b"
            ],
            [
             0.6666666666666666,
             "#ed7953"
            ],
            [
             0.7777777777777778,
             "#fb9f3a"
            ],
            [
             0.8888888888888888,
             "#fdca26"
            ],
            [
             1,
             "#f0f921"
            ]
           ],
           "sequentialminus": [
            [
             0,
             "#0d0887"
            ],
            [
             0.1111111111111111,
             "#46039f"
            ],
            [
             0.2222222222222222,
             "#7201a8"
            ],
            [
             0.3333333333333333,
             "#9c179e"
            ],
            [
             0.4444444444444444,
             "#bd3786"
            ],
            [
             0.5555555555555556,
             "#d8576b"
            ],
            [
             0.6666666666666666,
             "#ed7953"
            ],
            [
             0.7777777777777778,
             "#fb9f3a"
            ],
            [
             0.8888888888888888,
             "#fdca26"
            ],
            [
             1,
             "#f0f921"
            ]
           ]
          },
          "colorway": [
           "#636efa",
           "#EF553B",
           "#00cc96",
           "#ab63fa",
           "#FFA15A",
           "#19d3f3",
           "#FF6692",
           "#B6E880",
           "#FF97FF",
           "#FECB52"
          ],
          "font": {
           "color": "#f2f5fa"
          },
          "geo": {
           "bgcolor": "rgb(17,17,17)",
           "lakecolor": "rgb(17,17,17)",
           "landcolor": "rgb(17,17,17)",
           "showlakes": true,
           "showland": true,
           "subunitcolor": "#506784"
          },
          "hoverlabel": {
           "align": "left"
          },
          "hovermode": "closest",
          "mapbox": {
           "style": "dark"
          },
          "paper_bgcolor": "rgb(17,17,17)",
          "plot_bgcolor": "rgb(17,17,17)",
          "polar": {
           "angularaxis": {
            "gridcolor": "#506784",
            "linecolor": "#506784",
            "ticks": ""
           },
           "bgcolor": "rgb(17,17,17)",
           "radialaxis": {
            "gridcolor": "#506784",
            "linecolor": "#506784",
            "ticks": ""
           }
          },
          "scene": {
           "xaxis": {
            "backgroundcolor": "rgb(17,17,17)",
            "gridcolor": "#506784",
            "gridwidth": 2,
            "linecolor": "#506784",
            "showbackground": true,
            "ticks": "",
            "zerolinecolor": "#C8D4E3"
           },
           "yaxis": {
            "backgroundcolor": "rgb(17,17,17)",
            "gridcolor": "#506784",
            "gridwidth": 2,
            "linecolor": "#506784",
            "showbackground": true,
            "ticks": "",
            "zerolinecolor": "#C8D4E3"
           },
           "zaxis": {
            "backgroundcolor": "rgb(17,17,17)",
            "gridcolor": "#506784",
            "gridwidth": 2,
            "linecolor": "#506784",
            "showbackground": true,
            "ticks": "",
            "zerolinecolor": "#C8D4E3"
           }
          },
          "shapedefaults": {
           "line": {
            "color": "#f2f5fa"
           }
          },
          "sliderdefaults": {
           "bgcolor": "#C8D4E3",
           "bordercolor": "rgb(17,17,17)",
           "borderwidth": 1,
           "tickwidth": 0
          },
          "ternary": {
           "aaxis": {
            "gridcolor": "#506784",
            "linecolor": "#506784",
            "ticks": ""
           },
           "baxis": {
            "gridcolor": "#506784",
            "linecolor": "#506784",
            "ticks": ""
           },
           "bgcolor": "rgb(17,17,17)",
           "caxis": {
            "gridcolor": "#506784",
            "linecolor": "#506784",
            "ticks": ""
           }
          },
          "title": {
           "x": 0.05
          },
          "updatemenudefaults": {
           "bgcolor": "#506784",
           "borderwidth": 0
          },
          "xaxis": {
           "automargin": true,
           "gridcolor": "#283442",
           "linecolor": "#506784",
           "ticks": "",
           "title": {
            "standoff": 15
           },
           "zerolinecolor": "#283442",
           "zerolinewidth": 2
          },
          "yaxis": {
           "automargin": true,
           "gridcolor": "#283442",
           "linecolor": "#506784",
           "ticks": "",
           "title": {
            "standoff": 15
           },
           "zerolinecolor": "#283442",
           "zerolinewidth": 2
          }
         }
        }
       }
      }
     },
     "metadata": {},
     "output_type": "display_data"
    }
   ],
   "source": [
    "fig = px.line_polar(df, r=\"valeur_moy\", theta=\"mois_nom\", color=\"annee\",\n",
    "                    color_discrete_sequence=px.colors.sequential.Plotly3, line_close=True,\n",
    "                    template=\"plotly_dark\",line_shape='spline')\n",
    "fig.show()"
   ]
  },
  {
   "cell_type": "markdown",
   "metadata": {},
   "source": [
    "# Get Data"
   ]
  },
  {
   "cell_type": "code",
   "execution_count": 77,
   "metadata": {},
   "outputs": [],
   "source": [
    "from kedro.extras.datasets.api import APIDataSet\n",
    "\n",
    "\n",
    "def get_data_with_filter(list_items: list, filter_name: str, limit: int= 100, offset: int=0):\n",
    "    data_set = APIDataSet(\n",
    "        url=\"https://data.gouv.nc/api/explore/v2.1/catalog/datasets/pacificdatavizchallenge_fruits_et_legumes_regroupement1/records\",\n",
    "        params={\n",
    "            \"select\": \"annee, mois, regroupement1, regroupement2, poids_enquete_kg, poids_mg_kg, valeur_tot_mg_fr, valeur_moy\",\n",
    "            \"order_by\": \"annee, mois\",\n",
    "            \"where\": f'regroupement1 like \"{filter_name}\"',\n",
    "            \"limit\": limit,\n",
    "            \"offset\": offset\n",
    "        }\n",
    "    )\n",
    "    raw_result = data_set.load().json()\n",
    "    nb_items = raw_result[\"total_count\"]\n",
    "    list_items += raw_result[\"results\"]\n",
    "    return nb_items, list_items\n",
    "\n",
    "def get_all_items(filter_name: str):\n",
    "    nb_items_collected = 0\n",
    "    nb_items_to_collect = 0\n",
    "    chunk_size = 100\n",
    "    list_items = []\n",
    "    while nb_items_collected <= nb_items_to_collect:\n",
    "        nb_items_to_collect, list_items = get_data_with_filter(list_items, filter_name, limit=chunk_size, offset=nb_items_collected)\n",
    "        nb_items_collected += chunk_size\n",
    "    return list_items\n",
    "\n",
    "def transform_listdict_to_df(list_dict):\n",
    "    return pd.DataFrame(list_dict)\n"
   ]
  },
  {
   "cell_type": "code",
   "execution_count": 79,
   "metadata": {},
   "outputs": [
    {
     "data": {
      "text/plain": [
       "(139, 8)"
      ]
     },
     "execution_count": 79,
     "metadata": {},
     "output_type": "execute_result"
    }
   ],
   "source": [
    "list_objs = get_all_items(filter_name=\"CONCOMBRE\")\n",
    "df = transform_listdict_to_df(list_objs)\n",
    "df.shape"
   ]
  },
  {
   "cell_type": "code",
   "execution_count": 80,
   "metadata": {},
   "outputs": [
    {
     "data": {
      "text/html": [
       "<div>\n",
       "<style scoped>\n",
       "    .dataframe tbody tr th:only-of-type {\n",
       "        vertical-align: middle;\n",
       "    }\n",
       "\n",
       "    .dataframe tbody tr th {\n",
       "        vertical-align: top;\n",
       "    }\n",
       "\n",
       "    .dataframe thead th {\n",
       "        text-align: right;\n",
       "    }\n",
       "</style>\n",
       "<table border=\"1\" class=\"dataframe\">\n",
       "  <thead>\n",
       "    <tr style=\"text-align: right;\">\n",
       "      <th></th>\n",
       "      <th>annee</th>\n",
       "      <th>mois</th>\n",
       "      <th>regroupement1</th>\n",
       "      <th>regroupement2</th>\n",
       "      <th>poids_enquete_kg</th>\n",
       "      <th>poids_mg_kg</th>\n",
       "      <th>valeur_tot_mg_fr</th>\n",
       "      <th>valeur_moy</th>\n",
       "    </tr>\n",
       "  </thead>\n",
       "  <tbody>\n",
       "    <tr>\n",
       "      <th>0</th>\n",
       "      <td>2012</td>\n",
       "      <td>1</td>\n",
       "      <td>CONCOMBRE</td>\n",
       "      <td>TOTAL LEGUMES</td>\n",
       "      <td>48497.0</td>\n",
       "      <td>71719.0000</td>\n",
       "      <td>11675743.0</td>\n",
       "      <td>162.798463</td>\n",
       "    </tr>\n",
       "    <tr>\n",
       "      <th>1</th>\n",
       "      <td>2012</td>\n",
       "      <td>2</td>\n",
       "      <td>CONCOMBRE</td>\n",
       "      <td>TOTAL LEGUMES</td>\n",
       "      <td>60714.0</td>\n",
       "      <td>38774.0000</td>\n",
       "      <td>6712380.0</td>\n",
       "      <td>173.115490</td>\n",
       "    </tr>\n",
       "    <tr>\n",
       "      <th>2</th>\n",
       "      <td>2012</td>\n",
       "      <td>3</td>\n",
       "      <td>CONCOMBRE</td>\n",
       "      <td>TOTAL LEGUMES</td>\n",
       "      <td>101864.0</td>\n",
       "      <td>83313.0000</td>\n",
       "      <td>12227620.0</td>\n",
       "      <td>146.767251</td>\n",
       "    </tr>\n",
       "    <tr>\n",
       "      <th>3</th>\n",
       "      <td>2012</td>\n",
       "      <td>4</td>\n",
       "      <td>CONCOMBRE</td>\n",
       "      <td>TOTAL LEGUMES</td>\n",
       "      <td>68808.0</td>\n",
       "      <td>72538.5293</td>\n",
       "      <td>8604470.5</td>\n",
       "      <td>118.619313</td>\n",
       "    </tr>\n",
       "    <tr>\n",
       "      <th>4</th>\n",
       "      <td>2012</td>\n",
       "      <td>5</td>\n",
       "      <td>CONCOMBRE</td>\n",
       "      <td>TOTAL LEGUMES</td>\n",
       "      <td>85703.0</td>\n",
       "      <td>61867.5000</td>\n",
       "      <td>8537520.0</td>\n",
       "      <td>137.996848</td>\n",
       "    </tr>\n",
       "    <tr>\n",
       "      <th>...</th>\n",
       "      <td>...</td>\n",
       "      <td>...</td>\n",
       "      <td>...</td>\n",
       "      <td>...</td>\n",
       "      <td>...</td>\n",
       "      <td>...</td>\n",
       "      <td>...</td>\n",
       "      <td>...</td>\n",
       "    </tr>\n",
       "    <tr>\n",
       "      <th>134</th>\n",
       "      <td>2023</td>\n",
       "      <td>3</td>\n",
       "      <td>CONCOMBRE</td>\n",
       "      <td>TOTAL LEGUMES</td>\n",
       "      <td>97518.0</td>\n",
       "      <td>34331.6000</td>\n",
       "      <td>8691833.0</td>\n",
       "      <td>253.172966</td>\n",
       "    </tr>\n",
       "    <tr>\n",
       "      <th>135</th>\n",
       "      <td>2023</td>\n",
       "      <td>4</td>\n",
       "      <td>CONCOMBRE</td>\n",
       "      <td>TOTAL LEGUMES</td>\n",
       "      <td>100784.9</td>\n",
       "      <td>26062.8000</td>\n",
       "      <td>7275865.0</td>\n",
       "      <td>279.166667</td>\n",
       "    </tr>\n",
       "    <tr>\n",
       "      <th>136</th>\n",
       "      <td>2023</td>\n",
       "      <td>5</td>\n",
       "      <td>CONCOMBRE</td>\n",
       "      <td>TOTAL LEGUMES</td>\n",
       "      <td>57879.0</td>\n",
       "      <td>13642.7000</td>\n",
       "      <td>3978896.0</td>\n",
       "      <td>291.650187</td>\n",
       "    </tr>\n",
       "    <tr>\n",
       "      <th>137</th>\n",
       "      <td>2023</td>\n",
       "      <td>6</td>\n",
       "      <td>CONCOMBRE</td>\n",
       "      <td>TOTAL LEGUMES</td>\n",
       "      <td>66005.0</td>\n",
       "      <td>12271.9000</td>\n",
       "      <td>5983896.0</td>\n",
       "      <td>487.609580</td>\n",
       "    </tr>\n",
       "    <tr>\n",
       "      <th>138</th>\n",
       "      <td>2023</td>\n",
       "      <td>7</td>\n",
       "      <td>CONCOMBRE</td>\n",
       "      <td>TOTAL LEGUMES</td>\n",
       "      <td>NaN</td>\n",
       "      <td>15120.2000</td>\n",
       "      <td>6039955.0</td>\n",
       "      <td>399.462639</td>\n",
       "    </tr>\n",
       "  </tbody>\n",
       "</table>\n",
       "<p>139 rows × 8 columns</p>\n",
       "</div>"
      ],
      "text/plain": [
       "    annee mois regroupement1  regroupement2  poids_enquete_kg  poids_mg_kg  \\\n",
       "0    2012    1     CONCOMBRE  TOTAL LEGUMES           48497.0   71719.0000   \n",
       "1    2012    2     CONCOMBRE  TOTAL LEGUMES           60714.0   38774.0000   \n",
       "2    2012    3     CONCOMBRE  TOTAL LEGUMES          101864.0   83313.0000   \n",
       "3    2012    4     CONCOMBRE  TOTAL LEGUMES           68808.0   72538.5293   \n",
       "4    2012    5     CONCOMBRE  TOTAL LEGUMES           85703.0   61867.5000   \n",
       "..    ...  ...           ...            ...               ...          ...   \n",
       "134  2023    3     CONCOMBRE  TOTAL LEGUMES           97518.0   34331.6000   \n",
       "135  2023    4     CONCOMBRE  TOTAL LEGUMES          100784.9   26062.8000   \n",
       "136  2023    5     CONCOMBRE  TOTAL LEGUMES           57879.0   13642.7000   \n",
       "137  2023    6     CONCOMBRE  TOTAL LEGUMES           66005.0   12271.9000   \n",
       "138  2023    7     CONCOMBRE  TOTAL LEGUMES               NaN   15120.2000   \n",
       "\n",
       "     valeur_tot_mg_fr  valeur_moy  \n",
       "0          11675743.0  162.798463  \n",
       "1           6712380.0  173.115490  \n",
       "2          12227620.0  146.767251  \n",
       "3           8604470.5  118.619313  \n",
       "4           8537520.0  137.996848  \n",
       "..                ...         ...  \n",
       "134         8691833.0  253.172966  \n",
       "135         7275865.0  279.166667  \n",
       "136         3978896.0  291.650187  \n",
       "137         5983896.0  487.609580  \n",
       "138         6039955.0  399.462639  \n",
       "\n",
       "[139 rows x 8 columns]"
      ]
     },
     "execution_count": 80,
     "metadata": {},
     "output_type": "execute_result"
    }
   ],
   "source": [
    "df"
   ]
  },
  {
   "cell_type": "code",
   "execution_count": null,
   "metadata": {},
   "outputs": [],
   "source": []
  }
 ],
 "metadata": {
  "kernelspec": {
   "display_name": ".venv",
   "language": "python",
   "name": "python3"
  },
  "language_info": {
   "codemirror_mode": {
    "name": "ipython",
    "version": 3
   },
   "file_extension": ".py",
   "mimetype": "text/x-python",
   "name": "python",
   "nbconvert_exporter": "python",
   "pygments_lexer": "ipython3",
   "version": "3.9.12"
  },
  "orig_nbformat": 4
 },
 "nbformat": 4,
 "nbformat_minor": 2
}
