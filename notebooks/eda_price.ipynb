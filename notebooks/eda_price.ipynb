{
 "cells": [
  {
   "cell_type": "code",
   "execution_count": 1,
   "metadata": {},
   "outputs": [
    {
     "name": "stderr",
     "output_type": "stream",
     "text": [
      "/var/folders/py/gsn_r2vn4zj7d6j3f2p58mcw0000gn/T/ipykernel_4322/120689590.py:2: DeprecationWarning: `import pandas_profiling` is going to be deprecated by April 1st. Please use `import ydata_profiling` instead.\n",
      "  import pandas_profiling as pp\n"
     ]
    }
   ],
   "source": [
    "import pandas as pd\n",
    "import pandas_profiling as pp"
   ]
  },
  {
   "cell_type": "code",
   "execution_count": 2,
   "metadata": {},
   "outputs": [
    {
     "name": "stdout",
     "output_type": "stream",
     "text": [
      "<class 'pandas.core.frame.DataFrame'>\n",
      "RangeIndex: 4363989 entries, 0 to 4363988\n",
      "Data columns (total 30 columns):\n",
      " #   Column                    Dtype  \n",
      "---  ------                    -----  \n",
      " 0   CODE_PRODUIT              int64  \n",
      " 1   NOM                       object \n",
      " 2   SECTEUR_CONSO             object \n",
      " 3   SOUS_SECTEUR_CONSO        object \n",
      " 4   FAMILLE_PRODUIT           object \n",
      " 5   SOUS_FAMILLE              object \n",
      " 6   VARIETE                   object \n",
      " 7   CATEGORIE                 object \n",
      " 8   DEPARTEMENT               object \n",
      " 9   MARQUE                    object \n",
      " 10  CONDITIONNEMENT           float64\n",
      " 11  COND_UNITE_LIBELLE_LONG   object \n",
      " 12  COND_UNITE_LIBELLE_COURT  object \n",
      " 13  GENCOD                    object \n",
      " 14  PRIX_RELEVE               float64\n",
      " 15  DATE_RELEVE               object \n",
      " 16  PROMOTION                 int64  \n",
      " 17  TOP_500                   object \n",
      " 18  TYPE_RELEVE               object \n",
      " 19  RAISON_SOCIALE            object \n",
      " 20  RIDET                     int64  \n",
      " 21  TYPE_ADRESSE              object \n",
      " 22  NUM_VOIE                  object \n",
      " 23  TYPE_VOIE                 object \n",
      " 24  NOM_VOIE                  object \n",
      " 25  COMPLEMENT_ADRESSE        object \n",
      " 26  QUARTIER                  object \n",
      " 27  CODE_POSTAL               float64\n",
      " 28  COMMUNE                   object \n",
      " 29  point_geo                 object \n",
      "dtypes: float64(3), int64(3), object(24)\n",
      "memory usage: 998.8+ MB\n"
     ]
    }
   ],
   "source": [
    "df = pd.read_csv(\"/Users/ugo/Documents/challenge_data_pacific/data_nc/prix-des-produits-alimentaires-en-2023-pacific-dataviz-challenge.csv\")\n",
    "df.info()"
   ]
  },
  {
   "cell_type": "code",
   "execution_count": 7,
   "metadata": {},
   "outputs": [
    {
     "name": "stderr",
     "output_type": "stream",
     "text": [
      "/Users/ugo/Documents/pacific-dataviz-challenge/.venv2/lib/python3.9/site-packages/ydata_profiling/utils/dataframe.py:137: SettingWithCopyWarning: \n",
      "A value is trying to be set on a copy of a slice from a DataFrame\n",
      "\n",
      "See the caveats in the documentation: https://pandas.pydata.org/pandas-docs/stable/user_guide/indexing.html#returning-a-view-versus-a-copy\n",
      "  df.rename(columns={\"index\": \"df_index\"}, inplace=True)\n"
     ]
    },
    {
     "data": {
      "application/vnd.jupyter.widget-view+json": {
       "model_id": "c354975247f9479e864651e9ae12710b",
       "version_major": 2,
       "version_minor": 0
      },
      "text/plain": [
       "Summarize dataset:   0%|          | 0/5 [00:00<?, ?it/s]"
      ]
     },
     "metadata": {},
     "output_type": "display_data"
    },
    {
     "data": {
      "application/vnd.jupyter.widget-view+json": {
       "model_id": "2453c256dfef42a0a8f845447468050f",
       "version_major": 2,
       "version_minor": 0
      },
      "text/plain": [
       "Generate report structure:   0%|          | 0/1 [00:00<?, ?it/s]"
      ]
     },
     "metadata": {},
     "output_type": "display_data"
    },
    {
     "data": {
      "application/vnd.jupyter.widget-view+json": {
       "model_id": "d1788941416e41e7945301c2e41f7e46",
       "version_major": 2,
       "version_minor": 0
      },
      "text/plain": [
       "Render HTML:   0%|          | 0/1 [00:00<?, ?it/s]"
      ]
     },
     "metadata": {},
     "output_type": "display_data"
    },
    {
     "data": {
      "application/vnd.jupyter.widget-view+json": {
       "model_id": "087f4778b3e24f8899de44d1a5ad2209",
       "version_major": 2,
       "version_minor": 0
      },
      "text/plain": [
       "Export report to file:   0%|          | 0/1 [00:00<?, ?it/s]"
      ]
     },
     "metadata": {},
     "output_type": "display_data"
    }
   ],
   "source": [
    "report = pp.ProfileReport(df[['CODE_PRODUIT',\n",
    " 'NOM',\n",
    " 'SECTEUR_CONSO',\n",
    " 'SOUS_SECTEUR_CONSO',\n",
    " 'FAMILLE_PRODUIT',\n",
    " 'SOUS_FAMILLE',\n",
    " 'VARIETE',\n",
    " 'CATEGORIE',\n",
    " 'DEPARTEMENT',\n",
    " 'MARQUE',\n",
    " 'CONDITIONNEMENT',\n",
    " 'COND_UNITE_LIBELLE_LONG',\n",
    " 'COND_UNITE_LIBELLE_COURT',\n",
    " 'GENCOD',\n",
    " 'PRIX_RELEVE',\n",
    " 'DATE_RELEVE',\n",
    " 'PROMOTION',\n",
    " 'TOP_500',\n",
    " 'TYPE_RELEVE',\n",
    " 'RAISON_SOCIALE',\n",
    " 'RIDET',\n",
    " 'COMMUNE']], minimal=True)\n",
    "report.to_file(\"report.html\")"
   ]
  },
  {
   "cell_type": "markdown",
   "metadata": {},
   "source": [
    "# Clean data"
   ]
  },
  {
   "cell_type": "markdown",
   "metadata": {},
   "source": [
    "## Same units"
   ]
  },
  {
   "cell_type": "code",
   "execution_count": 3,
   "metadata": {},
   "outputs": [],
   "source": [
    "df[\"PRIX_UNITAIRE\"] = df[\"PRIX_RELEVE\"] / df[\"CONDITIONNEMENT\"]"
   ]
  },
  {
   "cell_type": "markdown",
   "metadata": {},
   "source": [
    "## Get last price"
   ]
  },
  {
   "cell_type": "code",
   "execution_count": 4,
   "metadata": {},
   "outputs": [],
   "source": [
    "df[[\"DERNIER_PRIX\", \"DERNIER_PRIX_UNITAIRE\", \"DERNIER_DATE_RELEVE\"]] = df.sort_values(by=[\"GENCOD\", \"DATE_RELEVE\"], ascending=[True, True]).groupby(by=[\"CODE_PRODUIT\", \"GENCOD\", \"RIDET\"], as_index=False)[[\"PRIX_RELEVE\", \"PRIX_UNITAIRE\", \"DATE_RELEVE\"]].transform(\"last\")"
   ]
  },
  {
   "cell_type": "markdown",
   "metadata": {},
   "source": [
    "# Outlet selection"
   ]
  },
  {
   "cell_type": "code",
   "execution_count": 17,
   "metadata": {},
   "outputs": [],
   "source": [
    "MY_GEOLOC = -22.3, 166.4\n",
    "LATS = -22.35, -22.2\n",
    "LNGS = 166.55, 166.36"
   ]
  },
  {
   "cell_type": "code",
   "execution_count": 23,
   "metadata": {},
   "outputs": [],
   "source": [
    "df = df[(df[\"point_geo\"].map(lambda x:float(x.split(\",\")[0]) if x==x else 0)<=LATS[1]) & \n",
    "   (df[\"point_geo\"].map(lambda x:float(x.split(\",\")[0]) if x==x else 0)>=LATS[0]) &\n",
    "   (df[\"point_geo\"].map(lambda x:float(x.split(\",\")[1]) if x==x else 0)>=LNGS[1]) &\n",
    "   (df[\"point_geo\"].map(lambda x:float(x.split(\",\")[1]) if x==x else 0)<=LNGS[0])]"
   ]
  },
  {
   "cell_type": "markdown",
   "metadata": {},
   "source": [
    "# Product selection"
   ]
  },
  {
   "cell_type": "code",
   "execution_count": 24,
   "metadata": {},
   "outputs": [],
   "source": [
    "# Search in SOUS_FAMILLE\n",
    "LISTE_DE_COURSES = [\"pain de mie\", \"pâte à tartiner\", \n",
    "                    \"yaourt laitier\", \"biscuit fourré, nappé\", \n",
    "                    \"tablette de chocolat\", \n",
    "                    \"pâte longue\", 'pâte courte', \"pâte fraîche\"]"
   ]
  },
  {
   "cell_type": "code",
   "execution_count": 37,
   "metadata": {},
   "outputs": [
    {
     "data": {
      "text/plain": [
       "CODE_PRODUIT                                                46241\n",
       "NOM                         chocolat à tartiner Noisety pot 240 g\n",
       "SECTEUR_CONSO                                     épicerie sucrée\n",
       "SOUS_SECTEUR_CONSO               confiture, pâte à tartiner, miel\n",
       "FAMILLE_PRODUIT                            pâte, crème à tartiner\n",
       "SOUS_FAMILLE                                      pâte à tartiner\n",
       "VARIETE                               pâte à tartiner au chocolat\n",
       "CATEGORIE                                                   LOCAL\n",
       "DEPARTEMENT                                                   Sec\n",
       "MARQUE                                                  Biscochoc\n",
       "CONDITIONNEMENT                                              0.24\n",
       "COND_UNITE_LIBELLE_LONG                                Kilogramme\n",
       "COND_UNITE_LIBELLE_COURT                                       kg\n",
       "GENCOD                                3328861502400,3328860005407\n",
       "PRIX_RELEVE                                                 460.0\n",
       "DATE_RELEVE                                            2023-01-03\n",
       "PROMOTION                                                       0\n",
       "TOP_500                                                         N\n",
       "TYPE_RELEVE                                                     A\n",
       "RAISON_SOCIALE                                   DISCOUNT TRIANON\n",
       "RIDET                                                    85993001\n",
       "TYPE_ADRESSE                                             PHYSIQUE\n",
       "NUM_VOIE                                                       27\n",
       "TYPE_VOIE                                                   route\n",
       "NOM_VOIE                                           de l'Anse-Vata\n",
       "COMPLEMENT_ADRESSE                                            NaN\n",
       "QUARTIER                                                  Trianon\n",
       "CODE_POSTAL                                                   NaN\n",
       "COMMUNE                                                    Nouméa\n",
       "point_geo                                   -22.28273, 166.449044\n",
       "PRIX_UNITAIRE                                         1916.666667\n",
       "DERNIER_PRIX                                                495.0\n",
       "DERNIER_PRIX_UNITAIRE                                      2062.5\n",
       "DERNIER_DATE_RELEVE                                    2023-08-22\n",
       "Name: 1035844, dtype: object"
      ]
     },
     "execution_count": 37,
     "metadata": {},
     "output_type": "execute_result"
    }
   ],
   "source": [
    "df.loc[1035844]"
   ]
  },
  {
   "cell_type": "code",
   "execution_count": 32,
   "metadata": {},
   "outputs": [
    {
     "data": {
      "text/html": [
       "<div>\n",
       "<style scoped>\n",
       "    .dataframe tbody tr th:only-of-type {\n",
       "        vertical-align: middle;\n",
       "    }\n",
       "\n",
       "    .dataframe tbody tr th {\n",
       "        vertical-align: top;\n",
       "    }\n",
       "\n",
       "    .dataframe thead th {\n",
       "        text-align: right;\n",
       "    }\n",
       "</style>\n",
       "<table border=\"1\" class=\"dataframe\">\n",
       "  <thead>\n",
       "    <tr style=\"text-align: right;\">\n",
       "      <th></th>\n",
       "      <th>CODE_PRODUIT</th>\n",
       "      <th>NOM</th>\n",
       "      <th>MARQUE</th>\n",
       "      <th>mean_price</th>\n",
       "      <th>min_price</th>\n",
       "      <th>max_price</th>\n",
       "    </tr>\n",
       "  </thead>\n",
       "  <tbody>\n",
       "    <tr>\n",
       "      <th>6</th>\n",
       "      <td>136102</td>\n",
       "      <td>beurre de cacahuète Best creamy pot 340 g</td>\n",
       "      <td>Best</td>\n",
       "      <td>1497.840655</td>\n",
       "      <td>911.764706</td>\n",
       "      <td>1823.529412</td>\n",
       "    </tr>\n",
       "    <tr>\n",
       "      <th>15</th>\n",
       "      <td>207557</td>\n",
       "      <td>beurre de cacahuète Best crunchy pot 340 g</td>\n",
       "      <td>Best</td>\n",
       "      <td>1288.123402</td>\n",
       "      <td>911.764706</td>\n",
       "      <td>1588.235294</td>\n",
       "    </tr>\n",
       "    <tr>\n",
       "      <th>4</th>\n",
       "      <td>46247</td>\n",
       "      <td>beurre de cacahuète Crown chunky pot 340 g</td>\n",
       "      <td>Crown</td>\n",
       "      <td>1286.155818</td>\n",
       "      <td>1058.823529</td>\n",
       "      <td>1676.470588</td>\n",
       "    </tr>\n",
       "    <tr>\n",
       "      <th>9</th>\n",
       "      <td>138680</td>\n",
       "      <td>beurre de cacahuètes Sanitarium peanut butter ...</td>\n",
       "      <td>Sanitarium</td>\n",
       "      <td>1382.115942</td>\n",
       "      <td>1288.000000</td>\n",
       "      <td>1520.000000</td>\n",
       "    </tr>\n",
       "    <tr>\n",
       "      <th>10</th>\n",
       "      <td>138691</td>\n",
       "      <td>beurre de cacahuètes Sanitarium smooth 375 g</td>\n",
       "      <td>Sanitarium</td>\n",
       "      <td>1385.295648</td>\n",
       "      <td>1293.333333</td>\n",
       "      <td>1520.000000</td>\n",
       "    </tr>\n",
       "    <tr>\n",
       "      <th>12</th>\n",
       "      <td>183059</td>\n",
       "      <td>cacao à tartiner Leader Price Pralina aux nois...</td>\n",
       "      <td>Leader Price</td>\n",
       "      <td>1933.333333</td>\n",
       "      <td>1933.333333</td>\n",
       "      <td>1933.333333</td>\n",
       "    </tr>\n",
       "    <tr>\n",
       "      <th>13</th>\n",
       "      <td>191699</td>\n",
       "      <td>chocolat à tartiner Banania pot 400 g</td>\n",
       "      <td>Banania</td>\n",
       "      <td>2287.500000</td>\n",
       "      <td>2287.500000</td>\n",
       "      <td>2287.500000</td>\n",
       "    </tr>\n",
       "    <tr>\n",
       "      <th>16</th>\n",
       "      <td>232474</td>\n",
       "      <td>chocolat à tartiner Casino Délices aux noisett...</td>\n",
       "      <td>Casino</td>\n",
       "      <td>3793.119266</td>\n",
       "      <td>3750.000000</td>\n",
       "      <td>3850.000000</td>\n",
       "    </tr>\n",
       "    <tr>\n",
       "      <th>17</th>\n",
       "      <td>245881</td>\n",
       "      <td>chocolat à tartiner Milka noisette/cacao pot 3...</td>\n",
       "      <td>Milka</td>\n",
       "      <td>3384.328358</td>\n",
       "      <td>1617.647059</td>\n",
       "      <td>3676.470588</td>\n",
       "    </tr>\n",
       "    <tr>\n",
       "      <th>3</th>\n",
       "      <td>46241</td>\n",
       "      <td>chocolat à tartiner Noisety pot 240 g</td>\n",
       "      <td>Biscochoc</td>\n",
       "      <td>2170.736755</td>\n",
       "      <td>1166.666667</td>\n",
       "      <td>3000.000000</td>\n",
       "    </tr>\n",
       "    <tr>\n",
       "      <th>2</th>\n",
       "      <td>46240</td>\n",
       "      <td>chocolat à tartiner Noisety pot 400 g</td>\n",
       "      <td>Biscochoc</td>\n",
       "      <td>1634.217016</td>\n",
       "      <td>1375.000000</td>\n",
       "      <td>2125.000000</td>\n",
       "    </tr>\n",
       "    <tr>\n",
       "      <th>0</th>\n",
       "      <td>46238</td>\n",
       "      <td>chocolat à tartiner Noisety pot 750 g</td>\n",
       "      <td>Biscochoc</td>\n",
       "      <td>1348.719232</td>\n",
       "      <td>1040.000000</td>\n",
       "      <td>2060.000000</td>\n",
       "    </tr>\n",
       "    <tr>\n",
       "      <th>1</th>\n",
       "      <td>46239</td>\n",
       "      <td>chocolat à tartiner Noisety premium pot 240 g</td>\n",
       "      <td>Biscochoc</td>\n",
       "      <td>2500.000000</td>\n",
       "      <td>2500.000000</td>\n",
       "      <td>2500.000000</td>\n",
       "    </tr>\n",
       "    <tr>\n",
       "      <th>11</th>\n",
       "      <td>175751</td>\n",
       "      <td>chocolat à tartiner Nutella pot 1 kg</td>\n",
       "      <td>Nutella</td>\n",
       "      <td>2351.837607</td>\n",
       "      <td>1895.000000</td>\n",
       "      <td>2605.000000</td>\n",
       "    </tr>\n",
       "    <tr>\n",
       "      <th>7</th>\n",
       "      <td>138632</td>\n",
       "      <td>chocolat à tartiner Nutella pot 200 g</td>\n",
       "      <td>Nutella</td>\n",
       "      <td>3769.926174</td>\n",
       "      <td>2485.000000</td>\n",
       "      <td>4975.000000</td>\n",
       "    </tr>\n",
       "    <tr>\n",
       "      <th>5</th>\n",
       "      <td>49038</td>\n",
       "      <td>chocolat à tartiner Nutella pot 350 g</td>\n",
       "      <td>Nutella</td>\n",
       "      <td>2785.489937</td>\n",
       "      <td>2271.428571</td>\n",
       "      <td>3971.428571</td>\n",
       "    </tr>\n",
       "    <tr>\n",
       "      <th>8</th>\n",
       "      <td>138635</td>\n",
       "      <td>chocolat à tartiner Nutella pot 750 g</td>\n",
       "      <td>Nutella</td>\n",
       "      <td>2748.115205</td>\n",
       "      <td>1733.333333</td>\n",
       "      <td>3593.333333</td>\n",
       "    </tr>\n",
       "    <tr>\n",
       "      <th>19</th>\n",
       "      <td>246841</td>\n",
       "      <td>pâte à tartiner Auchan Pouce cacao/noisette bo...</td>\n",
       "      <td>Auchan Pouce</td>\n",
       "      <td>1860.000000</td>\n",
       "      <td>1860.000000</td>\n",
       "      <td>1860.000000</td>\n",
       "    </tr>\n",
       "    <tr>\n",
       "      <th>18</th>\n",
       "      <td>246839</td>\n",
       "      <td>pâte à tartiner Auchan pasta cao noisette/caca...</td>\n",
       "      <td>Auchan</td>\n",
       "      <td>2237.500000</td>\n",
       "      <td>2237.500000</td>\n",
       "      <td>2237.500000</td>\n",
       "    </tr>\n",
       "    <tr>\n",
       "      <th>14</th>\n",
       "      <td>200957</td>\n",
       "      <td>spéculoos à tartiner Casino pot 380 g</td>\n",
       "      <td>Casino</td>\n",
       "      <td>1210.526316</td>\n",
       "      <td>1184.210526</td>\n",
       "      <td>1236.842105</td>\n",
       "    </tr>\n",
       "  </tbody>\n",
       "</table>\n",
       "</div>"
      ],
      "text/plain": [
       "    CODE_PRODUIT                                                NOM  \\\n",
       "6         136102          beurre de cacahuète Best creamy pot 340 g   \n",
       "15        207557         beurre de cacahuète Best crunchy pot 340 g   \n",
       "4          46247         beurre de cacahuète Crown chunky pot 340 g   \n",
       "9         138680  beurre de cacahuètes Sanitarium peanut butter ...   \n",
       "10        138691       beurre de cacahuètes Sanitarium smooth 375 g   \n",
       "12        183059  cacao à tartiner Leader Price Pralina aux nois...   \n",
       "13        191699              chocolat à tartiner Banania pot 400 g   \n",
       "16        232474  chocolat à tartiner Casino Délices aux noisett...   \n",
       "17        245881  chocolat à tartiner Milka noisette/cacao pot 3...   \n",
       "3          46241              chocolat à tartiner Noisety pot 240 g   \n",
       "2          46240              chocolat à tartiner Noisety pot 400 g   \n",
       "0          46238              chocolat à tartiner Noisety pot 750 g   \n",
       "1          46239      chocolat à tartiner Noisety premium pot 240 g   \n",
       "11        175751               chocolat à tartiner Nutella pot 1 kg   \n",
       "7         138632              chocolat à tartiner Nutella pot 200 g   \n",
       "5          49038              chocolat à tartiner Nutella pot 350 g   \n",
       "8         138635              chocolat à tartiner Nutella pot 750 g   \n",
       "19        246841  pâte à tartiner Auchan Pouce cacao/noisette bo...   \n",
       "18        246839  pâte à tartiner Auchan pasta cao noisette/caca...   \n",
       "14        200957              spéculoos à tartiner Casino pot 380 g   \n",
       "\n",
       "          MARQUE   mean_price    min_price    max_price  \n",
       "6           Best  1497.840655   911.764706  1823.529412  \n",
       "15          Best  1288.123402   911.764706  1588.235294  \n",
       "4          Crown  1286.155818  1058.823529  1676.470588  \n",
       "9     Sanitarium  1382.115942  1288.000000  1520.000000  \n",
       "10    Sanitarium  1385.295648  1293.333333  1520.000000  \n",
       "12  Leader Price  1933.333333  1933.333333  1933.333333  \n",
       "13       Banania  2287.500000  2287.500000  2287.500000  \n",
       "16        Casino  3793.119266  3750.000000  3850.000000  \n",
       "17         Milka  3384.328358  1617.647059  3676.470588  \n",
       "3      Biscochoc  2170.736755  1166.666667  3000.000000  \n",
       "2      Biscochoc  1634.217016  1375.000000  2125.000000  \n",
       "0      Biscochoc  1348.719232  1040.000000  2060.000000  \n",
       "1      Biscochoc  2500.000000  2500.000000  2500.000000  \n",
       "11       Nutella  2351.837607  1895.000000  2605.000000  \n",
       "7        Nutella  3769.926174  2485.000000  4975.000000  \n",
       "5        Nutella  2785.489937  2271.428571  3971.428571  \n",
       "8        Nutella  2748.115205  1733.333333  3593.333333  \n",
       "19  Auchan Pouce  1860.000000  1860.000000  1860.000000  \n",
       "18        Auchan  2237.500000  2237.500000  2237.500000  \n",
       "14        Casino  1210.526316  1184.210526  1236.842105  "
      ]
     },
     "execution_count": 32,
     "metadata": {},
     "output_type": "execute_result"
    }
   ],
   "source": [
    "df_test = df[df[\"SOUS_FAMILLE\"]==LISTE_DE_COURSES[1]].groupby([\"CODE_PRODUIT\", \"NOM\", \"MARQUE\"], as_index=False).agg(mean_price = pd.NamedAgg(\"DERNIER_PRIX_UNITAIRE\", \"mean\"), min_price = pd.NamedAgg(\"DERNIER_PRIX_UNITAIRE\", \"min\"), max_price = pd.NamedAgg(\"DERNIER_PRIX_UNITAIRE\", \"max\")).sort_values(\"NOM\")\n",
    "df_test"
   ]
  },
  {
   "cell_type": "code",
   "execution_count": 41,
   "metadata": {},
   "outputs": [
    {
     "data": {
      "application/vnd.plotly.v1+json": {
       "config": {
        "plotlyServerURL": "https://plot.ly"
       },
       "data": [
        {
         "alignmentgroup": "True",
         "bingroup": "x",
         "histfunc": "sum",
         "hovertemplate": "NOM=%{x}<br>sum of min_price=%{y}<extra></extra>",
         "legendgroup": "",
         "marker": {
          "color": "#636efa",
          "pattern": {
           "shape": ""
          }
         },
         "name": "",
         "offsetgroup": "",
         "orientation": "v",
         "showlegend": false,
         "type": "histogram",
         "x": [
          "beurre de cacahuète Best creamy pot 340 g",
          "beurre de cacahuète Best crunchy pot 340 g",
          "beurre de cacahuète Crown chunky pot 340 g",
          "beurre de cacahuètes Sanitarium peanut butter crunchy pot 375 g",
          "beurre de cacahuètes Sanitarium smooth 375 g",
          "cacao à tartiner Leader Price Pralina aux noisettes bocal 750 g",
          "chocolat à tartiner Banania pot 400 g",
          "chocolat à tartiner Casino Délices aux noisettes bocal 200 g",
          "chocolat à tartiner Milka noisette/cacao pot 340 g",
          "chocolat à tartiner Noisety pot 240 g",
          "chocolat à tartiner Noisety pot 400 g",
          "chocolat à tartiner Noisety pot 750 g",
          "chocolat à tartiner Noisety premium pot 240 g",
          "chocolat à tartiner Nutella pot 1 kg",
          "chocolat à tartiner Nutella pot 200 g",
          "chocolat à tartiner Nutella pot 350 g",
          "chocolat à tartiner Nutella pot 750 g",
          "pâte à tartiner Auchan Pouce cacao/noisette bocal 750 g",
          "pâte à tartiner Auchan pasta cao noisette/cacao bocal 400 g",
          "spéculoos à tartiner Casino pot 380 g"
         ],
         "xaxis": "x",
         "y": [
          911.7647058823529,
          911.7647058823529,
          1058.8235294117646,
          1288,
          1293.3333333333333,
          1933.3333333333333,
          2287.5,
          3750,
          1617.6470588235293,
          1166.6666666666667,
          1375,
          1040,
          2500,
          1895,
          2485,
          2271.4285714285716,
          1733.3333333333333,
          1860,
          2237.5,
          1184.2105263157894
         ],
         "yaxis": "y"
        }
       ],
       "layout": {
        "barmode": "group",
        "height": 400,
        "legend": {
         "tracegroupgap": 0
        },
        "margin": {
         "t": 60
        },
        "template": {
         "data": {
          "bar": [
           {
            "error_x": {
             "color": "#2a3f5f"
            },
            "error_y": {
             "color": "#2a3f5f"
            },
            "marker": {
             "line": {
              "color": "#E5ECF6",
              "width": 0.5
             },
             "pattern": {
              "fillmode": "overlay",
              "size": 10,
              "solidity": 0.2
             }
            },
            "type": "bar"
           }
          ],
          "barpolar": [
           {
            "marker": {
             "line": {
              "color": "#E5ECF6",
              "width": 0.5
             },
             "pattern": {
              "fillmode": "overlay",
              "size": 10,
              "solidity": 0.2
             }
            },
            "type": "barpolar"
           }
          ],
          "carpet": [
           {
            "aaxis": {
             "endlinecolor": "#2a3f5f",
             "gridcolor": "white",
             "linecolor": "white",
             "minorgridcolor": "white",
             "startlinecolor": "#2a3f5f"
            },
            "baxis": {
             "endlinecolor": "#2a3f5f",
             "gridcolor": "white",
             "linecolor": "white",
             "minorgridcolor": "white",
             "startlinecolor": "#2a3f5f"
            },
            "type": "carpet"
           }
          ],
          "choropleth": [
           {
            "colorbar": {
             "outlinewidth": 0,
             "ticks": ""
            },
            "type": "choropleth"
           }
          ],
          "contour": [
           {
            "colorbar": {
             "outlinewidth": 0,
             "ticks": ""
            },
            "colorscale": [
             [
              0,
              "#0d0887"
             ],
             [
              0.1111111111111111,
              "#46039f"
             ],
             [
              0.2222222222222222,
              "#7201a8"
             ],
             [
              0.3333333333333333,
              "#9c179e"
             ],
             [
              0.4444444444444444,
              "#bd3786"
             ],
             [
              0.5555555555555556,
              "#d8576b"
             ],
             [
              0.6666666666666666,
              "#ed7953"
             ],
             [
              0.7777777777777778,
              "#fb9f3a"
             ],
             [
              0.8888888888888888,
              "#fdca26"
             ],
             [
              1,
              "#f0f921"
             ]
            ],
            "type": "contour"
           }
          ],
          "contourcarpet": [
           {
            "colorbar": {
             "outlinewidth": 0,
             "ticks": ""
            },
            "type": "contourcarpet"
           }
          ],
          "heatmap": [
           {
            "colorbar": {
             "outlinewidth": 0,
             "ticks": ""
            },
            "colorscale": [
             [
              0,
              "#0d0887"
             ],
             [
              0.1111111111111111,
              "#46039f"
             ],
             [
              0.2222222222222222,
              "#7201a8"
             ],
             [
              0.3333333333333333,
              "#9c179e"
             ],
             [
              0.4444444444444444,
              "#bd3786"
             ],
             [
              0.5555555555555556,
              "#d8576b"
             ],
             [
              0.6666666666666666,
              "#ed7953"
             ],
             [
              0.7777777777777778,
              "#fb9f3a"
             ],
             [
              0.8888888888888888,
              "#fdca26"
             ],
             [
              1,
              "#f0f921"
             ]
            ],
            "type": "heatmap"
           }
          ],
          "heatmapgl": [
           {
            "colorbar": {
             "outlinewidth": 0,
             "ticks": ""
            },
            "colorscale": [
             [
              0,
              "#0d0887"
             ],
             [
              0.1111111111111111,
              "#46039f"
             ],
             [
              0.2222222222222222,
              "#7201a8"
             ],
             [
              0.3333333333333333,
              "#9c179e"
             ],
             [
              0.4444444444444444,
              "#bd3786"
             ],
             [
              0.5555555555555556,
              "#d8576b"
             ],
             [
              0.6666666666666666,
              "#ed7953"
             ],
             [
              0.7777777777777778,
              "#fb9f3a"
             ],
             [
              0.8888888888888888,
              "#fdca26"
             ],
             [
              1,
              "#f0f921"
             ]
            ],
            "type": "heatmapgl"
           }
          ],
          "histogram": [
           {
            "marker": {
             "pattern": {
              "fillmode": "overlay",
              "size": 10,
              "solidity": 0.2
             }
            },
            "type": "histogram"
           }
          ],
          "histogram2d": [
           {
            "colorbar": {
             "outlinewidth": 0,
             "ticks": ""
            },
            "colorscale": [
             [
              0,
              "#0d0887"
             ],
             [
              0.1111111111111111,
              "#46039f"
             ],
             [
              0.2222222222222222,
              "#7201a8"
             ],
             [
              0.3333333333333333,
              "#9c179e"
             ],
             [
              0.4444444444444444,
              "#bd3786"
             ],
             [
              0.5555555555555556,
              "#d8576b"
             ],
             [
              0.6666666666666666,
              "#ed7953"
             ],
             [
              0.7777777777777778,
              "#fb9f3a"
             ],
             [
              0.8888888888888888,
              "#fdca26"
             ],
             [
              1,
              "#f0f921"
             ]
            ],
            "type": "histogram2d"
           }
          ],
          "histogram2dcontour": [
           {
            "colorbar": {
             "outlinewidth": 0,
             "ticks": ""
            },
            "colorscale": [
             [
              0,
              "#0d0887"
             ],
             [
              0.1111111111111111,
              "#46039f"
             ],
             [
              0.2222222222222222,
              "#7201a8"
             ],
             [
              0.3333333333333333,
              "#9c179e"
             ],
             [
              0.4444444444444444,
              "#bd3786"
             ],
             [
              0.5555555555555556,
              "#d8576b"
             ],
             [
              0.6666666666666666,
              "#ed7953"
             ],
             [
              0.7777777777777778,
              "#fb9f3a"
             ],
             [
              0.8888888888888888,
              "#fdca26"
             ],
             [
              1,
              "#f0f921"
             ]
            ],
            "type": "histogram2dcontour"
           }
          ],
          "mesh3d": [
           {
            "colorbar": {
             "outlinewidth": 0,
             "ticks": ""
            },
            "type": "mesh3d"
           }
          ],
          "parcoords": [
           {
            "line": {
             "colorbar": {
              "outlinewidth": 0,
              "ticks": ""
             }
            },
            "type": "parcoords"
           }
          ],
          "pie": [
           {
            "automargin": true,
            "type": "pie"
           }
          ],
          "scatter": [
           {
            "fillpattern": {
             "fillmode": "overlay",
             "size": 10,
             "solidity": 0.2
            },
            "type": "scatter"
           }
          ],
          "scatter3d": [
           {
            "line": {
             "colorbar": {
              "outlinewidth": 0,
              "ticks": ""
             }
            },
            "marker": {
             "colorbar": {
              "outlinewidth": 0,
              "ticks": ""
             }
            },
            "type": "scatter3d"
           }
          ],
          "scattercarpet": [
           {
            "marker": {
             "colorbar": {
              "outlinewidth": 0,
              "ticks": ""
             }
            },
            "type": "scattercarpet"
           }
          ],
          "scattergeo": [
           {
            "marker": {
             "colorbar": {
              "outlinewidth": 0,
              "ticks": ""
             }
            },
            "type": "scattergeo"
           }
          ],
          "scattergl": [
           {
            "marker": {
             "colorbar": {
              "outlinewidth": 0,
              "ticks": ""
             }
            },
            "type": "scattergl"
           }
          ],
          "scattermapbox": [
           {
            "marker": {
             "colorbar": {
              "outlinewidth": 0,
              "ticks": ""
             }
            },
            "type": "scattermapbox"
           }
          ],
          "scatterpolar": [
           {
            "marker": {
             "colorbar": {
              "outlinewidth": 0,
              "ticks": ""
             }
            },
            "type": "scatterpolar"
           }
          ],
          "scatterpolargl": [
           {
            "marker": {
             "colorbar": {
              "outlinewidth": 0,
              "ticks": ""
             }
            },
            "type": "scatterpolargl"
           }
          ],
          "scatterternary": [
           {
            "marker": {
             "colorbar": {
              "outlinewidth": 0,
              "ticks": ""
             }
            },
            "type": "scatterternary"
           }
          ],
          "surface": [
           {
            "colorbar": {
             "outlinewidth": 0,
             "ticks": ""
            },
            "colorscale": [
             [
              0,
              "#0d0887"
             ],
             [
              0.1111111111111111,
              "#46039f"
             ],
             [
              0.2222222222222222,
              "#7201a8"
             ],
             [
              0.3333333333333333,
              "#9c179e"
             ],
             [
              0.4444444444444444,
              "#bd3786"
             ],
             [
              0.5555555555555556,
              "#d8576b"
             ],
             [
              0.6666666666666666,
              "#ed7953"
             ],
             [
              0.7777777777777778,
              "#fb9f3a"
             ],
             [
              0.8888888888888888,
              "#fdca26"
             ],
             [
              1,
              "#f0f921"
             ]
            ],
            "type": "surface"
           }
          ],
          "table": [
           {
            "cells": {
             "fill": {
              "color": "#EBF0F8"
             },
             "line": {
              "color": "white"
             }
            },
            "header": {
             "fill": {
              "color": "#C8D4E3"
             },
             "line": {
              "color": "white"
             }
            },
            "type": "table"
           }
          ]
         },
         "layout": {
          "annotationdefaults": {
           "arrowcolor": "#2a3f5f",
           "arrowhead": 0,
           "arrowwidth": 1
          },
          "autotypenumbers": "strict",
          "coloraxis": {
           "colorbar": {
            "outlinewidth": 0,
            "ticks": ""
           }
          },
          "colorscale": {
           "diverging": [
            [
             0,
             "#8e0152"
            ],
            [
             0.1,
             "#c51b7d"
            ],
            [
             0.2,
             "#de77ae"
            ],
            [
             0.3,
             "#f1b6da"
            ],
            [
             0.4,
             "#fde0ef"
            ],
            [
             0.5,
             "#f7f7f7"
            ],
            [
             0.6,
             "#e6f5d0"
            ],
            [
             0.7,
             "#b8e186"
            ],
            [
             0.8,
             "#7fbc41"
            ],
            [
             0.9,
             "#4d9221"
            ],
            [
             1,
             "#276419"
            ]
           ],
           "sequential": [
            [
             0,
             "#0d0887"
            ],
            [
             0.1111111111111111,
             "#46039f"
            ],
            [
             0.2222222222222222,
             "#7201a8"
            ],
            [
             0.3333333333333333,
             "#9c179e"
            ],
            [
             0.4444444444444444,
             "#bd3786"
            ],
            [
             0.5555555555555556,
             "#d8576b"
            ],
            [
             0.6666666666666666,
             "#ed7953"
            ],
            [
             0.7777777777777778,
             "#fb9f3a"
            ],
            [
             0.8888888888888888,
             "#fdca26"
            ],
            [
             1,
             "#f0f921"
            ]
           ],
           "sequentialminus": [
            [
             0,
             "#0d0887"
            ],
            [
             0.1111111111111111,
             "#46039f"
            ],
            [
             0.2222222222222222,
             "#7201a8"
            ],
            [
             0.3333333333333333,
             "#9c179e"
            ],
            [
             0.4444444444444444,
             "#bd3786"
            ],
            [
             0.5555555555555556,
             "#d8576b"
            ],
            [
             0.6666666666666666,
             "#ed7953"
            ],
            [
             0.7777777777777778,
             "#fb9f3a"
            ],
            [
             0.8888888888888888,
             "#fdca26"
            ],
            [
             1,
             "#f0f921"
            ]
           ]
          },
          "colorway": [
           "#636efa",
           "#EF553B",
           "#00cc96",
           "#ab63fa",
           "#FFA15A",
           "#19d3f3",
           "#FF6692",
           "#B6E880",
           "#FF97FF",
           "#FECB52"
          ],
          "font": {
           "color": "#2a3f5f"
          },
          "geo": {
           "bgcolor": "white",
           "lakecolor": "white",
           "landcolor": "#E5ECF6",
           "showlakes": true,
           "showland": true,
           "subunitcolor": "white"
          },
          "hoverlabel": {
           "align": "left"
          },
          "hovermode": "closest",
          "mapbox": {
           "style": "light"
          },
          "paper_bgcolor": "white",
          "plot_bgcolor": "#E5ECF6",
          "polar": {
           "angularaxis": {
            "gridcolor": "white",
            "linecolor": "white",
            "ticks": ""
           },
           "bgcolor": "#E5ECF6",
           "radialaxis": {
            "gridcolor": "white",
            "linecolor": "white",
            "ticks": ""
           }
          },
          "scene": {
           "xaxis": {
            "backgroundcolor": "#E5ECF6",
            "gridcolor": "white",
            "gridwidth": 2,
            "linecolor": "white",
            "showbackground": true,
            "ticks": "",
            "zerolinecolor": "white"
           },
           "yaxis": {
            "backgroundcolor": "#E5ECF6",
            "gridcolor": "white",
            "gridwidth": 2,
            "linecolor": "white",
            "showbackground": true,
            "ticks": "",
            "zerolinecolor": "white"
           },
           "zaxis": {
            "backgroundcolor": "#E5ECF6",
            "gridcolor": "white",
            "gridwidth": 2,
            "linecolor": "white",
            "showbackground": true,
            "ticks": "",
            "zerolinecolor": "white"
           }
          },
          "shapedefaults": {
           "line": {
            "color": "#2a3f5f"
           }
          },
          "ternary": {
           "aaxis": {
            "gridcolor": "white",
            "linecolor": "white",
            "ticks": ""
           },
           "baxis": {
            "gridcolor": "white",
            "linecolor": "white",
            "ticks": ""
           },
           "bgcolor": "#E5ECF6",
           "caxis": {
            "gridcolor": "white",
            "linecolor": "white",
            "ticks": ""
           }
          },
          "title": {
           "x": 0.05
          },
          "xaxis": {
           "automargin": true,
           "gridcolor": "white",
           "linecolor": "white",
           "ticks": "",
           "title": {
            "standoff": 15
           },
           "zerolinecolor": "white",
           "zerolinewidth": 2
          },
          "yaxis": {
           "automargin": true,
           "gridcolor": "white",
           "linecolor": "white",
           "ticks": "",
           "title": {
            "standoff": 15
           },
           "zerolinecolor": "white",
           "zerolinewidth": 2
          }
         }
        },
        "xaxis": {
         "anchor": "y",
         "domain": [
          0,
          1
         ],
         "title": {
          "text": "NOM"
         }
        },
        "yaxis": {
         "anchor": "x",
         "domain": [
          0,
          1
         ],
         "title": {
          "text": "sum of min_price"
         }
        }
       }
      }
     },
     "metadata": {},
     "output_type": "display_data"
    }
   ],
   "source": [
    "import plotly.express as px\n",
    "\n",
    "fig = px.histogram(df_test, x=\"NOM\", y=\"min_price\",\n",
    "             barmode='group',\n",
    "             height=400)\n",
    "fig.show()"
   ]
  },
  {
   "cell_type": "code",
   "execution_count": 40,
   "metadata": {},
   "outputs": [
    {
     "data": {
      "text/html": [
       "<div>\n",
       "<style scoped>\n",
       "    .dataframe tbody tr th:only-of-type {\n",
       "        vertical-align: middle;\n",
       "    }\n",
       "\n",
       "    .dataframe tbody tr th {\n",
       "        vertical-align: top;\n",
       "    }\n",
       "\n",
       "    .dataframe thead th {\n",
       "        text-align: right;\n",
       "    }\n",
       "</style>\n",
       "<table border=\"1\" class=\"dataframe\">\n",
       "  <thead>\n",
       "    <tr style=\"text-align: right;\">\n",
       "      <th></th>\n",
       "      <th>RAISON_SOCIALE</th>\n",
       "      <th>COMMUNE</th>\n",
       "      <th>PRIX_UNITAIRE</th>\n",
       "      <th>PROMOTION</th>\n",
       "    </tr>\n",
       "  </thead>\n",
       "  <tbody>\n",
       "    <tr>\n",
       "      <th>697417</th>\n",
       "      <td>FANAO</td>\n",
       "      <td>Nouméa</td>\n",
       "      <td>1733.333333</td>\n",
       "      <td>0</td>\n",
       "    </tr>\n",
       "    <tr>\n",
       "      <th>744157</th>\n",
       "      <td>CASINO PORT PLAISANCE - SUPERMARCHE</td>\n",
       "      <td>Nouméa</td>\n",
       "      <td>1726.666667</td>\n",
       "      <td>1</td>\n",
       "    </tr>\n",
       "    <tr>\n",
       "      <th>744175</th>\n",
       "      <td>VIVAL KOUTIO</td>\n",
       "      <td>Dumbéa</td>\n",
       "      <td>1726.666667</td>\n",
       "      <td>1</td>\n",
       "    </tr>\n",
       "    <tr>\n",
       "      <th>3130976</th>\n",
       "      <td>CASINO LES HALLES MAGENTA</td>\n",
       "      <td>Nouméa</td>\n",
       "      <td>1726.666667</td>\n",
       "      <td>1</td>\n",
       "    </tr>\n",
       "    <tr>\n",
       "      <th>3131056</th>\n",
       "      <td>CASINO PORT PLAISANCE - SUPERMARCHE</td>\n",
       "      <td>Nouméa</td>\n",
       "      <td>1726.666667</td>\n",
       "      <td>1</td>\n",
       "    </tr>\n",
       "    <tr>\n",
       "      <th>3131136</th>\n",
       "      <td>VIVAL KOUTIO</td>\n",
       "      <td>Dumbéa</td>\n",
       "      <td>1726.666667</td>\n",
       "      <td>1</td>\n",
       "    </tr>\n",
       "    <tr>\n",
       "      <th>3574160</th>\n",
       "      <td>GEANT DUMBEA - CENTRE COMMERCIAL DUMBEA MALL</td>\n",
       "      <td>Dumbéa</td>\n",
       "      <td>1726.666667</td>\n",
       "      <td>1</td>\n",
       "    </tr>\n",
       "    <tr>\n",
       "      <th>3574194</th>\n",
       "      <td>CASINO LES HALLES MAGENTA</td>\n",
       "      <td>Nouméa</td>\n",
       "      <td>1726.666667</td>\n",
       "      <td>1</td>\n",
       "    </tr>\n",
       "    <tr>\n",
       "      <th>3574236</th>\n",
       "      <td>GEANT SAINTE-MARIE</td>\n",
       "      <td>Nouméa</td>\n",
       "      <td>1726.666667</td>\n",
       "      <td>1</td>\n",
       "    </tr>\n",
       "    <tr>\n",
       "      <th>3574332</th>\n",
       "      <td>GEANT DUMBEA - CENTRE COMMERCIAL DUMBEA MALL</td>\n",
       "      <td>Dumbéa</td>\n",
       "      <td>1726.666667</td>\n",
       "      <td>1</td>\n",
       "    </tr>\n",
       "    <tr>\n",
       "      <th>3574450</th>\n",
       "      <td>GEANT SAINTE-MARIE</td>\n",
       "      <td>Nouméa</td>\n",
       "      <td>1726.666667</td>\n",
       "      <td>1</td>\n",
       "    </tr>\n",
       "  </tbody>\n",
       "</table>\n",
       "</div>"
      ],
      "text/plain": [
       "                                       RAISON_SOCIALE COMMUNE  PRIX_UNITAIRE  \\\n",
       "697417                                          FANAO  Nouméa    1733.333333   \n",
       "744157            CASINO PORT PLAISANCE - SUPERMARCHE  Nouméa    1726.666667   \n",
       "744175                                   VIVAL KOUTIO  Dumbéa    1726.666667   \n",
       "3130976                     CASINO LES HALLES MAGENTA  Nouméa    1726.666667   \n",
       "3131056           CASINO PORT PLAISANCE - SUPERMARCHE  Nouméa    1726.666667   \n",
       "3131136                                  VIVAL KOUTIO  Dumbéa    1726.666667   \n",
       "3574160  GEANT DUMBEA - CENTRE COMMERCIAL DUMBEA MALL  Dumbéa    1726.666667   \n",
       "3574194                     CASINO LES HALLES MAGENTA  Nouméa    1726.666667   \n",
       "3574236                            GEANT SAINTE-MARIE  Nouméa    1726.666667   \n",
       "3574332  GEANT DUMBEA - CENTRE COMMERCIAL DUMBEA MALL  Dumbéa    1726.666667   \n",
       "3574450                            GEANT SAINTE-MARIE  Nouméa    1726.666667   \n",
       "\n",
       "         PROMOTION  \n",
       "697417           0  \n",
       "744157           1  \n",
       "744175           1  \n",
       "3130976          1  \n",
       "3131056          1  \n",
       "3131136          1  \n",
       "3574160          1  \n",
       "3574194          1  \n",
       "3574236          1  \n",
       "3574332          1  \n",
       "3574450          1  "
      ]
     },
     "execution_count": 40,
     "metadata": {},
     "output_type": "execute_result"
    }
   ],
   "source": [
    "df[(df[\"CODE_PRODUIT\"]==138635) & (df[\"PRIX_UNITAIRE\"]<1735)][[\"RAISON_SOCIALE\", \"COMMUNE\", \"PRIX_UNITAIRE\", \"PROMOTION\"]]"
   ]
  },
  {
   "cell_type": "code",
   "execution_count": 7,
   "metadata": {},
   "outputs": [
    {
     "name": "stdout",
     "output_type": "stream",
     "text": [
      "['SHELL PACIFIQUE PETROLEUM' 'SUPER U MAGECO' 'GEANT SAINTE-MARIE'\n",
      " 'DISCOUNT TRIANON' 'MINI MARCHE' 'STATION SHELL VICTOIRE'\n",
      " 'LIBRE SERVICE LE PACIFIQUE' 'MAGASIN G. CREUGNET' 'LA HUCHE'\n",
      " 'SUPERETTE 68' 'CARREFOUR KENU IN' 'CASINO PORT PLAISANCE - SUPERMARCHE'\n",
      " 'TA & TY' 'AH YEN' 'LIBRE SERVICE SAINT MICHEL' 'DAINA'\n",
      " 'LIBRE SERVICE DE PLUM' 'CHEZ ALICE' 'CASINO LES HALLES MAGENTA'\n",
      " 'VIVAL KOUTIO' 'STATION SHELL PAITA' 'AGRICAL' 'SUPER U KOUMAC'\n",
      " 'STATION TOTAL ROBINSON' 'JOHNSTON' 'AUCHAN SUPERMARCHE TONTOUTA'\n",
      " \"COTE D'ASIE\" 'LA COTE' 'GOLF WABAO' 'CASINO MONT DORE'\n",
      " 'ETABLISSEMENTS ROES' 'LIBRE SERVICE TOMO' 'SUPER IAORA'\n",
      " 'CARREFOUR MARKET ALMA (ANCIEN CHAMPION)' 'CARREFOUR MARKET DUCOS'\n",
      " \"CARREFOUR MARKET N'GEA\" 'CARREFOUR MARKET ROBINSON'\n",
      " 'CARREFOUR MARKET MAGENTA' 'CARREFOUR MARKET Orphelinat' 'MAXI MARKET'\n",
      " 'STATION SHELL LA FOA' 'LEADER PRICE MAGENTA'\n",
      " 'GEANT DUMBEA - CENTRE COMMERCIAL DUMBEA MALL'\n",
      " 'LEADER PRICE PLEXUS (DUCOS)' 'FEU VERT / 218 m2' 'MAGENTA DISCOUNT'\n",
      " 'LEADER PRICE AUTEUIL' 'SUPER U RIVIERE SALEE' 'LEADER PRICE LA FOA'\n",
      " 'LEADER PRICE BOURAIL' 'STATION TOTAL ANSE VATA' 'CHEZ EMILIE'\n",
      " 'ALIMENTATION LES VERTS COTEAUX' 'BOURAIL DISCOUNT' 'DISCOUNT PLUS'\n",
      " 'STATION SHELL LES GEMEAUX' 'LIBRE SERVICE ALIMENTATION CHUVAN NORMANDIE'\n",
      " 'KORAIL LIFOU' 'POINDIMIE DISCOUNT' 'STATION TOTAL CHEZ DANY'\n",
      " 'SUPER U KAMERE' 'SP TOP STORE' 'STATION SHELL DUCOS' 'KOUMAC DISCOUNT'\n",
      " 'STATION MOBIL MOSELLE' 'KONE DISCOUNT' 'DISCOUNT TEARI'\n",
      " 'LEADER PRICE KONE' 'BIKINI' 'MAEVA ALIMENTATION'\n",
      " 'DESTOCK.NC PAÏTA (LE DOCK DU SURGELE)'\n",
      " 'AUCHAN KONE (ancien U EXPRESS KONE (LE CENTRE))'\n",
      " 'CARREFOUR EXPRESS SIB DUCOS' 'CARREFOUR EXPRESS NAKUTAKOIN'\n",
      " 'ARIZONA ROBINSON' 'CARREFOUR EXPRESS OUEMO'\n",
      " 'CARREFOUR EXPRESS PAITA (ancien ARIZONA PAITA)' 'ARIZONA MONT-DORE'\n",
      " 'AUCHAN SUPERMARCHE NOUMEA' 'ROTI'\n",
      " 'LES PRIMEURS DU CAILLOU DUCOS (ex VIVAL)' 'STATION TOTAL DUCOS'\n",
      " 'STATION MOBIL PONT DES FRANCAIS' 'LIBRE SERVICE VAL PLAISANCE'\n",
      " 'LE PETIT DUMBEA' 'CITY MARKET / ECO MARCHE' 'AUCHAN - BEST SUPERMARKET'\n",
      " 'AU BON ACCUEIL' 'FANAO' 'KORAIL MARKET DUMBEA'\n",
      " 'STATION MOBIL MICHEL ANGE' 'STATION SHELL AUTEUIL'\n",
      " 'BOUCHERIE-ALIMENTATION SALIMAN'\n",
      " 'LES PRIMEURS DU CAILLOU PK 7 (MAGASIN PHUNG)' 'STATION SHELL ANSE VATA'\n",
      " 'CHEZ VIVI (ex CHEZ NOUNA)' 'STATION SHELL CAPY' 'KORAIL PAITA'\n",
      " 'SISSI MARKET' 'O SESAME (supérette Iekawe)' 'MAGASIN ETE'\n",
      " 'STATION SHELL TINA' 'AUCHAN AUTEUIL' 'STATION MOBIL PAITA'\n",
      " 'KORAIL P.D.F' 'LA PLUMETTE' 'LIBRE SERVICE NIKITA' 'VIVAL TINA'\n",
      " 'STATION TOTAL ZAC PANDA' 'STATION TOTAL DUMBEA (RIVIERE)'\n",
      " 'STATION TOTAL ROND POINT' 'STATION MOBIL VDC (VALLEE DES COLONS)'\n",
      " 'LEADER PRICE CONCEPTION' 'STATION MOBIL FAUBOURG'\n",
      " 'STATION MOBIL BELLE VIE' 'AUX SAVEURS DU MONT DORE'\n",
      " 'STATION PACIFIC ENERGY BACO' 'AU BON PRIX' 'KORAIL VALLEE DES COLONS'\n",
      " 'STATION MOBIL DELCO' 'STATION MOBIL DUCOS'\n",
      " \"KORAIL APOGOTI - CENTRE COMMERCIAL LES JARDINS D'APOGOTI\"\n",
      " \"ALIMENTATION GENERALE LE PORTE D'ARGENT\" 'CHEZ RIRI' 'KORAIL DUCOS'\n",
      " 'BLR Shop (ancien KOMAY alimentation)' 'COMPTOIR DU MONT-DORE'\n",
      " 'easy distribution normandie' 'STATION TOTAL SAINTE MARIE'\n",
      " 'MYSHOP SUPERMARCHE' 'CHEZ DAVID' 'ELEUSIS MARKET' 'EXPRESS BOULOUPARIS'\n",
      " 'AUCHAN BELLE VIE' 'STATION MOBIL KOUTIO'\n",
      " 'STATION MOBIL VDE CONCEPTION (ROBINSON)']\n"
     ]
    },
    {
     "data": {
      "text/html": [
       "<div>\n",
       "<style scoped>\n",
       "    .dataframe tbody tr th:only-of-type {\n",
       "        vertical-align: middle;\n",
       "    }\n",
       "\n",
       "    .dataframe tbody tr th {\n",
       "        vertical-align: top;\n",
       "    }\n",
       "\n",
       "    .dataframe thead th {\n",
       "        text-align: right;\n",
       "    }\n",
       "</style>\n",
       "<table border=\"1\" class=\"dataframe\">\n",
       "  <thead>\n",
       "    <tr style=\"text-align: right;\">\n",
       "      <th></th>\n",
       "      <th>CODE_PRODUIT</th>\n",
       "      <th>NOM</th>\n",
       "      <th>SECTEUR_CONSO</th>\n",
       "      <th>SOUS_SECTEUR_CONSO</th>\n",
       "      <th>FAMILLE_PRODUIT</th>\n",
       "      <th>SOUS_FAMILLE</th>\n",
       "      <th>VARIETE</th>\n",
       "      <th>CATEGORIE</th>\n",
       "      <th>DEPARTEMENT</th>\n",
       "      <th>MARQUE</th>\n",
       "      <th>...</th>\n",
       "      <th>NOM_VOIE</th>\n",
       "      <th>COMPLEMENT_ADRESSE</th>\n",
       "      <th>QUARTIER</th>\n",
       "      <th>CODE_POSTAL</th>\n",
       "      <th>COMMUNE</th>\n",
       "      <th>point_geo</th>\n",
       "      <th>PRIX_UNITAIRE</th>\n",
       "      <th>DERNIER_PRIX</th>\n",
       "      <th>DERNIER_PRIX_UNITAIRE</th>\n",
       "      <th>DERNIER_DATE_RELEVE</th>\n",
       "    </tr>\n",
       "  </thead>\n",
       "  <tbody>\n",
       "    <tr>\n",
       "      <th>0</th>\n",
       "      <td>54548</td>\n",
       "      <td>sirop Carrefour pêche bouteille 75 cl</td>\n",
       "      <td>boisson</td>\n",
       "      <td>boisson sans alcool</td>\n",
       "      <td>sirop et concentré</td>\n",
       "      <td>sirop aromatisé</td>\n",
       "      <td>sirop de pêche</td>\n",
       "      <td>IMPORT</td>\n",
       "      <td>Sec</td>\n",
       "      <td>Carrefour</td>\n",
       "      <td>...</td>\n",
       "      <td>NaN</td>\n",
       "      <td>NaN</td>\n",
       "      <td>NaN</td>\n",
       "      <td>NaN</td>\n",
       "      <td>Païta</td>\n",
       "      <td>-22.129734, 166.367278</td>\n",
       "      <td>846.666667</td>\n",
       "      <td>565.0</td>\n",
       "      <td>753.333333</td>\n",
       "      <td>2023-08-16</td>\n",
       "    </tr>\n",
       "    <tr>\n",
       "      <th>1</th>\n",
       "      <td>53350</td>\n",
       "      <td>soda aux fruits Fanta orange bouteille 1.5 l</td>\n",
       "      <td>boisson</td>\n",
       "      <td>boisson sans alcool</td>\n",
       "      <td>soda</td>\n",
       "      <td>soda aux fruits</td>\n",
       "      <td>soda aux fruits</td>\n",
       "      <td>LOCAL</td>\n",
       "      <td>Sec</td>\n",
       "      <td>Fanta</td>\n",
       "      <td>...</td>\n",
       "      <td>NaN</td>\n",
       "      <td>NaN</td>\n",
       "      <td>NaN</td>\n",
       "      <td>NaN</td>\n",
       "      <td>Poindimié</td>\n",
       "      <td>-20.936545, 165.333038</td>\n",
       "      <td>330.000000</td>\n",
       "      <td>495.0</td>\n",
       "      <td>330.000000</td>\n",
       "      <td>2023-08-27</td>\n",
       "    </tr>\n",
       "    <tr>\n",
       "      <th>2</th>\n",
       "      <td>53350</td>\n",
       "      <td>soda aux fruits Fanta orange bouteille 1.5 l</td>\n",
       "      <td>boisson</td>\n",
       "      <td>boisson sans alcool</td>\n",
       "      <td>soda</td>\n",
       "      <td>soda aux fruits</td>\n",
       "      <td>soda aux fruits</td>\n",
       "      <td>LOCAL</td>\n",
       "      <td>Sec</td>\n",
       "      <td>Fanta</td>\n",
       "      <td>...</td>\n",
       "      <td>lot 3 pie section poamboa</td>\n",
       "      <td>NaN</td>\n",
       "      <td>NaN</td>\n",
       "      <td>NaN</td>\n",
       "      <td>Koné</td>\n",
       "      <td>-21.100769, 164.896561</td>\n",
       "      <td>310.000000</td>\n",
       "      <td>475.0</td>\n",
       "      <td>316.666667</td>\n",
       "      <td>2023-08-22</td>\n",
       "    </tr>\n",
       "    <tr>\n",
       "      <th>3</th>\n",
       "      <td>232073</td>\n",
       "      <td>jus de fruits U orange d'Amérique brique 1 l</td>\n",
       "      <td>boisson</td>\n",
       "      <td>boisson sans alcool</td>\n",
       "      <td>jus de fruits et légumes</td>\n",
       "      <td>jus de fruits</td>\n",
       "      <td>jus d'orange, agrume</td>\n",
       "      <td>IMPORT</td>\n",
       "      <td>Sec</td>\n",
       "      <td>U</td>\n",
       "      <td>...</td>\n",
       "      <td>Edmond Harbulot  Lotissement centre Auteuil</td>\n",
       "      <td>NaN</td>\n",
       "      <td>Auteuil</td>\n",
       "      <td>NaN</td>\n",
       "      <td>Dumbéa</td>\n",
       "      <td>-22.21118, 166.4796</td>\n",
       "      <td>295.000000</td>\n",
       "      <td>295.0</td>\n",
       "      <td>295.000000</td>\n",
       "      <td>2023-03-01</td>\n",
       "    </tr>\n",
       "    <tr>\n",
       "      <th>4</th>\n",
       "      <td>53350</td>\n",
       "      <td>soda aux fruits Fanta orange bouteille 1.5 l</td>\n",
       "      <td>boisson</td>\n",
       "      <td>boisson sans alcool</td>\n",
       "      <td>soda</td>\n",
       "      <td>soda aux fruits</td>\n",
       "      <td>soda aux fruits</td>\n",
       "      <td>LOCAL</td>\n",
       "      <td>Sec</td>\n",
       "      <td>Fanta</td>\n",
       "      <td>...</td>\n",
       "      <td>BONAPARTE</td>\n",
       "      <td>NaN</td>\n",
       "      <td>Rivière Salée</td>\n",
       "      <td>NaN</td>\n",
       "      <td>Nouméa</td>\n",
       "      <td>-22.23368, 166.464522</td>\n",
       "      <td>283.333333</td>\n",
       "      <td>425.0</td>\n",
       "      <td>283.333333</td>\n",
       "      <td>2023-08-22</td>\n",
       "    </tr>\n",
       "  </tbody>\n",
       "</table>\n",
       "<p>5 rows × 34 columns</p>\n",
       "</div>"
      ],
      "text/plain": [
       "   CODE_PRODUIT                                           NOM SECTEUR_CONSO  \\\n",
       "0         54548         sirop Carrefour pêche bouteille 75 cl       boisson   \n",
       "1         53350  soda aux fruits Fanta orange bouteille 1.5 l       boisson   \n",
       "2         53350  soda aux fruits Fanta orange bouteille 1.5 l       boisson   \n",
       "3        232073  jus de fruits U orange d'Amérique brique 1 l       boisson   \n",
       "4         53350  soda aux fruits Fanta orange bouteille 1.5 l       boisson   \n",
       "\n",
       "    SOUS_SECTEUR_CONSO           FAMILLE_PRODUIT     SOUS_FAMILLE  \\\n",
       "0  boisson sans alcool        sirop et concentré  sirop aromatisé   \n",
       "1  boisson sans alcool                      soda  soda aux fruits   \n",
       "2  boisson sans alcool                      soda  soda aux fruits   \n",
       "3  boisson sans alcool  jus de fruits et légumes    jus de fruits   \n",
       "4  boisson sans alcool                      soda  soda aux fruits   \n",
       "\n",
       "                VARIETE CATEGORIE DEPARTEMENT     MARQUE  ...  \\\n",
       "0        sirop de pêche    IMPORT         Sec  Carrefour  ...   \n",
       "1       soda aux fruits     LOCAL         Sec      Fanta  ...   \n",
       "2       soda aux fruits     LOCAL         Sec      Fanta  ...   \n",
       "3  jus d'orange, agrume    IMPORT         Sec          U  ...   \n",
       "4       soda aux fruits     LOCAL         Sec      Fanta  ...   \n",
       "\n",
       "                                      NOM_VOIE COMPLEMENT_ADRESSE  \\\n",
       "0                                          NaN                NaN   \n",
       "1                                          NaN                NaN   \n",
       "2                    lot 3 pie section poamboa                NaN   \n",
       "3  Edmond Harbulot  Lotissement centre Auteuil                NaN   \n",
       "4                                    BONAPARTE                NaN   \n",
       "\n",
       "        QUARTIER CODE_POSTAL    COMMUNE               point_geo  \\\n",
       "0            NaN         NaN      Païta  -22.129734, 166.367278   \n",
       "1            NaN         NaN  Poindimié  -20.936545, 165.333038   \n",
       "2            NaN         NaN       Koné  -21.100769, 164.896561   \n",
       "3        Auteuil         NaN     Dumbéa     -22.21118, 166.4796   \n",
       "4  Rivière Salée         NaN     Nouméa   -22.23368, 166.464522   \n",
       "\n",
       "   PRIX_UNITAIRE DERNIER_PRIX DERNIER_PRIX_UNITAIRE DERNIER_DATE_RELEVE  \n",
       "0     846.666667        565.0            753.333333          2023-08-16  \n",
       "1     330.000000        495.0            330.000000          2023-08-27  \n",
       "2     310.000000        475.0            316.666667          2023-08-22  \n",
       "3     295.000000        295.0            295.000000          2023-03-01  \n",
       "4     283.333333        425.0            283.333333          2023-08-22  \n",
       "\n",
       "[5 rows x 34 columns]"
      ]
     },
     "execution_count": 7,
     "metadata": {},
     "output_type": "execute_result"
    }
   ],
   "source": [
    "df_test = df[df[\"SOUS_FAMILLE\"]==LISTE_DE_COURSES[0]].groupby([\"RIDET\", \"RAISON_SOCIALE\", \"CODE_PRODUIT\", \"NOM\"], as_index=False)[\"DERNIER_PRIX_UNITAIRE\"].agg(\"mean\")\n",
    "print(df_test[\"RAISON_SOCIALE\"].unique())\n",
    "df_test.head()"
   ]
  },
  {
   "cell_type": "code",
   "execution_count": 8,
   "metadata": {},
   "outputs": [
    {
     "data": {
      "application/vnd.plotly.v1+json": {
       "config": {
        "plotlyServerURL": "https://plot.ly"
       },
       "data": [
        {
         "alignmentgroup": "True",
         "box": {
          "visible": true
         },
         "customdata": [
          [
           15560001,
           189948,
           "pain de mie Saint-Christophe sachet 550 g"
          ],
          [
           15560001,
           216916,
           "pain de mie Saint Christophe complet sachet 550 g"
          ],
          [
           60269001,
           45626,
           "pain de mie La Vie Saine complet au levain sachet 550 g"
          ],
          [
           60269001,
           45857,
           "pain de mie Baker's sandwich nature sachet 700 g"
          ],
          [
           60269001,
           155279,
           "pain de mie La Vie Saine tranche large sachet 600 g"
          ],
          [
           60269001,
           155314,
           "pain de mie La Vie Saine sandwich tranche x 25 sachet 550 g"
          ],
          [
           60269001,
           155359,
           "pain de mie Sceb tranche sachet 550 g"
          ],
          [
           60269001,
           155390,
           "pain multigrains La Vie Saine tranche sachet 350 g"
          ],
          [
           60269001,
           155392,
           "pain multigrains La Vie Saine xxl tranché sachet 700 g"
          ],
          [
           60269001,
           155532,
           "pain complet La Vie Saine au levain tranches sachet 400 g"
          ],
          [
           60269001,
           155657,
           "pain de campagne La Vie Saine aux céréales tranche sachet 350 g"
          ],
          [
           60269001,
           155659,
           "pain au céréale La Vie Saine tranche sachet 550 g"
          ],
          [
           60269001,
           170673,
           "pain de mie Brignol complet tranche sachet 500 g"
          ],
          [
           60269001,
           189948,
           "pain de mie Saint-Christophe sachet 550 g"
          ],
          [
           60269001,
           189967,
           "pain maxi mie Saint Christophe nature sachet 550 g"
          ],
          [
           60269001,
           189968,
           "pain maxi mie Saint Christophe complet sachet 550 g"
          ],
          [
           60269001,
           190120,
           "pain de mie The Baker House céréale sachet 700 g"
          ],
          [
           60269001,
           190121,
           "pain de mie The Baker House complet sachet 700 g"
          ],
          [
           60269001,
           197553,
           "pain de mie The Baker House multigrains sachet 700 g"
          ],
          [
           60269001,
           197554,
           "pain de mie The Baker House graine de lin sachet 700 g"
          ],
          [
           60269001,
           210165,
           "pain de mie Harry's american sandwich 7 céréales tranches x14 sachet 550 g"
          ],
          [
           60269001,
           216916,
           "pain de mie Saint Christophe complet sachet 550 g"
          ],
          [
           60269001,
           243120,
           "pain de mie La Vie Saine le brioché au lait moelleux sachet 600 g"
          ],
          [
           73999002,
           45626,
           "pain de mie La Vie Saine complet au levain sachet 550 g"
          ],
          [
           73999002,
           45856,
           "pain de mie Harry's american sandwich nature tranches x 14 sachet 550 g"
          ],
          [
           73999002,
           45857,
           "pain de mie Baker's sandwich nature sachet 700 g"
          ],
          [
           73999002,
           135077,
           "pain de mie Harry's 100% complet sans croûte tranche x20 sachet 500 g"
          ],
          [
           73999002,
           135080,
           "pain de mie Harry's 100% nature sans croûte tranche x 20 sachet 500 g"
          ],
          [
           73999002,
           147041,
           "pain complet Bjorg bio seigle sachet 500 g"
          ],
          [
           73999002,
           155314,
           "pain de mie La Vie Saine sandwich tranche x 25 sachet 550 g"
          ],
          [
           73999002,
           155359,
           "pain de mie Sceb tranche sachet 550 g"
          ],
          [
           73999002,
           155390,
           "pain multigrains La Vie Saine tranche sachet 350 g"
          ],
          [
           73999002,
           155392,
           "pain multigrains La Vie Saine xxl tranché sachet 700 g"
          ],
          [
           73999002,
           155532,
           "pain complet La Vie Saine au levain tranches sachet 400 g"
          ],
          [
           73999002,
           155659,
           "pain au céréale La Vie Saine tranche sachet 550 g"
          ],
          [
           73999002,
           157174,
           "pain de mie Bjorg bio complet 3 céréales sachet 500 g"
          ],
          [
           73999002,
           170673,
           "pain de mie Brignol complet tranche sachet 500 g"
          ],
          [
           73999002,
           189948,
           "pain de mie Saint-Christophe sachet 550 g"
          ],
          [
           73999002,
           190120,
           "pain de mie The Baker House céréale sachet 700 g"
          ],
          [
           73999002,
           190121,
           "pain de mie The Baker House complet sachet 700 g"
          ],
          [
           73999002,
           197553,
           "pain de mie The Baker House multigrains sachet 700 g"
          ],
          [
           73999002,
           197554,
           "pain de mie The Baker House graine de lin sachet 700 g"
          ],
          [
           73999002,
           210165,
           "pain de mie Harry's american sandwich 7 céréales tranches x14 sachet 550 g"
          ],
          [
           73999002,
           210167,
           "pain de mie Harry's american sandwich complet tranche x14 sachet 600 g"
          ],
          [
           73999002,
           216916,
           "pain de mie Saint Christophe complet sachet 550 g"
          ],
          [
           73999002,
           243120,
           "pain de mie La Vie Saine le brioché au lait moelleux sachet 600 g"
          ],
          [
           73999002,
           243121,
           "pain de mie La Vie Saine le grand brioché sachet 600 g"
          ],
          [
           73999002,
           244661,
           "pain de mie Harry's american sandwich complet 600 g"
          ],
          [
           73999002,
           246905,
           "pain de mie La Vie Saine pain panier au levain sachet 600 g"
          ],
          [
           73999002,
           246906,
           "pain de mie Saint-Christophe céréales sachet 550 g"
          ],
          [
           73999002,
           246910,
           "pain de mie La Vie Saine toast xxl coupé fin + de tranche sachet 700 g"
          ],
          [
           85993001,
           45626,
           "pain de mie La Vie Saine complet au levain sachet 550 g"
          ],
          [
           85993001,
           45856,
           "pain de mie Harry's american sandwich nature tranches x 14 sachet 550 g"
          ],
          [
           85993001,
           135077,
           "pain de mie Harry's 100% complet sans croûte tranche x20 sachet 500 g"
          ],
          [
           85993001,
           135080,
           "pain de mie Harry's 100% nature sans croûte tranche x 20 sachet 500 g"
          ],
          [
           85993001,
           147041,
           "pain complet Bjorg bio seigle sachet 500 g"
          ],
          [
           85993001,
           155314,
           "pain de mie La Vie Saine sandwich tranche x 25 sachet 550 g"
          ],
          [
           85993001,
           155359,
           "pain de mie Sceb tranche sachet 550 g"
          ],
          [
           85993001,
           155390,
           "pain multigrains La Vie Saine tranche sachet 350 g"
          ],
          [
           85993001,
           155532,
           "pain complet La Vie Saine au levain tranches sachet 400 g"
          ],
          [
           85993001,
           155659,
           "pain au céréale La Vie Saine tranche sachet 550 g"
          ],
          [
           85993001,
           157174,
           "pain de mie Bjorg bio complet 3 céréales sachet 500 g"
          ],
          [
           85993001,
           189948,
           "pain de mie Saint-Christophe sachet 550 g"
          ],
          [
           85993001,
           189954,
           "pain mie Saint Christophe complet sachet 550 g"
          ],
          [
           85993001,
           190120,
           "pain de mie The Baker House céréale sachet 700 g"
          ],
          [
           85993001,
           210167,
           "pain de mie Harry's american sandwich complet tranche x14 sachet 600 g"
          ],
          [
           85993001,
           243120,
           "pain de mie La Vie Saine le brioché au lait moelleux sachet 600 g"
          ],
          [
           114215001,
           135080,
           "pain de mie Harry's 100% nature sans croûte tranche x 20 sachet 500 g"
          ],
          [
           114215001,
           155659,
           "pain au céréale La Vie Saine tranche sachet 550 g"
          ],
          [
           114215001,
           244661,
           "pain de mie Harry's american sandwich complet 600 g"
          ],
          [
           170050001,
           45626,
           "pain de mie La Vie Saine complet au levain sachet 550 g"
          ],
          [
           170050001,
           45857,
           "pain de mie Baker's sandwich nature sachet 700 g"
          ],
          [
           170050001,
           155314,
           "pain de mie La Vie Saine sandwich tranche x 25 sachet 550 g"
          ],
          [
           170050001,
           155359,
           "pain de mie Sceb tranche sachet 550 g"
          ],
          [
           170050001,
           155392,
           "pain multigrains La Vie Saine xxl tranché sachet 700 g"
          ],
          [
           170050001,
           155659,
           "pain au céréale La Vie Saine tranche sachet 550 g"
          ],
          [
           170050001,
           170673,
           "pain de mie Brignol complet tranche sachet 500 g"
          ],
          [
           170050001,
           189948,
           "pain de mie Saint-Christophe sachet 550 g"
          ],
          [
           170050001,
           190120,
           "pain de mie The Baker House céréale sachet 700 g"
          ],
          [
           170050001,
           190121,
           "pain de mie The Baker House complet sachet 700 g"
          ],
          [
           170050001,
           216916,
           "pain de mie Saint Christophe complet sachet 550 g"
          ],
          [
           174292001,
           135077,
           "pain de mie Harry's 100% complet sans croûte tranche x20 sachet 500 g"
          ],
          [
           179804002,
           45626,
           "pain de mie La Vie Saine complet au levain sachet 550 g"
          ],
          [
           179804002,
           155314,
           "pain de mie La Vie Saine sandwich tranche x 25 sachet 550 g"
          ],
          [
           179804002,
           155659,
           "pain au céréale La Vie Saine tranche sachet 550 g"
          ],
          [
           190322001,
           45626,
           "pain de mie La Vie Saine complet au levain sachet 550 g"
          ],
          [
           190322001,
           155279,
           "pain de mie La Vie Saine tranche large sachet 600 g"
          ],
          [
           190322001,
           155390,
           "pain multigrains La Vie Saine tranche sachet 350 g"
          ],
          [
           190322001,
           155532,
           "pain complet La Vie Saine au levain tranches sachet 400 g"
          ],
          [
           190322001,
           155659,
           "pain au céréale La Vie Saine tranche sachet 550 g"
          ],
          [
           207209001,
           45626,
           "pain de mie La Vie Saine complet au levain sachet 550 g"
          ],
          [
           207209001,
           45857,
           "pain de mie Baker's sandwich nature sachet 700 g"
          ],
          [
           207209001,
           155314,
           "pain de mie La Vie Saine sandwich tranche x 25 sachet 550 g"
          ],
          [
           207209001,
           155359,
           "pain de mie Sceb tranche sachet 550 g"
          ],
          [
           207209001,
           155392,
           "pain multigrains La Vie Saine xxl tranché sachet 700 g"
          ],
          [
           207209001,
           155659,
           "pain au céréale La Vie Saine tranche sachet 550 g"
          ],
          [
           208595002,
           45626,
           "pain de mie La Vie Saine complet au levain sachet 550 g"
          ],
          [
           208595002,
           45856,
           "pain de mie Harry's american sandwich nature tranches x 14 sachet 550 g"
          ],
          [
           208595002,
           45857,
           "pain de mie Baker's sandwich nature sachet 700 g"
          ],
          [
           208595002,
           135077,
           "pain de mie Harry's 100% complet sans croûte tranche x20 sachet 500 g"
          ],
          [
           208595002,
           135080,
           "pain de mie Harry's 100% nature sans croûte tranche x 20 sachet 500 g"
          ],
          [
           208595002,
           147041,
           "pain complet Bjorg bio seigle sachet 500 g"
          ],
          [
           208595002,
           155279,
           "pain de mie La Vie Saine tranche large sachet 600 g"
          ],
          [
           208595002,
           155314,
           "pain de mie La Vie Saine sandwich tranche x 25 sachet 550 g"
          ],
          [
           208595002,
           155359,
           "pain de mie Sceb tranche sachet 550 g"
          ],
          [
           208595002,
           155390,
           "pain multigrains La Vie Saine tranche sachet 350 g"
          ],
          [
           208595002,
           155392,
           "pain multigrains La Vie Saine xxl tranché sachet 700 g"
          ],
          [
           208595002,
           155532,
           "pain complet La Vie Saine au levain tranches sachet 400 g"
          ],
          [
           208595002,
           155657,
           "pain de campagne La Vie Saine aux céréales tranche sachet 350 g"
          ],
          [
           208595002,
           155659,
           "pain au céréale La Vie Saine tranche sachet 550 g"
          ],
          [
           208595002,
           157174,
           "pain de mie Bjorg bio complet 3 céréales sachet 500 g"
          ],
          [
           208595002,
           170673,
           "pain de mie Brignol complet tranche sachet 500 g"
          ],
          [
           208595002,
           189948,
           "pain de mie Saint-Christophe sachet 550 g"
          ],
          [
           208595002,
           189967,
           "pain maxi mie Saint Christophe nature sachet 550 g"
          ],
          [
           208595002,
           189968,
           "pain maxi mie Saint Christophe complet sachet 550 g"
          ],
          [
           208595002,
           189969,
           "pain mie Saint Christophe maxi 7 céréales sachet 550 g"
          ],
          [
           208595002,
           190120,
           "pain de mie The Baker House céréale sachet 700 g"
          ],
          [
           208595002,
           190121,
           "pain de mie The Baker House complet sachet 700 g"
          ],
          [
           208595002,
           197553,
           "pain de mie The Baker House multigrains sachet 700 g"
          ],
          [
           208595002,
           197554,
           "pain de mie The Baker House graine de lin sachet 700 g"
          ],
          [
           208595002,
           210165,
           "pain de mie Harry's american sandwich 7 céréales tranches x14 sachet 550 g"
          ],
          [
           208595002,
           216916,
           "pain de mie Saint Christophe complet sachet 550 g"
          ],
          [
           208595002,
           243120,
           "pain de mie La Vie Saine le brioché au lait moelleux sachet 600 g"
          ],
          [
           208595002,
           243121,
           "pain de mie La Vie Saine le grand brioché sachet 600 g"
          ],
          [
           208595002,
           244661,
           "pain de mie Harry's american sandwich complet 600 g"
          ],
          [
           208595002,
           246905,
           "pain de mie La Vie Saine pain panier au levain sachet 600 g"
          ],
          [
           208595002,
           246906,
           "pain de mie Saint-Christophe céréales sachet 550 g"
          ],
          [
           208595002,
           246910,
           "pain de mie La Vie Saine toast xxl coupé fin + de tranche sachet 700 g"
          ],
          [
           214049001,
           45626,
           "pain de mie La Vie Saine complet au levain sachet 550 g"
          ],
          [
           214049001,
           45856,
           "pain de mie Harry's american sandwich nature tranches x 14 sachet 550 g"
          ],
          [
           214049001,
           45857,
           "pain de mie Baker's sandwich nature sachet 700 g"
          ],
          [
           214049001,
           135077,
           "pain de mie Harry's 100% complet sans croûte tranche x20 sachet 500 g"
          ],
          [
           214049001,
           135080,
           "pain de mie Harry's 100% nature sans croûte tranche x 20 sachet 500 g"
          ],
          [
           214049001,
           147041,
           "pain complet Bjorg bio seigle sachet 500 g"
          ],
          [
           214049001,
           155279,
           "pain de mie La Vie Saine tranche large sachet 600 g"
          ],
          [
           214049001,
           155314,
           "pain de mie La Vie Saine sandwich tranche x 25 sachet 550 g"
          ],
          [
           214049001,
           155359,
           "pain de mie Sceb tranche sachet 550 g"
          ],
          [
           214049001,
           155390,
           "pain multigrains La Vie Saine tranche sachet 350 g"
          ],
          [
           214049001,
           155392,
           "pain multigrains La Vie Saine xxl tranché sachet 700 g"
          ],
          [
           214049001,
           155532,
           "pain complet La Vie Saine au levain tranches sachet 400 g"
          ],
          [
           214049001,
           155657,
           "pain de campagne La Vie Saine aux céréales tranche sachet 350 g"
          ],
          [
           214049001,
           155659,
           "pain au céréale La Vie Saine tranche sachet 550 g"
          ],
          [
           214049001,
           157174,
           "pain de mie Bjorg bio complet 3 céréales sachet 500 g"
          ],
          [
           214049001,
           170673,
           "pain de mie Brignol complet tranche sachet 500 g"
          ],
          [
           214049001,
           189948,
           "pain de mie Saint-Christophe sachet 550 g"
          ],
          [
           214049001,
           190120,
           "pain de mie The Baker House céréale sachet 700 g"
          ],
          [
           214049001,
           190121,
           "pain de mie The Baker House complet sachet 700 g"
          ],
          [
           214049001,
           197553,
           "pain de mie The Baker House multigrains sachet 700 g"
          ],
          [
           214049001,
           197554,
           "pain de mie The Baker House graine de lin sachet 700 g"
          ],
          [
           214049001,
           210165,
           "pain de mie Harry's american sandwich 7 céréales tranches x14 sachet 550 g"
          ],
          [
           214049001,
           210167,
           "pain de mie Harry's american sandwich complet tranche x14 sachet 600 g"
          ],
          [
           214049001,
           216916,
           "pain de mie Saint Christophe complet sachet 550 g"
          ],
          [
           214049001,
           243120,
           "pain de mie La Vie Saine le brioché au lait moelleux sachet 600 g"
          ],
          [
           214049001,
           244661,
           "pain de mie Harry's american sandwich complet 600 g"
          ],
          [
           214049001,
           246905,
           "pain de mie La Vie Saine pain panier au levain sachet 600 g"
          ],
          [
           214049001,
           246910,
           "pain de mie La Vie Saine toast xxl coupé fin + de tranche sachet 700 g"
          ],
          [
           216077001,
           155359,
           "pain de mie Sceb tranche sachet 550 g"
          ],
          [
           216952001,
           45626,
           "pain de mie La Vie Saine complet au levain sachet 550 g"
          ],
          [
           216952001,
           155314,
           "pain de mie La Vie Saine sandwich tranche x 25 sachet 550 g"
          ],
          [
           216952001,
           155659,
           "pain au céréale La Vie Saine tranche sachet 550 g"
          ],
          [
           216952001,
           243120,
           "pain de mie La Vie Saine le brioché au lait moelleux sachet 600 g"
          ],
          [
           221382002,
           189948,
           "pain de mie Saint-Christophe sachet 550 g"
          ],
          [
           241737001,
           155359,
           "pain de mie Sceb tranche sachet 550 g"
          ],
          [
           250621002,
           155359,
           "pain de mie Sceb tranche sachet 550 g"
          ],
          [
           264663001,
           45856,
           "pain de mie Harry's american sandwich nature tranches x 14 sachet 550 g"
          ],
          [
           281022002,
           45626,
           "pain de mie La Vie Saine complet au levain sachet 550 g"
          ],
          [
           281022002,
           45856,
           "pain de mie Harry's american sandwich nature tranches x 14 sachet 550 g"
          ],
          [
           281022002,
           45857,
           "pain de mie Baker's sandwich nature sachet 700 g"
          ],
          [
           281022002,
           135077,
           "pain de mie Harry's 100% complet sans croûte tranche x20 sachet 500 g"
          ],
          [
           281022002,
           135080,
           "pain de mie Harry's 100% nature sans croûte tranche x 20 sachet 500 g"
          ],
          [
           281022002,
           147041,
           "pain complet Bjorg bio seigle sachet 500 g"
          ],
          [
           281022002,
           155279,
           "pain de mie La Vie Saine tranche large sachet 600 g"
          ],
          [
           281022002,
           155314,
           "pain de mie La Vie Saine sandwich tranche x 25 sachet 550 g"
          ],
          [
           281022002,
           155359,
           "pain de mie Sceb tranche sachet 550 g"
          ],
          [
           281022002,
           155390,
           "pain multigrains La Vie Saine tranche sachet 350 g"
          ],
          [
           281022002,
           155392,
           "pain multigrains La Vie Saine xxl tranché sachet 700 g"
          ],
          [
           281022002,
           155532,
           "pain complet La Vie Saine au levain tranches sachet 400 g"
          ],
          [
           281022002,
           155657,
           "pain de campagne La Vie Saine aux céréales tranche sachet 350 g"
          ],
          [
           281022002,
           155659,
           "pain au céréale La Vie Saine tranche sachet 550 g"
          ],
          [
           281022002,
           157174,
           "pain de mie Bjorg bio complet 3 céréales sachet 500 g"
          ],
          [
           281022002,
           170673,
           "pain de mie Brignol complet tranche sachet 500 g"
          ],
          [
           281022002,
           189948,
           "pain de mie Saint-Christophe sachet 550 g"
          ],
          [
           281022002,
           190120,
           "pain de mie The Baker House céréale sachet 700 g"
          ],
          [
           281022002,
           190121,
           "pain de mie The Baker House complet sachet 700 g"
          ],
          [
           281022002,
           197553,
           "pain de mie The Baker House multigrains sachet 700 g"
          ],
          [
           281022002,
           197554,
           "pain de mie The Baker House graine de lin sachet 700 g"
          ],
          [
           281022002,
           210167,
           "pain de mie Harry's american sandwich complet tranche x14 sachet 600 g"
          ],
          [
           281022002,
           216916,
           "pain de mie Saint Christophe complet sachet 550 g"
          ],
          [
           281022002,
           243120,
           "pain de mie La Vie Saine le brioché au lait moelleux sachet 600 g"
          ],
          [
           281022002,
           243121,
           "pain de mie La Vie Saine le grand brioché sachet 600 g"
          ],
          [
           281022002,
           244661,
           "pain de mie Harry's american sandwich complet 600 g"
          ],
          [
           281022002,
           246905,
           "pain de mie La Vie Saine pain panier au levain sachet 600 g"
          ],
          [
           281022002,
           246906,
           "pain de mie Saint-Christophe céréales sachet 550 g"
          ],
          [
           281022002,
           246910,
           "pain de mie La Vie Saine toast xxl coupé fin + de tranche sachet 700 g"
          ],
          [
           281022003,
           45626,
           "pain de mie La Vie Saine complet au levain sachet 550 g"
          ],
          [
           281022003,
           45857,
           "pain de mie Baker's sandwich nature sachet 700 g"
          ],
          [
           281022003,
           135080,
           "pain de mie Harry's 100% nature sans croûte tranche x 20 sachet 500 g"
          ],
          [
           281022003,
           155279,
           "pain de mie La Vie Saine tranche large sachet 600 g"
          ],
          [
           281022003,
           155314,
           "pain de mie La Vie Saine sandwich tranche x 25 sachet 550 g"
          ],
          [
           281022003,
           155359,
           "pain de mie Sceb tranche sachet 550 g"
          ],
          [
           281022003,
           155390,
           "pain multigrains La Vie Saine tranche sachet 350 g"
          ],
          [
           281022003,
           155392,
           "pain multigrains La Vie Saine xxl tranché sachet 700 g"
          ],
          [
           281022003,
           155532,
           "pain complet La Vie Saine au levain tranches sachet 400 g"
          ],
          [
           281022003,
           155657,
           "pain de campagne La Vie Saine aux céréales tranche sachet 350 g"
          ],
          [
           281022003,
           155659,
           "pain au céréale La Vie Saine tranche sachet 550 g"
          ],
          [
           281022003,
           189948,
           "pain de mie Saint-Christophe sachet 550 g"
          ],
          [
           281022003,
           190120,
           "pain de mie The Baker House céréale sachet 700 g"
          ],
          [
           281022003,
           246905,
           "pain de mie La Vie Saine pain panier au levain sachet 600 g"
          ],
          [
           281022003,
           246910,
           "pain de mie La Vie Saine toast xxl coupé fin + de tranche sachet 700 g"
          ],
          [
           283226001,
           155659,
           "pain au céréale La Vie Saine tranche sachet 550 g"
          ],
          [
           311175005,
           155659,
           "pain au céréale La Vie Saine tranche sachet 550 g"
          ],
          [
           311175005,
           243120,
           "pain de mie La Vie Saine le brioché au lait moelleux sachet 600 g"
          ],
          [
           314948001,
           45856,
           "pain de mie Harry's american sandwich nature tranches x 14 sachet 550 g"
          ],
          [
           314948001,
           45857,
           "pain de mie Baker's sandwich nature sachet 700 g"
          ],
          [
           314948001,
           135077,
           "pain de mie Harry's 100% complet sans croûte tranche x20 sachet 500 g"
          ],
          [
           314948001,
           135080,
           "pain de mie Harry's 100% nature sans croûte tranche x 20 sachet 500 g"
          ],
          [
           314948001,
           147041,
           "pain complet Bjorg bio seigle sachet 500 g"
          ],
          [
           314948001,
           155359,
           "pain de mie Sceb tranche sachet 550 g"
          ],
          [
           314948001,
           157174,
           "pain de mie Bjorg bio complet 3 céréales sachet 500 g"
          ],
          [
           314948001,
           170673,
           "pain de mie Brignol complet tranche sachet 500 g"
          ],
          [
           314948001,
           190120,
           "pain de mie The Baker House céréale sachet 700 g"
          ],
          [
           314948001,
           190121,
           "pain de mie The Baker House complet sachet 700 g"
          ],
          [
           314948001,
           197553,
           "pain de mie The Baker House multigrains sachet 700 g"
          ],
          [
           314948001,
           197554,
           "pain de mie The Baker House graine de lin sachet 700 g"
          ],
          [
           314948001,
           210165,
           "pain de mie Harry's american sandwich 7 céréales tranches x14 sachet 550 g"
          ],
          [
           314948001,
           244661,
           "pain de mie Harry's american sandwich complet 600 g"
          ],
          [
           358333001,
           45626,
           "pain de mie La Vie Saine complet au levain sachet 550 g"
          ],
          [
           358333001,
           155314,
           "pain de mie La Vie Saine sandwich tranche x 25 sachet 550 g"
          ],
          [
           358333001,
           155659,
           "pain au céréale La Vie Saine tranche sachet 550 g"
          ],
          [
           358333001,
           243120,
           "pain de mie La Vie Saine le brioché au lait moelleux sachet 600 g"
          ],
          [
           366443001,
           45626,
           "pain de mie La Vie Saine complet au levain sachet 550 g"
          ],
          [
           366443001,
           45856,
           "pain de mie Harry's american sandwich nature tranches x 14 sachet 550 g"
          ],
          [
           366443001,
           45857,
           "pain de mie Baker's sandwich nature sachet 700 g"
          ],
          [
           366443001,
           135077,
           "pain de mie Harry's 100% complet sans croûte tranche x20 sachet 500 g"
          ],
          [
           366443001,
           135080,
           "pain de mie Harry's 100% nature sans croûte tranche x 20 sachet 500 g"
          ],
          [
           366443001,
           147041,
           "pain complet Bjorg bio seigle sachet 500 g"
          ],
          [
           366443001,
           155279,
           "pain de mie La Vie Saine tranche large sachet 600 g"
          ],
          [
           366443001,
           155314,
           "pain de mie La Vie Saine sandwich tranche x 25 sachet 550 g"
          ],
          [
           366443001,
           155359,
           "pain de mie Sceb tranche sachet 550 g"
          ],
          [
           366443001,
           155390,
           "pain multigrains La Vie Saine tranche sachet 350 g"
          ],
          [
           366443001,
           155392,
           "pain multigrains La Vie Saine xxl tranché sachet 700 g"
          ],
          [
           366443001,
           155532,
           "pain complet La Vie Saine au levain tranches sachet 400 g"
          ],
          [
           366443001,
           155657,
           "pain de campagne La Vie Saine aux céréales tranche sachet 350 g"
          ],
          [
           366443001,
           155659,
           "pain au céréale La Vie Saine tranche sachet 550 g"
          ],
          [
           366443001,
           157174,
           "pain de mie Bjorg bio complet 3 céréales sachet 500 g"
          ],
          [
           366443001,
           170673,
           "pain de mie Brignol complet tranche sachet 500 g"
          ],
          [
           366443001,
           189948,
           "pain de mie Saint-Christophe sachet 550 g"
          ],
          [
           366443001,
           190120,
           "pain de mie The Baker House céréale sachet 700 g"
          ],
          [
           366443001,
           190121,
           "pain de mie The Baker House complet sachet 700 g"
          ],
          [
           366443001,
           197553,
           "pain de mie The Baker House multigrains sachet 700 g"
          ],
          [
           366443001,
           197554,
           "pain de mie The Baker House graine de lin sachet 700 g"
          ],
          [
           366443001,
           210165,
           "pain de mie Harry's american sandwich 7 céréales tranches x14 sachet 550 g"
          ],
          [
           366443001,
           216916,
           "pain de mie Saint Christophe complet sachet 550 g"
          ],
          [
           366443001,
           243120,
           "pain de mie La Vie Saine le brioché au lait moelleux sachet 600 g"
          ],
          [
           366443001,
           243121,
           "pain de mie La Vie Saine le grand brioché sachet 600 g"
          ],
          [
           366443001,
           244661,
           "pain de mie Harry's american sandwich complet 600 g"
          ],
          [
           371435001,
           45626,
           "pain de mie La Vie Saine complet au levain sachet 550 g"
          ],
          [
           371435001,
           45857,
           "pain de mie Baker's sandwich nature sachet 700 g"
          ],
          [
           371435001,
           155279,
           "pain de mie La Vie Saine tranche large sachet 600 g"
          ],
          [
           371435001,
           155314,
           "pain de mie La Vie Saine sandwich tranche x 25 sachet 550 g"
          ],
          [
           371435001,
           155359,
           "pain de mie Sceb tranche sachet 550 g"
          ],
          [
           371435001,
           155390,
           "pain multigrains La Vie Saine tranche sachet 350 g"
          ],
          [
           371435001,
           155392,
           "pain multigrains La Vie Saine xxl tranché sachet 700 g"
          ],
          [
           371435001,
           155532,
           "pain complet La Vie Saine au levain tranches sachet 400 g"
          ],
          [
           371435001,
           155657,
           "pain de campagne La Vie Saine aux céréales tranche sachet 350 g"
          ],
          [
           371435001,
           155659,
           "pain au céréale La Vie Saine tranche sachet 550 g"
          ],
          [
           371435001,
           190120,
           "pain de mie The Baker House céréale sachet 700 g"
          ],
          [
           371435001,
           190121,
           "pain de mie The Baker House complet sachet 700 g"
          ],
          [
           371435001,
           197553,
           "pain de mie The Baker House multigrains sachet 700 g"
          ],
          [
           371435001,
           197554,
           "pain de mie The Baker House graine de lin sachet 700 g"
          ],
          [
           371435001,
           243120,
           "pain de mie La Vie Saine le brioché au lait moelleux sachet 600 g"
          ],
          [
           371435001,
           243121,
           "pain de mie La Vie Saine le grand brioché sachet 600 g"
          ],
          [
           382457001,
           155359,
           "pain de mie Sceb tranche sachet 550 g"
          ],
          [
           391987001,
           45856,
           "pain de mie Harry's american sandwich nature tranches x 14 sachet 550 g"
          ],
          [
           391987001,
           135077,
           "pain de mie Harry's 100% complet sans croûte tranche x20 sachet 500 g"
          ],
          [
           391987001,
           135080,
           "pain de mie Harry's 100% nature sans croûte tranche x 20 sachet 500 g"
          ],
          [
           391987001,
           244661,
           "pain de mie Harry's american sandwich complet 600 g"
          ],
          [
           408021001,
           45856,
           "pain de mie Harry's american sandwich nature tranches x 14 sachet 550 g"
          ],
          [
           428367002,
           45626,
           "pain de mie La Vie Saine complet au levain sachet 550 g"
          ],
          [
           428367002,
           45856,
           "pain de mie Harry's american sandwich nature tranches x 14 sachet 550 g"
          ],
          [
           428367002,
           45857,
           "pain de mie Baker's sandwich nature sachet 700 g"
          ],
          [
           428367002,
           135077,
           "pain de mie Harry's 100% complet sans croûte tranche x20 sachet 500 g"
          ],
          [
           428367002,
           135080,
           "pain de mie Harry's 100% nature sans croûte tranche x 20 sachet 500 g"
          ],
          [
           428367002,
           147041,
           "pain complet Bjorg bio seigle sachet 500 g"
          ],
          [
           428367002,
           155279,
           "pain de mie La Vie Saine tranche large sachet 600 g"
          ],
          [
           428367002,
           155314,
           "pain de mie La Vie Saine sandwich tranche x 25 sachet 550 g"
          ],
          [
           428367002,
           155359,
           "pain de mie Sceb tranche sachet 550 g"
          ],
          [
           428367002,
           155390,
           "pain multigrains La Vie Saine tranche sachet 350 g"
          ],
          [
           428367002,
           155392,
           "pain multigrains La Vie Saine xxl tranché sachet 700 g"
          ],
          [
           428367002,
           155532,
           "pain complet La Vie Saine au levain tranches sachet 400 g"
          ],
          [
           428367002,
           155657,
           "pain de campagne La Vie Saine aux céréales tranche sachet 350 g"
          ],
          [
           428367002,
           155659,
           "pain au céréale La Vie Saine tranche sachet 550 g"
          ],
          [
           428367002,
           157174,
           "pain de mie Bjorg bio complet 3 céréales sachet 500 g"
          ],
          [
           428367002,
           170673,
           "pain de mie Brignol complet tranche sachet 500 g"
          ],
          [
           428367002,
           189948,
           "pain de mie Saint-Christophe sachet 550 g"
          ],
          [
           428367002,
           190120,
           "pain de mie The Baker House céréale sachet 700 g"
          ],
          [
           428367002,
           190121,
           "pain de mie The Baker House complet sachet 700 g"
          ],
          [
           428367002,
           197553,
           "pain de mie The Baker House multigrains sachet 700 g"
          ],
          [
           428367002,
           197554,
           "pain de mie The Baker House graine de lin sachet 700 g"
          ],
          [
           428367002,
           210165,
           "pain de mie Harry's american sandwich 7 céréales tranches x14 sachet 550 g"
          ],
          [
           428367002,
           210167,
           "pain de mie Harry's american sandwich complet tranche x14 sachet 600 g"
          ],
          [
           428367002,
           216916,
           "pain de mie Saint Christophe complet sachet 550 g"
          ],
          [
           428367002,
           243120,
           "pain de mie La Vie Saine le brioché au lait moelleux sachet 600 g"
          ],
          [
           428367002,
           243121,
           "pain de mie La Vie Saine le grand brioché sachet 600 g"
          ],
          [
           428367002,
           244661,
           "pain de mie Harry's american sandwich complet 600 g"
          ],
          [
           428367002,
           246905,
           "pain de mie La Vie Saine pain panier au levain sachet 600 g"
          ],
          [
           428367002,
           246906,
           "pain de mie Saint-Christophe céréales sachet 550 g"
          ],
          [
           428367002,
           246910,
           "pain de mie La Vie Saine toast xxl coupé fin + de tranche sachet 700 g"
          ],
          [
           442020001,
           45856,
           "pain de mie Harry's american sandwich nature tranches x 14 sachet 550 g"
          ],
          [
           442020001,
           135077,
           "pain de mie Harry's 100% complet sans croûte tranche x20 sachet 500 g"
          ],
          [
           442020001,
           135080,
           "pain de mie Harry's 100% nature sans croûte tranche x 20 sachet 500 g"
          ],
          [
           442020001,
           155359,
           "pain de mie Sceb tranche sachet 550 g"
          ],
          [
           442020001,
           210165,
           "pain de mie Harry's american sandwich 7 céréales tranches x14 sachet 550 g"
          ],
          [
           442020001,
           244661,
           "pain de mie Harry's american sandwich complet 600 g"
          ],
          [
           443309002,
           155359,
           "pain de mie Sceb tranche sachet 550 g"
          ],
          [
           464404002,
           155359,
           "pain de mie Sceb tranche sachet 550 g"
          ],
          [
           474460002,
           45626,
           "pain de mie La Vie Saine complet au levain sachet 550 g"
          ],
          [
           474460002,
           45856,
           "pain de mie Harry's american sandwich nature tranches x 14 sachet 550 g"
          ],
          [
           474460002,
           45857,
           "pain de mie Baker's sandwich nature sachet 700 g"
          ],
          [
           474460002,
           135077,
           "pain de mie Harry's 100% complet sans croûte tranche x20 sachet 500 g"
          ],
          [
           474460002,
           135080,
           "pain de mie Harry's 100% nature sans croûte tranche x 20 sachet 500 g"
          ],
          [
           474460002,
           147041,
           "pain complet Bjorg bio seigle sachet 500 g"
          ],
          [
           474460002,
           155279,
           "pain de mie La Vie Saine tranche large sachet 600 g"
          ],
          [
           474460002,
           155314,
           "pain de mie La Vie Saine sandwich tranche x 25 sachet 550 g"
          ],
          [
           474460002,
           155359,
           "pain de mie Sceb tranche sachet 550 g"
          ],
          [
           474460002,
           155390,
           "pain multigrains La Vie Saine tranche sachet 350 g"
          ],
          [
           474460002,
           155392,
           "pain multigrains La Vie Saine xxl tranché sachet 700 g"
          ],
          [
           474460002,
           155532,
           "pain complet La Vie Saine au levain tranches sachet 400 g"
          ],
          [
           474460002,
           155657,
           "pain de campagne La Vie Saine aux céréales tranche sachet 350 g"
          ],
          [
           474460002,
           155659,
           "pain au céréale La Vie Saine tranche sachet 550 g"
          ],
          [
           474460002,
           157174,
           "pain de mie Bjorg bio complet 3 céréales sachet 500 g"
          ],
          [
           474460002,
           170673,
           "pain de mie Brignol complet tranche sachet 500 g"
          ],
          [
           474460002,
           189948,
           "pain de mie Saint-Christophe sachet 550 g"
          ],
          [
           474460002,
           189967,
           "pain maxi mie Saint Christophe nature sachet 550 g"
          ],
          [
           474460002,
           190120,
           "pain de mie The Baker House céréale sachet 700 g"
          ],
          [
           474460002,
           190121,
           "pain de mie The Baker House complet sachet 700 g"
          ],
          [
           474460002,
           197553,
           "pain de mie The Baker House multigrains sachet 700 g"
          ],
          [
           474460002,
           197554,
           "pain de mie The Baker House graine de lin sachet 700 g"
          ],
          [
           474460002,
           210165,
           "pain de mie Harry's american sandwich 7 céréales tranches x14 sachet 550 g"
          ],
          [
           474460002,
           210167,
           "pain de mie Harry's american sandwich complet tranche x14 sachet 600 g"
          ],
          [
           474460002,
           216916,
           "pain de mie Saint Christophe complet sachet 550 g"
          ],
          [
           474460002,
           243120,
           "pain de mie La Vie Saine le brioché au lait moelleux sachet 600 g"
          ],
          [
           474460002,
           246905,
           "pain de mie La Vie Saine pain panier au levain sachet 600 g"
          ],
          [
           474460002,
           246906,
           "pain de mie Saint-Christophe céréales sachet 550 g"
          ],
          [
           474460003,
           45626,
           "pain de mie La Vie Saine complet au levain sachet 550 g"
          ],
          [
           474460003,
           45856,
           "pain de mie Harry's american sandwich nature tranches x 14 sachet 550 g"
          ],
          [
           474460003,
           45857,
           "pain de mie Baker's sandwich nature sachet 700 g"
          ],
          [
           474460003,
           135077,
           "pain de mie Harry's 100% complet sans croûte tranche x20 sachet 500 g"
          ],
          [
           474460003,
           135080,
           "pain de mie Harry's 100% nature sans croûte tranche x 20 sachet 500 g"
          ],
          [
           474460003,
           147041,
           "pain complet Bjorg bio seigle sachet 500 g"
          ],
          [
           474460003,
           155279,
           "pain de mie La Vie Saine tranche large sachet 600 g"
          ],
          [
           474460003,
           155314,
           "pain de mie La Vie Saine sandwich tranche x 25 sachet 550 g"
          ],
          [
           474460003,
           155359,
           "pain de mie Sceb tranche sachet 550 g"
          ],
          [
           474460003,
           155390,
           "pain multigrains La Vie Saine tranche sachet 350 g"
          ],
          [
           474460003,
           155392,
           "pain multigrains La Vie Saine xxl tranché sachet 700 g"
          ],
          [
           474460003,
           155532,
           "pain complet La Vie Saine au levain tranches sachet 400 g"
          ],
          [
           474460003,
           155657,
           "pain de campagne La Vie Saine aux céréales tranche sachet 350 g"
          ],
          [
           474460003,
           155659,
           "pain au céréale La Vie Saine tranche sachet 550 g"
          ],
          [
           474460003,
           157174,
           "pain de mie Bjorg bio complet 3 céréales sachet 500 g"
          ],
          [
           474460003,
           170673,
           "pain de mie Brignol complet tranche sachet 500 g"
          ],
          [
           474460003,
           189948,
           "pain de mie Saint-Christophe sachet 550 g"
          ],
          [
           474460003,
           189967,
           "pain maxi mie Saint Christophe nature sachet 550 g"
          ],
          [
           474460003,
           190120,
           "pain de mie The Baker House céréale sachet 700 g"
          ],
          [
           474460003,
           190121,
           "pain de mie The Baker House complet sachet 700 g"
          ],
          [
           474460003,
           197553,
           "pain de mie The Baker House multigrains sachet 700 g"
          ],
          [
           474460003,
           197554,
           "pain de mie The Baker House graine de lin sachet 700 g"
          ],
          [
           474460003,
           210165,
           "pain de mie Harry's american sandwich 7 céréales tranches x14 sachet 550 g"
          ],
          [
           474460003,
           210167,
           "pain de mie Harry's american sandwich complet tranche x14 sachet 600 g"
          ],
          [
           474460003,
           216916,
           "pain de mie Saint Christophe complet sachet 550 g"
          ],
          [
           474460003,
           243120,
           "pain de mie La Vie Saine le brioché au lait moelleux sachet 600 g"
          ],
          [
           474460003,
           243121,
           "pain de mie La Vie Saine le grand brioché sachet 600 g"
          ],
          [
           474460003,
           246905,
           "pain de mie La Vie Saine pain panier au levain sachet 600 g"
          ],
          [
           474460003,
           246906,
           "pain de mie Saint-Christophe céréales sachet 550 g"
          ],
          [
           474460003,
           246910,
           "pain de mie La Vie Saine toast xxl coupé fin + de tranche sachet 700 g"
          ],
          [
           474460004,
           45626,
           "pain de mie La Vie Saine complet au levain sachet 550 g"
          ],
          [
           474460004,
           45856,
           "pain de mie Harry's american sandwich nature tranches x 14 sachet 550 g"
          ],
          [
           474460004,
           45857,
           "pain de mie Baker's sandwich nature sachet 700 g"
          ],
          [
           474460004,
           135077,
           "pain de mie Harry's 100% complet sans croûte tranche x20 sachet 500 g"
          ],
          [
           474460004,
           135080,
           "pain de mie Harry's 100% nature sans croûte tranche x 20 sachet 500 g"
          ],
          [
           474460004,
           147041,
           "pain complet Bjorg bio seigle sachet 500 g"
          ],
          [
           474460004,
           155279,
           "pain de mie La Vie Saine tranche large sachet 600 g"
          ],
          [
           474460004,
           155314,
           "pain de mie La Vie Saine sandwich tranche x 25 sachet 550 g"
          ],
          [
           474460004,
           155359,
           "pain de mie Sceb tranche sachet 550 g"
          ],
          [
           474460004,
           155390,
           "pain multigrains La Vie Saine tranche sachet 350 g"
          ],
          [
           474460004,
           155392,
           "pain multigrains La Vie Saine xxl tranché sachet 700 g"
          ],
          [
           474460004,
           155532,
           "pain complet La Vie Saine au levain tranches sachet 400 g"
          ],
          [
           474460004,
           155657,
           "pain de campagne La Vie Saine aux céréales tranche sachet 350 g"
          ],
          [
           474460004,
           155659,
           "pain au céréale La Vie Saine tranche sachet 550 g"
          ],
          [
           474460004,
           157174,
           "pain de mie Bjorg bio complet 3 céréales sachet 500 g"
          ],
          [
           474460004,
           170673,
           "pain de mie Brignol complet tranche sachet 500 g"
          ],
          [
           474460004,
           189948,
           "pain de mie Saint-Christophe sachet 550 g"
          ],
          [
           474460004,
           189967,
           "pain maxi mie Saint Christophe nature sachet 550 g"
          ],
          [
           474460004,
           190120,
           "pain de mie The Baker House céréale sachet 700 g"
          ],
          [
           474460004,
           190121,
           "pain de mie The Baker House complet sachet 700 g"
          ],
          [
           474460004,
           197553,
           "pain de mie The Baker House multigrains sachet 700 g"
          ],
          [
           474460004,
           197554,
           "pain de mie The Baker House graine de lin sachet 700 g"
          ],
          [
           474460004,
           210165,
           "pain de mie Harry's american sandwich 7 céréales tranches x14 sachet 550 g"
          ],
          [
           474460004,
           210167,
           "pain de mie Harry's american sandwich complet tranche x14 sachet 600 g"
          ],
          [
           474460004,
           216916,
           "pain de mie Saint Christophe complet sachet 550 g"
          ],
          [
           474460004,
           246905,
           "pain de mie La Vie Saine pain panier au levain sachet 600 g"
          ],
          [
           474460004,
           246906,
           "pain de mie Saint-Christophe céréales sachet 550 g"
          ],
          [
           474460004,
           246910,
           "pain de mie La Vie Saine toast xxl coupé fin + de tranche sachet 700 g"
          ],
          [
           474460005,
           45626,
           "pain de mie La Vie Saine complet au levain sachet 550 g"
          ],
          [
           474460005,
           45856,
           "pain de mie Harry's american sandwich nature tranches x 14 sachet 550 g"
          ],
          [
           474460005,
           45857,
           "pain de mie Baker's sandwich nature sachet 700 g"
          ],
          [
           474460005,
           135077,
           "pain de mie Harry's 100% complet sans croûte tranche x20 sachet 500 g"
          ],
          [
           474460005,
           135080,
           "pain de mie Harry's 100% nature sans croûte tranche x 20 sachet 500 g"
          ],
          [
           474460005,
           147041,
           "pain complet Bjorg bio seigle sachet 500 g"
          ],
          [
           474460005,
           155279,
           "pain de mie La Vie Saine tranche large sachet 600 g"
          ],
          [
           474460005,
           155314,
           "pain de mie La Vie Saine sandwich tranche x 25 sachet 550 g"
          ],
          [
           474460005,
           155359,
           "pain de mie Sceb tranche sachet 550 g"
          ],
          [
           474460005,
           155390,
           "pain multigrains La Vie Saine tranche sachet 350 g"
          ],
          [
           474460005,
           155392,
           "pain multigrains La Vie Saine xxl tranché sachet 700 g"
          ],
          [
           474460005,
           155532,
           "pain complet La Vie Saine au levain tranches sachet 400 g"
          ],
          [
           474460005,
           155657,
           "pain de campagne La Vie Saine aux céréales tranche sachet 350 g"
          ],
          [
           474460005,
           155659,
           "pain au céréale La Vie Saine tranche sachet 550 g"
          ],
          [
           474460005,
           157174,
           "pain de mie Bjorg bio complet 3 céréales sachet 500 g"
          ],
          [
           474460005,
           170673,
           "pain de mie Brignol complet tranche sachet 500 g"
          ],
          [
           474460005,
           189948,
           "pain de mie Saint-Christophe sachet 550 g"
          ],
          [
           474460005,
           189967,
           "pain maxi mie Saint Christophe nature sachet 550 g"
          ],
          [
           474460005,
           190120,
           "pain de mie The Baker House céréale sachet 700 g"
          ],
          [
           474460005,
           190121,
           "pain de mie The Baker House complet sachet 700 g"
          ],
          [
           474460005,
           197553,
           "pain de mie The Baker House multigrains sachet 700 g"
          ],
          [
           474460005,
           197554,
           "pain de mie The Baker House graine de lin sachet 700 g"
          ],
          [
           474460005,
           210165,
           "pain de mie Harry's american sandwich 7 céréales tranches x14 sachet 550 g"
          ],
          [
           474460005,
           210167,
           "pain de mie Harry's american sandwich complet tranche x14 sachet 600 g"
          ],
          [
           474460005,
           216916,
           "pain de mie Saint Christophe complet sachet 550 g"
          ],
          [
           474460005,
           246905,
           "pain de mie La Vie Saine pain panier au levain sachet 600 g"
          ],
          [
           474460005,
           246906,
           "pain de mie Saint-Christophe céréales sachet 550 g"
          ],
          [
           474460005,
           246910,
           "pain de mie La Vie Saine toast xxl coupé fin + de tranche sachet 700 g"
          ],
          [
           474460008,
           45626,
           "pain de mie La Vie Saine complet au levain sachet 550 g"
          ],
          [
           474460008,
           45856,
           "pain de mie Harry's american sandwich nature tranches x 14 sachet 550 g"
          ],
          [
           474460008,
           45857,
           "pain de mie Baker's sandwich nature sachet 700 g"
          ],
          [
           474460008,
           135077,
           "pain de mie Harry's 100% complet sans croûte tranche x20 sachet 500 g"
          ],
          [
           474460008,
           135080,
           "pain de mie Harry's 100% nature sans croûte tranche x 20 sachet 500 g"
          ],
          [
           474460008,
           147041,
           "pain complet Bjorg bio seigle sachet 500 g"
          ],
          [
           474460008,
           155279,
           "pain de mie La Vie Saine tranche large sachet 600 g"
          ],
          [
           474460008,
           155314,
           "pain de mie La Vie Saine sandwich tranche x 25 sachet 550 g"
          ],
          [
           474460008,
           155359,
           "pain de mie Sceb tranche sachet 550 g"
          ],
          [
           474460008,
           155390,
           "pain multigrains La Vie Saine tranche sachet 350 g"
          ],
          [
           474460008,
           155392,
           "pain multigrains La Vie Saine xxl tranché sachet 700 g"
          ],
          [
           474460008,
           155532,
           "pain complet La Vie Saine au levain tranches sachet 400 g"
          ],
          [
           474460008,
           155657,
           "pain de campagne La Vie Saine aux céréales tranche sachet 350 g"
          ],
          [
           474460008,
           155659,
           "pain au céréale La Vie Saine tranche sachet 550 g"
          ],
          [
           474460008,
           157174,
           "pain de mie Bjorg bio complet 3 céréales sachet 500 g"
          ],
          [
           474460008,
           170673,
           "pain de mie Brignol complet tranche sachet 500 g"
          ],
          [
           474460008,
           189948,
           "pain de mie Saint-Christophe sachet 550 g"
          ],
          [
           474460008,
           189967,
           "pain maxi mie Saint Christophe nature sachet 550 g"
          ],
          [
           474460008,
           190120,
           "pain de mie The Baker House céréale sachet 700 g"
          ],
          [
           474460008,
           190121,
           "pain de mie The Baker House complet sachet 700 g"
          ],
          [
           474460008,
           197553,
           "pain de mie The Baker House multigrains sachet 700 g"
          ],
          [
           474460008,
           197554,
           "pain de mie The Baker House graine de lin sachet 700 g"
          ],
          [
           474460008,
           210165,
           "pain de mie Harry's american sandwich 7 céréales tranches x14 sachet 550 g"
          ],
          [
           474460008,
           210167,
           "pain de mie Harry's american sandwich complet tranche x14 sachet 600 g"
          ],
          [
           474460008,
           216916,
           "pain de mie Saint Christophe complet sachet 550 g"
          ],
          [
           474460008,
           246905,
           "pain de mie La Vie Saine pain panier au levain sachet 600 g"
          ],
          [
           474460008,
           246906,
           "pain de mie Saint-Christophe céréales sachet 550 g"
          ],
          [
           474460008,
           246910,
           "pain de mie La Vie Saine toast xxl coupé fin + de tranche sachet 700 g"
          ],
          [
           474460009,
           45626,
           "pain de mie La Vie Saine complet au levain sachet 550 g"
          ],
          [
           474460009,
           45856,
           "pain de mie Harry's american sandwich nature tranches x 14 sachet 550 g"
          ],
          [
           474460009,
           45857,
           "pain de mie Baker's sandwich nature sachet 700 g"
          ],
          [
           474460009,
           135077,
           "pain de mie Harry's 100% complet sans croûte tranche x20 sachet 500 g"
          ],
          [
           474460009,
           135080,
           "pain de mie Harry's 100% nature sans croûte tranche x 20 sachet 500 g"
          ],
          [
           474460009,
           147041,
           "pain complet Bjorg bio seigle sachet 500 g"
          ],
          [
           474460009,
           155279,
           "pain de mie La Vie Saine tranche large sachet 600 g"
          ],
          [
           474460009,
           155314,
           "pain de mie La Vie Saine sandwich tranche x 25 sachet 550 g"
          ],
          [
           474460009,
           155359,
           "pain de mie Sceb tranche sachet 550 g"
          ],
          [
           474460009,
           155390,
           "pain multigrains La Vie Saine tranche sachet 350 g"
          ],
          [
           474460009,
           155392,
           "pain multigrains La Vie Saine xxl tranché sachet 700 g"
          ],
          [
           474460009,
           155532,
           "pain complet La Vie Saine au levain tranches sachet 400 g"
          ],
          [
           474460009,
           155657,
           "pain de campagne La Vie Saine aux céréales tranche sachet 350 g"
          ],
          [
           474460009,
           155659,
           "pain au céréale La Vie Saine tranche sachet 550 g"
          ],
          [
           474460009,
           157174,
           "pain de mie Bjorg bio complet 3 céréales sachet 500 g"
          ],
          [
           474460009,
           170673,
           "pain de mie Brignol complet tranche sachet 500 g"
          ],
          [
           474460009,
           189948,
           "pain de mie Saint-Christophe sachet 550 g"
          ],
          [
           474460009,
           189967,
           "pain maxi mie Saint Christophe nature sachet 550 g"
          ],
          [
           474460009,
           190120,
           "pain de mie The Baker House céréale sachet 700 g"
          ],
          [
           474460009,
           190121,
           "pain de mie The Baker House complet sachet 700 g"
          ],
          [
           474460009,
           197553,
           "pain de mie The Baker House multigrains sachet 700 g"
          ],
          [
           474460009,
           197554,
           "pain de mie The Baker House graine de lin sachet 700 g"
          ],
          [
           474460009,
           210165,
           "pain de mie Harry's american sandwich 7 céréales tranches x14 sachet 550 g"
          ],
          [
           474460009,
           210167,
           "pain de mie Harry's american sandwich complet tranche x14 sachet 600 g"
          ],
          [
           474460009,
           216916,
           "pain de mie Saint Christophe complet sachet 550 g"
          ],
          [
           474460009,
           243120,
           "pain de mie La Vie Saine le brioché au lait moelleux sachet 600 g"
          ],
          [
           474460009,
           246905,
           "pain de mie La Vie Saine pain panier au levain sachet 600 g"
          ],
          [
           474460009,
           246906,
           "pain de mie Saint-Christophe céréales sachet 550 g"
          ],
          [
           474460009,
           246910,
           "pain de mie La Vie Saine toast xxl coupé fin + de tranche sachet 700 g"
          ],
          [
           480749001,
           45626,
           "pain de mie La Vie Saine complet au levain sachet 550 g"
          ],
          [
           480749001,
           45857,
           "pain de mie Baker's sandwich nature sachet 700 g"
          ],
          [
           480749001,
           155359,
           "pain de mie Sceb tranche sachet 550 g"
          ],
          [
           480749001,
           155390,
           "pain multigrains La Vie Saine tranche sachet 350 g"
          ],
          [
           480749001,
           155532,
           "pain complet La Vie Saine au levain tranches sachet 400 g"
          ],
          [
           480749001,
           190120,
           "pain de mie The Baker House céréale sachet 700 g"
          ],
          [
           480749001,
           190121,
           "pain de mie The Baker House complet sachet 700 g"
          ],
          [
           482869001,
           45626,
           "pain de mie La Vie Saine complet au levain sachet 550 g"
          ],
          [
           488692001,
           45626,
           "pain de mie La Vie Saine complet au levain sachet 550 g"
          ],
          [
           488692001,
           45856,
           "pain de mie Harry's american sandwich nature tranches x 14 sachet 550 g"
          ],
          [
           488692001,
           45857,
           "pain de mie Baker's sandwich nature sachet 700 g"
          ],
          [
           488692001,
           135077,
           "pain de mie Harry's 100% complet sans croûte tranche x20 sachet 500 g"
          ],
          [
           488692001,
           135080,
           "pain de mie Harry's 100% nature sans croûte tranche x 20 sachet 500 g"
          ],
          [
           488692001,
           155314,
           "pain de mie La Vie Saine sandwich tranche x 25 sachet 550 g"
          ],
          [
           488692001,
           155359,
           "pain de mie Sceb tranche sachet 550 g"
          ],
          [
           488692001,
           155659,
           "pain au céréale La Vie Saine tranche sachet 550 g"
          ],
          [
           488692001,
           170673,
           "pain de mie Brignol complet tranche sachet 500 g"
          ],
          [
           488692001,
           189948,
           "pain de mie Saint-Christophe sachet 550 g"
          ],
          [
           488692001,
           189967,
           "pain maxi mie Saint Christophe nature sachet 550 g"
          ],
          [
           488692001,
           190120,
           "pain de mie The Baker House céréale sachet 700 g"
          ],
          [
           488692001,
           190121,
           "pain de mie The Baker House complet sachet 700 g"
          ],
          [
           488692001,
           197553,
           "pain de mie The Baker House multigrains sachet 700 g"
          ],
          [
           488692001,
           197554,
           "pain de mie The Baker House graine de lin sachet 700 g"
          ],
          [
           488692001,
           210165,
           "pain de mie Harry's american sandwich 7 céréales tranches x14 sachet 550 g"
          ],
          [
           488692001,
           210167,
           "pain de mie Harry's american sandwich complet tranche x14 sachet 600 g"
          ],
          [
           488692001,
           216916,
           "pain de mie Saint Christophe complet sachet 550 g"
          ],
          [
           488692001,
           243120,
           "pain de mie La Vie Saine le brioché au lait moelleux sachet 600 g"
          ],
          [
           488692001,
           243121,
           "pain de mie La Vie Saine le grand brioché sachet 600 g"
          ],
          [
           488692001,
           244661,
           "pain de mie Harry's american sandwich complet 600 g"
          ],
          [
           488692001,
           246905,
           "pain de mie La Vie Saine pain panier au levain sachet 600 g"
          ],
          [
           488692001,
           246906,
           "pain de mie Saint-Christophe céréales sachet 550 g"
          ],
          [
           495028004,
           45626,
           "pain de mie La Vie Saine complet au levain sachet 550 g"
          ],
          [
           495028004,
           45856,
           "pain de mie Harry's american sandwich nature tranches x 14 sachet 550 g"
          ],
          [
           495028004,
           45857,
           "pain de mie Baker's sandwich nature sachet 700 g"
          ],
          [
           495028004,
           135077,
           "pain de mie Harry's 100% complet sans croûte tranche x20 sachet 500 g"
          ],
          [
           495028004,
           135080,
           "pain de mie Harry's 100% nature sans croûte tranche x 20 sachet 500 g"
          ],
          [
           495028004,
           147041,
           "pain complet Bjorg bio seigle sachet 500 g"
          ],
          [
           495028004,
           155314,
           "pain de mie La Vie Saine sandwich tranche x 25 sachet 550 g"
          ],
          [
           495028004,
           155359,
           "pain de mie Sceb tranche sachet 550 g"
          ],
          [
           495028004,
           155390,
           "pain multigrains La Vie Saine tranche sachet 350 g"
          ],
          [
           495028004,
           155392,
           "pain multigrains La Vie Saine xxl tranché sachet 700 g"
          ],
          [
           495028004,
           155532,
           "pain complet La Vie Saine au levain tranches sachet 400 g"
          ],
          [
           495028004,
           155659,
           "pain au céréale La Vie Saine tranche sachet 550 g"
          ],
          [
           495028004,
           157174,
           "pain de mie Bjorg bio complet 3 céréales sachet 500 g"
          ],
          [
           495028004,
           170673,
           "pain de mie Brignol complet tranche sachet 500 g"
          ],
          [
           495028004,
           189948,
           "pain de mie Saint-Christophe sachet 550 g"
          ],
          [
           495028004,
           190120,
           "pain de mie The Baker House céréale sachet 700 g"
          ],
          [
           495028004,
           190121,
           "pain de mie The Baker House complet sachet 700 g"
          ],
          [
           495028004,
           197553,
           "pain de mie The Baker House multigrains sachet 700 g"
          ],
          [
           495028004,
           197554,
           "pain de mie The Baker House graine de lin sachet 700 g"
          ],
          [
           495028004,
           210165,
           "pain de mie Harry's american sandwich 7 céréales tranches x14 sachet 550 g"
          ],
          [
           495028004,
           210167,
           "pain de mie Harry's american sandwich complet tranche x14 sachet 600 g"
          ],
          [
           495028004,
           216916,
           "pain de mie Saint Christophe complet sachet 550 g"
          ],
          [
           495028004,
           243120,
           "pain de mie La Vie Saine le brioché au lait moelleux sachet 600 g"
          ],
          [
           495028004,
           243121,
           "pain de mie La Vie Saine le grand brioché sachet 600 g"
          ],
          [
           495028004,
           244661,
           "pain de mie Harry's american sandwich complet 600 g"
          ],
          [
           495028004,
           246905,
           "pain de mie La Vie Saine pain panier au levain sachet 600 g"
          ],
          [
           495028004,
           246906,
           "pain de mie Saint-Christophe céréales sachet 550 g"
          ],
          [
           495028004,
           246910,
           "pain de mie La Vie Saine toast xxl coupé fin + de tranche sachet 700 g"
          ],
          [
           499293002,
           45626,
           "pain de mie La Vie Saine complet au levain sachet 550 g"
          ],
          [
           499293002,
           45857,
           "pain de mie Baker's sandwich nature sachet 700 g"
          ],
          [
           499293002,
           155314,
           "pain de mie La Vie Saine sandwich tranche x 25 sachet 550 g"
          ],
          [
           499293002,
           155359,
           "pain de mie Sceb tranche sachet 550 g"
          ],
          [
           499293002,
           155659,
           "pain au céréale La Vie Saine tranche sachet 550 g"
          ],
          [
           499293002,
           170673,
           "pain de mie Brignol complet tranche sachet 500 g"
          ],
          [
           499293002,
           189948,
           "pain de mie Saint-Christophe sachet 550 g"
          ],
          [
           499293002,
           190120,
           "pain de mie The Baker House céréale sachet 700 g"
          ],
          [
           499293002,
           190121,
           "pain de mie The Baker House complet sachet 700 g"
          ],
          [
           499293002,
           197553,
           "pain de mie The Baker House multigrains sachet 700 g"
          ],
          [
           499293002,
           197554,
           "pain de mie The Baker House graine de lin sachet 700 g"
          ],
          [
           499293002,
           216916,
           "pain de mie Saint Christophe complet sachet 550 g"
          ],
          [
           499293002,
           243120,
           "pain de mie La Vie Saine le brioché au lait moelleux sachet 600 g"
          ],
          [
           499293002,
           246905,
           "pain de mie La Vie Saine pain panier au levain sachet 600 g"
          ],
          [
           499293002,
           246906,
           "pain de mie Saint-Christophe céréales sachet 550 g"
          ],
          [
           513788001,
           45626,
           "pain de mie La Vie Saine complet au levain sachet 550 g"
          ],
          [
           513788001,
           155279,
           "pain de mie La Vie Saine tranche large sachet 600 g"
          ],
          [
           513788001,
           155314,
           "pain de mie La Vie Saine sandwich tranche x 25 sachet 550 g"
          ],
          [
           513788001,
           155359,
           "pain de mie Sceb tranche sachet 550 g"
          ],
          [
           513788001,
           155392,
           "pain multigrains La Vie Saine xxl tranché sachet 700 g"
          ],
          [
           513788001,
           155532,
           "pain complet La Vie Saine au levain tranches sachet 400 g"
          ],
          [
           513788001,
           155659,
           "pain au céréale La Vie Saine tranche sachet 550 g"
          ],
          [
           520981002,
           45626,
           "pain de mie La Vie Saine complet au levain sachet 550 g"
          ],
          [
           520981002,
           45856,
           "pain de mie Harry's american sandwich nature tranches x 14 sachet 550 g"
          ],
          [
           520981002,
           135080,
           "pain de mie Harry's 100% nature sans croûte tranche x 20 sachet 500 g"
          ],
          [
           520981002,
           147041,
           "pain complet Bjorg bio seigle sachet 500 g"
          ],
          [
           520981002,
           155279,
           "pain de mie La Vie Saine tranche large sachet 600 g"
          ],
          [
           520981002,
           155314,
           "pain de mie La Vie Saine sandwich tranche x 25 sachet 550 g"
          ],
          [
           520981002,
           155359,
           "pain de mie Sceb tranche sachet 550 g"
          ],
          [
           520981002,
           155659,
           "pain au céréale La Vie Saine tranche sachet 550 g"
          ],
          [
           520981002,
           157174,
           "pain de mie Bjorg bio complet 3 céréales sachet 500 g"
          ],
          [
           520981002,
           170673,
           "pain de mie Brignol complet tranche sachet 500 g"
          ],
          [
           520981002,
           189948,
           "pain de mie Saint-Christophe sachet 550 g"
          ],
          [
           520981002,
           189954,
           "pain mie Saint Christophe complet sachet 550 g"
          ],
          [
           520981002,
           210167,
           "pain de mie Harry's american sandwich complet tranche x14 sachet 600 g"
          ],
          [
           520981002,
           243120,
           "pain de mie La Vie Saine le brioché au lait moelleux sachet 600 g"
          ],
          [
           524595001,
           45626,
           "pain de mie La Vie Saine complet au levain sachet 550 g"
          ],
          [
           524595001,
           45856,
           "pain de mie Harry's american sandwich nature tranches x 14 sachet 550 g"
          ],
          [
           524595001,
           45857,
           "pain de mie Baker's sandwich nature sachet 700 g"
          ],
          [
           524595001,
           135077,
           "pain de mie Harry's 100% complet sans croûte tranche x20 sachet 500 g"
          ],
          [
           524595001,
           135080,
           "pain de mie Harry's 100% nature sans croûte tranche x 20 sachet 500 g"
          ],
          [
           524595001,
           155314,
           "pain de mie La Vie Saine sandwich tranche x 25 sachet 550 g"
          ],
          [
           524595001,
           155359,
           "pain de mie Sceb tranche sachet 550 g"
          ],
          [
           524595001,
           155659,
           "pain au céréale La Vie Saine tranche sachet 550 g"
          ],
          [
           524595001,
           170673,
           "pain de mie Brignol complet tranche sachet 500 g"
          ],
          [
           524595001,
           189948,
           "pain de mie Saint-Christophe sachet 550 g"
          ],
          [
           524595001,
           189967,
           "pain maxi mie Saint Christophe nature sachet 550 g"
          ],
          [
           524595001,
           190120,
           "pain de mie The Baker House céréale sachet 700 g"
          ],
          [
           524595001,
           190121,
           "pain de mie The Baker House complet sachet 700 g"
          ],
          [
           524595001,
           197553,
           "pain de mie The Baker House multigrains sachet 700 g"
          ],
          [
           524595001,
           197554,
           "pain de mie The Baker House graine de lin sachet 700 g"
          ],
          [
           524595001,
           210165,
           "pain de mie Harry's american sandwich 7 céréales tranches x14 sachet 550 g"
          ],
          [
           524595001,
           210167,
           "pain de mie Harry's american sandwich complet tranche x14 sachet 600 g"
          ],
          [
           524595001,
           216916,
           "pain de mie Saint Christophe complet sachet 550 g"
          ],
          [
           524595001,
           243120,
           "pain de mie La Vie Saine le brioché au lait moelleux sachet 600 g"
          ],
          [
           524595001,
           243121,
           "pain de mie La Vie Saine le grand brioché sachet 600 g"
          ],
          [
           524595001,
           244661,
           "pain de mie Harry's american sandwich complet 600 g"
          ],
          [
           524595001,
           246905,
           "pain de mie La Vie Saine pain panier au levain sachet 600 g"
          ],
          [
           524595001,
           246906,
           "pain de mie Saint-Christophe céréales sachet 550 g"
          ],
          [
           524611001,
           45626,
           "pain de mie La Vie Saine complet au levain sachet 550 g"
          ],
          [
           524611001,
           45857,
           "pain de mie Baker's sandwich nature sachet 700 g"
          ],
          [
           524611001,
           155314,
           "pain de mie La Vie Saine sandwich tranche x 25 sachet 550 g"
          ],
          [
           524611001,
           155359,
           "pain de mie Sceb tranche sachet 550 g"
          ],
          [
           524611001,
           155392,
           "pain multigrains La Vie Saine xxl tranché sachet 700 g"
          ],
          [
           524611001,
           155659,
           "pain au céréale La Vie Saine tranche sachet 550 g"
          ],
          [
           524611001,
           170673,
           "pain de mie Brignol complet tranche sachet 500 g"
          ],
          [
           524611001,
           189948,
           "pain de mie Saint-Christophe sachet 550 g"
          ],
          [
           524611001,
           189967,
           "pain maxi mie Saint Christophe nature sachet 550 g"
          ],
          [
           524611001,
           190120,
           "pain de mie The Baker House céréale sachet 700 g"
          ],
          [
           524611001,
           190121,
           "pain de mie The Baker House complet sachet 700 g"
          ],
          [
           524611001,
           216916,
           "pain de mie Saint Christophe complet sachet 550 g"
          ],
          [
           524611001,
           243120,
           "pain de mie La Vie Saine le brioché au lait moelleux sachet 600 g"
          ],
          [
           524629001,
           45626,
           "pain de mie La Vie Saine complet au levain sachet 550 g"
          ],
          [
           524629001,
           45857,
           "pain de mie Baker's sandwich nature sachet 700 g"
          ],
          [
           524629001,
           155314,
           "pain de mie La Vie Saine sandwich tranche x 25 sachet 550 g"
          ],
          [
           524629001,
           155359,
           "pain de mie Sceb tranche sachet 550 g"
          ],
          [
           524629001,
           155659,
           "pain au céréale La Vie Saine tranche sachet 550 g"
          ],
          [
           524629001,
           170673,
           "pain de mie Brignol complet tranche sachet 500 g"
          ],
          [
           524629001,
           189948,
           "pain de mie Saint-Christophe sachet 550 g"
          ],
          [
           524629001,
           190120,
           "pain de mie The Baker House céréale sachet 700 g"
          ],
          [
           524629001,
           190121,
           "pain de mie The Baker House complet sachet 700 g"
          ],
          [
           524629001,
           197553,
           "pain de mie The Baker House multigrains sachet 700 g"
          ],
          [
           524629001,
           197554,
           "pain de mie The Baker House graine de lin sachet 700 g"
          ],
          [
           524629001,
           216916,
           "pain de mie Saint Christophe complet sachet 550 g"
          ],
          [
           524629001,
           243120,
           "pain de mie La Vie Saine le brioché au lait moelleux sachet 600 g"
          ],
          [
           524629001,
           243121,
           "pain de mie La Vie Saine le grand brioché sachet 600 g"
          ],
          [
           524629001,
           246905,
           "pain de mie La Vie Saine pain panier au levain sachet 600 g"
          ],
          [
           524637002,
           45626,
           "pain de mie La Vie Saine complet au levain sachet 550 g"
          ],
          [
           524637002,
           45856,
           "pain de mie Harry's american sandwich nature tranches x 14 sachet 550 g"
          ],
          [
           524637002,
           45857,
           "pain de mie Baker's sandwich nature sachet 700 g"
          ],
          [
           524637002,
           135077,
           "pain de mie Harry's 100% complet sans croûte tranche x20 sachet 500 g"
          ],
          [
           524637002,
           135080,
           "pain de mie Harry's 100% nature sans croûte tranche x 20 sachet 500 g"
          ],
          [
           524637002,
           155314,
           "pain de mie La Vie Saine sandwich tranche x 25 sachet 550 g"
          ],
          [
           524637002,
           155359,
           "pain de mie Sceb tranche sachet 550 g"
          ],
          [
           524637002,
           155659,
           "pain au céréale La Vie Saine tranche sachet 550 g"
          ],
          [
           524637002,
           170673,
           "pain de mie Brignol complet tranche sachet 500 g"
          ],
          [
           524637002,
           189948,
           "pain de mie Saint-Christophe sachet 550 g"
          ],
          [
           524637002,
           210165,
           "pain de mie Harry's american sandwich 7 céréales tranches x14 sachet 550 g"
          ],
          [
           524637002,
           210167,
           "pain de mie Harry's american sandwich complet tranche x14 sachet 600 g"
          ],
          [
           524637002,
           216916,
           "pain de mie Saint Christophe complet sachet 550 g"
          ],
          [
           524637002,
           243120,
           "pain de mie La Vie Saine le brioché au lait moelleux sachet 600 g"
          ],
          [
           524637002,
           243121,
           "pain de mie La Vie Saine le grand brioché sachet 600 g"
          ],
          [
           524637002,
           244661,
           "pain de mie Harry's american sandwich complet 600 g"
          ],
          [
           524637002,
           246905,
           "pain de mie La Vie Saine pain panier au levain sachet 600 g"
          ],
          [
           524637002,
           246906,
           "pain de mie Saint-Christophe céréales sachet 550 g"
          ],
          [
           541409002,
           45626,
           "pain de mie La Vie Saine complet au levain sachet 550 g"
          ],
          [
           544528001,
           45626,
           "pain de mie La Vie Saine complet au levain sachet 550 g"
          ],
          [
           544528001,
           135077,
           "pain de mie Harry's 100% complet sans croûte tranche x20 sachet 500 g"
          ],
          [
           544528001,
           135080,
           "pain de mie Harry's 100% nature sans croûte tranche x 20 sachet 500 g"
          ],
          [
           544528001,
           155279,
           "pain de mie La Vie Saine tranche large sachet 600 g"
          ],
          [
           544528001,
           155314,
           "pain de mie La Vie Saine sandwich tranche x 25 sachet 550 g"
          ],
          [
           544528001,
           155392,
           "pain multigrains La Vie Saine xxl tranché sachet 700 g"
          ],
          [
           544528001,
           155532,
           "pain complet La Vie Saine au levain tranches sachet 400 g"
          ],
          [
           544528001,
           155659,
           "pain au céréale La Vie Saine tranche sachet 550 g"
          ],
          [
           544528001,
           210165,
           "pain de mie Harry's american sandwich 7 céréales tranches x14 sachet 550 g"
          ],
          [
           544528001,
           243120,
           "pain de mie La Vie Saine le brioché au lait moelleux sachet 600 g"
          ],
          [
           544528001,
           243121,
           "pain de mie La Vie Saine le grand brioché sachet 600 g"
          ],
          [
           544528001,
           244661,
           "pain de mie Harry's american sandwich complet 600 g"
          ],
          [
           555433001,
           45626,
           "pain de mie La Vie Saine complet au levain sachet 550 g"
          ],
          [
           555433001,
           155314,
           "pain de mie La Vie Saine sandwich tranche x 25 sachet 550 g"
          ],
          [
           555433001,
           155659,
           "pain au céréale La Vie Saine tranche sachet 550 g"
          ],
          [
           555433001,
           243120,
           "pain de mie La Vie Saine le brioché au lait moelleux sachet 600 g"
          ],
          [
           558593002,
           45856,
           "pain de mie Harry's american sandwich nature tranches x 14 sachet 550 g"
          ],
          [
           558593002,
           135077,
           "pain de mie Harry's 100% complet sans croûte tranche x20 sachet 500 g"
          ],
          [
           558593002,
           135080,
           "pain de mie Harry's 100% nature sans croûte tranche x 20 sachet 500 g"
          ],
          [
           558593002,
           155359,
           "pain de mie Sceb tranche sachet 550 g"
          ],
          [
           558593002,
           157174,
           "pain de mie Bjorg bio complet 3 céréales sachet 500 g"
          ],
          [
           558593002,
           170673,
           "pain de mie Brignol complet tranche sachet 500 g"
          ],
          [
           558593002,
           189948,
           "pain de mie Saint-Christophe sachet 550 g"
          ],
          [
           558593002,
           190120,
           "pain de mie The Baker House céréale sachet 700 g"
          ],
          [
           558593002,
           197553,
           "pain de mie The Baker House multigrains sachet 700 g"
          ],
          [
           558593002,
           210165,
           "pain de mie Harry's american sandwich 7 céréales tranches x14 sachet 550 g"
          ],
          [
           558593002,
           210167,
           "pain de mie Harry's american sandwich complet tranche x14 sachet 600 g"
          ],
          [
           558593004,
           45856,
           "pain de mie Harry's american sandwich nature tranches x 14 sachet 550 g"
          ],
          [
           558593004,
           135077,
           "pain de mie Harry's 100% complet sans croûte tranche x20 sachet 500 g"
          ],
          [
           558593004,
           135080,
           "pain de mie Harry's 100% nature sans croûte tranche x 20 sachet 500 g"
          ],
          [
           558593004,
           155359,
           "pain de mie Sceb tranche sachet 550 g"
          ],
          [
           558593004,
           189948,
           "pain de mie Saint-Christophe sachet 550 g"
          ],
          [
           558593004,
           189954,
           "pain mie Saint Christophe complet sachet 550 g"
          ],
          [
           558593004,
           190120,
           "pain de mie The Baker House céréale sachet 700 g"
          ],
          [
           558593004,
           210165,
           "pain de mie Harry's american sandwich 7 céréales tranches x14 sachet 550 g"
          ],
          [
           558593004,
           210167,
           "pain de mie Harry's american sandwich complet tranche x14 sachet 600 g"
          ],
          [
           581181001,
           155359,
           "pain de mie Sceb tranche sachet 550 g"
          ],
          [
           597336001,
           155359,
           "pain de mie Sceb tranche sachet 550 g"
          ],
          [
           599142001,
           45626,
           "pain de mie La Vie Saine complet au levain sachet 550 g"
          ],
          [
           599142001,
           155314,
           "pain de mie La Vie Saine sandwich tranche x 25 sachet 550 g"
          ],
          [
           599142001,
           155659,
           "pain au céréale La Vie Saine tranche sachet 550 g"
          ],
          [
           599142001,
           243120,
           "pain de mie La Vie Saine le brioché au lait moelleux sachet 600 g"
          ],
          [
           631614001,
           45856,
           "pain de mie Harry's american sandwich nature tranches x 14 sachet 550 g"
          ],
          [
           631614001,
           135077,
           "pain de mie Harry's 100% complet sans croûte tranche x20 sachet 500 g"
          ],
          [
           631614001,
           135080,
           "pain de mie Harry's 100% nature sans croûte tranche x 20 sachet 500 g"
          ],
          [
           631614001,
           147041,
           "pain complet Bjorg bio seigle sachet 500 g"
          ],
          [
           631614001,
           155359,
           "pain de mie Sceb tranche sachet 550 g"
          ],
          [
           631614001,
           157174,
           "pain de mie Bjorg bio complet 3 céréales sachet 500 g"
          ],
          [
           631614001,
           189948,
           "pain de mie Saint-Christophe sachet 550 g"
          ],
          [
           631614001,
           189954,
           "pain mie Saint Christophe complet sachet 550 g"
          ],
          [
           631614001,
           210165,
           "pain de mie Harry's american sandwich 7 céréales tranches x14 sachet 550 g"
          ],
          [
           631614001,
           210167,
           "pain de mie Harry's american sandwich complet tranche x14 sachet 600 g"
          ],
          [
           642470001,
           45626,
           "pain de mie La Vie Saine complet au levain sachet 550 g"
          ],
          [
           642470001,
           155314,
           "pain de mie La Vie Saine sandwich tranche x 25 sachet 550 g"
          ],
          [
           642470001,
           155659,
           "pain au céréale La Vie Saine tranche sachet 550 g"
          ],
          [
           642470001,
           243120,
           "pain de mie La Vie Saine le brioché au lait moelleux sachet 600 g"
          ],
          [
           665919001,
           45626,
           "pain de mie La Vie Saine complet au levain sachet 550 g"
          ],
          [
           665919001,
           45857,
           "pain de mie Baker's sandwich nature sachet 700 g"
          ],
          [
           665919001,
           155279,
           "pain de mie La Vie Saine tranche large sachet 600 g"
          ],
          [
           665919001,
           155314,
           "pain de mie La Vie Saine sandwich tranche x 25 sachet 550 g"
          ],
          [
           665919001,
           155359,
           "pain de mie Sceb tranche sachet 550 g"
          ],
          [
           665919001,
           155390,
           "pain multigrains La Vie Saine tranche sachet 350 g"
          ],
          [
           665919001,
           155392,
           "pain multigrains La Vie Saine xxl tranché sachet 700 g"
          ],
          [
           665919001,
           155532,
           "pain complet La Vie Saine au levain tranches sachet 400 g"
          ],
          [
           665919001,
           155659,
           "pain au céréale La Vie Saine tranche sachet 550 g"
          ],
          [
           665919001,
           170673,
           "pain de mie Brignol complet tranche sachet 500 g"
          ],
          [
           665919001,
           189948,
           "pain de mie Saint-Christophe sachet 550 g"
          ],
          [
           665919001,
           189967,
           "pain maxi mie Saint Christophe nature sachet 550 g"
          ],
          [
           665919001,
           190120,
           "pain de mie The Baker House céréale sachet 700 g"
          ],
          [
           665919001,
           197553,
           "pain de mie The Baker House multigrains sachet 700 g"
          ],
          [
           665919001,
           197554,
           "pain de mie The Baker House graine de lin sachet 700 g"
          ],
          [
           665919001,
           216916,
           "pain de mie Saint Christophe complet sachet 550 g"
          ],
          [
           669507001,
           155359,
           "pain de mie Sceb tranche sachet 550 g"
          ],
          [
           670844001,
           155359,
           "pain de mie Sceb tranche sachet 550 g"
          ],
          [
           696336001,
           45856,
           "pain de mie Harry's american sandwich nature tranches x 14 sachet 550 g"
          ],
          [
           696336001,
           135077,
           "pain de mie Harry's 100% complet sans croûte tranche x20 sachet 500 g"
          ],
          [
           696336001,
           135080,
           "pain de mie Harry's 100% nature sans croûte tranche x 20 sachet 500 g"
          ],
          [
           696336001,
           147041,
           "pain complet Bjorg bio seigle sachet 500 g"
          ],
          [
           696336001,
           155359,
           "pain de mie Sceb tranche sachet 550 g"
          ],
          [
           696336001,
           157174,
           "pain de mie Bjorg bio complet 3 céréales sachet 500 g"
          ],
          [
           696336001,
           190120,
           "pain de mie The Baker House céréale sachet 700 g"
          ],
          [
           696336001,
           197553,
           "pain de mie The Baker House multigrains sachet 700 g"
          ],
          [
           696336001,
           210167,
           "pain de mie Harry's american sandwich complet tranche x14 sachet 600 g"
          ],
          [
           700260001,
           189948,
           "pain de mie Saint-Christophe sachet 550 g"
          ],
          [
           700260001,
           216916,
           "pain de mie Saint Christophe complet sachet 550 g"
          ],
          [
           710921001,
           45856,
           "pain de mie Harry's american sandwich nature tranches x 14 sachet 550 g"
          ],
          [
           710921001,
           135077,
           "pain de mie Harry's 100% complet sans croûte tranche x20 sachet 500 g"
          ],
          [
           710921001,
           135080,
           "pain de mie Harry's 100% nature sans croûte tranche x 20 sachet 500 g"
          ],
          [
           710921001,
           155359,
           "pain de mie Sceb tranche sachet 550 g"
          ],
          [
           710921001,
           189948,
           "pain de mie Saint-Christophe sachet 550 g"
          ],
          [
           710921001,
           189954,
           "pain mie Saint Christophe complet sachet 550 g"
          ],
          [
           710921001,
           190120,
           "pain de mie The Baker House céréale sachet 700 g"
          ],
          [
           710921001,
           210165,
           "pain de mie Harry's american sandwich 7 céréales tranches x14 sachet 550 g"
          ],
          [
           710921001,
           210167,
           "pain de mie Harry's american sandwich complet tranche x14 sachet 600 g"
          ],
          [
           710921003,
           45856,
           "pain de mie Harry's american sandwich nature tranches x 14 sachet 550 g"
          ],
          [
           710921003,
           135077,
           "pain de mie Harry's 100% complet sans croûte tranche x20 sachet 500 g"
          ],
          [
           710921003,
           135080,
           "pain de mie Harry's 100% nature sans croûte tranche x 20 sachet 500 g"
          ],
          [
           710921003,
           147041,
           "pain complet Bjorg bio seigle sachet 500 g"
          ],
          [
           710921003,
           155359,
           "pain de mie Sceb tranche sachet 550 g"
          ],
          [
           710921003,
           157174,
           "pain de mie Bjorg bio complet 3 céréales sachet 500 g"
          ],
          [
           710921003,
           190120,
           "pain de mie The Baker House céréale sachet 700 g"
          ],
          [
           710921003,
           197553,
           "pain de mie The Baker House multigrains sachet 700 g"
          ],
          [
           710921003,
           210165,
           "pain de mie Harry's american sandwich 7 céréales tranches x14 sachet 550 g"
          ],
          [
           710921003,
           210167,
           "pain de mie Harry's american sandwich complet tranche x14 sachet 600 g"
          ],
          [
           730200001,
           45626,
           "pain de mie La Vie Saine complet au levain sachet 550 g"
          ],
          [
           730200001,
           45856,
           "pain de mie Harry's american sandwich nature tranches x 14 sachet 550 g"
          ],
          [
           730200001,
           45857,
           "pain de mie Baker's sandwich nature sachet 700 g"
          ],
          [
           730200001,
           135077,
           "pain de mie Harry's 100% complet sans croûte tranche x20 sachet 500 g"
          ],
          [
           730200001,
           135080,
           "pain de mie Harry's 100% nature sans croûte tranche x 20 sachet 500 g"
          ],
          [
           730200001,
           155314,
           "pain de mie La Vie Saine sandwich tranche x 25 sachet 550 g"
          ],
          [
           730200001,
           155359,
           "pain de mie Sceb tranche sachet 550 g"
          ],
          [
           730200001,
           155659,
           "pain au céréale La Vie Saine tranche sachet 550 g"
          ],
          [
           730200001,
           170673,
           "pain de mie Brignol complet tranche sachet 500 g"
          ],
          [
           730200001,
           189948,
           "pain de mie Saint-Christophe sachet 550 g"
          ],
          [
           730200001,
           189967,
           "pain maxi mie Saint Christophe nature sachet 550 g"
          ],
          [
           730200001,
           190120,
           "pain de mie The Baker House céréale sachet 700 g"
          ],
          [
           730200001,
           190121,
           "pain de mie The Baker House complet sachet 700 g"
          ],
          [
           730200001,
           197553,
           "pain de mie The Baker House multigrains sachet 700 g"
          ],
          [
           730200001,
           197554,
           "pain de mie The Baker House graine de lin sachet 700 g"
          ],
          [
           730200001,
           210165,
           "pain de mie Harry's american sandwich 7 céréales tranches x14 sachet 550 g"
          ],
          [
           730200001,
           210167,
           "pain de mie Harry's american sandwich complet tranche x14 sachet 600 g"
          ],
          [
           730200001,
           216916,
           "pain de mie Saint Christophe complet sachet 550 g"
          ],
          [
           730200001,
           243120,
           "pain de mie La Vie Saine le brioché au lait moelleux sachet 600 g"
          ],
          [
           730200001,
           243121,
           "pain de mie La Vie Saine le grand brioché sachet 600 g"
          ],
          [
           730200001,
           244661,
           "pain de mie Harry's american sandwich complet 600 g"
          ],
          [
           730200001,
           246905,
           "pain de mie La Vie Saine pain panier au levain sachet 600 g"
          ],
          [
           730200001,
           246906,
           "pain de mie Saint-Christophe céréales sachet 550 g"
          ],
          [
           768150001,
           45626,
           "pain de mie La Vie Saine complet au levain sachet 550 g"
          ],
          [
           768150001,
           155314,
           "pain de mie La Vie Saine sandwich tranche x 25 sachet 550 g"
          ],
          [
           827634002,
           45857,
           "pain de mie Baker's sandwich nature sachet 700 g"
          ],
          [
           828434001,
           157174,
           "pain de mie Bjorg bio complet 3 céréales sachet 500 g"
          ],
          [
           832055001,
           45626,
           "pain de mie La Vie Saine complet au levain sachet 550 g"
          ],
          [
           832055001,
           45856,
           "pain de mie Harry's american sandwich nature tranches x 14 sachet 550 g"
          ],
          [
           832055001,
           45857,
           "pain de mie Baker's sandwich nature sachet 700 g"
          ],
          [
           832055001,
           135077,
           "pain de mie Harry's 100% complet sans croûte tranche x20 sachet 500 g"
          ],
          [
           832055001,
           135080,
           "pain de mie Harry's 100% nature sans croûte tranche x 20 sachet 500 g"
          ],
          [
           832055001,
           155314,
           "pain de mie La Vie Saine sandwich tranche x 25 sachet 550 g"
          ],
          [
           832055001,
           155359,
           "pain de mie Sceb tranche sachet 550 g"
          ],
          [
           832055001,
           155390,
           "pain multigrains La Vie Saine tranche sachet 350 g"
          ],
          [
           832055001,
           155392,
           "pain multigrains La Vie Saine xxl tranché sachet 700 g"
          ],
          [
           832055001,
           155532,
           "pain complet La Vie Saine au levain tranches sachet 400 g"
          ],
          [
           832055001,
           155659,
           "pain au céréale La Vie Saine tranche sachet 550 g"
          ],
          [
           832055001,
           190120,
           "pain de mie The Baker House céréale sachet 700 g"
          ],
          [
           832055001,
           190121,
           "pain de mie The Baker House complet sachet 700 g"
          ],
          [
           832055001,
           210165,
           "pain de mie Harry's american sandwich 7 céréales tranches x14 sachet 550 g"
          ],
          [
           832055001,
           243120,
           "pain de mie La Vie Saine le brioché au lait moelleux sachet 600 g"
          ],
          [
           832055001,
           243121,
           "pain de mie La Vie Saine le grand brioché sachet 600 g"
          ],
          [
           832055001,
           244661,
           "pain de mie Harry's american sandwich complet 600 g"
          ],
          [
           832956003,
           45626,
           "pain de mie La Vie Saine complet au levain sachet 550 g"
          ],
          [
           832956003,
           45857,
           "pain de mie Baker's sandwich nature sachet 700 g"
          ],
          [
           832956003,
           155279,
           "pain de mie La Vie Saine tranche large sachet 600 g"
          ],
          [
           832956003,
           155314,
           "pain de mie La Vie Saine sandwich tranche x 25 sachet 550 g"
          ],
          [
           832956003,
           155359,
           "pain de mie Sceb tranche sachet 550 g"
          ],
          [
           832956003,
           155390,
           "pain multigrains La Vie Saine tranche sachet 350 g"
          ],
          [
           832956003,
           155392,
           "pain multigrains La Vie Saine xxl tranché sachet 700 g"
          ],
          [
           832956003,
           155532,
           "pain complet La Vie Saine au levain tranches sachet 400 g"
          ],
          [
           832956003,
           155657,
           "pain de campagne La Vie Saine aux céréales tranche sachet 350 g"
          ],
          [
           832956003,
           155659,
           "pain au céréale La Vie Saine tranche sachet 550 g"
          ],
          [
           832956003,
           170673,
           "pain de mie Brignol complet tranche sachet 500 g"
          ],
          [
           832956003,
           189948,
           "pain de mie Saint-Christophe sachet 550 g"
          ],
          [
           832956003,
           190120,
           "pain de mie The Baker House céréale sachet 700 g"
          ],
          [
           832956003,
           190121,
           "pain de mie The Baker House complet sachet 700 g"
          ],
          [
           832956003,
           197553,
           "pain de mie The Baker House multigrains sachet 700 g"
          ],
          [
           832956003,
           216916,
           "pain de mie Saint Christophe complet sachet 550 g"
          ],
          [
           832956003,
           246905,
           "pain de mie La Vie Saine pain panier au levain sachet 600 g"
          ],
          [
           832956003,
           246906,
           "pain de mie Saint-Christophe céréales sachet 550 g"
          ],
          [
           832956003,
           246910,
           "pain de mie La Vie Saine toast xxl coupé fin + de tranche sachet 700 g"
          ],
          [
           832956004,
           45626,
           "pain de mie La Vie Saine complet au levain sachet 550 g"
          ],
          [
           832956004,
           45857,
           "pain de mie Baker's sandwich nature sachet 700 g"
          ],
          [
           832956004,
           155279,
           "pain de mie La Vie Saine tranche large sachet 600 g"
          ],
          [
           832956004,
           155314,
           "pain de mie La Vie Saine sandwich tranche x 25 sachet 550 g"
          ],
          [
           832956004,
           155359,
           "pain de mie Sceb tranche sachet 550 g"
          ],
          [
           832956004,
           155390,
           "pain multigrains La Vie Saine tranche sachet 350 g"
          ],
          [
           832956004,
           155392,
           "pain multigrains La Vie Saine xxl tranché sachet 700 g"
          ],
          [
           832956004,
           155532,
           "pain complet La Vie Saine au levain tranches sachet 400 g"
          ],
          [
           832956004,
           155657,
           "pain de campagne La Vie Saine aux céréales tranche sachet 350 g"
          ],
          [
           832956004,
           155659,
           "pain au céréale La Vie Saine tranche sachet 550 g"
          ],
          [
           832956004,
           170673,
           "pain de mie Brignol complet tranche sachet 500 g"
          ],
          [
           832956004,
           189948,
           "pain de mie Saint-Christophe sachet 550 g"
          ],
          [
           832956004,
           189967,
           "pain maxi mie Saint Christophe nature sachet 550 g"
          ],
          [
           832956004,
           190120,
           "pain de mie The Baker House céréale sachet 700 g"
          ],
          [
           832956004,
           190121,
           "pain de mie The Baker House complet sachet 700 g"
          ],
          [
           832956004,
           197553,
           "pain de mie The Baker House multigrains sachet 700 g"
          ],
          [
           832956004,
           197554,
           "pain de mie The Baker House graine de lin sachet 700 g"
          ],
          [
           832956004,
           216916,
           "pain de mie Saint Christophe complet sachet 550 g"
          ],
          [
           832956004,
           246906,
           "pain de mie Saint-Christophe céréales sachet 550 g"
          ],
          [
           832956005,
           45626,
           "pain de mie La Vie Saine complet au levain sachet 550 g"
          ],
          [
           832956005,
           45857,
           "pain de mie Baker's sandwich nature sachet 700 g"
          ],
          [
           832956005,
           155279,
           "pain de mie La Vie Saine tranche large sachet 600 g"
          ],
          [
           832956005,
           155314,
           "pain de mie La Vie Saine sandwich tranche x 25 sachet 550 g"
          ],
          [
           832956005,
           155359,
           "pain de mie Sceb tranche sachet 550 g"
          ],
          [
           832956005,
           155392,
           "pain multigrains La Vie Saine xxl tranché sachet 700 g"
          ],
          [
           832956005,
           155532,
           "pain complet La Vie Saine au levain tranches sachet 400 g"
          ],
          [
           832956005,
           155657,
           "pain de campagne La Vie Saine aux céréales tranche sachet 350 g"
          ],
          [
           832956005,
           155659,
           "pain au céréale La Vie Saine tranche sachet 550 g"
          ],
          [
           832956005,
           170673,
           "pain de mie Brignol complet tranche sachet 500 g"
          ],
          [
           832956005,
           189948,
           "pain de mie Saint-Christophe sachet 550 g"
          ],
          [
           832956005,
           190120,
           "pain de mie The Baker House céréale sachet 700 g"
          ],
          [
           832956005,
           190121,
           "pain de mie The Baker House complet sachet 700 g"
          ],
          [
           832956005,
           210167,
           "pain de mie Harry's american sandwich complet tranche x14 sachet 600 g"
          ],
          [
           832956005,
           216916,
           "pain de mie Saint Christophe complet sachet 550 g"
          ],
          [
           832956005,
           243120,
           "pain de mie La Vie Saine le brioché au lait moelleux sachet 600 g"
          ],
          [
           832956005,
           246905,
           "pain de mie La Vie Saine pain panier au levain sachet 600 g"
          ],
          [
           832956005,
           246906,
           "pain de mie Saint-Christophe céréales sachet 550 g"
          ],
          [
           832956006,
           45626,
           "pain de mie La Vie Saine complet au levain sachet 550 g"
          ],
          [
           832956006,
           45856,
           "pain de mie Harry's american sandwich nature tranches x 14 sachet 550 g"
          ],
          [
           832956006,
           45857,
           "pain de mie Baker's sandwich nature sachet 700 g"
          ],
          [
           832956006,
           135077,
           "pain de mie Harry's 100% complet sans croûte tranche x20 sachet 500 g"
          ],
          [
           832956006,
           135080,
           "pain de mie Harry's 100% nature sans croûte tranche x 20 sachet 500 g"
          ],
          [
           832956006,
           155279,
           "pain de mie La Vie Saine tranche large sachet 600 g"
          ],
          [
           832956006,
           155314,
           "pain de mie La Vie Saine sandwich tranche x 25 sachet 550 g"
          ],
          [
           832956006,
           155359,
           "pain de mie Sceb tranche sachet 550 g"
          ],
          [
           832956006,
           155390,
           "pain multigrains La Vie Saine tranche sachet 350 g"
          ],
          [
           832956006,
           155392,
           "pain multigrains La Vie Saine xxl tranché sachet 700 g"
          ],
          [
           832956006,
           155532,
           "pain complet La Vie Saine au levain tranches sachet 400 g"
          ],
          [
           832956006,
           155659,
           "pain au céréale La Vie Saine tranche sachet 550 g"
          ],
          [
           832956006,
           170673,
           "pain de mie Brignol complet tranche sachet 500 g"
          ],
          [
           832956006,
           189948,
           "pain de mie Saint-Christophe sachet 550 g"
          ],
          [
           832956006,
           190120,
           "pain de mie The Baker House céréale sachet 700 g"
          ],
          [
           832956006,
           190121,
           "pain de mie The Baker House complet sachet 700 g"
          ],
          [
           832956006,
           197553,
           "pain de mie The Baker House multigrains sachet 700 g"
          ],
          [
           832956006,
           197554,
           "pain de mie The Baker House graine de lin sachet 700 g"
          ],
          [
           832956006,
           210167,
           "pain de mie Harry's american sandwich complet tranche x14 sachet 600 g"
          ],
          [
           832956006,
           216916,
           "pain de mie Saint Christophe complet sachet 550 g"
          ],
          [
           832956006,
           243120,
           "pain de mie La Vie Saine le brioché au lait moelleux sachet 600 g"
          ],
          [
           832956006,
           243121,
           "pain de mie La Vie Saine le grand brioché sachet 600 g"
          ],
          [
           832956006,
           246905,
           "pain de mie La Vie Saine pain panier au levain sachet 600 g"
          ],
          [
           832956006,
           246906,
           "pain de mie Saint-Christophe céréales sachet 550 g"
          ],
          [
           832956007,
           45626,
           "pain de mie La Vie Saine complet au levain sachet 550 g"
          ],
          [
           832956007,
           45857,
           "pain de mie Baker's sandwich nature sachet 700 g"
          ],
          [
           832956007,
           155279,
           "pain de mie La Vie Saine tranche large sachet 600 g"
          ],
          [
           832956007,
           155314,
           "pain de mie La Vie Saine sandwich tranche x 25 sachet 550 g"
          ],
          [
           832956007,
           155359,
           "pain de mie Sceb tranche sachet 550 g"
          ],
          [
           832956007,
           155392,
           "pain multigrains La Vie Saine xxl tranché sachet 700 g"
          ],
          [
           832956007,
           155532,
           "pain complet La Vie Saine au levain tranches sachet 400 g"
          ],
          [
           832956007,
           155657,
           "pain de campagne La Vie Saine aux céréales tranche sachet 350 g"
          ],
          [
           832956007,
           155659,
           "pain au céréale La Vie Saine tranche sachet 550 g"
          ],
          [
           832956007,
           170673,
           "pain de mie Brignol complet tranche sachet 500 g"
          ],
          [
           832956007,
           189948,
           "pain de mie Saint-Christophe sachet 550 g"
          ],
          [
           832956007,
           190120,
           "pain de mie The Baker House céréale sachet 700 g"
          ],
          [
           832956007,
           190121,
           "pain de mie The Baker House complet sachet 700 g"
          ],
          [
           832956007,
           216916,
           "pain de mie Saint Christophe complet sachet 550 g"
          ],
          [
           832956007,
           243120,
           "pain de mie La Vie Saine le brioché au lait moelleux sachet 600 g"
          ],
          [
           832956007,
           243121,
           "pain de mie La Vie Saine le grand brioché sachet 600 g"
          ],
          [
           832956007,
           246905,
           "pain de mie La Vie Saine pain panier au levain sachet 600 g"
          ],
          [
           832956007,
           246906,
           "pain de mie Saint-Christophe céréales sachet 550 g"
          ],
          [
           832956007,
           246910,
           "pain de mie La Vie Saine toast xxl coupé fin + de tranche sachet 700 g"
          ],
          [
           832956008,
           45626,
           "pain de mie La Vie Saine complet au levain sachet 550 g"
          ],
          [
           832956008,
           45857,
           "pain de mie Baker's sandwich nature sachet 700 g"
          ],
          [
           832956008,
           155279,
           "pain de mie La Vie Saine tranche large sachet 600 g"
          ],
          [
           832956008,
           155314,
           "pain de mie La Vie Saine sandwich tranche x 25 sachet 550 g"
          ],
          [
           832956008,
           155359,
           "pain de mie Sceb tranche sachet 550 g"
          ],
          [
           832956008,
           155392,
           "pain multigrains La Vie Saine xxl tranché sachet 700 g"
          ],
          [
           832956008,
           155532,
           "pain complet La Vie Saine au levain tranches sachet 400 g"
          ],
          [
           832956008,
           155657,
           "pain de campagne La Vie Saine aux céréales tranche sachet 350 g"
          ],
          [
           832956008,
           155659,
           "pain au céréale La Vie Saine tranche sachet 550 g"
          ],
          [
           832956008,
           170673,
           "pain de mie Brignol complet tranche sachet 500 g"
          ],
          [
           832956008,
           189948,
           "pain de mie Saint-Christophe sachet 550 g"
          ],
          [
           832956008,
           190120,
           "pain de mie The Baker House céréale sachet 700 g"
          ],
          [
           832956008,
           190121,
           "pain de mie The Baker House complet sachet 700 g"
          ],
          [
           832956008,
           197553,
           "pain de mie The Baker House multigrains sachet 700 g"
          ],
          [
           832956008,
           216916,
           "pain de mie Saint Christophe complet sachet 550 g"
          ],
          [
           832956008,
           246905,
           "pain de mie La Vie Saine pain panier au levain sachet 600 g"
          ],
          [
           832956008,
           246906,
           "pain de mie Saint-Christophe céréales sachet 550 g"
          ],
          [
           836965001,
           45626,
           "pain de mie La Vie Saine complet au levain sachet 550 g"
          ],
          [
           836965001,
           45856,
           "pain de mie Harry's american sandwich nature tranches x 14 sachet 550 g"
          ],
          [
           836965001,
           45857,
           "pain de mie Baker's sandwich nature sachet 700 g"
          ],
          [
           836965001,
           135077,
           "pain de mie Harry's 100% complet sans croûte tranche x20 sachet 500 g"
          ],
          [
           836965001,
           135080,
           "pain de mie Harry's 100% nature sans croûte tranche x 20 sachet 500 g"
          ],
          [
           836965001,
           147041,
           "pain complet Bjorg bio seigle sachet 500 g"
          ],
          [
           836965001,
           155279,
           "pain de mie La Vie Saine tranche large sachet 600 g"
          ],
          [
           836965001,
           155314,
           "pain de mie La Vie Saine sandwich tranche x 25 sachet 550 g"
          ],
          [
           836965001,
           155359,
           "pain de mie Sceb tranche sachet 550 g"
          ],
          [
           836965001,
           155390,
           "pain multigrains La Vie Saine tranche sachet 350 g"
          ],
          [
           836965001,
           155392,
           "pain multigrains La Vie Saine xxl tranché sachet 700 g"
          ],
          [
           836965001,
           155532,
           "pain complet La Vie Saine au levain tranches sachet 400 g"
          ],
          [
           836965001,
           155657,
           "pain de campagne La Vie Saine aux céréales tranche sachet 350 g"
          ],
          [
           836965001,
           155659,
           "pain au céréale La Vie Saine tranche sachet 550 g"
          ],
          [
           836965001,
           157174,
           "pain de mie Bjorg bio complet 3 céréales sachet 500 g"
          ],
          [
           836965001,
           170673,
           "pain de mie Brignol complet tranche sachet 500 g"
          ],
          [
           836965001,
           189948,
           "pain de mie Saint-Christophe sachet 550 g"
          ],
          [
           836965001,
           189967,
           "pain maxi mie Saint Christophe nature sachet 550 g"
          ],
          [
           836965001,
           190120,
           "pain de mie The Baker House céréale sachet 700 g"
          ],
          [
           836965001,
           190121,
           "pain de mie The Baker House complet sachet 700 g"
          ],
          [
           836965001,
           197553,
           "pain de mie The Baker House multigrains sachet 700 g"
          ],
          [
           836965001,
           197554,
           "pain de mie The Baker House graine de lin sachet 700 g"
          ],
          [
           836965001,
           210165,
           "pain de mie Harry's american sandwich 7 céréales tranches x14 sachet 550 g"
          ],
          [
           836965001,
           216916,
           "pain de mie Saint Christophe complet sachet 550 g"
          ],
          [
           836965001,
           243120,
           "pain de mie La Vie Saine le brioché au lait moelleux sachet 600 g"
          ],
          [
           836965001,
           243121,
           "pain de mie La Vie Saine le grand brioché sachet 600 g"
          ],
          [
           836965001,
           244661,
           "pain de mie Harry's american sandwich complet 600 g"
          ],
          [
           939421001,
           45626,
           "pain de mie La Vie Saine complet au levain sachet 550 g"
          ],
          [
           939421001,
           45857,
           "pain de mie Baker's sandwich nature sachet 700 g"
          ],
          [
           939421001,
           155314,
           "pain de mie La Vie Saine sandwich tranche x 25 sachet 550 g"
          ],
          [
           939421001,
           155359,
           "pain de mie Sceb tranche sachet 550 g"
          ],
          [
           939421001,
           155659,
           "pain au céréale La Vie Saine tranche sachet 550 g"
          ],
          [
           957571005,
           45626,
           "pain de mie La Vie Saine complet au levain sachet 550 g"
          ],
          [
           957571005,
           155659,
           "pain au céréale La Vie Saine tranche sachet 550 g"
          ],
          [
           957571005,
           243120,
           "pain de mie La Vie Saine le brioché au lait moelleux sachet 600 g"
          ],
          [
           973149001,
           155359,
           "pain de mie Sceb tranche sachet 550 g"
          ],
          [
           1018029001,
           155314,
           "pain de mie La Vie Saine sandwich tranche x 25 sachet 550 g"
          ],
          [
           1018029001,
           155359,
           "pain de mie Sceb tranche sachet 550 g"
          ],
          [
           1018029001,
           155659,
           "pain au céréale La Vie Saine tranche sachet 550 g"
          ],
          [
           1018029001,
           189948,
           "pain de mie Saint-Christophe sachet 550 g"
          ],
          [
           1028760001,
           155314,
           "pain de mie La Vie Saine sandwich tranche x 25 sachet 550 g"
          ],
          [
           1028760001,
           155659,
           "pain au céréale La Vie Saine tranche sachet 550 g"
          ],
          [
           1028760001,
           210165,
           "pain de mie Harry's american sandwich 7 céréales tranches x14 sachet 550 g"
          ],
          [
           1028760001,
           244661,
           "pain de mie Harry's american sandwich complet 600 g"
          ],
          [
           1049790001,
           155359,
           "pain de mie Sceb tranche sachet 550 g"
          ],
          [
           1052471001,
           155359,
           "pain de mie Sceb tranche sachet 550 g"
          ],
          [
           1086305001,
           45626,
           "pain de mie La Vie Saine complet au levain sachet 550 g"
          ],
          [
           1086305001,
           45856,
           "pain de mie Harry's american sandwich nature tranches x 14 sachet 550 g"
          ],
          [
           1086305001,
           45857,
           "pain de mie Baker's sandwich nature sachet 700 g"
          ],
          [
           1086305001,
           135077,
           "pain de mie Harry's 100% complet sans croûte tranche x20 sachet 500 g"
          ],
          [
           1086305001,
           135080,
           "pain de mie Harry's 100% nature sans croûte tranche x 20 sachet 500 g"
          ],
          [
           1086305001,
           147041,
           "pain complet Bjorg bio seigle sachet 500 g"
          ],
          [
           1086305001,
           155279,
           "pain de mie La Vie Saine tranche large sachet 600 g"
          ],
          [
           1086305001,
           155314,
           "pain de mie La Vie Saine sandwich tranche x 25 sachet 550 g"
          ],
          [
           1086305001,
           155359,
           "pain de mie Sceb tranche sachet 550 g"
          ],
          [
           1086305001,
           155390,
           "pain multigrains La Vie Saine tranche sachet 350 g"
          ],
          [
           1086305001,
           155392,
           "pain multigrains La Vie Saine xxl tranché sachet 700 g"
          ],
          [
           1086305001,
           155532,
           "pain complet La Vie Saine au levain tranches sachet 400 g"
          ],
          [
           1086305001,
           155659,
           "pain au céréale La Vie Saine tranche sachet 550 g"
          ],
          [
           1086305001,
           170673,
           "pain de mie Brignol complet tranche sachet 500 g"
          ],
          [
           1086305001,
           189948,
           "pain de mie Saint-Christophe sachet 550 g"
          ],
          [
           1086305001,
           190120,
           "pain de mie The Baker House céréale sachet 700 g"
          ],
          [
           1086305001,
           190121,
           "pain de mie The Baker House complet sachet 700 g"
          ],
          [
           1086305001,
           197553,
           "pain de mie The Baker House multigrains sachet 700 g"
          ],
          [
           1086305001,
           197554,
           "pain de mie The Baker House graine de lin sachet 700 g"
          ],
          [
           1086305001,
           216916,
           "pain de mie Saint Christophe complet sachet 550 g"
          ],
          [
           1086305001,
           243120,
           "pain de mie La Vie Saine le brioché au lait moelleux sachet 600 g"
          ],
          [
           1086305001,
           243121,
           "pain de mie La Vie Saine le grand brioché sachet 600 g"
          ],
          [
           1086305001,
           244661,
           "pain de mie Harry's american sandwich complet 600 g"
          ],
          [
           1092618001,
           155359,
           "pain de mie Sceb tranche sachet 550 g"
          ],
          [
           1098474001,
           189948,
           "pain de mie Saint-Christophe sachet 550 g"
          ],
          [
           1118025001,
           45626,
           "pain de mie La Vie Saine complet au levain sachet 550 g"
          ],
          [
           1118025001,
           155279,
           "pain de mie La Vie Saine tranche large sachet 600 g"
          ],
          [
           1118025001,
           155314,
           "pain de mie La Vie Saine sandwich tranche x 25 sachet 550 g"
          ],
          [
           1118025001,
           155390,
           "pain multigrains La Vie Saine tranche sachet 350 g"
          ],
          [
           1118025001,
           155392,
           "pain multigrains La Vie Saine xxl tranché sachet 700 g"
          ],
          [
           1118025001,
           155659,
           "pain au céréale La Vie Saine tranche sachet 550 g"
          ],
          [
           1118025001,
           243120,
           "pain de mie La Vie Saine le brioché au lait moelleux sachet 600 g"
          ],
          [
           1124650001,
           45626,
           "pain de mie La Vie Saine complet au levain sachet 550 g"
          ],
          [
           1124650001,
           155314,
           "pain de mie La Vie Saine sandwich tranche x 25 sachet 550 g"
          ],
          [
           1124650001,
           155659,
           "pain au céréale La Vie Saine tranche sachet 550 g"
          ],
          [
           1124650001,
           189948,
           "pain de mie Saint-Christophe sachet 550 g"
          ],
          [
           1124650001,
           190120,
           "pain de mie The Baker House céréale sachet 700 g"
          ],
          [
           1124650001,
           243121,
           "pain de mie La Vie Saine le grand brioché sachet 600 g"
          ],
          [
           1139948001,
           155359,
           "pain de mie Sceb tranche sachet 550 g"
          ],
          [
           1154392001,
           189948,
           "pain de mie Saint-Christophe sachet 550 g"
          ],
          [
           1154392001,
           216916,
           "pain de mie Saint Christophe complet sachet 550 g"
          ],
          [
           1159243001,
           45626,
           "pain de mie La Vie Saine complet au levain sachet 550 g"
          ],
          [
           1159243001,
           155314,
           "pain de mie La Vie Saine sandwich tranche x 25 sachet 550 g"
          ],
          [
           1159243001,
           155659,
           "pain au céréale La Vie Saine tranche sachet 550 g"
          ],
          [
           1177625001,
           45626,
           "pain de mie La Vie Saine complet au levain sachet 550 g"
          ],
          [
           1178581001,
           45626,
           "pain de mie La Vie Saine complet au levain sachet 550 g"
          ],
          [
           1178581001,
           155279,
           "pain de mie La Vie Saine tranche large sachet 600 g"
          ],
          [
           1178581001,
           155314,
           "pain de mie La Vie Saine sandwich tranche x 25 sachet 550 g"
          ],
          [
           1178581001,
           155532,
           "pain complet La Vie Saine au levain tranches sachet 400 g"
          ],
          [
           1178581001,
           155659,
           "pain au céréale La Vie Saine tranche sachet 550 g"
          ],
          [
           1178581001,
           243120,
           "pain de mie La Vie Saine le brioché au lait moelleux sachet 600 g"
          ],
          [
           1184514001,
           45626,
           "pain de mie La Vie Saine complet au levain sachet 550 g"
          ],
          [
           1184514001,
           45857,
           "pain de mie Baker's sandwich nature sachet 700 g"
          ],
          [
           1184514001,
           155314,
           "pain de mie La Vie Saine sandwich tranche x 25 sachet 550 g"
          ],
          [
           1184514001,
           155359,
           "pain de mie Sceb tranche sachet 550 g"
          ],
          [
           1184514001,
           243120,
           "pain de mie La Vie Saine le brioché au lait moelleux sachet 600 g"
          ],
          [
           1213628001,
           45626,
           "pain de mie La Vie Saine complet au levain sachet 550 g"
          ],
          [
           1213628001,
           45857,
           "pain de mie Baker's sandwich nature sachet 700 g"
          ],
          [
           1213628001,
           135077,
           "pain de mie Harry's 100% complet sans croûte tranche x20 sachet 500 g"
          ],
          [
           1213628001,
           135080,
           "pain de mie Harry's 100% nature sans croûte tranche x 20 sachet 500 g"
          ],
          [
           1213628001,
           155314,
           "pain de mie La Vie Saine sandwich tranche x 25 sachet 550 g"
          ],
          [
           1213628001,
           155359,
           "pain de mie Sceb tranche sachet 550 g"
          ],
          [
           1213628001,
           155392,
           "pain multigrains La Vie Saine xxl tranché sachet 700 g"
          ],
          [
           1213628001,
           155659,
           "pain au céréale La Vie Saine tranche sachet 550 g"
          ],
          [
           1213628001,
           189948,
           "pain de mie Saint-Christophe sachet 550 g"
          ],
          [
           1213628001,
           190120,
           "pain de mie The Baker House céréale sachet 700 g"
          ],
          [
           1213628001,
           190121,
           "pain de mie The Baker House complet sachet 700 g"
          ],
          [
           1213628001,
           197553,
           "pain de mie The Baker House multigrains sachet 700 g"
          ],
          [
           1213628001,
           197554,
           "pain de mie The Baker House graine de lin sachet 700 g"
          ],
          [
           1213628001,
           216916,
           "pain de mie Saint Christophe complet sachet 550 g"
          ],
          [
           1213628001,
           243120,
           "pain de mie La Vie Saine le brioché au lait moelleux sachet 600 g"
          ],
          [
           1213628001,
           243121,
           "pain de mie La Vie Saine le grand brioché sachet 600 g"
          ],
          [
           1213933001,
           155359,
           "pain de mie Sceb tranche sachet 550 g"
          ],
          [
           1220763002,
           155359,
           "pain de mie Sceb tranche sachet 550 g"
          ],
          [
           1221902001,
           45856,
           "pain de mie Harry's american sandwich nature tranches x 14 sachet 550 g"
          ],
          [
           1223130001,
           155359,
           "pain de mie Sceb tranche sachet 550 g"
          ],
          [
           1227651003,
           45626,
           "pain de mie La Vie Saine complet au levain sachet 550 g"
          ],
          [
           1227651003,
           45857,
           "pain de mie Baker's sandwich nature sachet 700 g"
          ],
          [
           1227651003,
           135077,
           "pain de mie Harry's 100% complet sans croûte tranche x20 sachet 500 g"
          ],
          [
           1227651003,
           135080,
           "pain de mie Harry's 100% nature sans croûte tranche x 20 sachet 500 g"
          ],
          [
           1227651003,
           147041,
           "pain complet Bjorg bio seigle sachet 500 g"
          ],
          [
           1227651003,
           155279,
           "pain de mie La Vie Saine tranche large sachet 600 g"
          ],
          [
           1227651003,
           155314,
           "pain de mie La Vie Saine sandwich tranche x 25 sachet 550 g"
          ],
          [
           1227651003,
           155359,
           "pain de mie Sceb tranche sachet 550 g"
          ],
          [
           1227651003,
           155390,
           "pain multigrains La Vie Saine tranche sachet 350 g"
          ],
          [
           1227651003,
           155392,
           "pain multigrains La Vie Saine xxl tranché sachet 700 g"
          ],
          [
           1227651003,
           155532,
           "pain complet La Vie Saine au levain tranches sachet 400 g"
          ],
          [
           1227651003,
           155657,
           "pain de campagne La Vie Saine aux céréales tranche sachet 350 g"
          ],
          [
           1227651003,
           155659,
           "pain au céréale La Vie Saine tranche sachet 550 g"
          ],
          [
           1227651003,
           157174,
           "pain de mie Bjorg bio complet 3 céréales sachet 500 g"
          ],
          [
           1227651003,
           170673,
           "pain de mie Brignol complet tranche sachet 500 g"
          ],
          [
           1227651003,
           189948,
           "pain de mie Saint-Christophe sachet 550 g"
          ],
          [
           1227651003,
           190120,
           "pain de mie The Baker House céréale sachet 700 g"
          ],
          [
           1227651003,
           190121,
           "pain de mie The Baker House complet sachet 700 g"
          ],
          [
           1227651003,
           216916,
           "pain de mie Saint Christophe complet sachet 550 g"
          ],
          [
           1227651003,
           243120,
           "pain de mie La Vie Saine le brioché au lait moelleux sachet 600 g"
          ],
          [
           1227651003,
           243121,
           "pain de mie La Vie Saine le grand brioché sachet 600 g"
          ],
          [
           1231695001,
           155659,
           "pain au céréale La Vie Saine tranche sachet 550 g"
          ],
          [
           1231695001,
           243120,
           "pain de mie La Vie Saine le brioché au lait moelleux sachet 600 g"
          ],
          [
           1231695001,
           243121,
           "pain de mie La Vie Saine le grand brioché sachet 600 g"
          ],
          [
           1239045001,
           45626,
           "pain de mie La Vie Saine complet au levain sachet 550 g"
          ],
          [
           1239045001,
           45857,
           "pain de mie Baker's sandwich nature sachet 700 g"
          ],
          [
           1239045001,
           135077,
           "pain de mie Harry's 100% complet sans croûte tranche x20 sachet 500 g"
          ],
          [
           1239045001,
           135080,
           "pain de mie Harry's 100% nature sans croûte tranche x 20 sachet 500 g"
          ],
          [
           1239045001,
           155314,
           "pain de mie La Vie Saine sandwich tranche x 25 sachet 550 g"
          ],
          [
           1239045001,
           155359,
           "pain de mie Sceb tranche sachet 550 g"
          ],
          [
           1239045001,
           155392,
           "pain multigrains La Vie Saine xxl tranché sachet 700 g"
          ],
          [
           1239045001,
           155659,
           "pain au céréale La Vie Saine tranche sachet 550 g"
          ],
          [
           1239045001,
           170673,
           "pain de mie Brignol complet tranche sachet 500 g"
          ],
          [
           1239045001,
           189948,
           "pain de mie Saint-Christophe sachet 550 g"
          ],
          [
           1239045001,
           190120,
           "pain de mie The Baker House céréale sachet 700 g"
          ],
          [
           1239045001,
           190121,
           "pain de mie The Baker House complet sachet 700 g"
          ],
          [
           1239045001,
           197553,
           "pain de mie The Baker House multigrains sachet 700 g"
          ],
          [
           1239045001,
           197554,
           "pain de mie The Baker House graine de lin sachet 700 g"
          ],
          [
           1239045001,
           216916,
           "pain de mie Saint Christophe complet sachet 550 g"
          ],
          [
           1239045001,
           243120,
           "pain de mie La Vie Saine le brioché au lait moelleux sachet 600 g"
          ],
          [
           1239045001,
           243121,
           "pain de mie La Vie Saine le grand brioché sachet 600 g"
          ],
          [
           1244409001,
           155359,
           "pain de mie Sceb tranche sachet 550 g"
          ],
          [
           1247436001,
           155359,
           "pain de mie Sceb tranche sachet 550 g"
          ],
          [
           1295567001,
           45626,
           "pain de mie La Vie Saine complet au levain sachet 550 g"
          ],
          [
           1295567001,
           147041,
           "pain complet Bjorg bio seigle sachet 500 g"
          ],
          [
           1295567001,
           155279,
           "pain de mie La Vie Saine tranche large sachet 600 g"
          ],
          [
           1295567001,
           155314,
           "pain de mie La Vie Saine sandwich tranche x 25 sachet 550 g"
          ],
          [
           1295567001,
           155659,
           "pain au céréale La Vie Saine tranche sachet 550 g"
          ],
          [
           1314129001,
           45626,
           "pain de mie La Vie Saine complet au levain sachet 550 g"
          ],
          [
           1314129001,
           45857,
           "pain de mie Baker's sandwich nature sachet 700 g"
          ],
          [
           1314129001,
           155314,
           "pain de mie La Vie Saine sandwich tranche x 25 sachet 550 g"
          ],
          [
           1314129001,
           155659,
           "pain au céréale La Vie Saine tranche sachet 550 g"
          ],
          [
           1314129001,
           190121,
           "pain de mie The Baker House complet sachet 700 g"
          ],
          [
           1319664001,
           155359,
           "pain de mie Sceb tranche sachet 550 g"
          ],
          [
           1320134001,
           170673,
           "pain de mie Brignol complet tranche sachet 500 g"
          ],
          [
           1320134001,
           189948,
           "pain de mie Saint-Christophe sachet 550 g"
          ],
          [
           1320134001,
           216916,
           "pain de mie Saint Christophe complet sachet 550 g"
          ],
          [
           1321058001,
           45857,
           "pain de mie Baker's sandwich nature sachet 700 g"
          ],
          [
           1321058001,
           155359,
           "pain de mie Sceb tranche sachet 550 g"
          ],
          [
           1321058001,
           189948,
           "pain de mie Saint-Christophe sachet 550 g"
          ],
          [
           1321058001,
           190120,
           "pain de mie The Baker House céréale sachet 700 g"
          ],
          [
           1321058001,
           216916,
           "pain de mie Saint Christophe complet sachet 550 g"
          ],
          [
           1343789001,
           45626,
           "pain de mie La Vie Saine complet au levain sachet 550 g"
          ],
          [
           1343789001,
           45857,
           "pain de mie Baker's sandwich nature sachet 700 g"
          ],
          [
           1343789001,
           135080,
           "pain de mie Harry's 100% nature sans croûte tranche x 20 sachet 500 g"
          ],
          [
           1343789001,
           155314,
           "pain de mie La Vie Saine sandwich tranche x 25 sachet 550 g"
          ],
          [
           1343789001,
           155659,
           "pain au céréale La Vie Saine tranche sachet 550 g"
          ],
          [
           1343789001,
           170673,
           "pain de mie Brignol complet tranche sachet 500 g"
          ],
          [
           1343789001,
           189948,
           "pain de mie Saint-Christophe sachet 550 g"
          ],
          [
           1343789001,
           190120,
           "pain de mie The Baker House céréale sachet 700 g"
          ],
          [
           1343789001,
           190121,
           "pain de mie The Baker House complet sachet 700 g"
          ],
          [
           1343789001,
           216916,
           "pain de mie Saint Christophe complet sachet 550 g"
          ],
          [
           1343789001,
           243120,
           "pain de mie La Vie Saine le brioché au lait moelleux sachet 600 g"
          ],
          [
           1343789001,
           243121,
           "pain de mie La Vie Saine le grand brioché sachet 600 g"
          ],
          [
           1343789001,
           246905,
           "pain de mie La Vie Saine pain panier au levain sachet 600 g"
          ],
          [
           1343789001,
           246906,
           "pain de mie Saint-Christophe céréales sachet 550 g"
          ],
          [
           1358704001,
           45856,
           "pain de mie Harry's american sandwich nature tranches x 14 sachet 550 g"
          ],
          [
           1358704001,
           135077,
           "pain de mie Harry's 100% complet sans croûte tranche x20 sachet 500 g"
          ],
          [
           1358704001,
           135080,
           "pain de mie Harry's 100% nature sans croûte tranche x 20 sachet 500 g"
          ],
          [
           1358704001,
           155314,
           "pain de mie La Vie Saine sandwich tranche x 25 sachet 550 g"
          ],
          [
           1358704001,
           155659,
           "pain au céréale La Vie Saine tranche sachet 550 g"
          ],
          [
           1358704001,
           189948,
           "pain de mie Saint-Christophe sachet 550 g"
          ],
          [
           1358704001,
           210165,
           "pain de mie Harry's american sandwich 7 céréales tranches x14 sachet 550 g"
          ],
          [
           1358704001,
           216916,
           "pain de mie Saint Christophe complet sachet 550 g"
          ],
          [
           1365345001,
           45626,
           "pain de mie La Vie Saine complet au levain sachet 550 g"
          ],
          [
           1365345001,
           155659,
           "pain au céréale La Vie Saine tranche sachet 550 g"
          ],
          [
           1365345001,
           243120,
           "pain de mie La Vie Saine le brioché au lait moelleux sachet 600 g"
          ],
          [
           1366160001,
           155359,
           "pain de mie Sceb tranche sachet 550 g"
          ],
          [
           1370312001,
           45856,
           "pain de mie Harry's american sandwich nature tranches x 14 sachet 550 g"
          ],
          [
           1370312001,
           135077,
           "pain de mie Harry's 100% complet sans croûte tranche x20 sachet 500 g"
          ],
          [
           1370312001,
           135080,
           "pain de mie Harry's 100% nature sans croûte tranche x 20 sachet 500 g"
          ],
          [
           1379205001,
           155314,
           "pain de mie La Vie Saine sandwich tranche x 25 sachet 550 g"
          ],
          [
           1387265001,
           45626,
           "pain de mie La Vie Saine complet au levain sachet 550 g"
          ],
          [
           1387265001,
           45856,
           "pain de mie Harry's american sandwich nature tranches x 14 sachet 550 g"
          ],
          [
           1387265001,
           135080,
           "pain de mie Harry's 100% nature sans croûte tranche x 20 sachet 500 g"
          ],
          [
           1387265001,
           147041,
           "pain complet Bjorg bio seigle sachet 500 g"
          ],
          [
           1387265001,
           155314,
           "pain de mie La Vie Saine sandwich tranche x 25 sachet 550 g"
          ],
          [
           1387265001,
           155392,
           "pain multigrains La Vie Saine xxl tranché sachet 700 g"
          ],
          [
           1387265001,
           155532,
           "pain complet La Vie Saine au levain tranches sachet 400 g"
          ],
          [
           1387265001,
           155659,
           "pain au céréale La Vie Saine tranche sachet 550 g"
          ],
          [
           1387265001,
           189948,
           "pain de mie Saint-Christophe sachet 550 g"
          ],
          [
           1387265001,
           243120,
           "pain de mie La Vie Saine le brioché au lait moelleux sachet 600 g"
          ],
          [
           1387265001,
           243121,
           "pain de mie La Vie Saine le grand brioché sachet 600 g"
          ],
          [
           1387265001,
           244661,
           "pain de mie Harry's american sandwich complet 600 g"
          ],
          [
           1399872001,
           45626,
           "pain de mie La Vie Saine complet au levain sachet 550 g"
          ],
          [
           1399872001,
           45626,
           "pain de mie La Vie Saine complet au levain sachet 550 g"
          ],
          [
           1399872001,
           155314,
           "pain de mie La Vie Saine sandwich tranche x 25 sachet 550 g"
          ],
          [
           1399872001,
           155392,
           "pain multigrains La Vie Saine xxl tranché sachet 700 g"
          ],
          [
           1399872001,
           155659,
           "pain au céréale La Vie Saine tranche sachet 550 g"
          ],
          [
           1399872001,
           243120,
           "pain de mie La Vie Saine le brioché au lait moelleux sachet 600 g"
          ],
          [
           1416429001,
           45626,
           "pain de mie La Vie Saine complet au levain sachet 550 g"
          ],
          [
           1416429001,
           45857,
           "pain de mie Baker's sandwich nature sachet 700 g"
          ],
          [
           1416429001,
           155314,
           "pain de mie La Vie Saine sandwich tranche x 25 sachet 550 g"
          ],
          [
           1416429001,
           155359,
           "pain de mie Sceb tranche sachet 550 g"
          ],
          [
           1416429001,
           155392,
           "pain multigrains La Vie Saine xxl tranché sachet 700 g"
          ],
          [
           1416429001,
           155659,
           "pain au céréale La Vie Saine tranche sachet 550 g"
          ],
          [
           1416429001,
           170673,
           "pain de mie Brignol complet tranche sachet 500 g"
          ],
          [
           1416429001,
           189948,
           "pain de mie Saint-Christophe sachet 550 g"
          ],
          [
           1416429001,
           189967,
           "pain maxi mie Saint Christophe nature sachet 550 g"
          ],
          [
           1416429001,
           190121,
           "pain de mie The Baker House complet sachet 700 g"
          ],
          [
           1416429001,
           197553,
           "pain de mie The Baker House multigrains sachet 700 g"
          ],
          [
           1416429001,
           216916,
           "pain de mie Saint Christophe complet sachet 550 g"
          ],
          [
           1416429001,
           243120,
           "pain de mie La Vie Saine le brioché au lait moelleux sachet 600 g"
          ],
          [
           1430883001,
           243120,
           "pain de mie La Vie Saine le brioché au lait moelleux sachet 600 g"
          ],
          [
           1442870001,
           155359,
           "pain de mie Sceb tranche sachet 550 g"
          ],
          [
           1446350001,
           45626,
           "pain de mie La Vie Saine complet au levain sachet 550 g"
          ],
          [
           1446350001,
           45857,
           "pain de mie Baker's sandwich nature sachet 700 g"
          ],
          [
           1446350001,
           155314,
           "pain de mie La Vie Saine sandwich tranche x 25 sachet 550 g"
          ],
          [
           1446350001,
           155359,
           "pain de mie Sceb tranche sachet 550 g"
          ],
          [
           1446350001,
           155392,
           "pain multigrains La Vie Saine xxl tranché sachet 700 g"
          ],
          [
           1446350001,
           155659,
           "pain au céréale La Vie Saine tranche sachet 550 g"
          ],
          [
           1446350001,
           170673,
           "pain de mie Brignol complet tranche sachet 500 g"
          ],
          [
           1446350001,
           189948,
           "pain de mie Saint-Christophe sachet 550 g"
          ],
          [
           1446350001,
           190120,
           "pain de mie The Baker House céréale sachet 700 g"
          ],
          [
           1446350001,
           190121,
           "pain de mie The Baker House complet sachet 700 g"
          ],
          [
           1446350001,
           197553,
           "pain de mie The Baker House multigrains sachet 700 g"
          ],
          [
           1446350001,
           197554,
           "pain de mie The Baker House graine de lin sachet 700 g"
          ],
          [
           1446350001,
           216916,
           "pain de mie Saint Christophe complet sachet 550 g"
          ],
          [
           1446350001,
           243120,
           "pain de mie La Vie Saine le brioché au lait moelleux sachet 600 g"
          ],
          [
           1446350001,
           243121,
           "pain de mie La Vie Saine le grand brioché sachet 600 g"
          ],
          [
           1450238001,
           155359,
           "pain de mie Sceb tranche sachet 550 g"
          ],
          [
           1472927001,
           135080,
           "pain de mie Harry's 100% nature sans croûte tranche x 20 sachet 500 g"
          ],
          [
           1472927001,
           189948,
           "pain de mie Saint-Christophe sachet 550 g"
          ],
          [
           1477736001,
           189948,
           "pain de mie Saint-Christophe sachet 550 g"
          ],
          [
           1484245001,
           45626,
           "pain de mie La Vie Saine complet au levain sachet 550 g"
          ],
          [
           1498393001,
           155359,
           "pain de mie Sceb tranche sachet 550 g"
          ],
          [
           1505619001,
           45626,
           "pain de mie La Vie Saine complet au levain sachet 550 g"
          ],
          [
           1505619001,
           155314,
           "pain de mie La Vie Saine sandwich tranche x 25 sachet 550 g"
          ],
          [
           1505619001,
           155659,
           "pain au céréale La Vie Saine tranche sachet 550 g"
          ],
          [
           1512441001,
           189948,
           "pain de mie Saint-Christophe sachet 550 g"
          ],
          [
           1521541001,
           45626,
           "pain de mie La Vie Saine complet au levain sachet 550 g"
          ],
          [
           1521541001,
           45856,
           "pain de mie Harry's american sandwich nature tranches x 14 sachet 550 g"
          ],
          [
           1521541001,
           45857,
           "pain de mie Baker's sandwich nature sachet 700 g"
          ],
          [
           1521541001,
           135077,
           "pain de mie Harry's 100% complet sans croûte tranche x20 sachet 500 g"
          ],
          [
           1521541001,
           135080,
           "pain de mie Harry's 100% nature sans croûte tranche x 20 sachet 500 g"
          ],
          [
           1521541001,
           155314,
           "pain de mie La Vie Saine sandwich tranche x 25 sachet 550 g"
          ],
          [
           1521541001,
           155359,
           "pain de mie Sceb tranche sachet 550 g"
          ],
          [
           1521541001,
           155390,
           "pain multigrains La Vie Saine tranche sachet 350 g"
          ],
          [
           1521541001,
           155392,
           "pain multigrains La Vie Saine xxl tranché sachet 700 g"
          ],
          [
           1521541001,
           155532,
           "pain complet La Vie Saine au levain tranches sachet 400 g"
          ],
          [
           1521541001,
           155657,
           "pain de campagne La Vie Saine aux céréales tranche sachet 350 g"
          ],
          [
           1521541001,
           155659,
           "pain au céréale La Vie Saine tranche sachet 550 g"
          ],
          [
           1521541001,
           189948,
           "pain de mie Saint-Christophe sachet 550 g"
          ],
          [
           1521541001,
           190120,
           "pain de mie The Baker House céréale sachet 700 g"
          ],
          [
           1521541001,
           190121,
           "pain de mie The Baker House complet sachet 700 g"
          ],
          [
           1521541001,
           210165,
           "pain de mie Harry's american sandwich 7 céréales tranches x14 sachet 550 g"
          ],
          [
           1521541001,
           243120,
           "pain de mie La Vie Saine le brioché au lait moelleux sachet 600 g"
          ],
          [
           1521541001,
           243121,
           "pain de mie La Vie Saine le grand brioché sachet 600 g"
          ],
          [
           1521541001,
           244661,
           "pain de mie Harry's american sandwich complet 600 g"
          ],
          [
           1539725001,
           45626,
           "pain de mie La Vie Saine complet au levain sachet 550 g"
          ],
          [
           1539725001,
           45856,
           "pain de mie Harry's american sandwich nature tranches x 14 sachet 550 g"
          ],
          [
           1539725001,
           45857,
           "pain de mie Baker's sandwich nature sachet 700 g"
          ],
          [
           1539725001,
           135077,
           "pain de mie Harry's 100% complet sans croûte tranche x20 sachet 500 g"
          ],
          [
           1539725001,
           135080,
           "pain de mie Harry's 100% nature sans croûte tranche x 20 sachet 500 g"
          ],
          [
           1539725001,
           147041,
           "pain complet Bjorg bio seigle sachet 500 g"
          ],
          [
           1539725001,
           155279,
           "pain de mie La Vie Saine tranche large sachet 600 g"
          ],
          [
           1539725001,
           155314,
           "pain de mie La Vie Saine sandwich tranche x 25 sachet 550 g"
          ],
          [
           1539725001,
           155359,
           "pain de mie Sceb tranche sachet 550 g"
          ],
          [
           1539725001,
           155390,
           "pain multigrains La Vie Saine tranche sachet 350 g"
          ],
          [
           1539725001,
           155392,
           "pain multigrains La Vie Saine xxl tranché sachet 700 g"
          ],
          [
           1539725001,
           155532,
           "pain complet La Vie Saine au levain tranches sachet 400 g"
          ],
          [
           1539725001,
           155657,
           "pain de campagne La Vie Saine aux céréales tranche sachet 350 g"
          ],
          [
           1539725001,
           155659,
           "pain au céréale La Vie Saine tranche sachet 550 g"
          ],
          [
           1539725001,
           157174,
           "pain de mie Bjorg bio complet 3 céréales sachet 500 g"
          ],
          [
           1539725001,
           170673,
           "pain de mie Brignol complet tranche sachet 500 g"
          ],
          [
           1539725001,
           189948,
           "pain de mie Saint-Christophe sachet 550 g"
          ],
          [
           1539725001,
           190120,
           "pain de mie The Baker House céréale sachet 700 g"
          ],
          [
           1539725001,
           190121,
           "pain de mie The Baker House complet sachet 700 g"
          ],
          [
           1539725001,
           197553,
           "pain de mie The Baker House multigrains sachet 700 g"
          ],
          [
           1539725001,
           197554,
           "pain de mie The Baker House graine de lin sachet 700 g"
          ],
          [
           1539725001,
           210165,
           "pain de mie Harry's american sandwich 7 céréales tranches x14 sachet 550 g"
          ],
          [
           1539725001,
           216916,
           "pain de mie Saint Christophe complet sachet 550 g"
          ],
          [
           1539725001,
           243120,
           "pain de mie La Vie Saine le brioché au lait moelleux sachet 600 g"
          ],
          [
           1539725001,
           243121,
           "pain de mie La Vie Saine le grand brioché sachet 600 g"
          ],
          [
           1539725001,
           244661,
           "pain de mie Harry's american sandwich complet 600 g"
          ],
          [
           1570597001,
           45626,
           "pain de mie La Vie Saine complet au levain sachet 550 g"
          ],
          [
           1570597001,
           45857,
           "pain de mie Baker's sandwich nature sachet 700 g"
          ],
          [
           1570597001,
           155279,
           "pain de mie La Vie Saine tranche large sachet 600 g"
          ],
          [
           1570597001,
           155359,
           "pain de mie Sceb tranche sachet 550 g"
          ],
          [
           1570597001,
           155532,
           "pain complet La Vie Saine au levain tranches sachet 400 g"
          ],
          [
           1570597001,
           155657,
           "pain de campagne La Vie Saine aux céréales tranche sachet 350 g"
          ],
          [
           1570597001,
           155659,
           "pain au céréale La Vie Saine tranche sachet 550 g"
          ],
          [
           1570597001,
           189948,
           "pain de mie Saint-Christophe sachet 550 g"
          ],
          [
           1570597001,
           190120,
           "pain de mie The Baker House céréale sachet 700 g"
          ],
          [
           1570597001,
           190121,
           "pain de mie The Baker House complet sachet 700 g"
          ],
          [
           1570597001,
           243120,
           "pain de mie La Vie Saine le brioché au lait moelleux sachet 600 g"
          ],
          [
           1570597001,
           243121,
           "pain de mie La Vie Saine le grand brioché sachet 600 g"
          ],
          [
           1591239001,
           45857,
           "pain de mie Baker's sandwich nature sachet 700 g"
          ],
          [
           1591239001,
           155359,
           "pain de mie Sceb tranche sachet 550 g"
          ]
         ],
         "hovertemplate": "RAISON_SOCIALE=%{x}<br>DERNIER_PRIX_UNITAIRE=%{y}<br>RIDET=%{customdata[0]}<br>CODE_PRODUIT=%{customdata[1]}<br>NOM=%{customdata[2]}<extra></extra>",
         "legendgroup": "",
         "marker": {
          "color": "#636efa"
         },
         "name": "",
         "offsetgroup": "",
         "orientation": "v",
         "points": "all",
         "scalegroup": "True",
         "showlegend": false,
         "type": "violin",
         "x": [
          "SHELL PACIFIQUE PETROLEUM",
          "SHELL PACIFIQUE PETROLEUM",
          "SUPER U MAGECO",
          "SUPER U MAGECO",
          "SUPER U MAGECO",
          "SUPER U MAGECO",
          "SUPER U MAGECO",
          "SUPER U MAGECO",
          "SUPER U MAGECO",
          "SUPER U MAGECO",
          "SUPER U MAGECO",
          "SUPER U MAGECO",
          "SUPER U MAGECO",
          "SUPER U MAGECO",
          "SUPER U MAGECO",
          "SUPER U MAGECO",
          "SUPER U MAGECO",
          "SUPER U MAGECO",
          "SUPER U MAGECO",
          "SUPER U MAGECO",
          "SUPER U MAGECO",
          "SUPER U MAGECO",
          "SUPER U MAGECO",
          "GEANT SAINTE-MARIE",
          "GEANT SAINTE-MARIE",
          "GEANT SAINTE-MARIE",
          "GEANT SAINTE-MARIE",
          "GEANT SAINTE-MARIE",
          "GEANT SAINTE-MARIE",
          "GEANT SAINTE-MARIE",
          "GEANT SAINTE-MARIE",
          "GEANT SAINTE-MARIE",
          "GEANT SAINTE-MARIE",
          "GEANT SAINTE-MARIE",
          "GEANT SAINTE-MARIE",
          "GEANT SAINTE-MARIE",
          "GEANT SAINTE-MARIE",
          "GEANT SAINTE-MARIE",
          "GEANT SAINTE-MARIE",
          "GEANT SAINTE-MARIE",
          "GEANT SAINTE-MARIE",
          "GEANT SAINTE-MARIE",
          "GEANT SAINTE-MARIE",
          "GEANT SAINTE-MARIE",
          "GEANT SAINTE-MARIE",
          "GEANT SAINTE-MARIE",
          "GEANT SAINTE-MARIE",
          "GEANT SAINTE-MARIE",
          "GEANT SAINTE-MARIE",
          "GEANT SAINTE-MARIE",
          "GEANT SAINTE-MARIE",
          "DISCOUNT TRIANON",
          "DISCOUNT TRIANON",
          "DISCOUNT TRIANON",
          "DISCOUNT TRIANON",
          "DISCOUNT TRIANON",
          "DISCOUNT TRIANON",
          "DISCOUNT TRIANON",
          "DISCOUNT TRIANON",
          "DISCOUNT TRIANON",
          "DISCOUNT TRIANON",
          "DISCOUNT TRIANON",
          "DISCOUNT TRIANON",
          "DISCOUNT TRIANON",
          "DISCOUNT TRIANON",
          "DISCOUNT TRIANON",
          "DISCOUNT TRIANON",
          "MINI MARCHE",
          "MINI MARCHE",
          "MINI MARCHE",
          "STATION SHELL VICTOIRE",
          "STATION SHELL VICTOIRE",
          "STATION SHELL VICTOIRE",
          "STATION SHELL VICTOIRE",
          "STATION SHELL VICTOIRE",
          "STATION SHELL VICTOIRE",
          "STATION SHELL VICTOIRE",
          "STATION SHELL VICTOIRE",
          "STATION SHELL VICTOIRE",
          "STATION SHELL VICTOIRE",
          "STATION SHELL VICTOIRE",
          "LIBRE SERVICE LE PACIFIQUE",
          "MAGASIN G. CREUGNET",
          "MAGASIN G. CREUGNET",
          "MAGASIN G. CREUGNET",
          "LA HUCHE",
          "LA HUCHE",
          "LA HUCHE",
          "LA HUCHE",
          "LA HUCHE",
          "SUPERETTE 68",
          "SUPERETTE 68",
          "SUPERETTE 68",
          "SUPERETTE 68",
          "SUPERETTE 68",
          "SUPERETTE 68",
          "CARREFOUR KENU IN",
          "CARREFOUR KENU IN",
          "CARREFOUR KENU IN",
          "CARREFOUR KENU IN",
          "CARREFOUR KENU IN",
          "CARREFOUR KENU IN",
          "CARREFOUR KENU IN",
          "CARREFOUR KENU IN",
          "CARREFOUR KENU IN",
          "CARREFOUR KENU IN",
          "CARREFOUR KENU IN",
          "CARREFOUR KENU IN",
          "CARREFOUR KENU IN",
          "CARREFOUR KENU IN",
          "CARREFOUR KENU IN",
          "CARREFOUR KENU IN",
          "CARREFOUR KENU IN",
          "CARREFOUR KENU IN",
          "CARREFOUR KENU IN",
          "CARREFOUR KENU IN",
          "CARREFOUR KENU IN",
          "CARREFOUR KENU IN",
          "CARREFOUR KENU IN",
          "CARREFOUR KENU IN",
          "CARREFOUR KENU IN",
          "CARREFOUR KENU IN",
          "CARREFOUR KENU IN",
          "CARREFOUR KENU IN",
          "CARREFOUR KENU IN",
          "CARREFOUR KENU IN",
          "CARREFOUR KENU IN",
          "CARREFOUR KENU IN",
          "CASINO PORT PLAISANCE - SUPERMARCHE",
          "CASINO PORT PLAISANCE - SUPERMARCHE",
          "CASINO PORT PLAISANCE - SUPERMARCHE",
          "CASINO PORT PLAISANCE - SUPERMARCHE",
          "CASINO PORT PLAISANCE - SUPERMARCHE",
          "CASINO PORT PLAISANCE - SUPERMARCHE",
          "CASINO PORT PLAISANCE - SUPERMARCHE",
          "CASINO PORT PLAISANCE - SUPERMARCHE",
          "CASINO PORT PLAISANCE - SUPERMARCHE",
          "CASINO PORT PLAISANCE - SUPERMARCHE",
          "CASINO PORT PLAISANCE - SUPERMARCHE",
          "CASINO PORT PLAISANCE - SUPERMARCHE",
          "CASINO PORT PLAISANCE - SUPERMARCHE",
          "CASINO PORT PLAISANCE - SUPERMARCHE",
          "CASINO PORT PLAISANCE - SUPERMARCHE",
          "CASINO PORT PLAISANCE - SUPERMARCHE",
          "CASINO PORT PLAISANCE - SUPERMARCHE",
          "CASINO PORT PLAISANCE - SUPERMARCHE",
          "CASINO PORT PLAISANCE - SUPERMARCHE",
          "CASINO PORT PLAISANCE - SUPERMARCHE",
          "CASINO PORT PLAISANCE - SUPERMARCHE",
          "CASINO PORT PLAISANCE - SUPERMARCHE",
          "CASINO PORT PLAISANCE - SUPERMARCHE",
          "CASINO PORT PLAISANCE - SUPERMARCHE",
          "CASINO PORT PLAISANCE - SUPERMARCHE",
          "CASINO PORT PLAISANCE - SUPERMARCHE",
          "CASINO PORT PLAISANCE - SUPERMARCHE",
          "CASINO PORT PLAISANCE - SUPERMARCHE",
          "TA & TY",
          "AH YEN",
          "AH YEN",
          "AH YEN",
          "AH YEN",
          "LIBRE SERVICE SAINT MICHEL",
          "DAINA",
          "LIBRE SERVICE DE PLUM",
          "CHEZ ALICE",
          "CASINO LES HALLES MAGENTA",
          "CASINO LES HALLES MAGENTA",
          "CASINO LES HALLES MAGENTA",
          "CASINO LES HALLES MAGENTA",
          "CASINO LES HALLES MAGENTA",
          "CASINO LES HALLES MAGENTA",
          "CASINO LES HALLES MAGENTA",
          "CASINO LES HALLES MAGENTA",
          "CASINO LES HALLES MAGENTA",
          "CASINO LES HALLES MAGENTA",
          "CASINO LES HALLES MAGENTA",
          "CASINO LES HALLES MAGENTA",
          "CASINO LES HALLES MAGENTA",
          "CASINO LES HALLES MAGENTA",
          "CASINO LES HALLES MAGENTA",
          "CASINO LES HALLES MAGENTA",
          "CASINO LES HALLES MAGENTA",
          "CASINO LES HALLES MAGENTA",
          "CASINO LES HALLES MAGENTA",
          "CASINO LES HALLES MAGENTA",
          "CASINO LES HALLES MAGENTA",
          "CASINO LES HALLES MAGENTA",
          "CASINO LES HALLES MAGENTA",
          "CASINO LES HALLES MAGENTA",
          "CASINO LES HALLES MAGENTA",
          "CASINO LES HALLES MAGENTA",
          "CASINO LES HALLES MAGENTA",
          "CASINO LES HALLES MAGENTA",
          "CASINO LES HALLES MAGENTA",
          "VIVAL KOUTIO",
          "VIVAL KOUTIO",
          "VIVAL KOUTIO",
          "VIVAL KOUTIO",
          "VIVAL KOUTIO",
          "VIVAL KOUTIO",
          "VIVAL KOUTIO",
          "VIVAL KOUTIO",
          "VIVAL KOUTIO",
          "VIVAL KOUTIO",
          "VIVAL KOUTIO",
          "VIVAL KOUTIO",
          "VIVAL KOUTIO",
          "VIVAL KOUTIO",
          "VIVAL KOUTIO",
          "STATION SHELL PAITA",
          "AGRICAL",
          "AGRICAL",
          "SUPER U KOUMAC",
          "SUPER U KOUMAC",
          "SUPER U KOUMAC",
          "SUPER U KOUMAC",
          "SUPER U KOUMAC",
          "SUPER U KOUMAC",
          "SUPER U KOUMAC",
          "SUPER U KOUMAC",
          "SUPER U KOUMAC",
          "SUPER U KOUMAC",
          "SUPER U KOUMAC",
          "SUPER U KOUMAC",
          "SUPER U KOUMAC",
          "SUPER U KOUMAC",
          "STATION TOTAL ROBINSON",
          "STATION TOTAL ROBINSON",
          "STATION TOTAL ROBINSON",
          "STATION TOTAL ROBINSON",
          "JOHNSTON",
          "JOHNSTON",
          "JOHNSTON",
          "JOHNSTON",
          "JOHNSTON",
          "JOHNSTON",
          "JOHNSTON",
          "JOHNSTON",
          "JOHNSTON",
          "JOHNSTON",
          "JOHNSTON",
          "JOHNSTON",
          "JOHNSTON",
          "JOHNSTON",
          "JOHNSTON",
          "JOHNSTON",
          "JOHNSTON",
          "JOHNSTON",
          "JOHNSTON",
          "JOHNSTON",
          "JOHNSTON",
          "JOHNSTON",
          "JOHNSTON",
          "JOHNSTON",
          "JOHNSTON",
          "JOHNSTON",
          "AUCHAN SUPERMARCHE TONTOUTA",
          "AUCHAN SUPERMARCHE TONTOUTA",
          "AUCHAN SUPERMARCHE TONTOUTA",
          "AUCHAN SUPERMARCHE TONTOUTA",
          "AUCHAN SUPERMARCHE TONTOUTA",
          "AUCHAN SUPERMARCHE TONTOUTA",
          "AUCHAN SUPERMARCHE TONTOUTA",
          "AUCHAN SUPERMARCHE TONTOUTA",
          "AUCHAN SUPERMARCHE TONTOUTA",
          "AUCHAN SUPERMARCHE TONTOUTA",
          "AUCHAN SUPERMARCHE TONTOUTA",
          "AUCHAN SUPERMARCHE TONTOUTA",
          "AUCHAN SUPERMARCHE TONTOUTA",
          "AUCHAN SUPERMARCHE TONTOUTA",
          "AUCHAN SUPERMARCHE TONTOUTA",
          "AUCHAN SUPERMARCHE TONTOUTA",
          "COTE D'ASIE",
          "LA COTE",
          "LA COTE",
          "LA COTE",
          "LA COTE",
          "GOLF WABAO",
          "CASINO MONT DORE",
          "CASINO MONT DORE",
          "CASINO MONT DORE",
          "CASINO MONT DORE",
          "CASINO MONT DORE",
          "CASINO MONT DORE",
          "CASINO MONT DORE",
          "CASINO MONT DORE",
          "CASINO MONT DORE",
          "CASINO MONT DORE",
          "CASINO MONT DORE",
          "CASINO MONT DORE",
          "CASINO MONT DORE",
          "CASINO MONT DORE",
          "CASINO MONT DORE",
          "CASINO MONT DORE",
          "CASINO MONT DORE",
          "CASINO MONT DORE",
          "CASINO MONT DORE",
          "CASINO MONT DORE",
          "CASINO MONT DORE",
          "CASINO MONT DORE",
          "CASINO MONT DORE",
          "CASINO MONT DORE",
          "CASINO MONT DORE",
          "CASINO MONT DORE",
          "CASINO MONT DORE",
          "CASINO MONT DORE",
          "CASINO MONT DORE",
          "CASINO MONT DORE",
          "ETABLISSEMENTS ROES",
          "ETABLISSEMENTS ROES",
          "ETABLISSEMENTS ROES",
          "ETABLISSEMENTS ROES",
          "ETABLISSEMENTS ROES",
          "ETABLISSEMENTS ROES",
          "LIBRE SERVICE TOMO",
          "SUPER IAORA",
          "CARREFOUR MARKET ALMA (ANCIEN CHAMPION)",
          "CARREFOUR MARKET ALMA (ANCIEN CHAMPION)",
          "CARREFOUR MARKET ALMA (ANCIEN CHAMPION)",
          "CARREFOUR MARKET ALMA (ANCIEN CHAMPION)",
          "CARREFOUR MARKET ALMA (ANCIEN CHAMPION)",
          "CARREFOUR MARKET ALMA (ANCIEN CHAMPION)",
          "CARREFOUR MARKET ALMA (ANCIEN CHAMPION)",
          "CARREFOUR MARKET ALMA (ANCIEN CHAMPION)",
          "CARREFOUR MARKET ALMA (ANCIEN CHAMPION)",
          "CARREFOUR MARKET ALMA (ANCIEN CHAMPION)",
          "CARREFOUR MARKET ALMA (ANCIEN CHAMPION)",
          "CARREFOUR MARKET ALMA (ANCIEN CHAMPION)",
          "CARREFOUR MARKET ALMA (ANCIEN CHAMPION)",
          "CARREFOUR MARKET ALMA (ANCIEN CHAMPION)",
          "CARREFOUR MARKET ALMA (ANCIEN CHAMPION)",
          "CARREFOUR MARKET ALMA (ANCIEN CHAMPION)",
          "CARREFOUR MARKET ALMA (ANCIEN CHAMPION)",
          "CARREFOUR MARKET ALMA (ANCIEN CHAMPION)",
          "CARREFOUR MARKET ALMA (ANCIEN CHAMPION)",
          "CARREFOUR MARKET ALMA (ANCIEN CHAMPION)",
          "CARREFOUR MARKET ALMA (ANCIEN CHAMPION)",
          "CARREFOUR MARKET ALMA (ANCIEN CHAMPION)",
          "CARREFOUR MARKET ALMA (ANCIEN CHAMPION)",
          "CARREFOUR MARKET ALMA (ANCIEN CHAMPION)",
          "CARREFOUR MARKET ALMA (ANCIEN CHAMPION)",
          "CARREFOUR MARKET ALMA (ANCIEN CHAMPION)",
          "CARREFOUR MARKET ALMA (ANCIEN CHAMPION)",
          "CARREFOUR MARKET ALMA (ANCIEN CHAMPION)",
          "CARREFOUR MARKET DUCOS",
          "CARREFOUR MARKET DUCOS",
          "CARREFOUR MARKET DUCOS",
          "CARREFOUR MARKET DUCOS",
          "CARREFOUR MARKET DUCOS",
          "CARREFOUR MARKET DUCOS",
          "CARREFOUR MARKET DUCOS",
          "CARREFOUR MARKET DUCOS",
          "CARREFOUR MARKET DUCOS",
          "CARREFOUR MARKET DUCOS",
          "CARREFOUR MARKET DUCOS",
          "CARREFOUR MARKET DUCOS",
          "CARREFOUR MARKET DUCOS",
          "CARREFOUR MARKET DUCOS",
          "CARREFOUR MARKET DUCOS",
          "CARREFOUR MARKET DUCOS",
          "CARREFOUR MARKET DUCOS",
          "CARREFOUR MARKET DUCOS",
          "CARREFOUR MARKET DUCOS",
          "CARREFOUR MARKET DUCOS",
          "CARREFOUR MARKET DUCOS",
          "CARREFOUR MARKET DUCOS",
          "CARREFOUR MARKET DUCOS",
          "CARREFOUR MARKET DUCOS",
          "CARREFOUR MARKET DUCOS",
          "CARREFOUR MARKET DUCOS",
          "CARREFOUR MARKET DUCOS",
          "CARREFOUR MARKET DUCOS",
          "CARREFOUR MARKET DUCOS",
          "CARREFOUR MARKET DUCOS",
          "CARREFOUR MARKET N'GEA",
          "CARREFOUR MARKET N'GEA",
          "CARREFOUR MARKET N'GEA",
          "CARREFOUR MARKET N'GEA",
          "CARREFOUR MARKET N'GEA",
          "CARREFOUR MARKET N'GEA",
          "CARREFOUR MARKET N'GEA",
          "CARREFOUR MARKET N'GEA",
          "CARREFOUR MARKET N'GEA",
          "CARREFOUR MARKET N'GEA",
          "CARREFOUR MARKET N'GEA",
          "CARREFOUR MARKET N'GEA",
          "CARREFOUR MARKET N'GEA",
          "CARREFOUR MARKET N'GEA",
          "CARREFOUR MARKET N'GEA",
          "CARREFOUR MARKET N'GEA",
          "CARREFOUR MARKET N'GEA",
          "CARREFOUR MARKET N'GEA",
          "CARREFOUR MARKET N'GEA",
          "CARREFOUR MARKET N'GEA",
          "CARREFOUR MARKET N'GEA",
          "CARREFOUR MARKET N'GEA",
          "CARREFOUR MARKET N'GEA",
          "CARREFOUR MARKET N'GEA",
          "CARREFOUR MARKET N'GEA",
          "CARREFOUR MARKET N'GEA",
          "CARREFOUR MARKET N'GEA",
          "CARREFOUR MARKET N'GEA",
          "CARREFOUR MARKET ROBINSON",
          "CARREFOUR MARKET ROBINSON",
          "CARREFOUR MARKET ROBINSON",
          "CARREFOUR MARKET ROBINSON",
          "CARREFOUR MARKET ROBINSON",
          "CARREFOUR MARKET ROBINSON",
          "CARREFOUR MARKET ROBINSON",
          "CARREFOUR MARKET ROBINSON",
          "CARREFOUR MARKET ROBINSON",
          "CARREFOUR MARKET ROBINSON",
          "CARREFOUR MARKET ROBINSON",
          "CARREFOUR MARKET ROBINSON",
          "CARREFOUR MARKET ROBINSON",
          "CARREFOUR MARKET ROBINSON",
          "CARREFOUR MARKET ROBINSON",
          "CARREFOUR MARKET ROBINSON",
          "CARREFOUR MARKET ROBINSON",
          "CARREFOUR MARKET ROBINSON",
          "CARREFOUR MARKET ROBINSON",
          "CARREFOUR MARKET ROBINSON",
          "CARREFOUR MARKET ROBINSON",
          "CARREFOUR MARKET ROBINSON",
          "CARREFOUR MARKET ROBINSON",
          "CARREFOUR MARKET ROBINSON",
          "CARREFOUR MARKET ROBINSON",
          "CARREFOUR MARKET ROBINSON",
          "CARREFOUR MARKET ROBINSON",
          "CARREFOUR MARKET ROBINSON",
          "CARREFOUR MARKET MAGENTA",
          "CARREFOUR MARKET MAGENTA",
          "CARREFOUR MARKET MAGENTA",
          "CARREFOUR MARKET MAGENTA",
          "CARREFOUR MARKET MAGENTA",
          "CARREFOUR MARKET MAGENTA",
          "CARREFOUR MARKET MAGENTA",
          "CARREFOUR MARKET MAGENTA",
          "CARREFOUR MARKET MAGENTA",
          "CARREFOUR MARKET MAGENTA",
          "CARREFOUR MARKET MAGENTA",
          "CARREFOUR MARKET MAGENTA",
          "CARREFOUR MARKET MAGENTA",
          "CARREFOUR MARKET MAGENTA",
          "CARREFOUR MARKET MAGENTA",
          "CARREFOUR MARKET MAGENTA",
          "CARREFOUR MARKET MAGENTA",
          "CARREFOUR MARKET MAGENTA",
          "CARREFOUR MARKET MAGENTA",
          "CARREFOUR MARKET MAGENTA",
          "CARREFOUR MARKET MAGENTA",
          "CARREFOUR MARKET MAGENTA",
          "CARREFOUR MARKET MAGENTA",
          "CARREFOUR MARKET MAGENTA",
          "CARREFOUR MARKET MAGENTA",
          "CARREFOUR MARKET MAGENTA",
          "CARREFOUR MARKET MAGENTA",
          "CARREFOUR MARKET MAGENTA",
          "CARREFOUR MARKET Orphelinat",
          "CARREFOUR MARKET Orphelinat",
          "CARREFOUR MARKET Orphelinat",
          "CARREFOUR MARKET Orphelinat",
          "CARREFOUR MARKET Orphelinat",
          "CARREFOUR MARKET Orphelinat",
          "CARREFOUR MARKET Orphelinat",
          "CARREFOUR MARKET Orphelinat",
          "CARREFOUR MARKET Orphelinat",
          "CARREFOUR MARKET Orphelinat",
          "CARREFOUR MARKET Orphelinat",
          "CARREFOUR MARKET Orphelinat",
          "CARREFOUR MARKET Orphelinat",
          "CARREFOUR MARKET Orphelinat",
          "CARREFOUR MARKET Orphelinat",
          "CARREFOUR MARKET Orphelinat",
          "CARREFOUR MARKET Orphelinat",
          "CARREFOUR MARKET Orphelinat",
          "CARREFOUR MARKET Orphelinat",
          "CARREFOUR MARKET Orphelinat",
          "CARREFOUR MARKET Orphelinat",
          "CARREFOUR MARKET Orphelinat",
          "CARREFOUR MARKET Orphelinat",
          "CARREFOUR MARKET Orphelinat",
          "CARREFOUR MARKET Orphelinat",
          "CARREFOUR MARKET Orphelinat",
          "CARREFOUR MARKET Orphelinat",
          "CARREFOUR MARKET Orphelinat",
          "CARREFOUR MARKET Orphelinat",
          "MAXI MARKET",
          "MAXI MARKET",
          "MAXI MARKET",
          "MAXI MARKET",
          "MAXI MARKET",
          "MAXI MARKET",
          "MAXI MARKET",
          "STATION SHELL LA FOA",
          "LEADER PRICE MAGENTA",
          "LEADER PRICE MAGENTA",
          "LEADER PRICE MAGENTA",
          "LEADER PRICE MAGENTA",
          "LEADER PRICE MAGENTA",
          "LEADER PRICE MAGENTA",
          "LEADER PRICE MAGENTA",
          "LEADER PRICE MAGENTA",
          "LEADER PRICE MAGENTA",
          "LEADER PRICE MAGENTA",
          "LEADER PRICE MAGENTA",
          "LEADER PRICE MAGENTA",
          "LEADER PRICE MAGENTA",
          "LEADER PRICE MAGENTA",
          "LEADER PRICE MAGENTA",
          "LEADER PRICE MAGENTA",
          "LEADER PRICE MAGENTA",
          "LEADER PRICE MAGENTA",
          "LEADER PRICE MAGENTA",
          "LEADER PRICE MAGENTA",
          "LEADER PRICE MAGENTA",
          "LEADER PRICE MAGENTA",
          "LEADER PRICE MAGENTA",
          "GEANT DUMBEA - CENTRE COMMERCIAL DUMBEA MALL",
          "GEANT DUMBEA - CENTRE COMMERCIAL DUMBEA MALL",
          "GEANT DUMBEA - CENTRE COMMERCIAL DUMBEA MALL",
          "GEANT DUMBEA - CENTRE COMMERCIAL DUMBEA MALL",
          "GEANT DUMBEA - CENTRE COMMERCIAL DUMBEA MALL",
          "GEANT DUMBEA - CENTRE COMMERCIAL DUMBEA MALL",
          "GEANT DUMBEA - CENTRE COMMERCIAL DUMBEA MALL",
          "GEANT DUMBEA - CENTRE COMMERCIAL DUMBEA MALL",
          "GEANT DUMBEA - CENTRE COMMERCIAL DUMBEA MALL",
          "GEANT DUMBEA - CENTRE COMMERCIAL DUMBEA MALL",
          "GEANT DUMBEA - CENTRE COMMERCIAL DUMBEA MALL",
          "GEANT DUMBEA - CENTRE COMMERCIAL DUMBEA MALL",
          "GEANT DUMBEA - CENTRE COMMERCIAL DUMBEA MALL",
          "GEANT DUMBEA - CENTRE COMMERCIAL DUMBEA MALL",
          "GEANT DUMBEA - CENTRE COMMERCIAL DUMBEA MALL",
          "GEANT DUMBEA - CENTRE COMMERCIAL DUMBEA MALL",
          "GEANT DUMBEA - CENTRE COMMERCIAL DUMBEA MALL",
          "GEANT DUMBEA - CENTRE COMMERCIAL DUMBEA MALL",
          "GEANT DUMBEA - CENTRE COMMERCIAL DUMBEA MALL",
          "GEANT DUMBEA - CENTRE COMMERCIAL DUMBEA MALL",
          "GEANT DUMBEA - CENTRE COMMERCIAL DUMBEA MALL",
          "GEANT DUMBEA - CENTRE COMMERCIAL DUMBEA MALL",
          "GEANT DUMBEA - CENTRE COMMERCIAL DUMBEA MALL",
          "GEANT DUMBEA - CENTRE COMMERCIAL DUMBEA MALL",
          "GEANT DUMBEA - CENTRE COMMERCIAL DUMBEA MALL",
          "GEANT DUMBEA - CENTRE COMMERCIAL DUMBEA MALL",
          "GEANT DUMBEA - CENTRE COMMERCIAL DUMBEA MALL",
          "GEANT DUMBEA - CENTRE COMMERCIAL DUMBEA MALL",
          "LEADER PRICE PLEXUS (DUCOS)",
          "LEADER PRICE PLEXUS (DUCOS)",
          "LEADER PRICE PLEXUS (DUCOS)",
          "LEADER PRICE PLEXUS (DUCOS)",
          "LEADER PRICE PLEXUS (DUCOS)",
          "LEADER PRICE PLEXUS (DUCOS)",
          "LEADER PRICE PLEXUS (DUCOS)",
          "LEADER PRICE PLEXUS (DUCOS)",
          "LEADER PRICE PLEXUS (DUCOS)",
          "LEADER PRICE PLEXUS (DUCOS)",
          "LEADER PRICE PLEXUS (DUCOS)",
          "LEADER PRICE PLEXUS (DUCOS)",
          "LEADER PRICE PLEXUS (DUCOS)",
          "LEADER PRICE PLEXUS (DUCOS)",
          "LEADER PRICE PLEXUS (DUCOS)",
          "FEU VERT / 218 m2",
          "FEU VERT / 218 m2",
          "FEU VERT / 218 m2",
          "FEU VERT / 218 m2",
          "FEU VERT / 218 m2",
          "FEU VERT / 218 m2",
          "FEU VERT / 218 m2",
          "MAGENTA DISCOUNT",
          "MAGENTA DISCOUNT",
          "MAGENTA DISCOUNT",
          "MAGENTA DISCOUNT",
          "MAGENTA DISCOUNT",
          "MAGENTA DISCOUNT",
          "MAGENTA DISCOUNT",
          "MAGENTA DISCOUNT",
          "MAGENTA DISCOUNT",
          "MAGENTA DISCOUNT",
          "MAGENTA DISCOUNT",
          "MAGENTA DISCOUNT",
          "MAGENTA DISCOUNT",
          "MAGENTA DISCOUNT",
          "LEADER PRICE AUTEUIL",
          "LEADER PRICE AUTEUIL",
          "LEADER PRICE AUTEUIL",
          "LEADER PRICE AUTEUIL",
          "LEADER PRICE AUTEUIL",
          "LEADER PRICE AUTEUIL",
          "LEADER PRICE AUTEUIL",
          "LEADER PRICE AUTEUIL",
          "LEADER PRICE AUTEUIL",
          "LEADER PRICE AUTEUIL",
          "LEADER PRICE AUTEUIL",
          "LEADER PRICE AUTEUIL",
          "LEADER PRICE AUTEUIL",
          "LEADER PRICE AUTEUIL",
          "LEADER PRICE AUTEUIL",
          "LEADER PRICE AUTEUIL",
          "LEADER PRICE AUTEUIL",
          "LEADER PRICE AUTEUIL",
          "LEADER PRICE AUTEUIL",
          "LEADER PRICE AUTEUIL",
          "LEADER PRICE AUTEUIL",
          "LEADER PRICE AUTEUIL",
          "LEADER PRICE AUTEUIL",
          "SUPER U RIVIERE SALEE",
          "SUPER U RIVIERE SALEE",
          "SUPER U RIVIERE SALEE",
          "SUPER U RIVIERE SALEE",
          "SUPER U RIVIERE SALEE",
          "SUPER U RIVIERE SALEE",
          "SUPER U RIVIERE SALEE",
          "SUPER U RIVIERE SALEE",
          "SUPER U RIVIERE SALEE",
          "SUPER U RIVIERE SALEE",
          "SUPER U RIVIERE SALEE",
          "SUPER U RIVIERE SALEE",
          "SUPER U RIVIERE SALEE",
          "LEADER PRICE LA FOA",
          "LEADER PRICE LA FOA",
          "LEADER PRICE LA FOA",
          "LEADER PRICE LA FOA",
          "LEADER PRICE LA FOA",
          "LEADER PRICE LA FOA",
          "LEADER PRICE LA FOA",
          "LEADER PRICE LA FOA",
          "LEADER PRICE LA FOA",
          "LEADER PRICE LA FOA",
          "LEADER PRICE LA FOA",
          "LEADER PRICE LA FOA",
          "LEADER PRICE LA FOA",
          "LEADER PRICE LA FOA",
          "LEADER PRICE LA FOA",
          "LEADER PRICE BOURAIL",
          "LEADER PRICE BOURAIL",
          "LEADER PRICE BOURAIL",
          "LEADER PRICE BOURAIL",
          "LEADER PRICE BOURAIL",
          "LEADER PRICE BOURAIL",
          "LEADER PRICE BOURAIL",
          "LEADER PRICE BOURAIL",
          "LEADER PRICE BOURAIL",
          "LEADER PRICE BOURAIL",
          "LEADER PRICE BOURAIL",
          "LEADER PRICE BOURAIL",
          "LEADER PRICE BOURAIL",
          "LEADER PRICE BOURAIL",
          "LEADER PRICE BOURAIL",
          "LEADER PRICE BOURAIL",
          "LEADER PRICE BOURAIL",
          "LEADER PRICE BOURAIL",
          "STATION TOTAL ANSE VATA",
          "CHEZ EMILIE",
          "CHEZ EMILIE",
          "CHEZ EMILIE",
          "CHEZ EMILIE",
          "CHEZ EMILIE",
          "CHEZ EMILIE",
          "CHEZ EMILIE",
          "CHEZ EMILIE",
          "CHEZ EMILIE",
          "CHEZ EMILIE",
          "CHEZ EMILIE",
          "CHEZ EMILIE",
          "ALIMENTATION LES VERTS COTEAUX",
          "ALIMENTATION LES VERTS COTEAUX",
          "ALIMENTATION LES VERTS COTEAUX",
          "ALIMENTATION LES VERTS COTEAUX",
          "BOURAIL DISCOUNT",
          "BOURAIL DISCOUNT",
          "BOURAIL DISCOUNT",
          "BOURAIL DISCOUNT",
          "BOURAIL DISCOUNT",
          "BOURAIL DISCOUNT",
          "BOURAIL DISCOUNT",
          "BOURAIL DISCOUNT",
          "BOURAIL DISCOUNT",
          "BOURAIL DISCOUNT",
          "BOURAIL DISCOUNT",
          "DISCOUNT PLUS",
          "DISCOUNT PLUS",
          "DISCOUNT PLUS",
          "DISCOUNT PLUS",
          "DISCOUNT PLUS",
          "DISCOUNT PLUS",
          "DISCOUNT PLUS",
          "DISCOUNT PLUS",
          "DISCOUNT PLUS",
          "STATION SHELL LES GEMEAUX",
          "LIBRE SERVICE ALIMENTATION CHUVAN NORMANDIE",
          "KORAIL LIFOU",
          "KORAIL LIFOU",
          "KORAIL LIFOU",
          "KORAIL LIFOU",
          "POINDIMIE DISCOUNT",
          "POINDIMIE DISCOUNT",
          "POINDIMIE DISCOUNT",
          "POINDIMIE DISCOUNT",
          "POINDIMIE DISCOUNT",
          "POINDIMIE DISCOUNT",
          "POINDIMIE DISCOUNT",
          "POINDIMIE DISCOUNT",
          "POINDIMIE DISCOUNT",
          "POINDIMIE DISCOUNT",
          "STATION TOTAL CHEZ DANY",
          "STATION TOTAL CHEZ DANY",
          "STATION TOTAL CHEZ DANY",
          "STATION TOTAL CHEZ DANY",
          "SUPER U KAMERE",
          "SUPER U KAMERE",
          "SUPER U KAMERE",
          "SUPER U KAMERE",
          "SUPER U KAMERE",
          "SUPER U KAMERE",
          "SUPER U KAMERE",
          "SUPER U KAMERE",
          "SUPER U KAMERE",
          "SUPER U KAMERE",
          "SUPER U KAMERE",
          "SUPER U KAMERE",
          "SUPER U KAMERE",
          "SUPER U KAMERE",
          "SUPER U KAMERE",
          "SUPER U KAMERE",
          "SP TOP STORE",
          "STATION SHELL DUCOS",
          "KOUMAC DISCOUNT",
          "KOUMAC DISCOUNT",
          "KOUMAC DISCOUNT",
          "KOUMAC DISCOUNT",
          "KOUMAC DISCOUNT",
          "KOUMAC DISCOUNT",
          "KOUMAC DISCOUNT",
          "KOUMAC DISCOUNT",
          "KOUMAC DISCOUNT",
          "STATION MOBIL MOSELLE",
          "STATION MOBIL MOSELLE",
          "KONE DISCOUNT",
          "KONE DISCOUNT",
          "KONE DISCOUNT",
          "KONE DISCOUNT",
          "KONE DISCOUNT",
          "KONE DISCOUNT",
          "KONE DISCOUNT",
          "KONE DISCOUNT",
          "KONE DISCOUNT",
          "DISCOUNT TEARI",
          "DISCOUNT TEARI",
          "DISCOUNT TEARI",
          "DISCOUNT TEARI",
          "DISCOUNT TEARI",
          "DISCOUNT TEARI",
          "DISCOUNT TEARI",
          "DISCOUNT TEARI",
          "DISCOUNT TEARI",
          "DISCOUNT TEARI",
          "LEADER PRICE KONE",
          "LEADER PRICE KONE",
          "LEADER PRICE KONE",
          "LEADER PRICE KONE",
          "LEADER PRICE KONE",
          "LEADER PRICE KONE",
          "LEADER PRICE KONE",
          "LEADER PRICE KONE",
          "LEADER PRICE KONE",
          "LEADER PRICE KONE",
          "LEADER PRICE KONE",
          "LEADER PRICE KONE",
          "LEADER PRICE KONE",
          "LEADER PRICE KONE",
          "LEADER PRICE KONE",
          "LEADER PRICE KONE",
          "LEADER PRICE KONE",
          "LEADER PRICE KONE",
          "LEADER PRICE KONE",
          "LEADER PRICE KONE",
          "LEADER PRICE KONE",
          "LEADER PRICE KONE",
          "LEADER PRICE KONE",
          "BIKINI",
          "BIKINI",
          "MAEVA ALIMENTATION",
          "DESTOCK.NC PAÏTA (LE DOCK DU SURGELE)",
          "AUCHAN KONE (ancien U EXPRESS KONE (LE CENTRE))",
          "AUCHAN KONE (ancien U EXPRESS KONE (LE CENTRE))",
          "AUCHAN KONE (ancien U EXPRESS KONE (LE CENTRE))",
          "AUCHAN KONE (ancien U EXPRESS KONE (LE CENTRE))",
          "AUCHAN KONE (ancien U EXPRESS KONE (LE CENTRE))",
          "AUCHAN KONE (ancien U EXPRESS KONE (LE CENTRE))",
          "AUCHAN KONE (ancien U EXPRESS KONE (LE CENTRE))",
          "AUCHAN KONE (ancien U EXPRESS KONE (LE CENTRE))",
          "AUCHAN KONE (ancien U EXPRESS KONE (LE CENTRE))",
          "AUCHAN KONE (ancien U EXPRESS KONE (LE CENTRE))",
          "AUCHAN KONE (ancien U EXPRESS KONE (LE CENTRE))",
          "AUCHAN KONE (ancien U EXPRESS KONE (LE CENTRE))",
          "AUCHAN KONE (ancien U EXPRESS KONE (LE CENTRE))",
          "AUCHAN KONE (ancien U EXPRESS KONE (LE CENTRE))",
          "AUCHAN KONE (ancien U EXPRESS KONE (LE CENTRE))",
          "AUCHAN KONE (ancien U EXPRESS KONE (LE CENTRE))",
          "AUCHAN KONE (ancien U EXPRESS KONE (LE CENTRE))",
          "CARREFOUR EXPRESS SIB DUCOS",
          "CARREFOUR EXPRESS SIB DUCOS",
          "CARREFOUR EXPRESS SIB DUCOS",
          "CARREFOUR EXPRESS SIB DUCOS",
          "CARREFOUR EXPRESS SIB DUCOS",
          "CARREFOUR EXPRESS SIB DUCOS",
          "CARREFOUR EXPRESS SIB DUCOS",
          "CARREFOUR EXPRESS SIB DUCOS",
          "CARREFOUR EXPRESS SIB DUCOS",
          "CARREFOUR EXPRESS SIB DUCOS",
          "CARREFOUR EXPRESS SIB DUCOS",
          "CARREFOUR EXPRESS SIB DUCOS",
          "CARREFOUR EXPRESS SIB DUCOS",
          "CARREFOUR EXPRESS SIB DUCOS",
          "CARREFOUR EXPRESS SIB DUCOS",
          "CARREFOUR EXPRESS SIB DUCOS",
          "CARREFOUR EXPRESS SIB DUCOS",
          "CARREFOUR EXPRESS SIB DUCOS",
          "CARREFOUR EXPRESS SIB DUCOS",
          "CARREFOUR EXPRESS NAKUTAKOIN",
          "CARREFOUR EXPRESS NAKUTAKOIN",
          "CARREFOUR EXPRESS NAKUTAKOIN",
          "CARREFOUR EXPRESS NAKUTAKOIN",
          "CARREFOUR EXPRESS NAKUTAKOIN",
          "CARREFOUR EXPRESS NAKUTAKOIN",
          "CARREFOUR EXPRESS NAKUTAKOIN",
          "CARREFOUR EXPRESS NAKUTAKOIN",
          "CARREFOUR EXPRESS NAKUTAKOIN",
          "CARREFOUR EXPRESS NAKUTAKOIN",
          "CARREFOUR EXPRESS NAKUTAKOIN",
          "CARREFOUR EXPRESS NAKUTAKOIN",
          "CARREFOUR EXPRESS NAKUTAKOIN",
          "CARREFOUR EXPRESS NAKUTAKOIN",
          "CARREFOUR EXPRESS NAKUTAKOIN",
          "CARREFOUR EXPRESS NAKUTAKOIN",
          "CARREFOUR EXPRESS NAKUTAKOIN",
          "CARREFOUR EXPRESS NAKUTAKOIN",
          "CARREFOUR EXPRESS NAKUTAKOIN",
          "ARIZONA ROBINSON",
          "ARIZONA ROBINSON",
          "ARIZONA ROBINSON",
          "ARIZONA ROBINSON",
          "ARIZONA ROBINSON",
          "ARIZONA ROBINSON",
          "ARIZONA ROBINSON",
          "ARIZONA ROBINSON",
          "ARIZONA ROBINSON",
          "ARIZONA ROBINSON",
          "ARIZONA ROBINSON",
          "ARIZONA ROBINSON",
          "ARIZONA ROBINSON",
          "ARIZONA ROBINSON",
          "ARIZONA ROBINSON",
          "ARIZONA ROBINSON",
          "ARIZONA ROBINSON",
          "ARIZONA ROBINSON",
          "CARREFOUR EXPRESS OUEMO",
          "CARREFOUR EXPRESS OUEMO",
          "CARREFOUR EXPRESS OUEMO",
          "CARREFOUR EXPRESS OUEMO",
          "CARREFOUR EXPRESS OUEMO",
          "CARREFOUR EXPRESS OUEMO",
          "CARREFOUR EXPRESS OUEMO",
          "CARREFOUR EXPRESS OUEMO",
          "CARREFOUR EXPRESS OUEMO",
          "CARREFOUR EXPRESS OUEMO",
          "CARREFOUR EXPRESS OUEMO",
          "CARREFOUR EXPRESS OUEMO",
          "CARREFOUR EXPRESS OUEMO",
          "CARREFOUR EXPRESS OUEMO",
          "CARREFOUR EXPRESS OUEMO",
          "CARREFOUR EXPRESS OUEMO",
          "CARREFOUR EXPRESS OUEMO",
          "CARREFOUR EXPRESS OUEMO",
          "CARREFOUR EXPRESS OUEMO",
          "CARREFOUR EXPRESS OUEMO",
          "CARREFOUR EXPRESS OUEMO",
          "CARREFOUR EXPRESS OUEMO",
          "CARREFOUR EXPRESS OUEMO",
          "CARREFOUR EXPRESS OUEMO",
          "CARREFOUR EXPRESS PAITA (ancien ARIZONA PAITA)",
          "CARREFOUR EXPRESS PAITA (ancien ARIZONA PAITA)",
          "CARREFOUR EXPRESS PAITA (ancien ARIZONA PAITA)",
          "CARREFOUR EXPRESS PAITA (ancien ARIZONA PAITA)",
          "CARREFOUR EXPRESS PAITA (ancien ARIZONA PAITA)",
          "CARREFOUR EXPRESS PAITA (ancien ARIZONA PAITA)",
          "CARREFOUR EXPRESS PAITA (ancien ARIZONA PAITA)",
          "CARREFOUR EXPRESS PAITA (ancien ARIZONA PAITA)",
          "CARREFOUR EXPRESS PAITA (ancien ARIZONA PAITA)",
          "CARREFOUR EXPRESS PAITA (ancien ARIZONA PAITA)",
          "CARREFOUR EXPRESS PAITA (ancien ARIZONA PAITA)",
          "CARREFOUR EXPRESS PAITA (ancien ARIZONA PAITA)",
          "CARREFOUR EXPRESS PAITA (ancien ARIZONA PAITA)",
          "CARREFOUR EXPRESS PAITA (ancien ARIZONA PAITA)",
          "CARREFOUR EXPRESS PAITA (ancien ARIZONA PAITA)",
          "CARREFOUR EXPRESS PAITA (ancien ARIZONA PAITA)",
          "CARREFOUR EXPRESS PAITA (ancien ARIZONA PAITA)",
          "CARREFOUR EXPRESS PAITA (ancien ARIZONA PAITA)",
          "CARREFOUR EXPRESS PAITA (ancien ARIZONA PAITA)",
          "ARIZONA MONT-DORE",
          "ARIZONA MONT-DORE",
          "ARIZONA MONT-DORE",
          "ARIZONA MONT-DORE",
          "ARIZONA MONT-DORE",
          "ARIZONA MONT-DORE",
          "ARIZONA MONT-DORE",
          "ARIZONA MONT-DORE",
          "ARIZONA MONT-DORE",
          "ARIZONA MONT-DORE",
          "ARIZONA MONT-DORE",
          "ARIZONA MONT-DORE",
          "ARIZONA MONT-DORE",
          "ARIZONA MONT-DORE",
          "ARIZONA MONT-DORE",
          "ARIZONA MONT-DORE",
          "ARIZONA MONT-DORE",
          "AUCHAN SUPERMARCHE NOUMEA",
          "AUCHAN SUPERMARCHE NOUMEA",
          "AUCHAN SUPERMARCHE NOUMEA",
          "AUCHAN SUPERMARCHE NOUMEA",
          "AUCHAN SUPERMARCHE NOUMEA",
          "AUCHAN SUPERMARCHE NOUMEA",
          "AUCHAN SUPERMARCHE NOUMEA",
          "AUCHAN SUPERMARCHE NOUMEA",
          "AUCHAN SUPERMARCHE NOUMEA",
          "AUCHAN SUPERMARCHE NOUMEA",
          "AUCHAN SUPERMARCHE NOUMEA",
          "AUCHAN SUPERMARCHE NOUMEA",
          "AUCHAN SUPERMARCHE NOUMEA",
          "AUCHAN SUPERMARCHE NOUMEA",
          "AUCHAN SUPERMARCHE NOUMEA",
          "AUCHAN SUPERMARCHE NOUMEA",
          "AUCHAN SUPERMARCHE NOUMEA",
          "AUCHAN SUPERMARCHE NOUMEA",
          "AUCHAN SUPERMARCHE NOUMEA",
          "AUCHAN SUPERMARCHE NOUMEA",
          "AUCHAN SUPERMARCHE NOUMEA",
          "AUCHAN SUPERMARCHE NOUMEA",
          "AUCHAN SUPERMARCHE NOUMEA",
          "AUCHAN SUPERMARCHE NOUMEA",
          "AUCHAN SUPERMARCHE NOUMEA",
          "AUCHAN SUPERMARCHE NOUMEA",
          "AUCHAN SUPERMARCHE NOUMEA",
          "ROTI",
          "ROTI",
          "ROTI",
          "ROTI",
          "ROTI",
          "LES PRIMEURS DU CAILLOU DUCOS (ex VIVAL)",
          "LES PRIMEURS DU CAILLOU DUCOS (ex VIVAL)",
          "LES PRIMEURS DU CAILLOU DUCOS (ex VIVAL)",
          "STATION TOTAL DUCOS",
          "STATION MOBIL PONT DES FRANCAIS",
          "STATION MOBIL PONT DES FRANCAIS",
          "STATION MOBIL PONT DES FRANCAIS",
          "STATION MOBIL PONT DES FRANCAIS",
          "LIBRE SERVICE VAL PLAISANCE",
          "LIBRE SERVICE VAL PLAISANCE",
          "LIBRE SERVICE VAL PLAISANCE",
          "LIBRE SERVICE VAL PLAISANCE",
          "LE PETIT DUMBEA",
          "CITY MARKET / ECO MARCHE",
          "AUCHAN - BEST SUPERMARKET",
          "AUCHAN - BEST SUPERMARKET",
          "AUCHAN - BEST SUPERMARKET",
          "AUCHAN - BEST SUPERMARKET",
          "AUCHAN - BEST SUPERMARKET",
          "AUCHAN - BEST SUPERMARKET",
          "AUCHAN - BEST SUPERMARKET",
          "AUCHAN - BEST SUPERMARKET",
          "AUCHAN - BEST SUPERMARKET",
          "AUCHAN - BEST SUPERMARKET",
          "AUCHAN - BEST SUPERMARKET",
          "AUCHAN - BEST SUPERMARKET",
          "AUCHAN - BEST SUPERMARKET",
          "AUCHAN - BEST SUPERMARKET",
          "AUCHAN - BEST SUPERMARKET",
          "AUCHAN - BEST SUPERMARKET",
          "AUCHAN - BEST SUPERMARKET",
          "AUCHAN - BEST SUPERMARKET",
          "AUCHAN - BEST SUPERMARKET",
          "AUCHAN - BEST SUPERMARKET",
          "AUCHAN - BEST SUPERMARKET",
          "AUCHAN - BEST SUPERMARKET",
          "AUCHAN - BEST SUPERMARKET",
          "AU BON ACCUEIL",
          "FANAO",
          "KORAIL MARKET DUMBEA",
          "KORAIL MARKET DUMBEA",
          "KORAIL MARKET DUMBEA",
          "KORAIL MARKET DUMBEA",
          "KORAIL MARKET DUMBEA",
          "KORAIL MARKET DUMBEA",
          "KORAIL MARKET DUMBEA",
          "STATION MOBIL MICHEL ANGE",
          "STATION MOBIL MICHEL ANGE",
          "STATION MOBIL MICHEL ANGE",
          "STATION MOBIL MICHEL ANGE",
          "STATION MOBIL MICHEL ANGE",
          "STATION MOBIL MICHEL ANGE",
          "STATION SHELL AUTEUIL",
          "BOUCHERIE-ALIMENTATION SALIMAN",
          "BOUCHERIE-ALIMENTATION SALIMAN",
          "LES PRIMEURS DU CAILLOU PK 7 (MAGASIN PHUNG)",
          "LES PRIMEURS DU CAILLOU PK 7 (MAGASIN PHUNG)",
          "LES PRIMEURS DU CAILLOU PK 7 (MAGASIN PHUNG)",
          "STATION SHELL ANSE VATA",
          "CHEZ VIVI (ex CHEZ NOUNA)",
          "CHEZ VIVI (ex CHEZ NOUNA)",
          "CHEZ VIVI (ex CHEZ NOUNA)",
          "CHEZ VIVI (ex CHEZ NOUNA)",
          "CHEZ VIVI (ex CHEZ NOUNA)",
          "CHEZ VIVI (ex CHEZ NOUNA)",
          "STATION SHELL CAPY",
          "STATION SHELL CAPY",
          "STATION SHELL CAPY",
          "STATION SHELL CAPY",
          "STATION SHELL CAPY",
          "KORAIL PAITA",
          "KORAIL PAITA",
          "KORAIL PAITA",
          "KORAIL PAITA",
          "KORAIL PAITA",
          "KORAIL PAITA",
          "KORAIL PAITA",
          "KORAIL PAITA",
          "KORAIL PAITA",
          "KORAIL PAITA",
          "KORAIL PAITA",
          "KORAIL PAITA",
          "KORAIL PAITA",
          "KORAIL PAITA",
          "KORAIL PAITA",
          "KORAIL PAITA",
          "SISSI MARKET",
          "O SESAME (supérette Iekawe)",
          "MAGASIN ETE",
          "STATION SHELL TINA",
          "AUCHAN AUTEUIL",
          "AUCHAN AUTEUIL",
          "AUCHAN AUTEUIL",
          "AUCHAN AUTEUIL",
          "AUCHAN AUTEUIL",
          "AUCHAN AUTEUIL",
          "AUCHAN AUTEUIL",
          "AUCHAN AUTEUIL",
          "AUCHAN AUTEUIL",
          "AUCHAN AUTEUIL",
          "AUCHAN AUTEUIL",
          "AUCHAN AUTEUIL",
          "AUCHAN AUTEUIL",
          "AUCHAN AUTEUIL",
          "AUCHAN AUTEUIL",
          "AUCHAN AUTEUIL",
          "AUCHAN AUTEUIL",
          "AUCHAN AUTEUIL",
          "AUCHAN AUTEUIL",
          "AUCHAN AUTEUIL",
          "AUCHAN AUTEUIL",
          "STATION MOBIL PAITA",
          "STATION MOBIL PAITA",
          "STATION MOBIL PAITA",
          "KORAIL P.D.F",
          "KORAIL P.D.F",
          "KORAIL P.D.F",
          "KORAIL P.D.F",
          "KORAIL P.D.F",
          "KORAIL P.D.F",
          "KORAIL P.D.F",
          "KORAIL P.D.F",
          "KORAIL P.D.F",
          "KORAIL P.D.F",
          "KORAIL P.D.F",
          "KORAIL P.D.F",
          "KORAIL P.D.F",
          "KORAIL P.D.F",
          "KORAIL P.D.F",
          "KORAIL P.D.F",
          "KORAIL P.D.F",
          "LA PLUMETTE",
          "LIBRE SERVICE NIKITA",
          "VIVAL TINA",
          "VIVAL TINA",
          "VIVAL TINA",
          "VIVAL TINA",
          "VIVAL TINA",
          "STATION TOTAL ZAC PANDA",
          "STATION TOTAL ZAC PANDA",
          "STATION TOTAL ZAC PANDA",
          "STATION TOTAL ZAC PANDA",
          "STATION TOTAL ZAC PANDA",
          "STATION TOTAL DUMBEA (RIVIERE)",
          "STATION TOTAL ROND POINT",
          "STATION TOTAL ROND POINT",
          "STATION TOTAL ROND POINT",
          "STATION MOBIL VDC (VALLEE DES COLONS)",
          "STATION MOBIL VDC (VALLEE DES COLONS)",
          "STATION MOBIL VDC (VALLEE DES COLONS)",
          "STATION MOBIL VDC (VALLEE DES COLONS)",
          "STATION MOBIL VDC (VALLEE DES COLONS)",
          "LEADER PRICE CONCEPTION",
          "LEADER PRICE CONCEPTION",
          "LEADER PRICE CONCEPTION",
          "LEADER PRICE CONCEPTION",
          "LEADER PRICE CONCEPTION",
          "LEADER PRICE CONCEPTION",
          "LEADER PRICE CONCEPTION",
          "LEADER PRICE CONCEPTION",
          "LEADER PRICE CONCEPTION",
          "LEADER PRICE CONCEPTION",
          "LEADER PRICE CONCEPTION",
          "LEADER PRICE CONCEPTION",
          "LEADER PRICE CONCEPTION",
          "LEADER PRICE CONCEPTION",
          "STATION MOBIL FAUBOURG",
          "STATION MOBIL FAUBOURG",
          "STATION MOBIL FAUBOURG",
          "STATION MOBIL FAUBOURG",
          "STATION MOBIL FAUBOURG",
          "STATION MOBIL FAUBOURG",
          "STATION MOBIL FAUBOURG",
          "STATION MOBIL FAUBOURG",
          "STATION MOBIL BELLE VIE",
          "STATION MOBIL BELLE VIE",
          "STATION MOBIL BELLE VIE",
          "AUX SAVEURS DU MONT DORE",
          "STATION PACIFIC ENERGY BACO",
          "STATION PACIFIC ENERGY BACO",
          "STATION PACIFIC ENERGY BACO",
          "AU BON PRIX",
          "KORAIL VALLEE DES COLONS",
          "KORAIL VALLEE DES COLONS",
          "KORAIL VALLEE DES COLONS",
          "KORAIL VALLEE DES COLONS",
          "KORAIL VALLEE DES COLONS",
          "KORAIL VALLEE DES COLONS",
          "KORAIL VALLEE DES COLONS",
          "KORAIL VALLEE DES COLONS",
          "KORAIL VALLEE DES COLONS",
          "KORAIL VALLEE DES COLONS",
          "KORAIL VALLEE DES COLONS",
          "KORAIL VALLEE DES COLONS",
          "STATION MOBIL DELCO",
          "STATION MOBIL DUCOS",
          "STATION MOBIL DUCOS",
          "STATION MOBIL DUCOS",
          "STATION MOBIL DUCOS",
          "STATION MOBIL DUCOS",
          "KORAIL APOGOTI - CENTRE COMMERCIAL LES JARDINS D'APOGOTI",
          "KORAIL APOGOTI - CENTRE COMMERCIAL LES JARDINS D'APOGOTI",
          "KORAIL APOGOTI - CENTRE COMMERCIAL LES JARDINS D'APOGOTI",
          "KORAIL APOGOTI - CENTRE COMMERCIAL LES JARDINS D'APOGOTI",
          "KORAIL APOGOTI - CENTRE COMMERCIAL LES JARDINS D'APOGOTI",
          "KORAIL APOGOTI - CENTRE COMMERCIAL LES JARDINS D'APOGOTI",
          "KORAIL APOGOTI - CENTRE COMMERCIAL LES JARDINS D'APOGOTI",
          "KORAIL APOGOTI - CENTRE COMMERCIAL LES JARDINS D'APOGOTI",
          "KORAIL APOGOTI - CENTRE COMMERCIAL LES JARDINS D'APOGOTI",
          "KORAIL APOGOTI - CENTRE COMMERCIAL LES JARDINS D'APOGOTI",
          "KORAIL APOGOTI - CENTRE COMMERCIAL LES JARDINS D'APOGOTI",
          "KORAIL APOGOTI - CENTRE COMMERCIAL LES JARDINS D'APOGOTI",
          "KORAIL APOGOTI - CENTRE COMMERCIAL LES JARDINS D'APOGOTI",
          "ALIMENTATION GENERALE LE PORTE D'ARGENT",
          "CHEZ RIRI",
          "KORAIL DUCOS",
          "KORAIL DUCOS",
          "KORAIL DUCOS",
          "KORAIL DUCOS",
          "KORAIL DUCOS",
          "KORAIL DUCOS",
          "KORAIL DUCOS",
          "KORAIL DUCOS",
          "KORAIL DUCOS",
          "KORAIL DUCOS",
          "KORAIL DUCOS",
          "KORAIL DUCOS",
          "KORAIL DUCOS",
          "KORAIL DUCOS",
          "KORAIL DUCOS",
          "BLR Shop (ancien KOMAY alimentation)",
          "COMPTOIR DU MONT-DORE",
          "COMPTOIR DU MONT-DORE",
          "easy distribution normandie",
          "STATION TOTAL SAINTE MARIE",
          "MYSHOP SUPERMARCHE",
          "CHEZ DAVID",
          "CHEZ DAVID",
          "CHEZ DAVID",
          "ELEUSIS MARKET",
          "EXPRESS BOULOUPARIS",
          "EXPRESS BOULOUPARIS",
          "EXPRESS BOULOUPARIS",
          "EXPRESS BOULOUPARIS",
          "EXPRESS BOULOUPARIS",
          "EXPRESS BOULOUPARIS",
          "EXPRESS BOULOUPARIS",
          "EXPRESS BOULOUPARIS",
          "EXPRESS BOULOUPARIS",
          "EXPRESS BOULOUPARIS",
          "EXPRESS BOULOUPARIS",
          "EXPRESS BOULOUPARIS",
          "EXPRESS BOULOUPARIS",
          "EXPRESS BOULOUPARIS",
          "EXPRESS BOULOUPARIS",
          "EXPRESS BOULOUPARIS",
          "EXPRESS BOULOUPARIS",
          "EXPRESS BOULOUPARIS",
          "EXPRESS BOULOUPARIS",
          "AUCHAN BELLE VIE",
          "AUCHAN BELLE VIE",
          "AUCHAN BELLE VIE",
          "AUCHAN BELLE VIE",
          "AUCHAN BELLE VIE",
          "AUCHAN BELLE VIE",
          "AUCHAN BELLE VIE",
          "AUCHAN BELLE VIE",
          "AUCHAN BELLE VIE",
          "AUCHAN BELLE VIE",
          "AUCHAN BELLE VIE",
          "AUCHAN BELLE VIE",
          "AUCHAN BELLE VIE",
          "AUCHAN BELLE VIE",
          "AUCHAN BELLE VIE",
          "AUCHAN BELLE VIE",
          "AUCHAN BELLE VIE",
          "AUCHAN BELLE VIE",
          "AUCHAN BELLE VIE",
          "AUCHAN BELLE VIE",
          "AUCHAN BELLE VIE",
          "AUCHAN BELLE VIE",
          "AUCHAN BELLE VIE",
          "AUCHAN BELLE VIE",
          "AUCHAN BELLE VIE",
          "AUCHAN BELLE VIE",
          "STATION MOBIL KOUTIO",
          "STATION MOBIL KOUTIO",
          "STATION MOBIL KOUTIO",
          "STATION MOBIL KOUTIO",
          "STATION MOBIL KOUTIO",
          "STATION MOBIL KOUTIO",
          "STATION MOBIL KOUTIO",
          "STATION MOBIL KOUTIO",
          "STATION MOBIL KOUTIO",
          "STATION MOBIL KOUTIO",
          "STATION MOBIL KOUTIO",
          "STATION MOBIL KOUTIO",
          "STATION MOBIL VDE CONCEPTION (ROBINSON)",
          "STATION MOBIL VDE CONCEPTION (ROBINSON)"
         ],
         "x0": " ",
         "xaxis": "x",
         "y": [
          718.1818181818181,
          763.6363636363636,
          772.7272727272727,
          707.1428571428572,
          658.3333333333334,
          718.1818181818181,
          718.1818181818181,
          942.8571428571428,
          742.8571428571429,
          737.5,
          842.8571428571429,
          836.3636363636363,
          790,
          536.3636363636364,
          690.9090909090909,
          763.6363636363636,
          750,
          678.5714285714287,
          785.7142857142858,
          785.7142857142858,
          3745.454545454545,
          590.9090909090909,
          750,
          745.4545454545454,
          1445.4545454545453,
          792.8571428571429,
          1990,
          2030,
          1680,
          745.4545454545454,
          745.4545454545454,
          1000.0000000000002,
          771.4285714285714,
          737.5,
          872.7272727272726,
          1680,
          800,
          600,
          892.8571428571429,
          800,
          892.8571428571429,
          892.857142857143,
          1736.3636363636363,
          1416.6666666666667,
          645.4545454545454,
          775,
          916.6666666666666,
          1416.6666666666667,
          616.6666666666667,
          836.3636363636363,
          707.1428571428572,
          730.9090909090909,
          1254.5454545454545,
          1790,
          1790,
          1680,
          663.6363636363636,
          799.9999999999999,
          900.0000000000001,
          725,
          738.1818181818181,
          1600,
          627.2727272727273,
          572.7272727272726,
          785.7142857142858,
          1308.3333333333335,
          758.3333333333334,
          1998,
          1089.090909090909,
          1331.6666666666667,
          845.4545454545454,
          878.5714285714287,
          854.5454545454545,
          827.2727272727273,
          885.7142857142858,
          981.8181818181818,
          940,
          709.090909090909,
          907.1428571428572,
          864.2857142857143,
          709.090909090909,
          1990,
          790.9090909090909,
          736.3636363636363,
          919.9999999999999,
          836.3636363636363,
          725,
          1042.857142857143,
          800,
          963.6363636363635,
          799.9999999999999,
          800,
          763.6363636363636,
          827.2727272727273,
          835.7142857142858,
          927.2727272727273,
          763.6363636363636,
          1445.4545454545453,
          707.1428571428572,
          2060,
          2060,
          1690,
          750,
          763.6363636363636,
          899.9999999999999,
          1128.5714285714287,
          850,
          775,
          1000.0000000000002,
          899.9999999999999,
          1600,
          920,
          536.3636363636364,
          718.1818181818181,
          781.8181818181818,
          818.1818181818181,
          707.1428571428572,
          707.1428571428572,
          707.1428571428572,
          928.5714285714287,
          1463.6363636363635,
          754.5454545454545,
          825,
          966.6666666666669,
          1475,
          658.3333333333334,
          818.1818181818181,
          814.2857142857143,
          763.6363636363636,
          1499.9999999999998,
          821.4285714285714,
          2070,
          2110,
          1680,
          691.6666666666667,
          772.7272727272726,
          781.8181818181818,
          1028.5714285714287,
          785.7142857142858,
          775,
          928.5714285714287,
          899.9999999999998,
          1680,
          830,
          627.2727272727273,
          928.5714285714287,
          828.5714285714287,
          928.5714285714287,
          928.5714285714287,
          1809.090909090909,
          1475,
          672.7272727272726,
          808.3333333333334,
          1475,
          641.6666666666667,
          742.8571428571429,
          899.9999999999999,
          736.3636363636363,
          418.18181818181813,
          854.5454545454545,
          766.6666666666667,
          718.1818181818181,
          827.2727272727273,
          890.9090909090909,
          1138.181818181818,
          763.6363636363636,
          1499.9999999999998,
          821.4285714285714,
          2070,
          2110,
          1680,
          691.6666666666667,
          772.7272727272726,
          781.8181818181818,
          1028.5714285714287,
          785.7142857142858,
          775,
          928.5714285714287,
          899.9999999999998,
          1680,
          830,
          627.2727272727273,
          928.5714285714288,
          828.5714285714287,
          928.5714285714287,
          928.5714285714287,
          1475,
          672.7272727272726,
          808.3333333333334,
          925,
          1475,
          641.6666666666667,
          872.7272727272726,
          742.8571428571429,
          763.6363636363636,
          821.4285714285714,
          1900,
          691.6666666666667,
          772.7272727272726,
          781.8181818181818,
          1028.5714285714287,
          785.7142857142858,
          775,
          928.5714285714287,
          899.9999999999998,
          627.2727272727273,
          928.5714285714287,
          641.6666666666667,
          742.8571428571429,
          1036.3636363636363,
          454.5454545454545,
          891.6666666666667,
          1254.5454545454545,
          621.4285714285714,
          1790,
          1790,
          1640,
          645.4545454545454,
          1600,
          840,
          657.1428571428572,
          650,
          657.1428571428572,
          671.4285714285714,
          1581.8181818181818,
          1300,
          836.3636363636363,
          781.8181818181818,
          945.4545454545454,
          825,
          781.8181818181818,
          1145.4545454545453,
          642.8571428571429,
          1640,
          1640,
          1670,
          675,
          736.3636363636361,
          790.909090909091,
          985.7142857142858,
          821.4285714285716,
          762.5,
          942.8571428571429,
          918.1818181818181,
          1600,
          830,
          618.1818181818181,
          707.1428571428572,
          642.8571428571429,
          900.0000000000001,
          900.0000000000001,
          1427.2727272727273,
          636.3636363636363,
          816.6666666666667,
          933.3333333333334,
          1141.6666666666667,
          827.2727272727273,
          721.4285714285714,
          725,
          772.7272727272726,
          654.5454545454545,
          1042.857142857143,
          864.2857142857143,
          800,
          1000.0000000000001,
          963.6363636363635,
          807.1428571428572,
          771.4285714285714,
          742.8571428571429,
          700,
          858.3333333333334,
          983.3333333333334,
          999.9999999999998,
          1363.6363636363635,
          1790,
          1820,
          1325,
          1699.9999999999998,
          763.6363636363636,
          1499.9999999999998,
          821.4285714285714,
          2070,
          2110,
          1680,
          691.6666666666667,
          772.7272727272726,
          781.8181818181818,
          1028.5714285714287,
          785.7142857142858,
          775,
          928.5714285714286,
          899.9999999999998,
          1680,
          830,
          627.2727272727273,
          928.5714285714288,
          828.5714285714287,
          928.5714285714287,
          928.5714285714287,
          1499.9999999999998,
          1275,
          672.7272727272726,
          808.3333333333334,
          950,
          1275,
          641.6666666666667,
          872.7272727272726,
          742.8571428571429,
          1409.090909090909,
          1790,
          1990,
          863.6363636363635,
          1845.4545454545453,
          1491.6666666666667,
          863.6363636363635,
          799.9999999999999,
          836.3636363636363,
          1309.090909090909,
          828.5714285714287,
          1780,
          1790,
          1830,
          725,
          818.1818181818181,
          809.090909090909,
          1028.5714285714287,
          871.4285714285714,
          787.5,
          985.7142857142858,
          954.5454545454545,
          1760,
          870,
          654.5454545454545,
          772.7272727272727,
          900.0000000000001,
          835.7142857142858,
          907.1428571428572,
          907.1428571428572,
          1463.6363636363635,
          1241.6666666666667,
          663.6363636363636,
          808.3333333333334,
          666.6666666666667,
          827.2727272727273,
          700,
          1309.090909090909,
          807.1428571428572,
          1790,
          1790,
          1830,
          725,
          718.1818181818181,
          718.1818181818181,
          1000.0000000000002,
          842.8571428571429,
          787.5,
          957.1428571428572,
          927.2727272727273,
          1760,
          840,
          536.3636363636364,
          754.5454545454545,
          814.2857142857143,
          814.2857142857143,
          878.5714285714287,
          785.7142857142858,
          1463.6363636363635,
          1241.6666666666667,
          645.4545454545454,
          783.3333333333334,
          958.3333333333334,
          650,
          799.9999999999999,
          807.1428571428572,
          818.1818181818181,
          1263.6363636363635,
          807.1428571428572,
          1790,
          1790,
          1830,
          725,
          790.9090909090909,
          781.8181818181818,
          1000.0000000000002,
          842.8571428571429,
          787.5,
          957.1428571428572,
          927.2727272727273,
          1760,
          840,
          636.3636363636363,
          754.5454545454544,
          871.4285714285714,
          814.2857142857143,
          878.5714285714287,
          878.5714285714287,
          1463.6363636363635,
          1325,
          645.4545454545454,
          650,
          799.9999999999999,
          807.1428571428572,
          818.1818181818181,
          1263.6363636363635,
          807.1428571428572,
          1790,
          1790,
          1830,
          725,
          790.9090909090909,
          781.8181818181818,
          1000.0000000000002,
          842.8571428571429,
          787.5,
          957.1428571428572,
          927.2727272727273,
          1760,
          840,
          636.3636363636363,
          754.5454545454545,
          871.4285714285714,
          814.2857142857143,
          878.5714285714287,
          878.5714285714287,
          1463.6363636363635,
          1325,
          645.4545454545454,
          650,
          799.9999999999999,
          807.1428571428572,
          700,
          1263.6363636363635,
          807.1428571428572,
          1790,
          1790,
          1830,
          725,
          718.1818181818181,
          718.1818181818181,
          1000.0000000000002,
          842.8571428571429,
          787.5,
          957.1428571428572,
          927.2727272727273,
          1760,
          840,
          536.3636363636364,
          754.5454545454545,
          814.2857142857143,
          814.2857142857143,
          878.5714285714287,
          785.7142857142858,
          1672.7272727272725,
          1325,
          645.4545454545454,
          650,
          799.9999999999999,
          807.1428571428572,
          818.1818181818181,
          1263.6363636363635,
          807.1428571428572,
          1790,
          1790,
          1830,
          725,
          790.9090909090909,
          781.8181818181818,
          1000.0000000000002,
          842.8571428571429,
          787.5,
          957.1428571428572,
          927.2727272727273,
          1760,
          840,
          636.3636363636363,
          754.5454545454545,
          871.4285714285714,
          814.2857142857143,
          878.5714285714287,
          878.5714285714287,
          1672.7272727272727,
          1325,
          645.4545454545454,
          783.3333333333334,
          650,
          799.9999999999999,
          807.1428571428572,
          809.090909090909,
          928.5714285714287,
          899.9999999999999,
          1014.2857142857143,
          775,
          1000.0000000000001,
          928.5714285714287,
          854.5454545454545,
          709.090909090909,
          1227.2727272727273,
          757.1428571428572,
          1700,
          1700,
          654.5454545454545,
          718.1818181818181,
          799.9999999999999,
          750,
          572.7272727272726,
          636.3636363636363,
          821.4285714285714,
          757.1428571428572,
          821.4285714285714,
          821.4285714285714,
          1445.4545454545453,
          1158.3333333333335,
          554.5454545454545,
          716.6666666666667,
          875,
          1158.3333333333335,
          566.6666666666667,
          718.1818181818181,
          745.4545454545454,
          1445.4545454545453,
          792.8571428571429,
          1990,
          2030,
          1680,
          745.4545454545454,
          745.4545454545454,
          1000.0000000000002,
          771.4285714285714,
          737.5,
          872.7272727272726,
          1680,
          800,
          600,
          892.8571428571429,
          800,
          892.8571428571429,
          892.8571428571429,
          1736.3636363636363,
          1416.6666666666667,
          645.4545454545454,
          775,
          916.6666666666666,
          1416.6666666666667,
          616.6666666666667,
          836.3636363636363,
          707.1428571428572,
          709.090909090909,
          757.1428571428572,
          654.5454545454545,
          718.1818181818181,
          799.9999999999999,
          750,
          572.7272727272726,
          821.4285714285713,
          757.1428571428572,
          785.7142857142858,
          821.4285714285714,
          554.5454545454545,
          716.6666666666667,
          566.6666666666667,
          718.1818181818181,
          836.3636363636363,
          700,
          778.1818181818181,
          863.6363636363635,
          865.7142857142858,
          795,
          963.6363636363635,
          718.1818181818181,
          1254.5454545454545,
          1790,
          1430,
          675,
          727.2727272727273,
          799.9999999999999,
          772.7272727272726,
          1600,
          770,
          627.2727272727273,
          572.7272727272726,
          1308.3333333333335,
          758.3333333333334,
          709.090909090909,
          1227.2727272727273,
          757.1428571428572,
          1700,
          1700,
          654.5454545454545,
          718.1818181818181,
          799.9999999999999,
          750,
          572.7272727272726,
          636.3636363636363,
          821.4285714285714,
          757.1428571428572,
          821.4285714285714,
          821.4285714285714,
          1445.4545454545453,
          1158.3333333333335,
          554.5454545454545,
          716.6666666666667,
          875,
          1158.3333333333335,
          566.6666666666667,
          718.1818181818181,
          763.6363636363636,
          785.7142857142857,
          718.1818181818181,
          781.8181818181818,
          814.2857142857143,
          899.9999999999999,
          790,
          618.1818181818181,
          690.9090909090909,
          850,
          785.7142857142858,
          609.090909090909,
          808.3333333333335,
          709.090909090909,
          757.1428571428572,
          654.5454545454545,
          718.1818181818181,
          799.9999999999999,
          750,
          572.7272727272726,
          821.4285714285714,
          757.1428571428572,
          821.4285714285714,
          821.4285714285714,
          554.5454545454545,
          716.6666666666667,
          875,
          566.6666666666667,
          709.090909090909,
          1227.2727272727273,
          757.1428571428572,
          1700,
          1700,
          654.5454545454545,
          718.1818181818181,
          799.9999999999999,
          750,
          572.7272727272726,
          1445.4545454545453,
          1158.3333333333335,
          554.5454545454545,
          716.6666666666667,
          875,
          1158.3333333333335,
          566.6666666666667,
          718.1818181818181,
          727.2727272727274,
          818.1818181818181,
          2140,
          2192,
          708.3333333333334,
          763.6363636363636,
          850,
          800,
          945.4545454545454,
          1845.4545454545453,
          825,
          958.3333333333334,
          1508.3333333333335,
          730.9090909090909,
          741.8181818181818,
          790.9090909090909,
          758.3333333333334,
          1254.5454545454545,
          1790,
          1790,
          799.9999999999999,
          1600,
          770,
          627.2727272727273,
          835.7142857142858,
          785.7142857142858,
          1581.8181818181818,
          1308.3333333333335,
          1254.5454545454545,
          1790,
          1790,
          799.9999999999999,
          627.2727272727273,
          572.7272727272726,
          835.7142857142858,
          1618.181818181818,
          1308.3333333333335,
          827.2727272727273,
          700,
          1400,
          1309.090909090909,
          1592.7272727272723,
          1425,
          1254.5454545454545,
          1790,
          1790,
          1680,
          799.9999999999999,
          1600,
          627.2727272727273,
          572.7272727272726,
          1618.181818181818,
          1308.3333333333335,
          818.1818181818181,
          763.6363636363636,
          945.4545454545454,
          841.6666666666667,
          672.7272727272726,
          707.1428571428572,
          675,
          718.1818181818181,
          899.9999999999999,
          914.2857142857143,
          728.5714285714286,
          862.5,
          790.9090909090909,
          790,
          536.3636363636364,
          581.8181818181818,
          785.7142857142858,
          785.7142857142857,
          850,
          636.3636363636363,
          890.9090909090909,
          718.1818181818181,
          1254.5454545454545,
          1790,
          1790,
          1680,
          799.9999999999999,
          1600,
          835.7142857142859,
          785.7142857142858,
          1241.6666666666667,
          718.1818181818181,
          718.1818181818181,
          1254.5454545454545,
          1790,
          1790,
          799.9999999999999,
          627.2727272727273,
          572.7272727272726,
          835.7142857142858,
          1618.181818181818,
          1308.3333333333335,
          1254.5454545454545,
          1790,
          1790,
          1680,
          799.9999999999999,
          1600,
          835.7142857142858,
          785.7142857142858,
          1618.181818181818,
          1308.3333333333335,
          709.090909090909,
          781.8181818181818,
          757.1428571428572,
          1700,
          1700,
          654.5454545454545,
          718.1818181818181,
          799.9999999999999,
          750,
          572.7272727272726,
          636.3636363636363,
          821.4285714285713,
          757.1428571428572,
          821.4285714285714,
          821.4285714285714,
          1445.4545454545453,
          750,
          554.5454545454545,
          716.6666666666667,
          875,
          750,
          566.6666666666667,
          718.1818181818181,
          863.6363636363635,
          809.090909090909,
          992.8571428571429,
          900,
          754.5454545454545,
          1436.3636363636363,
          785.7142857142858,
          2060,
          2060,
          700,
          790.9090909090909,
          985.7142857142858,
          792.8571428571429,
          762.5,
          881.8181818181816,
          885.7142857142858,
          785.7142857142858,
          1781.818181818182,
          816.6666666666667,
          900,
          1200,
          854.5454545454545,
          850,
          758.3333333333334,
          836.3636363636363,
          836.3636363636363,
          1057.142857142857,
          885.7142857142858,
          825,
          1000.0000000000001,
          972.7272727272727,
          880,
          690.9090909090909,
          914.2857142857144,
          850,
          921.4285714285714,
          681.8181818181818,
          683.3333333333334,
          836.3636363636363,
          850,
          854.5454545454545,
          850,
          758.3333333333334,
          836.3636363636363,
          836.3636363636363,
          1057.142857142857,
          885.7142857142858,
          825,
          1000.0000000000002,
          972.7272727272727,
          880,
          690.9090909090909,
          790.9090909090909,
          914.2857142857143,
          850,
          921.4285714285714,
          921.4285714285714,
          681.8181818181818,
          836.3636363636363,
          854.5454545454545,
          850,
          758.3333333333334,
          836.3636363636363,
          836.3636363636363,
          885.7142857142859,
          825,
          1000.0000000000002,
          972.7272727272727,
          880,
          690.9090909090909,
          914.2857142857144,
          850,
          1391.6666666666667,
          681.8181818181818,
          825,
          683.3333333333334,
          836.3636363636363,
          854.5454545454545,
          1499.9999999999998,
          850,
          1870,
          2090,
          741.6666666666666,
          836.3636363636363,
          836.3636363636363,
          1057.142857142857,
          885.7142857142858,
          825,
          972.7272727272727,
          880,
          690.9090909090909,
          914.2857142857143,
          850,
          921.4285714285714,
          921.4285714285714,
          1491.6666666666667,
          681.8181818181818,
          825,
          1008.3333333333334,
          683.3333333333334,
          836.3636363636363,
          854.5454545454545,
          850,
          758.3333333333334,
          836.3636363636363,
          836.3636363636363,
          885.7142857142858,
          825,
          1000.0000000000002,
          972.7272727272727,
          880,
          690.9090909090909,
          914.2857142857144,
          850,
          681.8181818181818,
          825,
          1008.3333333333334,
          683.3333333333334,
          836.3636363636363,
          850,
          854.5454545454545,
          850,
          758.3333333333334,
          836.3636363636363,
          836.3636363636363,
          885.7142857142859,
          825,
          1000.0000000000002,
          972.7272727272727,
          880,
          690.9090909090909,
          914.2857142857144,
          850,
          921.4285714285714,
          681.8181818181818,
          683.3333333333334,
          836.3636363636363,
          754.5454545454545,
          1221.8181818181818,
          735.7142857142858,
          1942,
          1850,
          1940,
          733.3333333333334,
          781.8181818181816,
          872.7272727272726,
          1057.142857142857,
          878.5714285714288,
          800,
          1014.2857142857143,
          981.8181818181816,
          1850,
          890,
          690.9090909090909,
          754.5454545454545,
          850,
          792.8571428571428,
          757.1428571428572,
          714.2857142857143,
          1590.9090909090908,
          663.6363636363636,
          875,
          958.3333333333334,
          1325,
          809.090909090909,
          764.2857142857143,
          754.5454545454545,
          700,
          936.3636363636363,
          799.9999999999999,
          936.3636363636363,
          825,
          672.7272727272726,
          899.9999999999999,
          818.1818181818181,
          1054.5454545454545,
          709.090909090909,
          799.9999999999999,
          918.1818181818181,
          1772.7272727272725,
          1491.6666666666667,
          999.9999999999999,
          827.2727272727273,
          754.5454545454545,
          1221.8181818181818,
          735.7142857142858,
          1942,
          1850,
          1940,
          733.3333333333334,
          781.8181818181816,
          872.7272727272726,
          1057.142857142857,
          878.5714285714288,
          800,
          981.8181818181816,
          890,
          690.9090909090909,
          850,
          792.8571428571428,
          757.1428571428572,
          714.2857142857143,
          663.6363636363636,
          875,
          958.3333333333334,
          1325,
          818.1818181818181,
          818.1818181818181,
          809.090909090909,
          733.3333333333334,
          772.7272727272726,
          1000.0000000000001,
          835.7142857142858,
          899.9999999999999,
          833.3333333333334,
          863.6363636363635,
          899.9999999999999,
          1018.1818181818181,
          636.3636363636363,
          1007.1428571428572,
          1016.6666666666667,
          818.1818181818181,
          618.1818181818181,
          636.3636363636363,
          854.5454545454545,
          799.9999999999999,
          990.9090909090909,
          754.5454545454545,
          863.6363636363635,
          750,
          818.1818181818181,
          825,
          999.9999999999999,
          891.6666666666667,
          790.9090909090909,
          900.0000000000001,
          736.3636363636363,
          609.090909090909,
          816.6666666666667,
          781.8181818181818,
          800,
          1900,
          1790,
          754.5454545454545,
          763.6363636363636,
          800,
          899.9999999999999,
          636.3636363636363,
          871.4285714285714,
          800,
          878.5714285714287,
          850,
          636.3636363636363,
          825,
          925,
          209.09090909090907,
          863.6363636363635,
          1945.4545454545453,
          827.2727272727273,
          781.8181818181816,
          642.8571428571429,
          1780,
          1780,
          1490,
          675,
          736.3636363636364,
          790.9090909090909,
          985.7142857142858,
          821.4285714285716,
          762.5,
          942.8571428571429,
          918.1818181818181,
          1590,
          830,
          645.4545454545454,
          707.1428571428572,
          642.8571428571429,
          590.9090909090909,
          816.6666666666667,
          933.3333333333334,
          1018.1818181818181,
          908.3333333333334,
          1041.6666666666667,
          716.3636363636363,
          785.7142857142858,
          1900,
          1900,
          716.3636363636363,
          454.5454545454545,
          785.7142857142858,
          872.7272727272726,
          788,
          590.9090909090909,
          850,
          785.7142857142858,
          850,
          850,
          454.5454545454545,
          783.3333333333334,
          900,
          890.9090909090909,
          763.6363636363636,
          872.7272727272726,
          1590,
          766.6666666666667,
          818.1818181818181,
          999.9999999999999,
          854.5454545454545,
          842.8571428571429,
          854.5454545454545,
          981.8181818181818,
          942.8571428571429,
          899.9999999999999,
          930,
          718.1818181818181,
          781.8181818181818,
          900.0000000000001,
          872.7272727272726,
          645.4545454545454,
          985.7142857142858,
          663.6363636363636,
          709.090909090909,
          757.1428571428572,
          1700,
          654.5454545454545,
          799.9999999999999,
          750,
          572.7272727272726,
          821.4285714285714,
          757.1428571428572,
          554.5454545454545,
          716.6666666666667,
          875,
          566.6666666666667,
          718.1818181818181,
          1627.2727272727273,
          2190,
          2190,
          854.5454545454545,
          1045.4545454545453,
          754.5454545454545,
          1909.090909090909,
          636.3636363636363,
          727.2727272727273,
          999.9999999999999,
          883.3333333333334,
          890.9090909090909,
          1409.090909090909,
          1990,
          1990,
          809.090909090909,
          781.8181818181818,
          1256.3636363636363,
          1782,
          1700,
          745.4545454545454,
          792.8571428571429,
          875,
          890.9090909090909,
          636.3636363636363,
          816.6666666666667,
          916.6666666666667,
          1485,
          1027.2727272727273,
          1027.2727272727273,
          927.2727272727273,
          1042.857142857143,
          1163.6363636363635,
          1016.6666666666667,
          763.6363636363636,
          707.1428571428572,
          745.4545454545454,
          716.3636363636363,
          792.8571428571429,
          872.7272727272726,
          788,
          590.9090909090909,
          656.3636363636363,
          757.1428571428572,
          850,
          454.5454545454545,
          783.3333333333334,
          825,
          854.5454545454545,
          781.8181818181816,
          814.2857142857143,
          763.6363636363636,
          609.090909090909,
          800,
          890.9090909090909,
          830,
          600,
          871.4285714285714,
          814.2857142857143,
          871.4285714285714,
          871.4285714285714,
          656.3636363636363,
          800,
          900,
          690.9090909090909,
          2100,
          772.7272727272726,
          681.8181818181818,
          727.2727272727273,
          609.090909090909,
          781.8181818181818,
          718.1818181818181,
          899.9999999999999,
          663.6363636363636,
          781.8181818181818,
          1436.3636363636363,
          785.7142857142858,
          2060,
          2060,
          736.3636363636361,
          790.909090909091,
          985.7142857142858,
          821.4285714285716,
          762.5,
          942.8571428571429,
          918.1818181818181,
          645.4545454545454,
          885.7142857142858,
          785.7142857142858,
          1781.8181818181818,
          816.6666666666667,
          933.3333333333334,
          1200,
          752.7272727272726,
          1247.2727272727273,
          790,
          1742,
          1738,
          1582,
          673.3333333333334,
          700,
          787.2727272727274,
          940.0000000000001,
          928.5714285714287,
          812.5,
          811.4285714285714,
          878.1818181818181,
          1498,
          804,
          618.1818181818181,
          862.8571428571429,
          790,
          862.8571428571429,
          862.857142857143,
          1592.7272727272725,
          609.090909090909,
          750,
          958.3333333333334,
          1110,
          872.7272727272726,
          992.8571428571429,
          791.6666666666667,
          972.7272727272726,
          800,
          885.7142857142858,
          918.1818181818181,
          818.1818181818181,
          1121.4285714285716,
          992.8571428571429,
          791.6666666666667,
          791.6666666666667,
          928.5714285714287,
          818.1818181818181
         ],
         "y0": " ",
         "yaxis": "y"
        }
       ],
       "layout": {
        "legend": {
         "tracegroupgap": 0
        },
        "margin": {
         "t": 60
        },
        "template": {
         "data": {
          "bar": [
           {
            "error_x": {
             "color": "#2a3f5f"
            },
            "error_y": {
             "color": "#2a3f5f"
            },
            "marker": {
             "line": {
              "color": "#E5ECF6",
              "width": 0.5
             },
             "pattern": {
              "fillmode": "overlay",
              "size": 10,
              "solidity": 0.2
             }
            },
            "type": "bar"
           }
          ],
          "barpolar": [
           {
            "marker": {
             "line": {
              "color": "#E5ECF6",
              "width": 0.5
             },
             "pattern": {
              "fillmode": "overlay",
              "size": 10,
              "solidity": 0.2
             }
            },
            "type": "barpolar"
           }
          ],
          "carpet": [
           {
            "aaxis": {
             "endlinecolor": "#2a3f5f",
             "gridcolor": "white",
             "linecolor": "white",
             "minorgridcolor": "white",
             "startlinecolor": "#2a3f5f"
            },
            "baxis": {
             "endlinecolor": "#2a3f5f",
             "gridcolor": "white",
             "linecolor": "white",
             "minorgridcolor": "white",
             "startlinecolor": "#2a3f5f"
            },
            "type": "carpet"
           }
          ],
          "choropleth": [
           {
            "colorbar": {
             "outlinewidth": 0,
             "ticks": ""
            },
            "type": "choropleth"
           }
          ],
          "contour": [
           {
            "colorbar": {
             "outlinewidth": 0,
             "ticks": ""
            },
            "colorscale": [
             [
              0,
              "#0d0887"
             ],
             [
              0.1111111111111111,
              "#46039f"
             ],
             [
              0.2222222222222222,
              "#7201a8"
             ],
             [
              0.3333333333333333,
              "#9c179e"
             ],
             [
              0.4444444444444444,
              "#bd3786"
             ],
             [
              0.5555555555555556,
              "#d8576b"
             ],
             [
              0.6666666666666666,
              "#ed7953"
             ],
             [
              0.7777777777777778,
              "#fb9f3a"
             ],
             [
              0.8888888888888888,
              "#fdca26"
             ],
             [
              1,
              "#f0f921"
             ]
            ],
            "type": "contour"
           }
          ],
          "contourcarpet": [
           {
            "colorbar": {
             "outlinewidth": 0,
             "ticks": ""
            },
            "type": "contourcarpet"
           }
          ],
          "heatmap": [
           {
            "colorbar": {
             "outlinewidth": 0,
             "ticks": ""
            },
            "colorscale": [
             [
              0,
              "#0d0887"
             ],
             [
              0.1111111111111111,
              "#46039f"
             ],
             [
              0.2222222222222222,
              "#7201a8"
             ],
             [
              0.3333333333333333,
              "#9c179e"
             ],
             [
              0.4444444444444444,
              "#bd3786"
             ],
             [
              0.5555555555555556,
              "#d8576b"
             ],
             [
              0.6666666666666666,
              "#ed7953"
             ],
             [
              0.7777777777777778,
              "#fb9f3a"
             ],
             [
              0.8888888888888888,
              "#fdca26"
             ],
             [
              1,
              "#f0f921"
             ]
            ],
            "type": "heatmap"
           }
          ],
          "heatmapgl": [
           {
            "colorbar": {
             "outlinewidth": 0,
             "ticks": ""
            },
            "colorscale": [
             [
              0,
              "#0d0887"
             ],
             [
              0.1111111111111111,
              "#46039f"
             ],
             [
              0.2222222222222222,
              "#7201a8"
             ],
             [
              0.3333333333333333,
              "#9c179e"
             ],
             [
              0.4444444444444444,
              "#bd3786"
             ],
             [
              0.5555555555555556,
              "#d8576b"
             ],
             [
              0.6666666666666666,
              "#ed7953"
             ],
             [
              0.7777777777777778,
              "#fb9f3a"
             ],
             [
              0.8888888888888888,
              "#fdca26"
             ],
             [
              1,
              "#f0f921"
             ]
            ],
            "type": "heatmapgl"
           }
          ],
          "histogram": [
           {
            "marker": {
             "pattern": {
              "fillmode": "overlay",
              "size": 10,
              "solidity": 0.2
             }
            },
            "type": "histogram"
           }
          ],
          "histogram2d": [
           {
            "colorbar": {
             "outlinewidth": 0,
             "ticks": ""
            },
            "colorscale": [
             [
              0,
              "#0d0887"
             ],
             [
              0.1111111111111111,
              "#46039f"
             ],
             [
              0.2222222222222222,
              "#7201a8"
             ],
             [
              0.3333333333333333,
              "#9c179e"
             ],
             [
              0.4444444444444444,
              "#bd3786"
             ],
             [
              0.5555555555555556,
              "#d8576b"
             ],
             [
              0.6666666666666666,
              "#ed7953"
             ],
             [
              0.7777777777777778,
              "#fb9f3a"
             ],
             [
              0.8888888888888888,
              "#fdca26"
             ],
             [
              1,
              "#f0f921"
             ]
            ],
            "type": "histogram2d"
           }
          ],
          "histogram2dcontour": [
           {
            "colorbar": {
             "outlinewidth": 0,
             "ticks": ""
            },
            "colorscale": [
             [
              0,
              "#0d0887"
             ],
             [
              0.1111111111111111,
              "#46039f"
             ],
             [
              0.2222222222222222,
              "#7201a8"
             ],
             [
              0.3333333333333333,
              "#9c179e"
             ],
             [
              0.4444444444444444,
              "#bd3786"
             ],
             [
              0.5555555555555556,
              "#d8576b"
             ],
             [
              0.6666666666666666,
              "#ed7953"
             ],
             [
              0.7777777777777778,
              "#fb9f3a"
             ],
             [
              0.8888888888888888,
              "#fdca26"
             ],
             [
              1,
              "#f0f921"
             ]
            ],
            "type": "histogram2dcontour"
           }
          ],
          "mesh3d": [
           {
            "colorbar": {
             "outlinewidth": 0,
             "ticks": ""
            },
            "type": "mesh3d"
           }
          ],
          "parcoords": [
           {
            "line": {
             "colorbar": {
              "outlinewidth": 0,
              "ticks": ""
             }
            },
            "type": "parcoords"
           }
          ],
          "pie": [
           {
            "automargin": true,
            "type": "pie"
           }
          ],
          "scatter": [
           {
            "fillpattern": {
             "fillmode": "overlay",
             "size": 10,
             "solidity": 0.2
            },
            "type": "scatter"
           }
          ],
          "scatter3d": [
           {
            "line": {
             "colorbar": {
              "outlinewidth": 0,
              "ticks": ""
             }
            },
            "marker": {
             "colorbar": {
              "outlinewidth": 0,
              "ticks": ""
             }
            },
            "type": "scatter3d"
           }
          ],
          "scattercarpet": [
           {
            "marker": {
             "colorbar": {
              "outlinewidth": 0,
              "ticks": ""
             }
            },
            "type": "scattercarpet"
           }
          ],
          "scattergeo": [
           {
            "marker": {
             "colorbar": {
              "outlinewidth": 0,
              "ticks": ""
             }
            },
            "type": "scattergeo"
           }
          ],
          "scattergl": [
           {
            "marker": {
             "colorbar": {
              "outlinewidth": 0,
              "ticks": ""
             }
            },
            "type": "scattergl"
           }
          ],
          "scattermapbox": [
           {
            "marker": {
             "colorbar": {
              "outlinewidth": 0,
              "ticks": ""
             }
            },
            "type": "scattermapbox"
           }
          ],
          "scatterpolar": [
           {
            "marker": {
             "colorbar": {
              "outlinewidth": 0,
              "ticks": ""
             }
            },
            "type": "scatterpolar"
           }
          ],
          "scatterpolargl": [
           {
            "marker": {
             "colorbar": {
              "outlinewidth": 0,
              "ticks": ""
             }
            },
            "type": "scatterpolargl"
           }
          ],
          "scatterternary": [
           {
            "marker": {
             "colorbar": {
              "outlinewidth": 0,
              "ticks": ""
             }
            },
            "type": "scatterternary"
           }
          ],
          "surface": [
           {
            "colorbar": {
             "outlinewidth": 0,
             "ticks": ""
            },
            "colorscale": [
             [
              0,
              "#0d0887"
             ],
             [
              0.1111111111111111,
              "#46039f"
             ],
             [
              0.2222222222222222,
              "#7201a8"
             ],
             [
              0.3333333333333333,
              "#9c179e"
             ],
             [
              0.4444444444444444,
              "#bd3786"
             ],
             [
              0.5555555555555556,
              "#d8576b"
             ],
             [
              0.6666666666666666,
              "#ed7953"
             ],
             [
              0.7777777777777778,
              "#fb9f3a"
             ],
             [
              0.8888888888888888,
              "#fdca26"
             ],
             [
              1,
              "#f0f921"
             ]
            ],
            "type": "surface"
           }
          ],
          "table": [
           {
            "cells": {
             "fill": {
              "color": "#EBF0F8"
             },
             "line": {
              "color": "white"
             }
            },
            "header": {
             "fill": {
              "color": "#C8D4E3"
             },
             "line": {
              "color": "white"
             }
            },
            "type": "table"
           }
          ]
         },
         "layout": {
          "annotationdefaults": {
           "arrowcolor": "#2a3f5f",
           "arrowhead": 0,
           "arrowwidth": 1
          },
          "autotypenumbers": "strict",
          "coloraxis": {
           "colorbar": {
            "outlinewidth": 0,
            "ticks": ""
           }
          },
          "colorscale": {
           "diverging": [
            [
             0,
             "#8e0152"
            ],
            [
             0.1,
             "#c51b7d"
            ],
            [
             0.2,
             "#de77ae"
            ],
            [
             0.3,
             "#f1b6da"
            ],
            [
             0.4,
             "#fde0ef"
            ],
            [
             0.5,
             "#f7f7f7"
            ],
            [
             0.6,
             "#e6f5d0"
            ],
            [
             0.7,
             "#b8e186"
            ],
            [
             0.8,
             "#7fbc41"
            ],
            [
             0.9,
             "#4d9221"
            ],
            [
             1,
             "#276419"
            ]
           ],
           "sequential": [
            [
             0,
             "#0d0887"
            ],
            [
             0.1111111111111111,
             "#46039f"
            ],
            [
             0.2222222222222222,
             "#7201a8"
            ],
            [
             0.3333333333333333,
             "#9c179e"
            ],
            [
             0.4444444444444444,
             "#bd3786"
            ],
            [
             0.5555555555555556,
             "#d8576b"
            ],
            [
             0.6666666666666666,
             "#ed7953"
            ],
            [
             0.7777777777777778,
             "#fb9f3a"
            ],
            [
             0.8888888888888888,
             "#fdca26"
            ],
            [
             1,
             "#f0f921"
            ]
           ],
           "sequentialminus": [
            [
             0,
             "#0d0887"
            ],
            [
             0.1111111111111111,
             "#46039f"
            ],
            [
             0.2222222222222222,
             "#7201a8"
            ],
            [
             0.3333333333333333,
             "#9c179e"
            ],
            [
             0.4444444444444444,
             "#bd3786"
            ],
            [
             0.5555555555555556,
             "#d8576b"
            ],
            [
             0.6666666666666666,
             "#ed7953"
            ],
            [
             0.7777777777777778,
             "#fb9f3a"
            ],
            [
             0.8888888888888888,
             "#fdca26"
            ],
            [
             1,
             "#f0f921"
            ]
           ]
          },
          "colorway": [
           "#636efa",
           "#EF553B",
           "#00cc96",
           "#ab63fa",
           "#FFA15A",
           "#19d3f3",
           "#FF6692",
           "#B6E880",
           "#FF97FF",
           "#FECB52"
          ],
          "font": {
           "color": "#2a3f5f"
          },
          "geo": {
           "bgcolor": "white",
           "lakecolor": "white",
           "landcolor": "#E5ECF6",
           "showlakes": true,
           "showland": true,
           "subunitcolor": "white"
          },
          "hoverlabel": {
           "align": "left"
          },
          "hovermode": "closest",
          "mapbox": {
           "style": "light"
          },
          "paper_bgcolor": "white",
          "plot_bgcolor": "#E5ECF6",
          "polar": {
           "angularaxis": {
            "gridcolor": "white",
            "linecolor": "white",
            "ticks": ""
           },
           "bgcolor": "#E5ECF6",
           "radialaxis": {
            "gridcolor": "white",
            "linecolor": "white",
            "ticks": ""
           }
          },
          "scene": {
           "xaxis": {
            "backgroundcolor": "#E5ECF6",
            "gridcolor": "white",
            "gridwidth": 2,
            "linecolor": "white",
            "showbackground": true,
            "ticks": "",
            "zerolinecolor": "white"
           },
           "yaxis": {
            "backgroundcolor": "#E5ECF6",
            "gridcolor": "white",
            "gridwidth": 2,
            "linecolor": "white",
            "showbackground": true,
            "ticks": "",
            "zerolinecolor": "white"
           },
           "zaxis": {
            "backgroundcolor": "#E5ECF6",
            "gridcolor": "white",
            "gridwidth": 2,
            "linecolor": "white",
            "showbackground": true,
            "ticks": "",
            "zerolinecolor": "white"
           }
          },
          "shapedefaults": {
           "line": {
            "color": "#2a3f5f"
           }
          },
          "ternary": {
           "aaxis": {
            "gridcolor": "white",
            "linecolor": "white",
            "ticks": ""
           },
           "baxis": {
            "gridcolor": "white",
            "linecolor": "white",
            "ticks": ""
           },
           "bgcolor": "#E5ECF6",
           "caxis": {
            "gridcolor": "white",
            "linecolor": "white",
            "ticks": ""
           }
          },
          "title": {
           "x": 0.05
          },
          "xaxis": {
           "automargin": true,
           "gridcolor": "white",
           "linecolor": "white",
           "ticks": "",
           "title": {
            "standoff": 15
           },
           "zerolinecolor": "white",
           "zerolinewidth": 2
          },
          "yaxis": {
           "automargin": true,
           "gridcolor": "white",
           "linecolor": "white",
           "ticks": "",
           "title": {
            "standoff": 15
           },
           "zerolinecolor": "white",
           "zerolinewidth": 2
          }
         }
        },
        "violinmode": "group",
        "xaxis": {
         "anchor": "y",
         "domain": [
          0,
          1
         ],
         "title": {
          "text": "RAISON_SOCIALE"
         }
        },
        "yaxis": {
         "anchor": "x",
         "domain": [
          0,
          1
         ],
         "title": {
          "text": "DERNIER_PRIX_UNITAIRE"
         }
        }
       }
      }
     },
     "metadata": {},
     "output_type": "display_data"
    }
   ],
   "source": [
    "import plotly.express as px\n",
    "\n",
    "fig = px.violin(df_test, y=\"DERNIER_PRIX_UNITAIRE\", x=\"RAISON_SOCIALE\", box=True, points=\"all\",\n",
    "          hover_data=df_test.columns)\n",
    "fig.show()"
   ]
  },
  {
   "cell_type": "code",
   "execution_count": 40,
   "metadata": {},
   "outputs": [
    {
     "data": {
      "text/html": [
       "<div>\n",
       "<style scoped>\n",
       "    .dataframe tbody tr th:only-of-type {\n",
       "        vertical-align: middle;\n",
       "    }\n",
       "\n",
       "    .dataframe tbody tr th {\n",
       "        vertical-align: top;\n",
       "    }\n",
       "\n",
       "    .dataframe thead th {\n",
       "        text-align: right;\n",
       "    }\n",
       "</style>\n",
       "<table border=\"1\" class=\"dataframe\">\n",
       "  <thead>\n",
       "    <tr style=\"text-align: right;\">\n",
       "      <th></th>\n",
       "      <th>SOUS_FAMILLE</th>\n",
       "      <th>CODE_PRODUIT</th>\n",
       "    </tr>\n",
       "  </thead>\n",
       "  <tbody>\n",
       "    <tr>\n",
       "      <th>147</th>\n",
       "      <td>jus de fruits</td>\n",
       "      <td>173405</td>\n",
       "    </tr>\n",
       "    <tr>\n",
       "      <th>13</th>\n",
       "      <td>biscuit fourré, nappé</td>\n",
       "      <td>172079</td>\n",
       "    </tr>\n",
       "    <tr>\n",
       "      <th>64</th>\n",
       "      <td>conserve de légume</td>\n",
       "      <td>162496</td>\n",
       "    </tr>\n",
       "    <tr>\n",
       "      <th>69</th>\n",
       "      <td>conserve de poisson</td>\n",
       "      <td>137039</td>\n",
       "    </tr>\n",
       "    <tr>\n",
       "      <th>290</th>\n",
       "      <td>yaourt laitier</td>\n",
       "      <td>114384</td>\n",
       "    </tr>\n",
       "    <tr>\n",
       "      <th>231</th>\n",
       "      <td>sauce exotique</td>\n",
       "      <td>100705</td>\n",
       "    </tr>\n",
       "    <tr>\n",
       "      <th>12</th>\n",
       "      <td>biscuit apéritif</td>\n",
       "      <td>84847</td>\n",
       "    </tr>\n",
       "    <tr>\n",
       "      <th>54</th>\n",
       "      <td>condiment</td>\n",
       "      <td>76356</td>\n",
       "    </tr>\n",
       "    <tr>\n",
       "      <th>46</th>\n",
       "      <td>chips, tuile et tortilla</td>\n",
       "      <td>75071</td>\n",
       "    </tr>\n",
       "    <tr>\n",
       "      <th>15</th>\n",
       "      <td>biscuit sec, sablé</td>\n",
       "      <td>74448</td>\n",
       "    </tr>\n",
       "    <tr>\n",
       "      <th>247</th>\n",
       "      <td>soda aux fruits</td>\n",
       "      <td>70696</td>\n",
       "    </tr>\n",
       "    <tr>\n",
       "      <th>2</th>\n",
       "      <td>aide à la pâtisserie</td>\n",
       "      <td>69759</td>\n",
       "    </tr>\n",
       "    <tr>\n",
       "      <th>27</th>\n",
       "      <td>bonbon</td>\n",
       "      <td>67767</td>\n",
       "    </tr>\n",
       "    <tr>\n",
       "      <th>67</th>\n",
       "      <td>conserve de plat cuisiné</td>\n",
       "      <td>66264</td>\n",
       "    </tr>\n",
       "    <tr>\n",
       "      <th>252</th>\n",
       "      <td>soupe déshydratée, instantannée</td>\n",
       "      <td>65871</td>\n",
       "    </tr>\n",
       "    <tr>\n",
       "      <th>262</th>\n",
       "      <td>tablette de chocolat</td>\n",
       "      <td>64793</td>\n",
       "    </tr>\n",
       "    <tr>\n",
       "      <th>233</th>\n",
       "      <td>sauce pour pâte et riz</td>\n",
       "      <td>64621</td>\n",
       "    </tr>\n",
       "    <tr>\n",
       "      <th>70</th>\n",
       "      <td>conserve de pâté, terrine</td>\n",
       "      <td>60464</td>\n",
       "    </tr>\n",
       "    <tr>\n",
       "      <th>270</th>\n",
       "      <td>thé</td>\n",
       "      <td>50346</td>\n",
       "    </tr>\n",
       "    <tr>\n",
       "      <th>82</th>\n",
       "      <td>céréale petit déjeuner</td>\n",
       "      <td>49819</td>\n",
       "    </tr>\n",
       "  </tbody>\n",
       "</table>\n",
       "</div>"
      ],
      "text/plain": [
       "                        SOUS_FAMILLE  CODE_PRODUIT\n",
       "147                    jus de fruits        173405\n",
       "13             biscuit fourré, nappé        172079\n",
       "64                conserve de légume        162496\n",
       "69               conserve de poisson        137039\n",
       "290                   yaourt laitier        114384\n",
       "231                   sauce exotique        100705\n",
       "12                  biscuit apéritif         84847\n",
       "54                         condiment         76356\n",
       "46          chips, tuile et tortilla         75071\n",
       "15                biscuit sec, sablé         74448\n",
       "247                  soda aux fruits         70696\n",
       "2               aide à la pâtisserie         69759\n",
       "27                            bonbon         67767\n",
       "67          conserve de plat cuisiné         66264\n",
       "252  soupe déshydratée, instantannée         65871\n",
       "262             tablette de chocolat         64793\n",
       "233           sauce pour pâte et riz         64621\n",
       "70         conserve de pâté, terrine         60464\n",
       "270                              thé         50346\n",
       "82            céréale petit déjeuner         49819"
      ]
     },
     "execution_count": 40,
     "metadata": {},
     "output_type": "execute_result"
    }
   ],
   "source": [
    "df.groupby(by=[\"SOUS_FAMILLE\"], as_index=False)[\"CODE_PRODUIT\"].count().sort_values(by=\"CODE_PRODUIT\", ascending=False).head(20)"
   ]
  },
  {
   "cell_type": "code",
   "execution_count": 42,
   "metadata": {},
   "outputs": [
    {
     "data": {
      "text/plain": [
       "array(['plat cuisiné individuel', 'pâte longue', 'pâte courte',\n",
       "       'pâtisserie à partager surgelée', 'pâte surgelée boulangerie',\n",
       "       'pizza surgelée : fromage',\n",
       "       'pâte à tarte, pizza, feuille de brick fraîche',\n",
       "       'farine spécifique', 'condiment', 'aide à la pâtisserie',\n",
       "       'pâte fraîche', 'olive et tartinable', 'biscuit sec, sablé',\n",
       "       'traiteur : salade', 'biscuit fourré, nappé',\n",
       "       'fromage : brie, camembert, coulommiers, crémeux', 'pâte sèche',\n",
       "       'lasagne, cannelloni', 'pizza surgelée : végétarienne',\n",
       "       'pâte fourrée', 'pâte asiatique', 'pizza surgelée : viande',\n",
       "       'tarte salée surgelée : autres', 'épice culinaire',\n",
       "       'chocolat à offrir', 'tablette de chocolat', 'pâte à tartiner',\n",
       "       'pizza surgelée : classique', 'glace à partager : chocolat'],\n",
       "      dtype=object)"
      ]
     },
     "execution_count": 42,
     "metadata": {},
     "output_type": "execute_result"
    }
   ],
   "source": [
    "df[df[\"NOM\"].str.contains(\"pâte\", case=False)==True][\"SOUS_FAMILLE\"].unique()"
   ]
  },
  {
   "cell_type": "code",
   "execution_count": 15,
   "metadata": {},
   "outputs": [
    {
     "data": {
      "text/html": [
       "<div>\n",
       "<style scoped>\n",
       "    .dataframe tbody tr th:only-of-type {\n",
       "        vertical-align: middle;\n",
       "    }\n",
       "\n",
       "    .dataframe tbody tr th {\n",
       "        vertical-align: top;\n",
       "    }\n",
       "\n",
       "    .dataframe thead th {\n",
       "        text-align: right;\n",
       "    }\n",
       "</style>\n",
       "<table border=\"1\" class=\"dataframe\">\n",
       "  <thead>\n",
       "    <tr style=\"text-align: right;\">\n",
       "      <th></th>\n",
       "      <th>NOM</th>\n",
       "      <th>CODE_PRODUIT</th>\n",
       "    </tr>\n",
       "  </thead>\n",
       "  <tbody>\n",
       "    <tr>\n",
       "      <th>1061</th>\n",
       "      <td>soda au cola Coca-Cola light bouteille 4 x 1.5 l</td>\n",
       "      <td>45703</td>\n",
       "    </tr>\n",
       "    <tr>\n",
       "      <th>979686</th>\n",
       "      <td>soda au cola Coca-Cola light boîte 33 cl</td>\n",
       "      <td>45704</td>\n",
       "    </tr>\n",
       "    <tr>\n",
       "      <th>1043081</th>\n",
       "      <td>soda au cola Coca-Cola light bouteille 1.5 l</td>\n",
       "      <td>45706</td>\n",
       "    </tr>\n",
       "    <tr>\n",
       "      <th>521890</th>\n",
       "      <td>soda au cola Coca-Cola zero bouteille 60 cl</td>\n",
       "      <td>46183</td>\n",
       "    </tr>\n",
       "    <tr>\n",
       "      <th>6760</th>\n",
       "      <td>soda au cola Coca-Cola bouteille 1.5 l</td>\n",
       "      <td>46185</td>\n",
       "    </tr>\n",
       "    <tr>\n",
       "      <th>166759</th>\n",
       "      <td>soda au cola Coca-Cola boîte 33 cl</td>\n",
       "      <td>46186</td>\n",
       "    </tr>\n",
       "    <tr>\n",
       "      <th>1197933</th>\n",
       "      <td>soda au cola Coca-Cola bouteille 60 cl</td>\n",
       "      <td>46187</td>\n",
       "    </tr>\n",
       "    <tr>\n",
       "      <th>675595</th>\n",
       "      <td>soda au cola Coca-Cola bouteille 12 x 1.5 l</td>\n",
       "      <td>53255</td>\n",
       "    </tr>\n",
       "    <tr>\n",
       "      <th>258648</th>\n",
       "      <td>soda au cola Coca-Cola boîte 24 x 33 cl</td>\n",
       "      <td>53258</td>\n",
       "    </tr>\n",
       "    <tr>\n",
       "      <th>552615</th>\n",
       "      <td>soda au cola Coca-Cola zero boîte 6 x 33 cl</td>\n",
       "      <td>53325</td>\n",
       "    </tr>\n",
       "    <tr>\n",
       "      <th>796260</th>\n",
       "      <td>soda au cola Coca-Cola zero bouteille 4 x 1.5 l</td>\n",
       "      <td>53351</td>\n",
       "    </tr>\n",
       "    <tr>\n",
       "      <th>1282694</th>\n",
       "      <td>soda au cola Coca-Cola bouteille 4 x 1.5 l</td>\n",
       "      <td>53354</td>\n",
       "    </tr>\n",
       "    <tr>\n",
       "      <th>1347592</th>\n",
       "      <td>soda au cola Coca-Cola light bouteille 60 cl</td>\n",
       "      <td>53378</td>\n",
       "    </tr>\n",
       "    <tr>\n",
       "      <th>671475</th>\n",
       "      <td>soda au cola Coca-Cola boîte 6 x 33 cl</td>\n",
       "      <td>53391</td>\n",
       "    </tr>\n",
       "    <tr>\n",
       "      <th>3433250</th>\n",
       "      <td>soda au cola Coca-Cola zero boîte 33 cl</td>\n",
       "      <td>53404</td>\n",
       "    </tr>\n",
       "    <tr>\n",
       "      <th>1841502</th>\n",
       "      <td>soda au cola Coca-Cola zero cherry bouteille 1...</td>\n",
       "      <td>175883</td>\n",
       "    </tr>\n",
       "    <tr>\n",
       "      <th>594866</th>\n",
       "      <td>soda au cola Coca-Cola bouteille 35 cl</td>\n",
       "      <td>181276</td>\n",
       "    </tr>\n",
       "    <tr>\n",
       "      <th>1035980</th>\n",
       "      <td>soda au cola Coca-Cola zero bouteille 35 cl</td>\n",
       "      <td>184380</td>\n",
       "    </tr>\n",
       "    <tr>\n",
       "      <th>969281</th>\n",
       "      <td>soda au cola Coca-Cola bouteille 1 l</td>\n",
       "      <td>195943</td>\n",
       "    </tr>\n",
       "    <tr>\n",
       "      <th>56539</th>\n",
       "      <td>soda au cola Coca-Cola zero bouteille 1 l</td>\n",
       "      <td>195944</td>\n",
       "    </tr>\n",
       "    <tr>\n",
       "      <th>602472</th>\n",
       "      <td>soda au cola Coca-Cola zero bouteille 1.5 l</td>\n",
       "      <td>198921</td>\n",
       "    </tr>\n",
       "    <tr>\n",
       "      <th>16842</th>\n",
       "      <td>soda au cola Coca-Cola boîte 250 ml</td>\n",
       "      <td>207581</td>\n",
       "    </tr>\n",
       "    <tr>\n",
       "      <th>773136</th>\n",
       "      <td>soda au cola Coca-Cola zero boîte 250 ml</td>\n",
       "      <td>210922</td>\n",
       "    </tr>\n",
       "    <tr>\n",
       "      <th>1187813</th>\n",
       "      <td>soda au cola Coca-Cola light boîte 250 ml</td>\n",
       "      <td>210923</td>\n",
       "    </tr>\n",
       "    <tr>\n",
       "      <th>968616</th>\n",
       "      <td>soda au cola Coca-Cola sans sucre boîte 6 x 25 cl</td>\n",
       "      <td>212762</td>\n",
       "    </tr>\n",
       "    <tr>\n",
       "      <th>114593</th>\n",
       "      <td>soda au cola Coca-Cola light boîte 6 x 25 cl</td>\n",
       "      <td>212763</td>\n",
       "    </tr>\n",
       "    <tr>\n",
       "      <th>734125</th>\n",
       "      <td>soda au cola Coca-Cola boîte 6 x 25 cl</td>\n",
       "      <td>212764</td>\n",
       "    </tr>\n",
       "    <tr>\n",
       "      <th>241336</th>\n",
       "      <td>soda au cola Coca-Cola boîte 440 ml</td>\n",
       "      <td>231620</td>\n",
       "    </tr>\n",
       "    <tr>\n",
       "      <th>997783</th>\n",
       "      <td>soda au cola Coca-Cola sans sucres bouteille 5...</td>\n",
       "      <td>243105</td>\n",
       "    </tr>\n",
       "    <tr>\n",
       "      <th>261235</th>\n",
       "      <td>soda au cola Coca-Cola original taste bouteill...</td>\n",
       "      <td>243106</td>\n",
       "    </tr>\n",
       "  </tbody>\n",
       "</table>\n",
       "</div>"
      ],
      "text/plain": [
       "                                                       NOM  CODE_PRODUIT\n",
       "1061      soda au cola Coca-Cola light bouteille 4 x 1.5 l         45703\n",
       "979686            soda au cola Coca-Cola light boîte 33 cl         45704\n",
       "1043081       soda au cola Coca-Cola light bouteille 1.5 l         45706\n",
       "521890         soda au cola Coca-Cola zero bouteille 60 cl         46183\n",
       "6760                soda au cola Coca-Cola bouteille 1.5 l         46185\n",
       "166759                  soda au cola Coca-Cola boîte 33 cl         46186\n",
       "1197933             soda au cola Coca-Cola bouteille 60 cl         46187\n",
       "675595         soda au cola Coca-Cola bouteille 12 x 1.5 l         53255\n",
       "258648             soda au cola Coca-Cola boîte 24 x 33 cl         53258\n",
       "552615         soda au cola Coca-Cola zero boîte 6 x 33 cl         53325\n",
       "796260     soda au cola Coca-Cola zero bouteille 4 x 1.5 l         53351\n",
       "1282694         soda au cola Coca-Cola bouteille 4 x 1.5 l         53354\n",
       "1347592       soda au cola Coca-Cola light bouteille 60 cl         53378\n",
       "671475              soda au cola Coca-Cola boîte 6 x 33 cl         53391\n",
       "3433250            soda au cola Coca-Cola zero boîte 33 cl         53404\n",
       "1841502  soda au cola Coca-Cola zero cherry bouteille 1...        175883\n",
       "594866              soda au cola Coca-Cola bouteille 35 cl        181276\n",
       "1035980        soda au cola Coca-Cola zero bouteille 35 cl        184380\n",
       "969281                soda au cola Coca-Cola bouteille 1 l        195943\n",
       "56539            soda au cola Coca-Cola zero bouteille 1 l        195944\n",
       "602472         soda au cola Coca-Cola zero bouteille 1.5 l        198921\n",
       "16842                  soda au cola Coca-Cola boîte 250 ml        207581\n",
       "773136            soda au cola Coca-Cola zero boîte 250 ml        210922\n",
       "1187813          soda au cola Coca-Cola light boîte 250 ml        210923\n",
       "968616   soda au cola Coca-Cola sans sucre boîte 6 x 25 cl        212762\n",
       "114593        soda au cola Coca-Cola light boîte 6 x 25 cl        212763\n",
       "734125              soda au cola Coca-Cola boîte 6 x 25 cl        212764\n",
       "241336                 soda au cola Coca-Cola boîte 440 ml        231620\n",
       "997783   soda au cola Coca-Cola sans sucres bouteille 5...        243105\n",
       "261235   soda au cola Coca-Cola original taste bouteill...        243106"
      ]
     },
     "execution_count": 15,
     "metadata": {},
     "output_type": "execute_result"
    }
   ],
   "source": [
    "df[df[\"NOM\"].str.contains(\"coca\", case=False)==True][[\"NOM\", \"CODE_PRODUIT\"]].drop_duplicates().sort_values(\"CODE_PRODUIT\")"
   ]
  },
  {
   "cell_type": "code",
   "execution_count": null,
   "metadata": {},
   "outputs": [],
   "source": []
  }
 ],
 "metadata": {
  "kernelspec": {
   "display_name": ".venv",
   "language": "python",
   "name": "python3"
  },
  "language_info": {
   "codemirror_mode": {
    "name": "ipython",
    "version": 3
   },
   "file_extension": ".py",
   "mimetype": "text/x-python",
   "name": "python",
   "nbconvert_exporter": "python",
   "pygments_lexer": "ipython3",
   "version": "3.9.12"
  },
  "orig_nbformat": 4
 },
 "nbformat": 4,
 "nbformat_minor": 2
}
